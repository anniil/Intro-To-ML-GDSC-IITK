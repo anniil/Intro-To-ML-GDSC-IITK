{
  "cells": [
    {
      "cell_type": "code",
      "execution_count": 2,
      "metadata": {
        "id": "2cLpRjqh-fd5"
      },
      "outputs": [],
      "source": [
        "import tensorflow as tf\n",
        "import numpy as np\n",
        "from tensorflow import keras\n",
        "import os\n",
        "import cv2\n",
        "from tensorflow.keras.preprocessing.image import ImageDataGenerator\n",
        "from tensorflow.keras.preprocessing import image\n",
        "import matplotlib.pyplot as plt"
      ]
    },
    {
      "cell_type": "code",
      "execution_count": 3,
      "metadata": {
        "colab": {
          "base_uri": "https://localhost:8080/"
        },
        "id": "MBpjq11EDQ-L",
        "outputId": "84c2ac9e-65c6-4d43-eab9-978ebe874d73"
      },
      "outputs": [
        {
          "output_type": "stream",
          "name": "stdout",
          "text": [
            "Mounted at /content/drive\n"
          ]
        }
      ],
      "source": [
        "from google.colab import drive\n",
        "drive.mount('/content/drive')"
      ]
    },
    {
      "cell_type": "code",
      "execution_count": 4,
      "metadata": {
        "id": "9QYXF2jrGdPg"
      },
      "outputs": [],
      "source": [
        "import tensorflow as tf\n",
        "from tensorflow import keras\n",
        "from keras import Sequential\n",
        "from keras.layers import Dense,Conv2D,MaxPooling2D,Flatten,BatchNormalization,Dropout"
      ]
    },
    {
      "cell_type": "code",
      "execution_count": 5,
      "metadata": {
        "colab": {
          "base_uri": "https://localhost:8080/"
        },
        "id": "o6toFfQLOYqr",
        "outputId": "bed12f01-eb23-4d75-ee31-7e20c481146d"
      },
      "outputs": [
        {
          "output_type": "stream",
          "name": "stdout",
          "text": [
            "Found 557 files belonging to 2 classes.\n",
            "Found 140 files belonging to 2 classes.\n"
          ]
        }
      ],
      "source": [
        "train_ds=keras.utils.image_dataset_from_directory(\n",
        "    directory= '/content/drive/MyDrive/PetImages/PetImages/train',\n",
        "    labels='inferred',\n",
        "    label_mode='int',\n",
        "    batch_size=32,\n",
        "    image_size=(256,256)\n",
        "\n",
        ")\n",
        "test_ds=keras.utils.image_dataset_from_directory(\n",
        "    directory= '/content/drive/MyDrive/PetImages/PetImages/test',\n",
        "    labels='inferred',\n",
        "    label_mode='int',\n",
        "    batch_size=32,\n",
        "    image_size=(256,256)\n",
        "\n",
        ")"
      ]
    },
    {
      "cell_type": "code",
      "execution_count": 6,
      "metadata": {
        "id": "pC3RiLzrt9Y_"
      },
      "outputs": [],
      "source": [
        "#normalize\n",
        "def process(image,lebel):\n",
        "     image =tf.cast(image/255.,tf.float32)\n",
        "     return image,lebel\n",
        "\n",
        "train_ds=train_ds.map(process)\n",
        "test_ds=test_ds.map(process)"
      ]
    },
    {
      "cell_type": "code",
      "execution_count": 8,
      "metadata": {
        "id": "WQaOE_tOyrj2"
      },
      "outputs": [],
      "source": [
        "#create CNN model\n",
        "model=Sequential()\n",
        "model.add(Conv2D(32,kernel_size=(3,3),padding='valid',activation='relu',input_shape=(256,256,3)))\n",
        "model.add(MaxPooling2D(pool_size=(2,2),strides=2,padding='valid'))\n",
        "model.add(BatchNormalization())\n",
        "\n",
        "model.add(Conv2D(32,kernel_size=(3,3),padding='valid',activation='relu'))\n",
        "model.add(MaxPooling2D(pool_size=(2,2),strides=2,padding='valid'))\n",
        "model.add(BatchNormalization())\n",
        "\n",
        "model.add(Conv2D(32,kernel_size=(3,3),padding='valid',activation='relu'))\n",
        "model.add(MaxPooling2D(pool_size=(2,2),strides=2,padding='valid'))\n",
        "model.add(BatchNormalization())\n",
        "\n",
        "# Example of adding dropout\n",
        "model.add(Dropout(0.5))\n",
        "\n",
        "model.add(Flatten())\n",
        "model.add(Dense(128,activation='relu'))\n",
        "model.add(Dropout(0.25))\n",
        "model.add(Dense(64,activation='sigmoid'))\n",
        "model.add(Dropout(0.25))\n",
        "model.add(Dense(1,activation='sigmoid'))"
      ]
    },
    {
      "cell_type": "code",
      "execution_count": 9,
      "metadata": {
        "colab": {
          "base_uri": "https://localhost:8080/"
        },
        "id": "bOiSF4dL00qS",
        "outputId": "c8b77387-a318-46d1-b742-d24aeda8c45b"
      },
      "outputs": [
        {
          "output_type": "stream",
          "name": "stdout",
          "text": [
            "Model: \"sequential_1\"\n",
            "_________________________________________________________________\n",
            " Layer (type)                Output Shape              Param #   \n",
            "=================================================================\n",
            " conv2d_3 (Conv2D)           (None, 254, 254, 32)      896       \n",
            "                                                                 \n",
            " max_pooling2d_3 (MaxPoolin  (None, 127, 127, 32)      0         \n",
            " g2D)                                                            \n",
            "                                                                 \n",
            " batch_normalization_3 (Bat  (None, 127, 127, 32)      128       \n",
            " chNormalization)                                                \n",
            "                                                                 \n",
            " conv2d_4 (Conv2D)           (None, 125, 125, 32)      9248      \n",
            "                                                                 \n",
            " max_pooling2d_4 (MaxPoolin  (None, 62, 62, 32)        0         \n",
            " g2D)                                                            \n",
            "                                                                 \n",
            " batch_normalization_4 (Bat  (None, 62, 62, 32)        128       \n",
            " chNormalization)                                                \n",
            "                                                                 \n",
            " conv2d_5 (Conv2D)           (None, 60, 60, 32)        9248      \n",
            "                                                                 \n",
            " max_pooling2d_5 (MaxPoolin  (None, 30, 30, 32)        0         \n",
            " g2D)                                                            \n",
            "                                                                 \n",
            " batch_normalization_5 (Bat  (None, 30, 30, 32)        128       \n",
            " chNormalization)                                                \n",
            "                                                                 \n",
            " dropout_1 (Dropout)         (None, 30, 30, 32)        0         \n",
            "                                                                 \n",
            " flatten (Flatten)           (None, 28800)             0         \n",
            "                                                                 \n",
            " dense (Dense)               (None, 128)               3686528   \n",
            "                                                                 \n",
            " dropout_2 (Dropout)         (None, 128)               0         \n",
            "                                                                 \n",
            " dense_1 (Dense)             (None, 64)                8256      \n",
            "                                                                 \n",
            " dropout_3 (Dropout)         (None, 64)                0         \n",
            "                                                                 \n",
            " dense_2 (Dense)             (None, 1)                 65        \n",
            "                                                                 \n",
            "=================================================================\n",
            "Total params: 3714625 (14.17 MB)\n",
            "Trainable params: 3714433 (14.17 MB)\n",
            "Non-trainable params: 192 (768.00 Byte)\n",
            "_________________________________________________________________\n"
          ]
        }
      ],
      "source": [
        "\n",
        "model.summary()"
      ]
    },
    {
      "cell_type": "code",
      "execution_count": 10,
      "metadata": {
        "id": "6Sx3P4pI1EEk"
      },
      "outputs": [],
      "source": [
        "model.compile(optimizer='adam',loss='binary_crossentropy',metrics=['accuracy'])"
      ]
    },
    {
      "cell_type": "code",
      "execution_count": 11,
      "metadata": {
        "colab": {
          "base_uri": "https://localhost:8080/"
        },
        "id": "7ASDHtdI1mIm",
        "outputId": "3ffc52e5-2031-4e76-a8b1-072c6842116d"
      },
      "outputs": [
        {
          "output_type": "stream",
          "name": "stdout",
          "text": [
            "Epoch 1/17\n",
            "18/18 [==============================] - 218s 8s/step - loss: 0.6961 - accuracy: 0.5745 - val_loss: 0.7337 - val_accuracy: 0.5000\n",
            "Epoch 2/17\n",
            "18/18 [==============================] - 5s 165ms/step - loss: 0.6081 - accuracy: 0.6553 - val_loss: 0.8153 - val_accuracy: 0.5071\n",
            "Epoch 3/17\n",
            "18/18 [==============================] - 5s 202ms/step - loss: 0.5478 - accuracy: 0.7181 - val_loss: 0.8165 - val_accuracy: 0.5000\n",
            "Epoch 4/17\n",
            "18/18 [==============================] - 6s 253ms/step - loss: 0.5026 - accuracy: 0.7451 - val_loss: 1.0255 - val_accuracy: 0.5000\n",
            "Epoch 5/17\n",
            "18/18 [==============================] - 5s 168ms/step - loss: 0.4386 - accuracy: 0.7882 - val_loss: 1.0071 - val_accuracy: 0.5000\n",
            "Epoch 6/17\n",
            "18/18 [==============================] - 5s 200ms/step - loss: 0.3982 - accuracy: 0.8169 - val_loss: 0.7935 - val_accuracy: 0.5000\n",
            "Epoch 7/17\n",
            "18/18 [==============================] - 6s 248ms/step - loss: 0.3332 - accuracy: 0.8743 - val_loss: 0.8728 - val_accuracy: 0.5000\n",
            "Epoch 8/17\n",
            "18/18 [==============================] - 5s 203ms/step - loss: 0.2626 - accuracy: 0.9156 - val_loss: 1.1740 - val_accuracy: 0.5000\n",
            "Epoch 9/17\n",
            "18/18 [==============================] - 6s 253ms/step - loss: 0.2242 - accuracy: 0.9246 - val_loss: 1.0658 - val_accuracy: 0.5000\n",
            "Epoch 10/17\n",
            "18/18 [==============================] - 4s 162ms/step - loss: 0.1517 - accuracy: 0.9623 - val_loss: 0.9367 - val_accuracy: 0.5143\n",
            "Epoch 11/17\n",
            "18/18 [==============================] - 5s 239ms/step - loss: 0.1082 - accuracy: 0.9695 - val_loss: 1.6371 - val_accuracy: 0.5000\n",
            "Epoch 12/17\n",
            "18/18 [==============================] - 5s 201ms/step - loss: 0.0924 - accuracy: 0.9803 - val_loss: 1.8311 - val_accuracy: 0.5000\n",
            "Epoch 13/17\n",
            "18/18 [==============================] - 6s 248ms/step - loss: 0.0810 - accuracy: 0.9856 - val_loss: 1.1238 - val_accuracy: 0.5286\n",
            "Epoch 14/17\n",
            "18/18 [==============================] - 4s 174ms/step - loss: 0.0583 - accuracy: 0.9838 - val_loss: 1.6289 - val_accuracy: 0.5357\n",
            "Epoch 15/17\n",
            "18/18 [==============================] - 4s 168ms/step - loss: 0.0453 - accuracy: 0.9892 - val_loss: 1.8358 - val_accuracy: 0.5143\n",
            "Epoch 16/17\n",
            "18/18 [==============================] - 5s 240ms/step - loss: 0.0299 - accuracy: 0.9964 - val_loss: 2.1766 - val_accuracy: 0.5000\n",
            "Epoch 17/17\n",
            "18/18 [==============================] - 5s 170ms/step - loss: 0.0277 - accuracy: 0.9928 - val_loss: 2.6785 - val_accuracy: 0.5000\n"
          ]
        }
      ],
      "source": [
        "hist=model.fit(train_ds,epochs=17,validation_data=test_ds)"
      ]
    },
    {
      "cell_type": "code",
      "execution_count": 12,
      "metadata": {
        "colab": {
          "base_uri": "https://localhost:8080/"
        },
        "id": "T1ognx8nVCRi",
        "outputId": "395367bc-c68a-4c7c-fa8b-02824986dbe8"
      },
      "outputs": [
        {
          "output_type": "stream",
          "name": "stdout",
          "text": [
            "Epoch 1/10\n",
            "18/18 [==============================] - 5s 202ms/step - loss: 0.0175 - accuracy: 0.9982 - val_loss: 1.9037 - val_accuracy: 0.5357\n",
            "Epoch 2/10\n",
            "18/18 [==============================] - 6s 243ms/step - loss: 0.0151 - accuracy: 0.9982 - val_loss: 1.7751 - val_accuracy: 0.5643\n",
            "Epoch 3/10\n",
            "18/18 [==============================] - 5s 202ms/step - loss: 0.0114 - accuracy: 1.0000 - val_loss: 1.8583 - val_accuracy: 0.5714\n",
            "Epoch 4/10\n",
            "18/18 [==============================] - 6s 244ms/step - loss: 0.0103 - accuracy: 1.0000 - val_loss: 1.9847 - val_accuracy: 0.5714\n",
            "Epoch 5/10\n",
            "18/18 [==============================] - 5s 202ms/step - loss: 0.0095 - accuracy: 1.0000 - val_loss: 1.8656 - val_accuracy: 0.5714\n",
            "Epoch 6/10\n",
            "18/18 [==============================] - 4s 170ms/step - loss: 0.0123 - accuracy: 0.9982 - val_loss: 2.0433 - val_accuracy: 0.5857\n",
            "Epoch 7/10\n",
            "18/18 [==============================] - 6s 246ms/step - loss: 0.0149 - accuracy: 0.9964 - val_loss: 1.6075 - val_accuracy: 0.6286\n",
            "Epoch 8/10\n",
            "18/18 [==============================] - 4s 173ms/step - loss: 0.0205 - accuracy: 0.9910 - val_loss: 1.8703 - val_accuracy: 0.5786\n",
            "Epoch 9/10\n",
            "18/18 [==============================] - 6s 236ms/step - loss: 0.0146 - accuracy: 1.0000 - val_loss: 2.3343 - val_accuracy: 0.5357\n",
            "Epoch 10/10\n",
            "18/18 [==============================] - 4s 170ms/step - loss: 0.0108 - accuracy: 1.0000 - val_loss: 1.5554 - val_accuracy: 0.5500\n"
          ]
        }
      ],
      "source": [
        "hist=model.fit(train_ds,epochs=10,validation_data=test_ds)"
      ]
    },
    {
      "cell_type": "code",
      "execution_count": 13,
      "metadata": {
        "id": "zXckc9_3rRoB",
        "colab": {
          "base_uri": "https://localhost:8080/"
        },
        "outputId": "678882fc-1f2d-41fa-e721-221e20a43cd9"
      },
      "outputs": [
        {
          "output_type": "stream",
          "name": "stdout",
          "text": [
            "5/5 [==============================] - 1s 20ms/step\n"
          ]
        }
      ],
      "source": [
        "from sklearn.metrics import f1_score\n",
        "# Make predictions on the test dataset\n",
        "predictions1 = model.predict(test_ds)\n",
        "\n",
        "# Convert probabilities to binary predictions using a threshold (adjust as needed)\n",
        "threshold = 0.5\n",
        "binary_predictions1 = (predictions1 > threshold).astype(int)\n",
        "\n",
        "# Extract true labels from 'test_ds'\n",
        "true_labels1 = np.concatenate([y for x, y in test_ds], axis=0)\n",
        "\n",
        "# Calculate F1 score\n",
        "f1 = f1_score(true_labels1, binary_predictions1)"
      ]
    },
    {
      "cell_type": "code",
      "source": [
        "print(f1)"
      ],
      "metadata": {
        "id": "6DIJz5agT7bk",
        "outputId": "689d6562-e5c1-40a6-f41f-6fadc14d3d63",
        "colab": {
          "base_uri": "https://localhost:8080/"
        }
      },
      "execution_count": 14,
      "outputs": [
        {
          "output_type": "stream",
          "name": "stdout",
          "text": [
            "0.4070796460176991\n"
          ]
        }
      ]
    },
    {
      "cell_type": "code",
      "source": [
        "from sklearn.metrics import accuracy_score\n",
        "#accuracy on test dataset\n",
        "accuracy = accuracy_score(true_labels1, binary_predictions1)\n",
        "print(accuracy)"
      ],
      "metadata": {
        "id": "ztpAxvEbUGvl",
        "outputId": "f3ebb65f-4d7c-44de-cbf2-57b4eaab5ebd",
        "colab": {
          "base_uri": "https://localhost:8080/"
        }
      },
      "execution_count": 16,
      "outputs": [
        {
          "output_type": "stream",
          "name": "stdout",
          "text": [
            "0.5214285714285715\n"
          ]
        }
      ]
    },
    {
      "cell_type": "code",
      "source": [],
      "metadata": {
        "id": "i26DP22xvr8j"
      },
      "execution_count": 15,
      "outputs": []
    }
  ],
  "metadata": {
    "accelerator": "GPU",
    "colab": {
      "provenance": [],
      "gpuType": "T4"
    },
    "kernelspec": {
      "display_name": "Python 3",
      "name": "python3"
    },
    "language_info": {
      "name": "python"
    }
  },
  "nbformat": 4,
  "nbformat_minor": 0
}