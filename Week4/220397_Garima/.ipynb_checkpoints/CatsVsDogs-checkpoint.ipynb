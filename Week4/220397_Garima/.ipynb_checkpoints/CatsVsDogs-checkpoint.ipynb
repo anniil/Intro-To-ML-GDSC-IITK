{
 "cells": [
  {
   "cell_type": "code",
   "execution_count": 1,
   "id": "77ff4b92-a23a-467e-9304-703bdb551a5a",
   "metadata": {},
   "outputs": [
    {
     "name": "stderr",
     "output_type": "stream",
     "text": [
      "2024-01-07 22:07:25.594396: I tensorflow/core/util/port.cc:113] oneDNN custom operations are on. You may see slightly different numerical results due to floating-point round-off errors from different computation orders. To turn them off, set the environment variable `TF_ENABLE_ONEDNN_OPTS=0`.\n",
      "2024-01-07 22:07:25.596022: I external/local_tsl/tsl/cuda/cudart_stub.cc:31] Could not find cuda drivers on your machine, GPU will not be used.\n",
      "2024-01-07 22:07:25.621792: E external/local_xla/xla/stream_executor/cuda/cuda_dnn.cc:9261] Unable to register cuDNN factory: Attempting to register factory for plugin cuDNN when one has already been registered\n",
      "2024-01-07 22:07:25.621821: E external/local_xla/xla/stream_executor/cuda/cuda_fft.cc:607] Unable to register cuFFT factory: Attempting to register factory for plugin cuFFT when one has already been registered\n",
      "2024-01-07 22:07:25.622652: E external/local_xla/xla/stream_executor/cuda/cuda_blas.cc:1515] Unable to register cuBLAS factory: Attempting to register factory for plugin cuBLAS when one has already been registered\n",
      "2024-01-07 22:07:25.627030: I external/local_tsl/tsl/cuda/cudart_stub.cc:31] Could not find cuda drivers on your machine, GPU will not be used.\n",
      "2024-01-07 22:07:25.627607: I tensorflow/core/platform/cpu_feature_guard.cc:182] This TensorFlow binary is optimized to use available CPU instructions in performance-critical operations.\n",
      "To enable the following instructions: AVX2 AVX_VNNI FMA, in other operations, rebuild TensorFlow with the appropriate compiler flags.\n",
      "2024-01-07 22:07:26.084116: W tensorflow/compiler/tf2tensorrt/utils/py_utils.cc:38] TF-TRT Warning: Could not find TensorRT\n"
     ]
    }
   ],
   "source": [
    "import tensorflow as tf\n",
    "import numpy as np\n",
    "from tensorflow import keras\n",
    "import os\n",
    "import cv2\n",
    "from tensorflow.keras.preprocessing.image import ImageDataGenerator\n",
    "from tensorflow.keras.preprocessing import image\n",
    "import matplotlib.pyplot as plt"
   ]
  },
  {
   "cell_type": "code",
   "execution_count": 2,
   "id": "e73f68fc-043e-47b7-a747-86071e1c8da5",
   "metadata": {},
   "outputs": [
    {
     "name": "stdout",
     "output_type": "stream",
     "text": [
      "Found 3025 images belonging to 2 classes.\n",
      "Found 816 images belonging to 2 classes.\n"
     ]
    }
   ],
   "source": [
    "train = ImageDataGenerator(rescale=1/255)\n",
    "test = ImageDataGenerator(rescale=1/255)\n",
    "train_dataset = train.flow_from_directory(\"PetImages/Train\",target_size=(150,150),batch_size=32,class_mode='binary')\n",
    "test_dataset=test.flow_from_directory(\"PetImages/Test\",target_size=(150,150),batch_size=32,class_mode='binary')"
   ]
  },
  {
   "cell_type": "code",
   "execution_count": 8,
   "id": "d5fa10c1-6fc6-4e8f-a652-65b7802cda90",
   "metadata": {},
   "outputs": [
    {
     "data": {
      "text/plain": [
       "{'Cat': 0, 'Dog': 1}"
      ]
     },
     "execution_count": 8,
     "metadata": {},
     "output_type": "execute_result"
    }
   ],
   "source": [
    "test_dataset.class_indices"
   ]
  },
  {
   "cell_type": "code",
   "execution_count": 4,
   "id": "e3f3aa15-b9a2-4933-83fd-188c28f64e52",
   "metadata": {},
   "outputs": [],
   "source": [
    "model=keras.Sequential()\n",
    "model.add(keras.layers.Conv2D(32,(3,3),activation='relu',input_shape=(150,150,3)))\n",
    "model.add(keras.layers.MaxPool2D(2,2))\n",
    "model.add(keras.layers.Conv2D(64,(3,3),activation='relu'))\n",
    "model.add(keras.layers.MaxPool2D(2,2))\n",
    "model.add(keras.layers.Conv2D(128,(3,3),activation='relu'))\n",
    "model.add(keras.layers.MaxPool2D(2,2))\n",
    "model.add(keras.layers.Conv2D(128,(3,3),activation='relu'))\n",
    "model.add(keras.layers.MaxPool2D(2,2))\n",
    "model.add(keras.layers.Flatten())\n",
    "model.add(keras.layers.Dense(512,activation='relu'))\n",
    "model.add(keras.layers.Dense(1,activation='sigmoid'))"
   ]
  },
  {
   "cell_type": "code",
   "execution_count": 5,
   "id": "60c6aff1-88be-458c-88e9-6259573b7644",
   "metadata": {},
   "outputs": [
    {
     "name": "stdout",
     "output_type": "stream",
     "text": [
      "Epoch 1/15\n"
     ]
    },
    {
     "name": "stderr",
     "output_type": "stream",
     "text": [
      "/tmp/ipykernel_156725/1345012945.py:2: UserWarning: `Model.fit_generator` is deprecated and will be removed in a future version. Please use `Model.fit`, which supports generators.\n",
      "  model.fit_generator(train_dataset,steps_per_epoch=95,epochs=15,validation_data=test_dataset)\n"
     ]
    },
    {
     "name": "stdout",
     "output_type": "stream",
     "text": [
      "95/95 [==============================] - 30s 312ms/step - loss: 0.6932 - accuracy: 0.5193 - val_loss: 0.6689 - val_accuracy: 0.6250\n",
      "Epoch 2/15\n",
      "95/95 [==============================] - 34s 360ms/step - loss: 0.6541 - accuracy: 0.6030 - val_loss: 0.6267 - val_accuracy: 0.6593\n",
      "Epoch 3/15\n",
      "95/95 [==============================] - 33s 351ms/step - loss: 0.5919 - accuracy: 0.6830 - val_loss: 0.5732 - val_accuracy: 0.6998\n",
      "Epoch 4/15\n",
      "95/95 [==============================] - 31s 331ms/step - loss: 0.5117 - accuracy: 0.7554 - val_loss: 0.5361 - val_accuracy: 0.7194\n",
      "Epoch 5/15\n",
      "95/95 [==============================] - 35s 372ms/step - loss: 0.4874 - accuracy: 0.7683 - val_loss: 0.5476 - val_accuracy: 0.7169\n",
      "Epoch 6/15\n",
      "95/95 [==============================] - 34s 362ms/step - loss: 0.4367 - accuracy: 0.7907 - val_loss: 0.5573 - val_accuracy: 0.7267\n",
      "Epoch 7/15\n",
      "95/95 [==============================] - 33s 344ms/step - loss: 0.3735 - accuracy: 0.8248 - val_loss: 0.5351 - val_accuracy: 0.7500\n",
      "Epoch 8/15\n",
      "95/95 [==============================] - 36s 378ms/step - loss: 0.3260 - accuracy: 0.8486 - val_loss: 0.5794 - val_accuracy: 0.7328\n",
      "Epoch 9/15\n",
      "95/95 [==============================] - 37s 394ms/step - loss: 0.2708 - accuracy: 0.8850 - val_loss: 0.6281 - val_accuracy: 0.7475\n",
      "Epoch 10/15\n",
      "95/95 [==============================] - 37s 394ms/step - loss: 0.2090 - accuracy: 0.9157 - val_loss: 0.6418 - val_accuracy: 0.7635\n",
      "Epoch 11/15\n",
      "95/95 [==============================] - 37s 394ms/step - loss: 0.1275 - accuracy: 0.9488 - val_loss: 0.8058 - val_accuracy: 0.7684\n",
      "Epoch 12/15\n",
      "95/95 [==============================] - 37s 389ms/step - loss: 0.0900 - accuracy: 0.9643 - val_loss: 0.9599 - val_accuracy: 0.7561\n",
      "Epoch 13/15\n",
      "95/95 [==============================] - 37s 391ms/step - loss: 0.0705 - accuracy: 0.9759 - val_loss: 0.8272 - val_accuracy: 0.7745\n",
      "Epoch 14/15\n",
      "95/95 [==============================] - 37s 390ms/step - loss: 0.0737 - accuracy: 0.9736 - val_loss: 1.0036 - val_accuracy: 0.7537\n",
      "Epoch 15/15\n",
      "95/95 [==============================] - 37s 389ms/step - loss: 0.0275 - accuracy: 0.9917 - val_loss: 1.4567 - val_accuracy: 0.7365\n"
     ]
    },
    {
     "data": {
      "text/plain": [
       "<keras.src.callbacks.History at 0x7fa974214580>"
      ]
     },
     "execution_count": 5,
     "metadata": {},
     "output_type": "execute_result"
    }
   ],
   "source": [
    "model.compile(optimizer='adam',loss='binary_crossentropy',metrics=['accuracy'])\n",
    "model.fit_generator(train_dataset,steps_per_epoch=95,epochs=15,validation_data=test_dataset)"
   ]
  }
 ],
 "metadata": {
  "kernelspec": {
   "display_name": "Python 3 (ipykernel)",
   "language": "python",
   "name": "python3"
  },
  "language_info": {
   "codemirror_mode": {
    "name": "ipython",
    "version": 3
   },
   "file_extension": ".py",
   "mimetype": "text/x-python",
   "name": "python",
   "nbconvert_exporter": "python",
   "pygments_lexer": "ipython3",
   "version": "3.10.12"
  }
 },
 "nbformat": 4,
 "nbformat_minor": 5
}
