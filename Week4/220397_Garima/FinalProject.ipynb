{
 "cells": [
  {
   "cell_type": "code",
   "execution_count": 1,
   "id": "4ebdce08-bd6e-485c-8967-0b83bda1018c",
   "metadata": {},
   "outputs": [
    {
     "name": "stderr",
     "output_type": "stream",
     "text": [
      "2024-01-09 03:52:50.427842: I tensorflow/core/util/port.cc:113] oneDNN custom operations are on. You may see slightly different numerical results due to floating-point round-off errors from different computation orders. To turn them off, set the environment variable `TF_ENABLE_ONEDNN_OPTS=0`.\n",
      "2024-01-09 03:52:50.429366: I external/local_tsl/tsl/cuda/cudart_stub.cc:31] Could not find cuda drivers on your machine, GPU will not be used.\n",
      "2024-01-09 03:52:50.451276: E external/local_xla/xla/stream_executor/cuda/cuda_dnn.cc:9261] Unable to register cuDNN factory: Attempting to register factory for plugin cuDNN when one has already been registered\n",
      "2024-01-09 03:52:50.451306: E external/local_xla/xla/stream_executor/cuda/cuda_fft.cc:607] Unable to register cuFFT factory: Attempting to register factory for plugin cuFFT when one has already been registered\n",
      "2024-01-09 03:52:50.451897: E external/local_xla/xla/stream_executor/cuda/cuda_blas.cc:1515] Unable to register cuBLAS factory: Attempting to register factory for plugin cuBLAS when one has already been registered\n",
      "2024-01-09 03:52:50.455786: I external/local_tsl/tsl/cuda/cudart_stub.cc:31] Could not find cuda drivers on your machine, GPU will not be used.\n",
      "2024-01-09 03:52:50.456436: I tensorflow/core/platform/cpu_feature_guard.cc:182] This TensorFlow binary is optimized to use available CPU instructions in performance-critical operations.\n",
      "To enable the following instructions: AVX2 AVX_VNNI FMA, in other operations, rebuild TensorFlow with the appropriate compiler flags.\n",
      "2024-01-09 03:52:50.935918: W tensorflow/compiler/tf2tensorrt/utils/py_utils.cc:38] TF-TRT Warning: Could not find TensorRT\n"
     ]
    }
   ],
   "source": [
    "import tensorflow as tf\n",
    "import numpy as np\n",
    "from tensorflow import keras\n",
    "import sklearn as sk\n",
    "import os\n",
    "import cv2\n",
    "from tensorflow.keras.preprocessing.image import ImageDataGenerator\n",
    "from tensorflow.keras.preprocessing import image\n",
    "import matplotlib.pyplot as plt"
   ]
  },
  {
   "cell_type": "code",
   "execution_count": 2,
   "id": "ffc4bd7d-e631-4dbb-ad44-1884593af3ea",
   "metadata": {},
   "outputs": [],
   "source": [
    "train=ImageDataGenerator(rescale=1/255)\n",
    "test=ImageDataGenerator(rescale=1/255)"
   ]
  },
  {
   "cell_type": "code",
   "execution_count": 3,
   "id": "5e0a60d4-fa91-4da5-b969-e522f1d52235",
   "metadata": {},
   "outputs": [
    {
     "name": "stdout",
     "output_type": "stream",
     "text": [
      "Found 557 images belonging to 2 classes.\n",
      "Found 140 images belonging to 2 classes.\n"
     ]
    }
   ],
   "source": [
    "train_dataset=train.flow_from_directory(\"../train\",target_size=(150,150),batch_size=32,class_mode='binary')\n",
    "test_dataset=test.flow_from_directory(\"../test\",target_size=(150,150),batch_size=32,class_mode='binary')"
   ]
  },
  {
   "cell_type": "code",
   "execution_count": 4,
   "id": "89b9f646-4e16-4d7a-bf2a-df8c07ead9d3",
   "metadata": {},
   "outputs": [],
   "source": [
    "model=keras.Sequential()\n",
    "model.add(keras.layers.Conv2D(32,(3,3),activation='relu',input_shape=(150,150,3)))\n",
    "model.add(keras.layers.MaxPool2D(2,2))\n",
    "model.add(keras.layers.Conv2D(64,(3,3),activation='relu'))\n",
    "model.add(keras.layers.MaxPool2D(2,2))\n",
    "model.add(keras.layers.Conv2D(128,(3,3),activation='relu'))\n",
    "model.add(keras.layers.MaxPool2D(2,2))\n",
    "model.add(keras.layers.Conv2D(128,(3,3),activation='relu'))\n",
    "model.add(keras.layers.MaxPool2D(2,2))\n",
    "model.add(keras.layers.Flatten())\n",
    "model.add(keras.layers.Dense(512,activation='relu'))\n",
    "model.add(keras.layers.Dense(1,activation='sigmoid'))"
   ]
  },
  {
   "cell_type": "code",
   "execution_count": 5,
   "id": "d5dfe478-8ec5-44a3-83af-52e8104aa20a",
   "metadata": {},
   "outputs": [
    {
     "name": "stdout",
     "output_type": "stream",
     "text": [
      "Epoch 1/100\n"
     ]
    },
    {
     "name": "stderr",
     "output_type": "stream",
     "text": [
      "/tmp/ipykernel_22930/1959670237.py:2: UserWarning: `Model.fit_generator` is deprecated and will be removed in a future version. Please use `Model.fit`, which supports generators.\n",
      "  model.fit_generator(train_dataset,steps_per_epoch=18,epochs=100,validation_data=test_dataset)\n"
     ]
    },
    {
     "name": "stdout",
     "output_type": "stream",
     "text": [
      "18/18 [==============================] - 7s 356ms/step - loss: 0.6976 - accuracy: 0.4991 - val_loss: 0.6943 - val_accuracy: 0.5000\n",
      "Epoch 2/100\n",
      "18/18 [==============================] - 6s 339ms/step - loss: 0.6918 - accuracy: 0.5224 - val_loss: 0.7198 - val_accuracy: 0.5000\n",
      "Epoch 3/100\n",
      "18/18 [==============================] - 6s 368ms/step - loss: 0.6934 - accuracy: 0.5619 - val_loss: 0.6868 - val_accuracy: 0.5714\n",
      "Epoch 4/100\n",
      "18/18 [==============================] - 6s 341ms/step - loss: 0.6790 - accuracy: 0.5691 - val_loss: 0.6942 - val_accuracy: 0.4286\n",
      "Epoch 5/100\n",
      "18/18 [==============================] - 6s 348ms/step - loss: 0.6920 - accuracy: 0.5189 - val_loss: 0.6940 - val_accuracy: 0.5000\n",
      "Epoch 6/100\n",
      "18/18 [==============================] - 7s 381ms/step - loss: 0.6949 - accuracy: 0.5404 - val_loss: 0.6941 - val_accuracy: 0.5000\n",
      "Epoch 7/100\n",
      "18/18 [==============================] - 7s 383ms/step - loss: 0.6894 - accuracy: 0.5422 - val_loss: 0.6943 - val_accuracy: 0.4929\n",
      "Epoch 8/100\n",
      "18/18 [==============================] - 7s 385ms/step - loss: 0.6810 - accuracy: 0.5709 - val_loss: 0.6882 - val_accuracy: 0.5357\n",
      "Epoch 9/100\n",
      "18/18 [==============================] - 7s 383ms/step - loss: 0.6353 - accuracy: 0.6625 - val_loss: 0.6995 - val_accuracy: 0.5429\n",
      "Epoch 10/100\n",
      "18/18 [==============================] - 7s 385ms/step - loss: 0.6087 - accuracy: 0.6499 - val_loss: 0.7072 - val_accuracy: 0.6000\n",
      "Epoch 11/100\n",
      "18/18 [==============================] - 7s 382ms/step - loss: 0.6065 - accuracy: 0.6804 - val_loss: 0.7175 - val_accuracy: 0.5214\n",
      "Epoch 12/100\n",
      "18/18 [==============================] - 7s 384ms/step - loss: 0.5913 - accuracy: 0.6822 - val_loss: 0.6735 - val_accuracy: 0.6714\n",
      "Epoch 13/100\n",
      "18/18 [==============================] - 7s 404ms/step - loss: 0.5228 - accuracy: 0.7379 - val_loss: 0.7357 - val_accuracy: 0.6429\n",
      "Epoch 14/100\n",
      "18/18 [==============================] - 7s 382ms/step - loss: 0.4898 - accuracy: 0.7702 - val_loss: 0.7808 - val_accuracy: 0.6786\n",
      "Epoch 15/100\n",
      "18/18 [==============================] - 7s 378ms/step - loss: 0.4497 - accuracy: 0.7971 - val_loss: 0.7133 - val_accuracy: 0.6357\n",
      "Epoch 16/100\n",
      "18/18 [==============================] - 7s 388ms/step - loss: 0.3969 - accuracy: 0.8151 - val_loss: 0.8055 - val_accuracy: 0.6643\n",
      "Epoch 17/100\n",
      "18/18 [==============================] - 7s 382ms/step - loss: 0.3805 - accuracy: 0.8276 - val_loss: 0.7421 - val_accuracy: 0.7286\n",
      "Epoch 18/100\n",
      "18/18 [==============================] - 7s 385ms/step - loss: 0.3230 - accuracy: 0.8546 - val_loss: 0.8615 - val_accuracy: 0.6357\n",
      "Epoch 19/100\n",
      "18/18 [==============================] - 7s 381ms/step - loss: 0.2463 - accuracy: 0.8887 - val_loss: 0.9693 - val_accuracy: 0.6857\n",
      "Epoch 20/100\n",
      "18/18 [==============================] - 7s 384ms/step - loss: 0.1990 - accuracy: 0.9084 - val_loss: 1.0946 - val_accuracy: 0.6786\n",
      "Epoch 21/100\n",
      "18/18 [==============================] - 7s 384ms/step - loss: 0.1708 - accuracy: 0.9372 - val_loss: 1.0083 - val_accuracy: 0.6857\n",
      "Epoch 22/100\n",
      "18/18 [==============================] - 7s 405ms/step - loss: 0.1379 - accuracy: 0.9425 - val_loss: 1.4544 - val_accuracy: 0.6714\n",
      "Epoch 23/100\n",
      "18/18 [==============================] - 7s 388ms/step - loss: 0.0695 - accuracy: 0.9803 - val_loss: 1.6248 - val_accuracy: 0.6714\n",
      "Epoch 24/100\n",
      "18/18 [==============================] - 7s 380ms/step - loss: 0.0811 - accuracy: 0.9695 - val_loss: 1.8432 - val_accuracy: 0.6929\n",
      "Epoch 25/100\n",
      "18/18 [==============================] - 7s 385ms/step - loss: 0.1026 - accuracy: 0.9677 - val_loss: 1.8944 - val_accuracy: 0.6786\n",
      "Epoch 26/100\n",
      "18/18 [==============================] - 7s 388ms/step - loss: 0.1115 - accuracy: 0.9641 - val_loss: 1.7247 - val_accuracy: 0.6643\n",
      "Epoch 27/100\n",
      "18/18 [==============================] - 7s 382ms/step - loss: 0.0720 - accuracy: 0.9767 - val_loss: 1.4338 - val_accuracy: 0.6643\n",
      "Epoch 28/100\n",
      "18/18 [==============================] - 7s 380ms/step - loss: 0.0531 - accuracy: 0.9803 - val_loss: 1.8238 - val_accuracy: 0.6786\n",
      "Epoch 29/100\n",
      "18/18 [==============================] - 7s 386ms/step - loss: 0.0293 - accuracy: 0.9910 - val_loss: 2.2471 - val_accuracy: 0.6500\n",
      "Epoch 30/100\n",
      "18/18 [==============================] - 7s 382ms/step - loss: 0.0213 - accuracy: 0.9964 - val_loss: 2.0515 - val_accuracy: 0.6571\n",
      "Epoch 31/100\n",
      "18/18 [==============================] - 7s 385ms/step - loss: 0.0067 - accuracy: 1.0000 - val_loss: 2.2450 - val_accuracy: 0.6714\n",
      "Epoch 32/100\n",
      "18/18 [==============================] - 7s 379ms/step - loss: 0.0035 - accuracy: 1.0000 - val_loss: 2.3443 - val_accuracy: 0.7357\n",
      "Epoch 33/100\n",
      "18/18 [==============================] - 7s 388ms/step - loss: 0.0017 - accuracy: 1.0000 - val_loss: 2.4393 - val_accuracy: 0.7071\n",
      "Epoch 34/100\n",
      "18/18 [==============================] - 7s 380ms/step - loss: 0.0011 - accuracy: 1.0000 - val_loss: 2.5220 - val_accuracy: 0.6857\n",
      "Epoch 35/100\n",
      "18/18 [==============================] - 7s 384ms/step - loss: 5.8333e-04 - accuracy: 1.0000 - val_loss: 2.6138 - val_accuracy: 0.7000\n",
      "Epoch 36/100\n",
      "18/18 [==============================] - 7s 376ms/step - loss: 4.3516e-04 - accuracy: 1.0000 - val_loss: 2.6205 - val_accuracy: 0.7143\n",
      "Epoch 37/100\n",
      "18/18 [==============================] - 7s 384ms/step - loss: 3.5731e-04 - accuracy: 1.0000 - val_loss: 2.6575 - val_accuracy: 0.7214\n",
      "Epoch 38/100\n",
      "18/18 [==============================] - 7s 386ms/step - loss: 3.0437e-04 - accuracy: 1.0000 - val_loss: 2.6871 - val_accuracy: 0.7214\n",
      "Epoch 39/100\n",
      "18/18 [==============================] - 7s 378ms/step - loss: 2.6794e-04 - accuracy: 1.0000 - val_loss: 2.7172 - val_accuracy: 0.7214\n",
      "Epoch 40/100\n",
      "18/18 [==============================] - 7s 386ms/step - loss: 2.3875e-04 - accuracy: 1.0000 - val_loss: 2.7458 - val_accuracy: 0.7214\n",
      "Epoch 41/100\n",
      "18/18 [==============================] - 7s 380ms/step - loss: 2.1813e-04 - accuracy: 1.0000 - val_loss: 2.7762 - val_accuracy: 0.7214\n",
      "Epoch 42/100\n",
      "18/18 [==============================] - 7s 384ms/step - loss: 1.9687e-04 - accuracy: 1.0000 - val_loss: 2.8029 - val_accuracy: 0.7214\n",
      "Epoch 43/100\n",
      "18/18 [==============================] - 7s 396ms/step - loss: 1.7597e-04 - accuracy: 1.0000 - val_loss: 2.8127 - val_accuracy: 0.7214\n",
      "Epoch 44/100\n",
      "18/18 [==============================] - 7s 398ms/step - loss: 1.5855e-04 - accuracy: 1.0000 - val_loss: 2.8436 - val_accuracy: 0.7214\n",
      "Epoch 45/100\n",
      "18/18 [==============================] - 7s 380ms/step - loss: 1.4065e-04 - accuracy: 1.0000 - val_loss: 2.8978 - val_accuracy: 0.7214\n",
      "Epoch 46/100\n",
      "18/18 [==============================] - 7s 388ms/step - loss: 1.2304e-04 - accuracy: 1.0000 - val_loss: 2.9167 - val_accuracy: 0.7214\n",
      "Epoch 47/100\n",
      "18/18 [==============================] - 7s 382ms/step - loss: 1.1130e-04 - accuracy: 1.0000 - val_loss: 2.9320 - val_accuracy: 0.7214\n",
      "Epoch 48/100\n",
      "18/18 [==============================] - 7s 387ms/step - loss: 9.9655e-05 - accuracy: 1.0000 - val_loss: 3.0009 - val_accuracy: 0.7143\n",
      "Epoch 49/100\n",
      "18/18 [==============================] - 7s 384ms/step - loss: 8.8799e-05 - accuracy: 1.0000 - val_loss: 2.9890 - val_accuracy: 0.7214\n",
      "Epoch 50/100\n",
      "18/18 [==============================] - 7s 386ms/step - loss: 8.0965e-05 - accuracy: 1.0000 - val_loss: 3.0337 - val_accuracy: 0.7143\n",
      "Epoch 51/100\n",
      "18/18 [==============================] - 7s 383ms/step - loss: 7.4651e-05 - accuracy: 1.0000 - val_loss: 3.0476 - val_accuracy: 0.7143\n",
      "Epoch 52/100\n",
      "18/18 [==============================] - 7s 387ms/step - loss: 7.0196e-05 - accuracy: 1.0000 - val_loss: 3.0621 - val_accuracy: 0.7214\n",
      "Epoch 53/100\n",
      "18/18 [==============================] - 7s 378ms/step - loss: 6.1122e-05 - accuracy: 1.0000 - val_loss: 3.1030 - val_accuracy: 0.7143\n",
      "Epoch 54/100\n",
      "18/18 [==============================] - 7s 382ms/step - loss: 5.6373e-05 - accuracy: 1.0000 - val_loss: 3.1130 - val_accuracy: 0.7214\n",
      "Epoch 55/100\n",
      "18/18 [==============================] - 7s 386ms/step - loss: 5.2279e-05 - accuracy: 1.0000 - val_loss: 3.1196 - val_accuracy: 0.7214\n",
      "Epoch 56/100\n",
      "18/18 [==============================] - 7s 382ms/step - loss: 4.8420e-05 - accuracy: 1.0000 - val_loss: 3.1421 - val_accuracy: 0.7143\n",
      "Epoch 57/100\n",
      "18/18 [==============================] - 7s 382ms/step - loss: 4.5403e-05 - accuracy: 1.0000 - val_loss: 3.1657 - val_accuracy: 0.7143\n",
      "Epoch 58/100\n",
      "18/18 [==============================] - 7s 380ms/step - loss: 4.2360e-05 - accuracy: 1.0000 - val_loss: 3.1742 - val_accuracy: 0.7214\n",
      "Epoch 59/100\n",
      "18/18 [==============================] - 7s 383ms/step - loss: 4.0602e-05 - accuracy: 1.0000 - val_loss: 3.1836 - val_accuracy: 0.7071\n",
      "Epoch 60/100\n",
      "18/18 [==============================] - 7s 383ms/step - loss: 3.7466e-05 - accuracy: 1.0000 - val_loss: 3.1929 - val_accuracy: 0.7143\n",
      "Epoch 61/100\n",
      "18/18 [==============================] - 7s 386ms/step - loss: 3.5366e-05 - accuracy: 1.0000 - val_loss: 3.1988 - val_accuracy: 0.7143\n",
      "Epoch 62/100\n",
      "18/18 [==============================] - 7s 382ms/step - loss: 3.3628e-05 - accuracy: 1.0000 - val_loss: 3.2103 - val_accuracy: 0.7143\n",
      "Epoch 63/100\n",
      "18/18 [==============================] - 7s 390ms/step - loss: 3.2270e-05 - accuracy: 1.0000 - val_loss: 3.2250 - val_accuracy: 0.7143\n",
      "Epoch 64/100\n",
      "18/18 [==============================] - 7s 378ms/step - loss: 2.9962e-05 - accuracy: 1.0000 - val_loss: 3.2381 - val_accuracy: 0.7143\n",
      "Epoch 65/100\n",
      "18/18 [==============================] - 7s 385ms/step - loss: 2.8819e-05 - accuracy: 1.0000 - val_loss: 3.2627 - val_accuracy: 0.7071\n",
      "Epoch 66/100\n",
      "18/18 [==============================] - 7s 374ms/step - loss: 2.8250e-05 - accuracy: 1.0000 - val_loss: 3.2525 - val_accuracy: 0.7214\n",
      "Epoch 67/100\n",
      "18/18 [==============================] - 7s 383ms/step - loss: 2.5614e-05 - accuracy: 1.0000 - val_loss: 3.2824 - val_accuracy: 0.7143\n",
      "Epoch 68/100\n",
      "18/18 [==============================] - 7s 386ms/step - loss: 2.4912e-05 - accuracy: 1.0000 - val_loss: 3.3064 - val_accuracy: 0.7143\n",
      "Epoch 69/100\n",
      "18/18 [==============================] - 7s 400ms/step - loss: 2.3566e-05 - accuracy: 1.0000 - val_loss: 3.2824 - val_accuracy: 0.7143\n",
      "Epoch 70/100\n",
      "18/18 [==============================] - 7s 390ms/step - loss: 2.2508e-05 - accuracy: 1.0000 - val_loss: 3.3090 - val_accuracy: 0.7143\n",
      "Epoch 71/100\n",
      "18/18 [==============================] - 7s 385ms/step - loss: 2.1562e-05 - accuracy: 1.0000 - val_loss: 3.3132 - val_accuracy: 0.7143\n",
      "Epoch 72/100\n",
      "18/18 [==============================] - 7s 383ms/step - loss: 2.0695e-05 - accuracy: 1.0000 - val_loss: 3.3326 - val_accuracy: 0.7143\n",
      "Epoch 73/100\n",
      "18/18 [==============================] - 7s 380ms/step - loss: 1.9755e-05 - accuracy: 1.0000 - val_loss: 3.3172 - val_accuracy: 0.7143\n",
      "Epoch 74/100\n",
      "18/18 [==============================] - 7s 390ms/step - loss: 1.9392e-05 - accuracy: 1.0000 - val_loss: 3.3319 - val_accuracy: 0.7143\n",
      "Epoch 75/100\n",
      "18/18 [==============================] - 7s 399ms/step - loss: 1.8591e-05 - accuracy: 1.0000 - val_loss: 3.3474 - val_accuracy: 0.7143\n",
      "Epoch 76/100\n",
      "18/18 [==============================] - 7s 384ms/step - loss: 1.7596e-05 - accuracy: 1.0000 - val_loss: 3.3661 - val_accuracy: 0.7143\n",
      "Epoch 77/100\n",
      "18/18 [==============================] - 7s 380ms/step - loss: 1.6745e-05 - accuracy: 1.0000 - val_loss: 3.3705 - val_accuracy: 0.7143\n",
      "Epoch 78/100\n",
      "18/18 [==============================] - 7s 401ms/step - loss: 1.6515e-05 - accuracy: 1.0000 - val_loss: 3.3708 - val_accuracy: 0.7143\n",
      "Epoch 79/100\n",
      "18/18 [==============================] - 7s 382ms/step - loss: 1.5879e-05 - accuracy: 1.0000 - val_loss: 3.3966 - val_accuracy: 0.7143\n",
      "Epoch 80/100\n",
      "18/18 [==============================] - 7s 386ms/step - loss: 1.5009e-05 - accuracy: 1.0000 - val_loss: 3.3927 - val_accuracy: 0.7143\n",
      "Epoch 81/100\n",
      "18/18 [==============================] - 7s 381ms/step - loss: 1.4762e-05 - accuracy: 1.0000 - val_loss: 3.4032 - val_accuracy: 0.7143\n",
      "Epoch 82/100\n",
      "18/18 [==============================] - 7s 379ms/step - loss: 1.4458e-05 - accuracy: 1.0000 - val_loss: 3.3995 - val_accuracy: 0.7143\n",
      "Epoch 83/100\n",
      "18/18 [==============================] - 7s 382ms/step - loss: 1.3765e-05 - accuracy: 1.0000 - val_loss: 3.4156 - val_accuracy: 0.7143\n",
      "Epoch 84/100\n",
      "18/18 [==============================] - 7s 380ms/step - loss: 1.3329e-05 - accuracy: 1.0000 - val_loss: 3.4308 - val_accuracy: 0.7143\n",
      "Epoch 85/100\n",
      "18/18 [==============================] - 7s 385ms/step - loss: 1.2979e-05 - accuracy: 1.0000 - val_loss: 3.4451 - val_accuracy: 0.7143\n",
      "Epoch 86/100\n",
      "18/18 [==============================] - 7s 378ms/step - loss: 1.2557e-05 - accuracy: 1.0000 - val_loss: 3.4504 - val_accuracy: 0.7143\n",
      "Epoch 87/100\n",
      "18/18 [==============================] - 7s 383ms/step - loss: 1.2170e-05 - accuracy: 1.0000 - val_loss: 3.4402 - val_accuracy: 0.7143\n",
      "Epoch 88/100\n",
      "18/18 [==============================] - 7s 392ms/step - loss: 1.1770e-05 - accuracy: 1.0000 - val_loss: 3.4518 - val_accuracy: 0.7143\n",
      "Epoch 89/100\n",
      "18/18 [==============================] - 7s 382ms/step - loss: 1.1527e-05 - accuracy: 1.0000 - val_loss: 3.4626 - val_accuracy: 0.7143\n",
      "Epoch 90/100\n",
      "18/18 [==============================] - 7s 378ms/step - loss: 1.1012e-05 - accuracy: 1.0000 - val_loss: 3.4600 - val_accuracy: 0.7143\n",
      "Epoch 91/100\n",
      "18/18 [==============================] - 7s 388ms/step - loss: 1.0729e-05 - accuracy: 1.0000 - val_loss: 3.4748 - val_accuracy: 0.7143\n",
      "Epoch 92/100\n",
      "18/18 [==============================] - 7s 382ms/step - loss: 1.0352e-05 - accuracy: 1.0000 - val_loss: 3.4794 - val_accuracy: 0.7143\n",
      "Epoch 93/100\n",
      "18/18 [==============================] - 7s 384ms/step - loss: 1.0116e-05 - accuracy: 1.0000 - val_loss: 3.4842 - val_accuracy: 0.7143\n",
      "Epoch 94/100\n",
      "18/18 [==============================] - 7s 383ms/step - loss: 9.8474e-06 - accuracy: 1.0000 - val_loss: 3.4910 - val_accuracy: 0.7143\n",
      "Epoch 95/100\n",
      "18/18 [==============================] - 7s 388ms/step - loss: 9.5574e-06 - accuracy: 1.0000 - val_loss: 3.5028 - val_accuracy: 0.7143\n",
      "Epoch 96/100\n",
      "18/18 [==============================] - 7s 381ms/step - loss: 9.4849e-06 - accuracy: 1.0000 - val_loss: 3.5068 - val_accuracy: 0.7143\n",
      "Epoch 97/100\n",
      "18/18 [==============================] - 7s 390ms/step - loss: 9.2114e-06 - accuracy: 1.0000 - val_loss: 3.5058 - val_accuracy: 0.7143\n",
      "Epoch 98/100\n",
      "18/18 [==============================] - 7s 377ms/step - loss: 8.7707e-06 - accuracy: 1.0000 - val_loss: 3.5275 - val_accuracy: 0.7143\n",
      "Epoch 99/100\n",
      "18/18 [==============================] - 7s 381ms/step - loss: 8.7291e-06 - accuracy: 1.0000 - val_loss: 3.5251 - val_accuracy: 0.7143\n",
      "Epoch 100/100\n",
      "18/18 [==============================] - 7s 389ms/step - loss: 8.4063e-06 - accuracy: 1.0000 - val_loss: 3.5215 - val_accuracy: 0.7143\n"
     ]
    },
    {
     "data": {
      "text/plain": [
       "<keras.src.callbacks.History at 0x7f023065a8f0>"
      ]
     },
     "execution_count": 5,
     "metadata": {},
     "output_type": "execute_result"
    }
   ],
   "source": [
    "model.compile(optimizer='adam',loss='binary_crossentropy',metrics=['accuracy'])\n",
    "model.fit_generator(train_dataset,steps_per_epoch=18,epochs=100,validation_data=test_dataset)"
   ]
  },
  {
   "cell_type": "code",
   "execution_count": 6,
   "id": "11634f74-8edf-40b5-8cfd-e4129b2eac24",
   "metadata": {},
   "outputs": [
    {
     "name": "stdout",
     "output_type": "stream",
     "text": [
      "5/5 [==============================] - 1s 111ms/step\n"
     ]
    }
   ],
   "source": [
    "predictions=model.predict(test_dataset)\n",
    "preds=(predictions>0.38).astype(int).flatten()\n",
    "y_test=test_dataset.classes"
   ]
  },
  {
   "cell_type": "code",
   "execution_count": 7,
   "id": "0585f83c-25fe-4998-b31e-09a964f2583d",
   "metadata": {},
   "outputs": [
    {
     "name": "stdout",
     "output_type": "stream",
     "text": [
      "f1_score is 0.4794520547945205\n",
      "accuracy is 0.45714285714285713\n"
     ]
    }
   ],
   "source": [
    "from sklearn.metrics import f1_score,accuracy_score\n",
    "print(f\"f1_score is {f1_score(preds,y_test)}\")\n",
    "print(f\"accuracy is {accuracy_score(preds,y_test)}\")"
   ]
  },
  {
   "cell_type": "code",
   "execution_count": null,
   "id": "07605d86-20a7-45ed-b8eb-fd257fddd859",
   "metadata": {},
   "outputs": [],
   "source": []
  }
 ],
 "metadata": {
  "kernelspec": {
   "display_name": "Python 3 (ipykernel)",
   "language": "python",
   "name": "python3"
  },
  "language_info": {
   "codemirror_mode": {
    "name": "ipython",
    "version": 3
   },
   "file_extension": ".py",
   "mimetype": "text/x-python",
   "name": "python",
   "nbconvert_exporter": "python",
   "pygments_lexer": "ipython3",
   "version": "3.10.12"
  }
 },
 "nbformat": 4,
 "nbformat_minor": 5
}
