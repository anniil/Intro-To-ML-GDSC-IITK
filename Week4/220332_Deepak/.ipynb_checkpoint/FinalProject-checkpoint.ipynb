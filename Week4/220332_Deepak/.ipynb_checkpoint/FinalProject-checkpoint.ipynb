{
 "cells": [
  {
   "cell_type": "code",
   "execution_count": 2,
   "id": "4ebdce08-bd6e-485c-8967-0b83bda1018c",
   "metadata": {},
   "outputs": [
    {
     "name": "stderr",
     "output_type": "stream",
     "text": [
      "2024-01-08 03:54:53.868010: I tensorflow/core/util/port.cc:113] oneDNN custom operations are on. You may see slightly different numerical results due to floating-point round-off errors from different computation orders. To turn them off, set the environment variable `TF_ENABLE_ONEDNN_OPTS=0`.\n",
      "2024-01-08 03:54:53.904723: I external/local_tsl/tsl/cuda/cudart_stub.cc:31] Could not find cuda drivers on your machine, GPU will not be used.\n",
      "2024-01-08 03:54:54.052574: E external/local_xla/xla/stream_executor/cuda/cuda_dnn.cc:9261] Unable to register cuDNN factory: Attempting to register factory for plugin cuDNN when one has already been registered\n",
      "2024-01-08 03:54:54.052668: E external/local_xla/xla/stream_executor/cuda/cuda_fft.cc:607] Unable to register cuFFT factory: Attempting to register factory for plugin cuFFT when one has already been registered\n",
      "2024-01-08 03:54:54.084879: E external/local_xla/xla/stream_executor/cuda/cuda_blas.cc:1515] Unable to register cuBLAS factory: Attempting to register factory for plugin cuBLAS when one has already been registered\n",
      "2024-01-08 03:54:54.146758: I external/local_tsl/tsl/cuda/cudart_stub.cc:31] Could not find cuda drivers on your machine, GPU will not be used.\n",
      "2024-01-08 03:54:54.148947: I tensorflow/core/platform/cpu_feature_guard.cc:182] This TensorFlow binary is optimized to use available CPU instructions in performance-critical operations.\n",
      "To enable the following instructions: AVX2 AVX_VNNI FMA, in other operations, rebuild TensorFlow with the appropriate compiler flags.\n",
      "2024-01-08 03:54:54.788776: W tensorflow/compiler/tf2tensorrt/utils/py_utils.cc:38] TF-TRT Warning: Could not find TensorRT\n"
     ]
    }
   ],
   "source": [
    "import tensorflow as tf\n",
    "import numpy as np\n",
    "from tensorflow import keras\n",
    "import sklearn as sk\n",
    "import os\n",
    "import cv2\n",
    "from tensorflow.keras.preprocessing.image import ImageDataGenerator\n",
    "from tensorflow.keras.preprocessing import image\n",
    "import matplotlib.pyplot as plt"
   ]
  },
  {
   "cell_type": "code",
   "execution_count": 3,
   "id": "ffc4bd7d-e631-4dbb-ad44-1884593af3ea",
   "metadata": {},
   "outputs": [],
   "source": [
    "train=ImageDataGenerator(rescale=1/255)\n",
    "test=ImageDataGenerator(rescale=1/255)"
   ]
  },
  {
   "cell_type": "code",
   "execution_count": 4,
   "id": "5e0a60d4-fa91-4da5-b969-e522f1d52235",
   "metadata": {},
   "outputs": [
    {
     "name": "stdout",
     "output_type": "stream",
     "text": [
      "Found 557 images belonging to 2 classes.\n",
      "Found 140 images belonging to 2 classes.\n"
     ]
    }
   ],
   "source": [
    "train_dataset=train.flow_from_directory(\"../train\",target_size=(150,150),batch_size=32,class_mode='binary')\n",
    "test_dataset=test.flow_from_directory(\"../test\",target_size=(150,150),batch_size=32,class_mode='binary')"
   ]
  },
  {
   "cell_type": "code",
   "execution_count": 5,
   "id": "89b9f646-4e16-4d7a-bf2a-df8c07ead9d3",
   "metadata": {},
   "outputs": [],
   "source": [
    "model=keras.Sequential()\n",
    "model.add(keras.layers.Conv2D(32,(3,3),activation='relu',input_shape=(150,150,3)))\n",
    "model.add(keras.layers.MaxPool2D(2,2))\n",
    "model.add(keras.layers.Conv2D(64,(3,3),activation='relu'))\n",
    "model.add(keras.layers.MaxPool2D(2,2))\n",
    "model.add(keras.layers.Conv2D(128,(3,3),activation='relu'))\n",
    "model.add(keras.layers.MaxPool2D(2,2))\n",
    "model.add(keras.layers.Conv2D(128,(3,3),activation='relu'))\n",
    "model.add(keras.layers.MaxPool2D(2,2))\n",
    "model.add(keras.layers.Flatten())\n",
    "model.add(keras.layers.Dense(512,activation='relu'))\n",
    "model.add(keras.layers.Dense(1,activation='sigmoid'))"
   ]
  },
  {
   "cell_type": "code",
   "execution_count": 6,
   "id": "d5dfe478-8ec5-44a3-83af-52e8104aa20a",
   "metadata": {},
   "outputs": [
    {
     "name": "stdout",
     "output_type": "stream",
     "text": [
      "Epoch 1/23\n"
     ]
    },
    {
     "name": "stderr",
     "output_type": "stream",
     "text": [
      "/tmp/ipykernel_161166/908644709.py:2: UserWarning: `Model.fit_generator` is deprecated and will be removed in a future version. Please use `Model.fit`, which supports generators.\n",
      "  model.fit_generator(train_dataset,steps_per_epoch=18,epochs=23,validation_data=test_dataset)\n"
     ]
    },
    {
     "name": "stdout",
     "output_type": "stream",
     "text": [
      "18/18 [==============================] - 7s 344ms/step - loss: 0.7204 - accuracy: 0.5153 - val_loss: 0.6932 - val_accuracy: 0.5000\n",
      "Epoch 2/23\n",
      "18/18 [==============================] - 6s 336ms/step - loss: 0.6936 - accuracy: 0.5063 - val_loss: 0.6930 - val_accuracy: 0.5000\n",
      "Epoch 3/23\n",
      "18/18 [==============================] - 6s 326ms/step - loss: 0.6949 - accuracy: 0.4901 - val_loss: 0.6929 - val_accuracy: 0.5071\n",
      "Epoch 4/23\n",
      "18/18 [==============================] - 6s 346ms/step - loss: 0.6909 - accuracy: 0.5278 - val_loss: 0.6930 - val_accuracy: 0.5214\n",
      "Epoch 5/23\n",
      "18/18 [==============================] - 7s 372ms/step - loss: 0.6780 - accuracy: 0.5853 - val_loss: 0.6879 - val_accuracy: 0.5143\n",
      "Epoch 6/23\n",
      "18/18 [==============================] - 7s 369ms/step - loss: 0.6588 - accuracy: 0.6068 - val_loss: 0.7582 - val_accuracy: 0.5000\n",
      "Epoch 7/23\n",
      "18/18 [==============================] - 7s 371ms/step - loss: 0.6264 - accuracy: 0.6535 - val_loss: 0.7478 - val_accuracy: 0.5786\n",
      "Epoch 8/23\n",
      "18/18 [==============================] - 7s 376ms/step - loss: 0.6054 - accuracy: 0.6732 - val_loss: 0.7043 - val_accuracy: 0.6357\n",
      "Epoch 9/23\n",
      "18/18 [==============================] - 7s 404ms/step - loss: 0.5625 - accuracy: 0.7181 - val_loss: 0.6882 - val_accuracy: 0.6286\n",
      "Epoch 10/23\n",
      "18/18 [==============================] - 7s 408ms/step - loss: 0.4678 - accuracy: 0.7971 - val_loss: 0.6977 - val_accuracy: 0.6714\n",
      "Epoch 11/23\n",
      "18/18 [==============================] - 8s 413ms/step - loss: 0.4260 - accuracy: 0.8043 - val_loss: 0.7363 - val_accuracy: 0.6500\n",
      "Epoch 12/23\n",
      "18/18 [==============================] - 8s 419ms/step - loss: 0.3599 - accuracy: 0.8492 - val_loss: 0.7685 - val_accuracy: 0.7143\n",
      "Epoch 13/23\n",
      "18/18 [==============================] - 8s 417ms/step - loss: 0.3276 - accuracy: 0.8456 - val_loss: 0.7654 - val_accuracy: 0.6714\n",
      "Epoch 14/23\n",
      "18/18 [==============================] - 8s 433ms/step - loss: 0.2371 - accuracy: 0.9084 - val_loss: 1.0072 - val_accuracy: 0.6786\n",
      "Epoch 15/23\n",
      "18/18 [==============================] - 8s 417ms/step - loss: 0.2054 - accuracy: 0.9066 - val_loss: 1.0239 - val_accuracy: 0.6286\n",
      "Epoch 16/23\n",
      "18/18 [==============================] - 8s 413ms/step - loss: 0.2101 - accuracy: 0.9066 - val_loss: 1.0479 - val_accuracy: 0.6929\n",
      "Epoch 17/23\n",
      "18/18 [==============================] - 8s 423ms/step - loss: 0.1720 - accuracy: 0.9354 - val_loss: 1.0428 - val_accuracy: 0.6714\n",
      "Epoch 18/23\n",
      "18/18 [==============================] - 8s 426ms/step - loss: 0.1119 - accuracy: 0.9605 - val_loss: 1.5647 - val_accuracy: 0.6286\n",
      "Epoch 19/23\n",
      "18/18 [==============================] - 7s 406ms/step - loss: 0.0826 - accuracy: 0.9677 - val_loss: 2.0769 - val_accuracy: 0.6786\n",
      "Epoch 20/23\n",
      "18/18 [==============================] - 8s 410ms/step - loss: 0.0513 - accuracy: 0.9767 - val_loss: 2.1299 - val_accuracy: 0.6500\n",
      "Epoch 21/23\n",
      "18/18 [==============================] - 7s 408ms/step - loss: 0.0371 - accuracy: 0.9946 - val_loss: 1.7764 - val_accuracy: 0.6643\n",
      "Epoch 22/23\n",
      "18/18 [==============================] - 7s 409ms/step - loss: 0.1033 - accuracy: 0.9677 - val_loss: 1.8196 - val_accuracy: 0.6357\n",
      "Epoch 23/23\n",
      "18/18 [==============================] - 7s 407ms/step - loss: 0.1118 - accuracy: 0.9605 - val_loss: 1.8431 - val_accuracy: 0.7071\n"
     ]
    },
    {
     "data": {
      "text/plain": [
       "<keras.src.callbacks.History at 0x7fb4ba32fa30>"
      ]
     },
     "execution_count": 6,
     "metadata": {},
     "output_type": "execute_result"
    }
   ],
   "source": [
    "model.compile(optimizer='adam',loss='binary_crossentropy',metrics=['accuracy'])\n",
    "model.fit_generator(train_dataset,steps_per_epoch=18,epochs=23,validation_data=test_dataset)"
   ]
  },
  {
   "cell_type": "code",
   "execution_count": 7,
   "id": "0585f83c-25fe-4998-b31e-09a964f2583d",
   "metadata": {},
   "outputs": [
    {
     "ename": "SyntaxError",
     "evalue": "f-string: invalid syntax (551444497.py, line 2)",
     "output_type": "error",
     "traceback": [
      "\u001b[0;36m  Cell \u001b[0;32mIn[7], line 2\u001b[0;36m\u001b[0m\n\u001b[0;31m    print(f\"f1 score is {f1_score(,)}\")\u001b[0m\n\u001b[0m              ^\u001b[0m\n\u001b[0;31mSyntaxError\u001b[0m\u001b[0;31m:\u001b[0m f-string: invalid syntax\n"
     ]
    }
   ],
   "source": [
    "from sklearn.metrics import f1_score,accuracy_score\n",
    "int preds=model.predict();\n",
    "print(f\"f1 score is {f1_score(,)}\")\n",
    "print(f\"accuracy is {accuracy_score(,)}\")"
   ]
  }
 ],
 "metadata": {
  "kernelspec": {
   "display_name": "Python 3 (ipykernel)",
   "language": "python",
   "name": "python3"
  },
  "language_info": {
   "codemirror_mode": {
    "name": "ipython",
    "version": 3
   },
   "file_extension": ".py",
   "mimetype": "text/x-python",
   "name": "python",
   "nbconvert_exporter": "python",
   "pygments_lexer": "ipython3",
   "version": "3.10.12"
  }
 },
 "nbformat": 4,
 "nbformat_minor": 5
}
