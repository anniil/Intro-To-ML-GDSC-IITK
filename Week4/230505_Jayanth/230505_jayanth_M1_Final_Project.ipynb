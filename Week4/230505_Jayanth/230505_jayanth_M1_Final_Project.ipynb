{
  "nbformat": 4,
  "nbformat_minor": 0,
  "metadata": {
    "colab": {
      "provenance": [],
      "gpuType": "T4"
    },
    "kernelspec": {
      "name": "python3",
      "display_name": "Python 3"
    },
    "language_info": {
      "name": "python"
    },
    "accelerator": "GPU"
  },
  "cells": [
    {
      "cell_type": "code",
      "execution_count": 1,
      "metadata": {
        "id": "r5RPpog4uYHc"
      },
      "outputs": [],
      "source": [
        "import numpy as np\n",
        "import matplotlib.pyplot as plt\n",
        "import tensorflow as tf\n",
        "from tensorflow import keras\n",
        "import os\n",
        "import cv2\n",
        "from tensorflow.keras.preprocessing.image import ImageDataGenerator\n",
        "from tensorflow.keras.preprocessing import image"
      ]
    },
    {
      "cell_type": "code",
      "source": [
        "from google.colab import drive\n",
        "drive.mount('/content/drive')"
      ],
      "metadata": {
        "colab": {
          "base_uri": "https://localhost:8080/"
        },
        "id": "4BdNVSmZ2rym",
        "outputId": "1fb1ce4f-69f3-4736-b0fa-a11e2df1d02e"
      },
      "execution_count": 2,
      "outputs": [
        {
          "output_type": "stream",
          "name": "stdout",
          "text": [
            "Drive already mounted at /content/drive; to attempt to forcibly remount, call drive.mount(\"/content/drive\", force_remount=True).\n"
          ]
        }
      ]
    },
    {
      "cell_type": "code",
      "source": [
        "train = ImageDataGenerator(\n",
        "      rescale=1./255,\n",
        "      rotation_range=40,\n",
        "      width_shift_range=0.2,\n",
        "      height_shift_range=0.2,\n",
        "      shear_range=0.2,\n",
        "      zoom_range=0.2,\n",
        "      horizontal_flip=True,\n",
        "      fill_mode='nearest')\n",
        "test = ImageDataGenerator(rescale=1/255)\n",
        "\n",
        "train_dataset = train.flow_from_directory(\"/content/drive/MyDrive/Binary classification data/train\",\n",
        "                                          target_size=(150,150),\n",
        "                                          batch_size = 32,\n",
        "                                          class_mode = 'binary')\n",
        "\n",
        "test_dataset = test.flow_from_directory(\"/content/drive/MyDrive/Binary classification data/test\",\n",
        "                                          target_size=(150,150),\n",
        "                                          batch_size =32,\n",
        "                                          class_mode = 'binary')"
      ],
      "metadata": {
        "colab": {
          "base_uri": "https://localhost:8080/"
        },
        "id": "MtSyiEKZ6yfa",
        "outputId": "63096670-46ad-4ad8-89ca-10e1570e7a08"
      },
      "execution_count": 8,
      "outputs": [
        {
          "output_type": "stream",
          "name": "stdout",
          "text": [
            "Found 557 images belonging to 2 classes.\n",
            "Found 140 images belonging to 2 classes.\n"
          ]
        }
      ]
    },
    {
      "cell_type": "code",
      "source": [
        "from sklearn.metrics import accuracy_score, f1_score"
      ],
      "metadata": {
        "id": "OXxiAVbD49RF"
      },
      "execution_count": 9,
      "outputs": []
    },
    {
      "cell_type": "code",
      "source": [
        "model = tf.keras.models.Sequential([\n",
        "    tf.keras.layers.Conv2D(32, (3,3), activation='relu', input_shape=(150, 150, 3)),\n",
        "    tf.keras.layers.MaxPooling2D(2, 2),\n",
        "    tf.keras.layers.Conv2D(64, (3,3), activation='relu'),\n",
        "    tf.keras.layers.MaxPooling2D(2,2),\n",
        "    tf.keras.layers.Conv2D(128, (3,3), activation='relu'),\n",
        "    tf.keras.layers.MaxPooling2D(2,2),\n",
        "    tf.keras.layers.Conv2D(128, (3,3), activation='relu'),\n",
        "    tf.keras.layers.MaxPooling2D(2,2),\n",
        "    tf.keras.layers.Flatten(),\n",
        "    tf.keras.layers.Dense(512, activation='relu'),\n",
        "    tf.keras.layers.Dense(1, activation='sigmoid')\n",
        "])"
      ],
      "metadata": {
        "id": "0uzxeRZG6-gT"
      },
      "execution_count": 11,
      "outputs": []
    },
    {
      "cell_type": "code",
      "source": [
        "model.compile(optimizer='adam',loss='binary_crossentropy',metrics=['accuracy'])\n",
        "model.fit_generator(train_dataset,\n",
        "         steps_per_epoch = 18,\n",
        "         epochs = 100,\n",
        "         validation_data = test_dataset)\n",
        "#M2: Validation steps=5, dropout(0.25), tweak layers, epochs=75\n"
      ],
      "metadata": {
        "colab": {
          "base_uri": "https://localhost:8080/"
        },
        "id": "MUerQoac98fk",
        "outputId": "f5140ffe-f1f5-412d-bc60-80a46820ae4e"
      },
      "execution_count": 13,
      "outputs": [
        {
          "output_type": "stream",
          "name": "stderr",
          "text": [
            "<ipython-input-13-80b97ec28792>:2: UserWarning: `Model.fit_generator` is deprecated and will be removed in a future version. Please use `Model.fit`, which supports generators.\n",
            "  model.fit_generator(train_dataset,\n"
          ]
        },
        {
          "output_type": "stream",
          "name": "stdout",
          "text": [
            "Epoch 1/100\n",
            "18/18 [==============================] - 9s 409ms/step - loss: 0.6615 - accuracy: 0.6176 - val_loss: 0.6877 - val_accuracy: 0.5857\n",
            "Epoch 2/100\n",
            "18/18 [==============================] - 8s 459ms/step - loss: 0.6407 - accuracy: 0.6230 - val_loss: 0.6630 - val_accuracy: 0.6214\n",
            "Epoch 3/100\n",
            "18/18 [==============================] - 10s 539ms/step - loss: 0.6435 - accuracy: 0.6158 - val_loss: 0.7322 - val_accuracy: 0.5857\n",
            "Epoch 4/100\n",
            "18/18 [==============================] - 8s 418ms/step - loss: 0.6426 - accuracy: 0.6086 - val_loss: 0.6872 - val_accuracy: 0.5643\n",
            "Epoch 5/100\n",
            "18/18 [==============================] - 9s 525ms/step - loss: 0.6413 - accuracy: 0.6427 - val_loss: 0.6872 - val_accuracy: 0.6214\n",
            "Epoch 6/100\n",
            "18/18 [==============================] - 8s 442ms/step - loss: 0.6398 - accuracy: 0.6373 - val_loss: 0.6412 - val_accuracy: 0.6929\n",
            "Epoch 7/100\n",
            "18/18 [==============================] - 9s 487ms/step - loss: 0.6427 - accuracy: 0.6535 - val_loss: 0.6942 - val_accuracy: 0.5786\n",
            "Epoch 8/100\n",
            "18/18 [==============================] - 9s 509ms/step - loss: 0.6384 - accuracy: 0.6355 - val_loss: 0.6813 - val_accuracy: 0.6143\n",
            "Epoch 9/100\n",
            "18/18 [==============================] - 8s 436ms/step - loss: 0.6610 - accuracy: 0.6355 - val_loss: 0.7003 - val_accuracy: 0.5929\n",
            "Epoch 10/100\n",
            "18/18 [==============================] - 9s 527ms/step - loss: 0.6356 - accuracy: 0.6320 - val_loss: 0.6826 - val_accuracy: 0.5857\n",
            "Epoch 11/100\n",
            "18/18 [==============================] - 8s 420ms/step - loss: 0.6444 - accuracy: 0.6338 - val_loss: 0.6605 - val_accuracy: 0.6286\n",
            "Epoch 12/100\n",
            "18/18 [==============================] - 9s 530ms/step - loss: 0.6211 - accuracy: 0.6625 - val_loss: 0.6451 - val_accuracy: 0.6357\n",
            "Epoch 13/100\n",
            "18/18 [==============================] - 8s 465ms/step - loss: 0.6308 - accuracy: 0.6517 - val_loss: 0.6369 - val_accuracy: 0.6000\n",
            "Epoch 14/100\n",
            "18/18 [==============================] - 8s 427ms/step - loss: 0.6204 - accuracy: 0.6715 - val_loss: 0.6623 - val_accuracy: 0.5714\n",
            "Epoch 15/100\n",
            "18/18 [==============================] - 9s 525ms/step - loss: 0.6181 - accuracy: 0.6589 - val_loss: 0.7033 - val_accuracy: 0.6571\n",
            "Epoch 16/100\n",
            "18/18 [==============================] - 8s 456ms/step - loss: 0.6066 - accuracy: 0.6786 - val_loss: 0.6292 - val_accuracy: 0.6500\n",
            "Epoch 17/100\n",
            "18/18 [==============================] - 9s 480ms/step - loss: 0.6168 - accuracy: 0.6553 - val_loss: 0.6415 - val_accuracy: 0.6214\n",
            "Epoch 18/100\n",
            "18/18 [==============================] - 9s 480ms/step - loss: 0.6186 - accuracy: 0.6661 - val_loss: 0.6382 - val_accuracy: 0.5857\n",
            "Epoch 19/100\n",
            "18/18 [==============================] - 8s 423ms/step - loss: 0.5919 - accuracy: 0.6858 - val_loss: 0.6504 - val_accuracy: 0.6929\n",
            "Epoch 20/100\n",
            "18/18 [==============================] - 9s 496ms/step - loss: 0.6013 - accuracy: 0.6822 - val_loss: 0.7321 - val_accuracy: 0.6357\n",
            "Epoch 21/100\n",
            "18/18 [==============================] - 9s 502ms/step - loss: 0.5993 - accuracy: 0.6768 - val_loss: 0.6596 - val_accuracy: 0.6357\n",
            "Epoch 22/100\n",
            "18/18 [==============================] - 8s 451ms/step - loss: 0.5953 - accuracy: 0.6804 - val_loss: 0.6774 - val_accuracy: 0.6643\n",
            "Epoch 23/100\n",
            "18/18 [==============================] - 9s 544ms/step - loss: 0.5594 - accuracy: 0.6912 - val_loss: 0.6799 - val_accuracy: 0.6286\n",
            "Epoch 24/100\n",
            "18/18 [==============================] - 8s 451ms/step - loss: 0.5905 - accuracy: 0.6876 - val_loss: 0.6341 - val_accuracy: 0.6643\n",
            "Epoch 25/100\n",
            "18/18 [==============================] - 8s 428ms/step - loss: 0.5800 - accuracy: 0.6643 - val_loss: 0.6478 - val_accuracy: 0.6786\n",
            "Epoch 26/100\n",
            "18/18 [==============================] - 9s 514ms/step - loss: 0.6141 - accuracy: 0.6373 - val_loss: 0.6721 - val_accuracy: 0.6500\n",
            "Epoch 27/100\n",
            "18/18 [==============================] - 8s 426ms/step - loss: 0.5702 - accuracy: 0.7110 - val_loss: 0.6300 - val_accuracy: 0.6714\n",
            "Epoch 28/100\n",
            "18/18 [==============================] - 9s 521ms/step - loss: 0.5724 - accuracy: 0.6930 - val_loss: 0.5982 - val_accuracy: 0.6571\n",
            "Epoch 29/100\n",
            "18/18 [==============================] - 8s 475ms/step - loss: 0.5652 - accuracy: 0.6894 - val_loss: 0.6204 - val_accuracy: 0.7071\n",
            "Epoch 30/100\n",
            "18/18 [==============================] - 9s 465ms/step - loss: 0.5613 - accuracy: 0.7145 - val_loss: 0.6164 - val_accuracy: 0.6929\n",
            "Epoch 31/100\n",
            "18/18 [==============================] - 9s 519ms/step - loss: 0.5708 - accuracy: 0.7074 - val_loss: 0.5873 - val_accuracy: 0.6929\n",
            "Epoch 32/100\n",
            "18/18 [==============================] - 8s 433ms/step - loss: 0.5529 - accuracy: 0.7415 - val_loss: 0.6344 - val_accuracy: 0.6429\n",
            "Epoch 33/100\n",
            "18/18 [==============================] - 9s 524ms/step - loss: 0.5776 - accuracy: 0.6966 - val_loss: 0.6290 - val_accuracy: 0.6714\n",
            "Epoch 34/100\n",
            "18/18 [==============================] - 8s 454ms/step - loss: 0.5876 - accuracy: 0.6391 - val_loss: 0.6218 - val_accuracy: 0.6571\n",
            "Epoch 35/100\n",
            "18/18 [==============================] - 9s 478ms/step - loss: 0.5780 - accuracy: 0.6948 - val_loss: 0.6123 - val_accuracy: 0.6857\n",
            "Epoch 36/100\n",
            "18/18 [==============================] - 9s 533ms/step - loss: 0.5400 - accuracy: 0.7235 - val_loss: 0.6744 - val_accuracy: 0.6643\n",
            "Epoch 37/100\n",
            "18/18 [==============================] - 8s 434ms/step - loss: 0.5105 - accuracy: 0.7433 - val_loss: 0.6534 - val_accuracy: 0.7143\n",
            "Epoch 38/100\n",
            "18/18 [==============================] - 9s 519ms/step - loss: 0.5450 - accuracy: 0.7056 - val_loss: 0.6786 - val_accuracy: 0.6571\n",
            "Epoch 39/100\n",
            "18/18 [==============================] - 8s 467ms/step - loss: 0.5327 - accuracy: 0.7181 - val_loss: 0.6674 - val_accuracy: 0.6571\n",
            "Epoch 40/100\n",
            "18/18 [==============================] - 8s 468ms/step - loss: 0.5111 - accuracy: 0.7522 - val_loss: 0.6924 - val_accuracy: 0.7000\n",
            "Epoch 41/100\n",
            "18/18 [==============================] - 9s 517ms/step - loss: 0.5097 - accuracy: 0.7576 - val_loss: 0.6970 - val_accuracy: 0.7357\n",
            "Epoch 42/100\n",
            "18/18 [==============================] - 8s 423ms/step - loss: 0.5226 - accuracy: 0.7325 - val_loss: 0.6205 - val_accuracy: 0.7214\n",
            "Epoch 43/100\n",
            "18/18 [==============================] - 9s 463ms/step - loss: 0.5043 - accuracy: 0.7558 - val_loss: 0.6406 - val_accuracy: 0.6929\n",
            "Epoch 44/100\n",
            "18/18 [==============================] - 9s 518ms/step - loss: 0.5192 - accuracy: 0.7397 - val_loss: 0.6291 - val_accuracy: 0.7143\n",
            "Epoch 45/100\n",
            "18/18 [==============================] - 8s 424ms/step - loss: 0.5061 - accuracy: 0.7433 - val_loss: 0.6630 - val_accuracy: 0.6786\n",
            "Epoch 46/100\n",
            "18/18 [==============================] - 8s 461ms/step - loss: 0.5417 - accuracy: 0.7181 - val_loss: 0.6475 - val_accuracy: 0.7071\n",
            "Epoch 47/100\n",
            "18/18 [==============================] - 9s 521ms/step - loss: 0.5428 - accuracy: 0.7127 - val_loss: 0.6254 - val_accuracy: 0.6857\n",
            "Epoch 48/100\n",
            "18/18 [==============================] - 8s 437ms/step - loss: 0.5109 - accuracy: 0.7235 - val_loss: 0.6323 - val_accuracy: 0.6929\n",
            "Epoch 49/100\n",
            "18/18 [==============================] - 10s 538ms/step - loss: 0.4837 - accuracy: 0.7522 - val_loss: 0.6795 - val_accuracy: 0.7000\n",
            "Epoch 50/100\n",
            "18/18 [==============================] - 8s 432ms/step - loss: 0.4695 - accuracy: 0.7702 - val_loss: 0.6612 - val_accuracy: 0.7429\n",
            "Epoch 51/100\n",
            "18/18 [==============================] - 8s 418ms/step - loss: 0.4668 - accuracy: 0.7720 - val_loss: 0.5897 - val_accuracy: 0.7286\n",
            "Epoch 52/100\n",
            "18/18 [==============================] - 9s 527ms/step - loss: 0.4912 - accuracy: 0.7522 - val_loss: 0.6023 - val_accuracy: 0.7357\n",
            "Epoch 53/100\n",
            "18/18 [==============================] - 8s 436ms/step - loss: 0.4809 - accuracy: 0.7630 - val_loss: 0.5537 - val_accuracy: 0.7571\n",
            "Epoch 54/100\n",
            "18/18 [==============================] - 9s 478ms/step - loss: 0.4875 - accuracy: 0.7684 - val_loss: 0.6803 - val_accuracy: 0.7000\n",
            "Epoch 55/100\n",
            "18/18 [==============================] - 9s 497ms/step - loss: 0.4998 - accuracy: 0.7612 - val_loss: 0.6134 - val_accuracy: 0.6643\n",
            "Epoch 56/100\n",
            "18/18 [==============================] - 8s 444ms/step - loss: 0.4815 - accuracy: 0.7720 - val_loss: 0.6238 - val_accuracy: 0.7357\n",
            "Epoch 57/100\n",
            "18/18 [==============================] - 9s 528ms/step - loss: 0.4711 - accuracy: 0.7576 - val_loss: 0.6873 - val_accuracy: 0.7143\n",
            "Epoch 58/100\n",
            "18/18 [==============================] - 8s 433ms/step - loss: 0.4692 - accuracy: 0.7846 - val_loss: 0.6784 - val_accuracy: 0.6929\n",
            "Epoch 59/100\n",
            "18/18 [==============================] - 9s 482ms/step - loss: 0.4402 - accuracy: 0.7899 - val_loss: 0.7058 - val_accuracy: 0.7143\n",
            "Epoch 60/100\n",
            "18/18 [==============================] - 9s 509ms/step - loss: 0.4428 - accuracy: 0.7810 - val_loss: 0.6666 - val_accuracy: 0.7214\n",
            "Epoch 61/100\n",
            "18/18 [==============================] - 8s 420ms/step - loss: 0.4549 - accuracy: 0.7810 - val_loss: 0.6964 - val_accuracy: 0.6929\n",
            "Epoch 62/100\n",
            "18/18 [==============================] - 9s 477ms/step - loss: 0.4143 - accuracy: 0.7989 - val_loss: 0.8278 - val_accuracy: 0.7357\n",
            "Epoch 63/100\n",
            "18/18 [==============================] - 9s 490ms/step - loss: 0.4857 - accuracy: 0.7828 - val_loss: 0.6496 - val_accuracy: 0.7071\n",
            "Epoch 64/100\n",
            "18/18 [==============================] - 8s 412ms/step - loss: 0.4583 - accuracy: 0.7846 - val_loss: 0.7210 - val_accuracy: 0.7071\n",
            "Epoch 65/100\n",
            "18/18 [==============================] - 9s 523ms/step - loss: 0.4259 - accuracy: 0.7971 - val_loss: 0.7004 - val_accuracy: 0.7000\n",
            "Epoch 66/100\n",
            "18/18 [==============================] - 8s 424ms/step - loss: 0.4282 - accuracy: 0.7935 - val_loss: 0.8641 - val_accuracy: 0.6786\n",
            "Epoch 67/100\n",
            "18/18 [==============================] - 8s 437ms/step - loss: 0.4666 - accuracy: 0.7648 - val_loss: 0.6603 - val_accuracy: 0.6929\n",
            "Epoch 68/100\n",
            "18/18 [==============================] - 10s 541ms/step - loss: 0.4340 - accuracy: 0.8007 - val_loss: 0.7343 - val_accuracy: 0.7071\n",
            "Epoch 69/100\n",
            "18/18 [==============================] - 8s 445ms/step - loss: 0.4355 - accuracy: 0.7953 - val_loss: 0.6494 - val_accuracy: 0.7000\n",
            "Epoch 70/100\n",
            "18/18 [==============================] - 8s 417ms/step - loss: 0.4604 - accuracy: 0.7882 - val_loss: 0.6341 - val_accuracy: 0.7071\n",
            "Epoch 71/100\n",
            "18/18 [==============================] - 9s 514ms/step - loss: 0.4445 - accuracy: 0.7935 - val_loss: 0.6470 - val_accuracy: 0.7286\n",
            "Epoch 72/100\n",
            "18/18 [==============================] - 7s 407ms/step - loss: 0.4270 - accuracy: 0.8115 - val_loss: 0.6367 - val_accuracy: 0.6857\n",
            "Epoch 73/100\n",
            "18/18 [==============================] - 9s 505ms/step - loss: 0.4235 - accuracy: 0.7935 - val_loss: 0.6815 - val_accuracy: 0.7571\n",
            "Epoch 74/100\n",
            "18/18 [==============================] - 7s 404ms/step - loss: 0.4177 - accuracy: 0.8043 - val_loss: 0.8254 - val_accuracy: 0.6857\n",
            "Epoch 75/100\n",
            "18/18 [==============================] - 9s 505ms/step - loss: 0.4065 - accuracy: 0.8151 - val_loss: 0.7288 - val_accuracy: 0.7071\n",
            "Epoch 76/100\n",
            "18/18 [==============================] - 9s 481ms/step - loss: 0.3485 - accuracy: 0.8456 - val_loss: 0.8245 - val_accuracy: 0.7143\n",
            "Epoch 77/100\n",
            "18/18 [==============================] - 7s 416ms/step - loss: 0.4091 - accuracy: 0.8348 - val_loss: 0.6870 - val_accuracy: 0.7500\n",
            "Epoch 78/100\n",
            "18/18 [==============================] - 9s 465ms/step - loss: 0.3975 - accuracy: 0.8169 - val_loss: 0.8125 - val_accuracy: 0.6429\n",
            "Epoch 79/100\n",
            "18/18 [==============================] - 9s 520ms/step - loss: 0.4087 - accuracy: 0.8241 - val_loss: 0.7258 - val_accuracy: 0.7429\n",
            "Epoch 80/100\n",
            "18/18 [==============================] - 7s 409ms/step - loss: 0.3920 - accuracy: 0.8169 - val_loss: 0.6736 - val_accuracy: 0.7500\n",
            "Epoch 81/100\n",
            "18/18 [==============================] - 9s 522ms/step - loss: 0.3733 - accuracy: 0.8366 - val_loss: 0.7866 - val_accuracy: 0.7643\n",
            "Epoch 82/100\n",
            "18/18 [==============================] - 7s 398ms/step - loss: 0.3782 - accuracy: 0.8169 - val_loss: 0.9403 - val_accuracy: 0.6714\n",
            "Epoch 83/100\n",
            "18/18 [==============================] - 9s 511ms/step - loss: 0.3659 - accuracy: 0.8330 - val_loss: 0.8444 - val_accuracy: 0.7357\n",
            "Epoch 84/100\n",
            "18/18 [==============================] - 8s 437ms/step - loss: 0.3446 - accuracy: 0.8474 - val_loss: 0.8096 - val_accuracy: 0.7571\n",
            "Epoch 85/100\n",
            "18/18 [==============================] - 9s 478ms/step - loss: 0.3593 - accuracy: 0.8474 - val_loss: 0.9477 - val_accuracy: 0.7429\n",
            "Epoch 86/100\n",
            "18/18 [==============================] - 8s 466ms/step - loss: 0.3847 - accuracy: 0.8276 - val_loss: 0.6929 - val_accuracy: 0.7357\n",
            "Epoch 87/100\n",
            "18/18 [==============================] - 8s 432ms/step - loss: 0.3635 - accuracy: 0.8384 - val_loss: 0.7575 - val_accuracy: 0.7000\n",
            "Epoch 88/100\n",
            "18/18 [==============================] - 9s 501ms/step - loss: 0.3401 - accuracy: 0.8294 - val_loss: 0.7070 - val_accuracy: 0.7714\n",
            "Epoch 89/100\n",
            "18/18 [==============================] - 8s 429ms/step - loss: 0.3273 - accuracy: 0.8528 - val_loss: 0.8340 - val_accuracy: 0.7143\n",
            "Epoch 90/100\n",
            "18/18 [==============================] - 9s 503ms/step - loss: 0.3435 - accuracy: 0.8456 - val_loss: 0.8605 - val_accuracy: 0.7357\n",
            "Epoch 91/100\n",
            "18/18 [==============================] - 7s 410ms/step - loss: 0.3064 - accuracy: 0.8689 - val_loss: 0.9651 - val_accuracy: 0.7429\n",
            "Epoch 92/100\n",
            "18/18 [==============================] - 9s 512ms/step - loss: 0.3497 - accuracy: 0.8528 - val_loss: 0.8339 - val_accuracy: 0.7357\n",
            "Epoch 93/100\n",
            "18/18 [==============================] - 8s 429ms/step - loss: 0.3471 - accuracy: 0.8366 - val_loss: 0.8490 - val_accuracy: 0.7214\n",
            "Epoch 94/100\n",
            "18/18 [==============================] - 7s 408ms/step - loss: 0.3324 - accuracy: 0.8492 - val_loss: 0.7790 - val_accuracy: 0.7786\n",
            "Epoch 95/100\n",
            "18/18 [==============================] - 8s 460ms/step - loss: 0.3171 - accuracy: 0.8654 - val_loss: 0.8658 - val_accuracy: 0.7214\n",
            "Epoch 96/100\n",
            "18/18 [==============================] - 9s 478ms/step - loss: 0.3319 - accuracy: 0.8510 - val_loss: 0.8572 - val_accuracy: 0.7429\n",
            "Epoch 97/100\n",
            "18/18 [==============================] - 8s 429ms/step - loss: 0.2992 - accuracy: 0.8600 - val_loss: 0.8839 - val_accuracy: 0.7571\n",
            "Epoch 98/100\n",
            "18/18 [==============================] - 9s 512ms/step - loss: 0.2646 - accuracy: 0.8761 - val_loss: 0.8918 - val_accuracy: 0.7071\n",
            "Epoch 99/100\n",
            "18/18 [==============================] - 7s 409ms/step - loss: 0.2869 - accuracy: 0.8869 - val_loss: 0.8662 - val_accuracy: 0.7143\n",
            "Epoch 100/100\n",
            "18/18 [==============================] - 9s 500ms/step - loss: 0.2883 - accuracy: 0.8689 - val_loss: 0.8297 - val_accuracy: 0.7929\n"
          ]
        },
        {
          "output_type": "execute_result",
          "data": {
            "text/plain": [
              "<keras.src.callbacks.History at 0x7dd0d82cf460>"
            ]
          },
          "metadata": {},
          "execution_count": 13
        }
      ]
    }
  ]
}