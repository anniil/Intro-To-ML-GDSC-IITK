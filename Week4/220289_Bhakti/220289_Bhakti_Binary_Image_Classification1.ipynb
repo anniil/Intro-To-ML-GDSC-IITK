{
  "nbformat": 4,
  "nbformat_minor": 0,
  "metadata": {
    "colab": {
      "provenance": []
    },
    "kernelspec": {
      "name": "python3",
      "display_name": "Python 3"
    },
    "language_info": {
      "name": "python"
    }
  },
  "cells": [
    {
      "cell_type": "code",
      "execution_count": 1,
      "metadata": {
        "id": "Swu42n_K4jlO"
      },
      "outputs": [],
      "source": [
        "import tensorflow as tf\n",
        "import numpy as np\n",
        "from tensorflow import keras\n",
        "import os\n",
        "import cv2\n",
        "from tensorflow.keras.preprocessing.image import ImageDataGenerator\n",
        "from tensorflow.keras.preprocessing import image\n",
        "import matplotlib.pyplot as plt\n"
      ]
    },
    {
      "cell_type": "code",
      "source": [
        "train = ImageDataGenerator(rescale=1/255)\n",
        "\n",
        "\n",
        "test = ImageDataGenerator(rescale=1/255)\n",
        "\n",
        "train_dataset = train.flow_from_directory(\"/content/drive/MyDrive/train\",\n",
        "                                          target_size=(150,150),\n",
        "                                          batch_size = 32,\n",
        "                                          class_mode = 'binary')\n",
        "\n",
        "test_dataset = test.flow_from_directory(\"/content/drive/MyDrive/test\",\n",
        "                                          target_size=(150,150),\n",
        "                                          batch_size =32,\n",
        "                                          class_mode = 'binary')"
      ],
      "metadata": {
        "colab": {
          "base_uri": "https://localhost:8080/"
        },
        "id": "ui7L3Iqu43VL",
        "outputId": "c0c4444b-7f63-431e-adf7-3346ada33a9c"
      },
      "execution_count": 2,
      "outputs": [
        {
          "output_type": "stream",
          "name": "stdout",
          "text": [
            "Found 567 images belonging to 2 classes.\n",
            "Found 140 images belonging to 2 classes.\n"
          ]
        }
      ]
    },
    {
      "cell_type": "code",
      "source": [
        "model = keras.Sequential()\n",
        "\n",
        "# Convolutional layer and maxpool layer 1\n",
        "model.add(keras.layers.Conv2D(32,(3,3),activation='relu',input_shape=(150,150,3)))\n",
        "model.add(keras.layers.MaxPool2D(2,2))\n",
        "\n",
        "# Convolutional layer and maxpool layer 2\n",
        "model.add(keras.layers.Conv2D(64,(3,3),activation='relu'))\n",
        "model.add(keras.layers.MaxPool2D(2,2))\n",
        "\n",
        "# Convolutional layer and maxpool layer 3\n",
        "model.add(keras.layers.Conv2D(128,(3,3),activation='relu'))\n",
        "model.add(keras.layers.MaxPool2D(2,2))\n",
        "\n",
        "# Convolutional layer and maxpool layer 4\n",
        "model.add(keras.layers.Conv2D(128,(3,3),activation='relu'))\n",
        "model.add(keras.layers.MaxPool2D(2,2))\n",
        "\n",
        "# This layer flattens the resulting image array to 1D array\n",
        "model.add(keras.layers.Flatten())\n",
        "\n",
        "# Hidden layer with 512 neurons and Rectified Linear Unit activation function\n",
        "model.add(keras.layers.Dense(512,activation='relu'))\n",
        "\n",
        "# Output layer with single neuron which gives 0 for Cat or 1 for Dog\n",
        "#Here we use sigmoid activation function which makes our model output to lie between 0 and 1\n",
        "model.add(keras.layers.Dense(1,activation='sigmoid'))"
      ],
      "metadata": {
        "id": "5B31goMv5RBw"
      },
      "execution_count": 3,
      "outputs": []
    },
    {
      "cell_type": "code",
      "source": [
        "#steps_per_epoch = train_imagesize/batch_size\n",
        "model.compile(optimizer='adam',loss='binary_crossentropy',metrics=['accuracy'])\n",
        "model.fit_generator(train_dataset,\n",
        "         steps_per_epoch = 18,\n",
        "         epochs = 10,\n",
        "         validation_data = test_dataset\n",
        "\n",
        "         )\n",
        "\n",
        "#model.compile(optimizer='adam',loss='binary_crossentropy',metrics=['accuracy'])"
      ],
      "metadata": {
        "colab": {
          "base_uri": "https://localhost:8080/"
        },
        "id": "3pwyih1RWRU9",
        "outputId": "e441ed56-4a8b-4685-9a10-1b67ae8fc1b3"
      },
      "execution_count": 6,
      "outputs": [
        {
          "output_type": "stream",
          "name": "stderr",
          "text": [
            "<ipython-input-6-6cbf248b3d67>:3: UserWarning: `Model.fit_generator` is deprecated and will be removed in a future version. Please use `Model.fit`, which supports generators.\n",
            "  model.fit_generator(train_dataset,\n"
          ]
        },
        {
          "output_type": "stream",
          "name": "stdout",
          "text": [
            "Epoch 1/10\n",
            "18/18 [==============================] - 36s 2s/step - loss: 0.7184 - accuracy: 0.5097 - val_loss: 0.6964 - val_accuracy: 0.5000\n",
            "Epoch 2/10\n",
            "18/18 [==============================] - 33s 2s/step - loss: 0.6960 - accuracy: 0.5062 - val_loss: 0.6926 - val_accuracy: 0.5071\n",
            "Epoch 3/10\n",
            "18/18 [==============================] - 34s 2s/step - loss: 0.6966 - accuracy: 0.5079 - val_loss: 0.6929 - val_accuracy: 0.5000\n",
            "Epoch 4/10\n",
            "18/18 [==============================] - 35s 2s/step - loss: 0.6925 - accuracy: 0.5132 - val_loss: 0.6926 - val_accuracy: 0.5071\n",
            "Epoch 5/10\n",
            "18/18 [==============================] - 35s 2s/step - loss: 0.6922 - accuracy: 0.5450 - val_loss: 0.6945 - val_accuracy: 0.5071\n",
            "Epoch 6/10\n",
            "18/18 [==============================] - 34s 2s/step - loss: 0.6857 - accuracy: 0.5591 - val_loss: 0.6922 - val_accuracy: 0.5000\n",
            "Epoch 7/10\n",
            "18/18 [==============================] - 33s 2s/step - loss: 0.6779 - accuracy: 0.5926 - val_loss: 0.6920 - val_accuracy: 0.5214\n",
            "Epoch 8/10\n",
            "18/18 [==============================] - 33s 2s/step - loss: 0.6578 - accuracy: 0.5750 - val_loss: 0.7112 - val_accuracy: 0.6143\n",
            "Epoch 9/10\n",
            "18/18 [==============================] - 35s 2s/step - loss: 0.6119 - accuracy: 0.6596 - val_loss: 0.7383 - val_accuracy: 0.5429\n",
            "Epoch 10/10\n",
            "18/18 [==============================] - 33s 2s/step - loss: 0.6159 - accuracy: 0.6684 - val_loss: 0.7087 - val_accuracy: 0.6214\n"
          ]
        },
        {
          "output_type": "execute_result",
          "data": {
            "text/plain": [
              "<keras.src.callbacks.History at 0x79b5f4161690>"
            ]
          },
          "metadata": {},
          "execution_count": 6
        }
      ]
    },
    {
      "cell_type": "code",
      "source": [
        "from sklearn.metrics import accuracy_score\n",
        "from sklearn.metrics import f1_score\n",
        "# ...\n",
        "\n",
        "# Assuming model is your trained model\n",
        "predictions = model.predict(test_dataset)\n",
        "y_true = test_dataset.classes  # True labels\n",
        "y_pred = (predictions > 0.5).astype(int).flatten()  # Predicted labels\n",
        "\n",
        "accuracy = accuracy_score(y_true, y_pred)\n",
        "f1 = f1_score(y_true, y_pred)\n",
        "\n",
        "print(f\"Accuracy: {accuracy:.4f}\")\n",
        "print(f\"F1 Score: {f1:.4f}\")"
      ],
      "metadata": {
        "colab": {
          "base_uri": "https://localhost:8080/"
        },
        "id": "422t-eKJatBJ",
        "outputId": "3563658f-e76a-486b-9a21-25153f8aa7f9"
      },
      "execution_count": 7,
      "outputs": [
        {
          "output_type": "stream",
          "name": "stdout",
          "text": [
            "5/5 [==============================] - 3s 433ms/step\n",
            "Accuracy: 0.4357\n",
            "F1 Score: 0.4626\n"
          ]
        }
      ]
    }
  ]
}