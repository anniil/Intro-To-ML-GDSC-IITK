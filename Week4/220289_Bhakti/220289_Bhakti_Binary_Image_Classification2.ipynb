{
  "nbformat": 4,
  "nbformat_minor": 0,
  "metadata": {
    "colab": {
      "provenance": []
    },
    "kernelspec": {
      "name": "python3",
      "display_name": "Python 3"
    },
    "language_info": {
      "name": "python"
    }
  },
  "cells": [
    {
      "cell_type": "code",
      "execution_count": null,
      "metadata": {
        "id": "Swu42n_K4jlO"
      },
      "outputs": [],
      "source": [
        "import tensorflow as tf\n",
        "import numpy as np\n",
        "from tensorflow import keras\n",
        "import os\n",
        "import cv2\n",
        "from tensorflow.keras.preprocessing.image import ImageDataGenerator\n",
        "from tensorflow.keras.preprocessing import image\n",
        "import matplotlib.pyplot as plt\n"
      ]
    },
    {
      "cell_type": "code",
      "source": [
        "train = ImageDataGenerator(rescale=1/255)\n",
        "test = ImageDataGenerator(rescale=1/255)\n",
        "\n",
        "train_dataset = train.flow_from_directory(\"/content/drive/MyDrive/train\",\n",
        "                                          target_size=(150,150),\n",
        "                                          batch_size = 32,\n",
        "                                          class_mode = 'binary')\n",
        "\n",
        "test_dataset = test.flow_from_directory(\"/content/drive/MyDrive/test\",\n",
        "                                          target_size=(150,150),\n",
        "                                          batch_size =32,\n",
        "                                          class_mode = 'binary')"
      ],
      "metadata": {
        "colab": {
          "base_uri": "https://localhost:8080/"
        },
        "id": "ui7L3Iqu43VL",
        "outputId": "4d75b5b3-1fa1-4527-fc36-3243146b3b8d"
      },
      "execution_count": 46,
      "outputs": [
        {
          "output_type": "stream",
          "name": "stdout",
          "text": [
            "Found 567 images belonging to 2 classes.\n",
            "Found 140 images belonging to 2 classes.\n"
          ]
        }
      ]
    },
    {
      "cell_type": "code",
      "source": [
        "model = keras.Sequential()\n",
        "\n",
        "# Convolutional layer and maxpool layer 1\n",
        "model.add(keras.layers.Conv2D(32,(3,3),activation='relu',input_shape=(150,150,3)))\n",
        "model.add(keras.layers.MaxPool2D(2,2))\n",
        "\n",
        "# Convolutional layer and maxpool layer 2\n",
        "model.add(keras.layers.Conv2D(64,(3,3),activation='relu'))\n",
        "model.add(keras.layers.MaxPool2D(2,2))\n",
        "\n",
        "# Convolutional layer and maxpool layer 3\n",
        "model.add(keras.layers.Conv2D(128,(3,3),activation='relu'))\n",
        "model.add(keras.layers.MaxPool2D(2,2))\n",
        "\n",
        "# Convolutional layer and maxpool layer 4\n",
        "model.add(keras.layers.Conv2D(128,(3,3),activation='relu'))\n",
        "model.add(keras.layers.MaxPool2D(2,2))\n",
        "\n",
        "# This layer flattens the resulting image array to 1D array\n",
        "model.add(keras.layers.Flatten())\n",
        "\n",
        "# Hidden layer with 512 neurons and Rectified Linear Unit activation function\n",
        "model.add(keras.layers.Dense(512,activation='relu'))\n",
        "\n",
        "# Output layer with single neuron which gives 0 for Cat or 1 for Dog\n",
        "#Here we use sigmoid activation function which makes our model output to lie between 0 and 1\n",
        "model.add(keras.layers.Dense(1,activation='sigmoid'))"
      ],
      "metadata": {
        "id": "5B31goMv5RBw"
      },
      "execution_count": 47,
      "outputs": []
    },
    {
      "cell_type": "code",
      "source": [
        "#steps_per_epoch = train_imagesize/batch_size\n",
        "\n",
        "model.fit_generator(train_dataset,\n",
        "         steps_per_epoch = 18,\n",
        "         epochs = 10,\n",
        "         validation_data = test_dataset\n",
        "\n",
        "         )\n",
        "model.compile(optimizer='adam',loss='binary_crossentropy',metrics=['accuracy'])"
      ],
      "metadata": {
        "colab": {
          "base_uri": "https://localhost:8080/"
        },
        "id": "3pwyih1RWRU9",
        "outputId": "96564bfc-e24f-4c52-e34d-a7f6b6889a01"
      },
      "execution_count": 50,
      "outputs": [
        {
          "output_type": "stream",
          "name": "stderr",
          "text": [
            "<ipython-input-50-01e81a582737>:3: UserWarning: `Model.fit_generator` is deprecated and will be removed in a future version. Please use `Model.fit`, which supports generators.\n",
            "  model.fit_generator(train_dataset,\n"
          ]
        },
        {
          "output_type": "stream",
          "name": "stdout",
          "text": [
            "Epoch 1/10\n",
            "18/18 [==============================] - 35s 2s/step - loss: 0.3142 - accuracy: 0.8801 - val_loss: 0.8659 - val_accuracy: 0.7000\n",
            "Epoch 2/10\n",
            "18/18 [==============================] - 33s 2s/step - loss: 0.1996 - accuracy: 0.9136 - val_loss: 0.9352 - val_accuracy: 0.7000\n",
            "Epoch 3/10\n",
            "18/18 [==============================] - 35s 2s/step - loss: 0.1314 - accuracy: 0.9541 - val_loss: 1.0037 - val_accuracy: 0.7143\n",
            "Epoch 4/10\n",
            "18/18 [==============================] - 34s 2s/step - loss: 0.0810 - accuracy: 0.9735 - val_loss: 1.1665 - val_accuracy: 0.7000\n",
            "Epoch 5/10\n",
            "18/18 [==============================] - 35s 2s/step - loss: 0.0566 - accuracy: 0.9753 - val_loss: 1.1584 - val_accuracy: 0.7000\n",
            "Epoch 6/10\n",
            "18/18 [==============================] - 33s 2s/step - loss: 0.0556 - accuracy: 0.9771 - val_loss: 1.1872 - val_accuracy: 0.7214\n",
            "Epoch 7/10\n",
            "18/18 [==============================] - 33s 2s/step - loss: 0.0394 - accuracy: 0.9859 - val_loss: 1.5520 - val_accuracy: 0.7000\n",
            "Epoch 8/10\n",
            "18/18 [==============================] - 33s 2s/step - loss: 0.0735 - accuracy: 0.9735 - val_loss: 1.3877 - val_accuracy: 0.6929\n",
            "Epoch 9/10\n",
            "18/18 [==============================] - 33s 2s/step - loss: 0.0223 - accuracy: 0.9947 - val_loss: 2.1762 - val_accuracy: 0.7071\n",
            "Epoch 10/10\n",
            "18/18 [==============================] - 33s 2s/step - loss: 0.1698 - accuracy: 0.9383 - val_loss: 1.0996 - val_accuracy: 0.6643\n"
          ]
        }
      ]
    }
  ]
}