{
  "nbformat": 4,
  "nbformat_minor": 0,
  "metadata": {
    "colab": {
      "provenance": [],
      "gpuType": "T4"
    },
    "kernelspec": {
      "name": "python3",
      "display_name": "Python 3"
    },
    "language_info": {
      "name": "python"
    },
    "accelerator": "GPU"
  },
  "cells": [
    {
      "cell_type": "code",
      "execution_count": 1,
      "metadata": {
        "id": "Oj-_KDGrw9XT"
      },
      "outputs": [],
      "source": [
        "import os\n",
        "import shutil\n",
        "from tensorflow import keras\n",
        "from keras import Sequential\n",
        "from keras.layers import Dense,Conv2D,MaxPooling2D,Flatten,BatchNormalization,Dropout\n",
        "from keras import layers, models\n",
        "from keras.optimizers import RMSprop\n",
        "from keras.preprocessing.image import ImageDataGenerator\n",
        "import matplotlib.pyplot as plt\n",
        "from PIL import Image\n",
        "import numpy as np"
      ]
    },
    {
      "cell_type": "code",
      "source": [
        "from google.colab import drive"
      ],
      "metadata": {
        "id": "xF94IiMhxdH2"
      },
      "execution_count": 2,
      "outputs": []
    },
    {
      "cell_type": "code",
      "source": [
        "drive.mount('/content/drive')"
      ],
      "metadata": {
        "colab": {
          "base_uri": "https://localhost:8080/"
        },
        "id": "qkIS8iHqxiCU",
        "outputId": "10f93379-c7f8-4f2a-aee8-fe27af0a4251"
      },
      "execution_count": 3,
      "outputs": [
        {
          "output_type": "stream",
          "name": "stdout",
          "text": [
            "Mounted at /content/drive\n"
          ]
        }
      ]
    },
    {
      "cell_type": "code",
      "source": [
        "train_datagen = ImageDataGenerator(rescale = 1./255,\n",
        "                                   rotation_range = 40, width_shift_range = 0.2, height_shift_range = 0.2,\n",
        "                             shear_range = 0.2, zoom_range = 0.2, horizontal_flip = True)\n",
        "\n",
        "# Validation data should not be augmented\n",
        "test_datagen = ImageDataGenerator(rescale=1./255)"
      ],
      "metadata": {
        "id": "iTvcA3Ab0rDt"
      },
      "execution_count": 4,
      "outputs": []
    },
    {
      "cell_type": "code",
      "source": [
        "from keras.applications import VGG16"
      ],
      "metadata": {
        "id": "q4DPYtu110oE"
      },
      "execution_count": 5,
      "outputs": []
    },
    {
      "cell_type": "code",
      "source": [
        "conv_base = VGG16 (weights = 'imagenet', include_top = False, input_shape = (150 ,150, 3))"
      ],
      "metadata": {
        "id": "ISUpWayz14OK",
        "colab": {
          "base_uri": "https://localhost:8080/"
        },
        "outputId": "e6ef9067-1e1b-4ba5-a2cd-a8fa57258f36"
      },
      "execution_count": 6,
      "outputs": [
        {
          "output_type": "stream",
          "name": "stdout",
          "text": [
            "Downloading data from https://storage.googleapis.com/tensorflow/keras-applications/vgg16/vgg16_weights_tf_dim_ordering_tf_kernels_notop.h5\n",
            "58889256/58889256 [==============================] - 4s 0us/step\n"
          ]
        }
      ]
    },
    {
      "cell_type": "code",
      "source": [
        "conv_base.summary()"
      ],
      "metadata": {
        "colab": {
          "base_uri": "https://localhost:8080/"
        },
        "id": "UnG7dzD518x9",
        "outputId": "cea0dafe-b21a-479d-c53e-584b085615aa"
      },
      "execution_count": 7,
      "outputs": [
        {
          "output_type": "stream",
          "name": "stdout",
          "text": [
            "Model: \"vgg16\"\n",
            "_________________________________________________________________\n",
            " Layer (type)                Output Shape              Param #   \n",
            "=================================================================\n",
            " input_1 (InputLayer)        [(None, 150, 150, 3)]     0         \n",
            "                                                                 \n",
            " block1_conv1 (Conv2D)       (None, 150, 150, 64)      1792      \n",
            "                                                                 \n",
            " block1_conv2 (Conv2D)       (None, 150, 150, 64)      36928     \n",
            "                                                                 \n",
            " block1_pool (MaxPooling2D)  (None, 75, 75, 64)        0         \n",
            "                                                                 \n",
            " block2_conv1 (Conv2D)       (None, 75, 75, 128)       73856     \n",
            "                                                                 \n",
            " block2_conv2 (Conv2D)       (None, 75, 75, 128)       147584    \n",
            "                                                                 \n",
            " block2_pool (MaxPooling2D)  (None, 37, 37, 128)       0         \n",
            "                                                                 \n",
            " block3_conv1 (Conv2D)       (None, 37, 37, 256)       295168    \n",
            "                                                                 \n",
            " block3_conv2 (Conv2D)       (None, 37, 37, 256)       590080    \n",
            "                                                                 \n",
            " block3_conv3 (Conv2D)       (None, 37, 37, 256)       590080    \n",
            "                                                                 \n",
            " block3_pool (MaxPooling2D)  (None, 18, 18, 256)       0         \n",
            "                                                                 \n",
            " block4_conv1 (Conv2D)       (None, 18, 18, 512)       1180160   \n",
            "                                                                 \n",
            " block4_conv2 (Conv2D)       (None, 18, 18, 512)       2359808   \n",
            "                                                                 \n",
            " block4_conv3 (Conv2D)       (None, 18, 18, 512)       2359808   \n",
            "                                                                 \n",
            " block4_pool (MaxPooling2D)  (None, 9, 9, 512)         0         \n",
            "                                                                 \n",
            " block5_conv1 (Conv2D)       (None, 9, 9, 512)         2359808   \n",
            "                                                                 \n",
            " block5_conv2 (Conv2D)       (None, 9, 9, 512)         2359808   \n",
            "                                                                 \n",
            " block5_conv3 (Conv2D)       (None, 9, 9, 512)         2359808   \n",
            "                                                                 \n",
            " block5_pool (MaxPooling2D)  (None, 4, 4, 512)         0         \n",
            "                                                                 \n",
            "=================================================================\n",
            "Total params: 14714688 (56.13 MB)\n",
            "Trainable params: 14714688 (56.13 MB)\n",
            "Non-trainable params: 0 (0.00 Byte)\n",
            "_________________________________________________________________\n"
          ]
        }
      ]
    },
    {
      "cell_type": "code",
      "source": [
        "base_dir = 'E:\\Keras\\Dataset\\dogs-vs-cats_small'\n",
        "train_dir = os.path.join(base_dir, 'train')\n",
        "validation_dir = os.path.join(base_dir, 'validation')\n",
        "test_dir = os.path.join(base_dir, 'test')"
      ],
      "metadata": {
        "id": "g24JFJnS2L7R"
      },
      "execution_count": 8,
      "outputs": []
    },
    {
      "cell_type": "code",
      "source": [
        "datagen = ImageDataGenerator(rescale = 1./255)\n",
        "batch_size = 20"
      ],
      "metadata": {
        "id": "XC754GT42NTh"
      },
      "execution_count": 9,
      "outputs": []
    },
    {
      "cell_type": "code",
      "source": [
        "def features_extract (directory, sample_count):\n",
        "    features = np.zeros(shape = (sample_count, 4, 4, 512))\n",
        "    labels = np.zeros(shape = (sample_count))\n",
        "    generator = datagen.flow_from_directory(directory, target_size= (150, 150), batch_size = batch_size,\n",
        "                                            class_mode = 'binary')\n",
        "\n",
        "    i = 0\n",
        "    for input_batch, labels_batch in generator:\n",
        "        features_batch = conv_base.predict(input_batch)\n",
        "        features[i * batch_size : (i + 1) * batch_size] = features_batch\n",
        "        labels[i * batch_size : (i + 1) * batch_size] = labels_batch\n",
        "        i += 1\n",
        "        if i * batch_size >= sample_count:\n",
        "            break\n",
        "    return features, labels"
      ],
      "metadata": {
        "id": "wSDt0Rw22Pa7"
      },
      "execution_count": 10,
      "outputs": []
    },
    {
      "cell_type": "code",
      "source": [
        "model3 = models.Sequential()\n",
        "model3.add(conv_base)\n",
        "model3.add(layers.Flatten())\n",
        "model3.add(layers.Dense(256, activation = 'relu'))\n",
        "model3.add(layers.Dense(1, activation = 'sigmoid'))"
      ],
      "metadata": {
        "id": "zMdgxgfK6r1W"
      },
      "execution_count": 11,
      "outputs": []
    },
    {
      "cell_type": "code",
      "source": [
        "train_datagen = ImageDataGenerator(rescale = 1./255,\n",
        "                                   rotation_range = 40, width_shift_range = 0.2, height_shift_range = 0.2,\n",
        "                             shear_range = 0.2, zoom_range = 0.2, horizontal_flip = True, fill_mode = 'nearest')\n",
        "\n",
        "# Validation data should not be augmented\n",
        "test_datagen = ImageDataGenerator(rescale=1./255)"
      ],
      "metadata": {
        "id": "UPiLwXCL6tcP"
      },
      "execution_count": 12,
      "outputs": []
    },
    {
      "cell_type": "code",
      "source": [
        "train_generator = train_datagen.flow_from_directory('/content/drive/MyDrive/train', target_size=(150,150), batch_size=20, class_mode= 'binary')"
      ],
      "metadata": {
        "colab": {
          "base_uri": "https://localhost:8080/"
        },
        "id": "8Db_2wUb6wQ3",
        "outputId": "f90877a6-4fec-4124-a954-4dd5ce987d68"
      },
      "execution_count": 13,
      "outputs": [
        {
          "output_type": "stream",
          "name": "stdout",
          "text": [
            "Found 557 images belonging to 2 classes.\n"
          ]
        }
      ]
    },
    {
      "cell_type": "code",
      "source": [
        "validation_generator = test_datagen.flow_from_directory('/content/drive/MyDrive/test',\n",
        "                                                        target_size=(150,150),\n",
        "                                                        batch_size=32,\n",
        "                                                        class_mode= 'binary')"
      ],
      "metadata": {
        "id": "mt_vM4En64Tf",
        "colab": {
          "base_uri": "https://localhost:8080/"
        },
        "outputId": "86004b12-2261-4909-bffe-6b72307f4df2"
      },
      "execution_count": 14,
      "outputs": [
        {
          "output_type": "stream",
          "name": "stdout",
          "text": [
            "Found 140 images belonging to 2 classes.\n"
          ]
        }
      ]
    },
    {
      "cell_type": "code",
      "source": [
        "model3.compile(optimizer = RMSprop(learning_rate=0.00001), loss = 'binary_crossentropy', metrics= ['acc'])"
      ],
      "metadata": {
        "id": "-CPzkId57Bxv"
      },
      "execution_count": 15,
      "outputs": []
    },
    {
      "cell_type": "code",
      "source": [
        "history = model3.fit_generator(train_generator, steps_per_epoch = 20, epochs = 20,\n",
        "                               validation_data = validation_generator, validation_steps = 5)"
      ],
      "metadata": {
        "id": "1Iol6nS87DFX",
        "colab": {
          "base_uri": "https://localhost:8080/"
        },
        "outputId": "f041de0c-a913-4335-a236-c3ca17750e94"
      },
      "execution_count": 16,
      "outputs": [
        {
          "output_type": "stream",
          "name": "stderr",
          "text": [
            "<ipython-input-16-da2e4232ac55>:1: UserWarning: `Model.fit_generator` is deprecated and will be removed in a future version. Please use `Model.fit`, which supports generators.\n",
            "  history = model3.fit_generator(train_generator, steps_per_epoch = 20, epochs = 20,\n"
          ]
        },
        {
          "output_type": "stream",
          "name": "stdout",
          "text": [
            "Epoch 1/20\n",
            "20/20 [==============================] - 221s 11s/step - loss: 0.6512 - acc: 0.6297 - val_loss: 0.6152 - val_acc: 0.6857\n",
            "Epoch 2/20\n",
            "20/20 [==============================] - 32s 2s/step - loss: 0.5272 - acc: 0.7456 - val_loss: 0.4999 - val_acc: 0.7571\n",
            "Epoch 3/20\n",
            "20/20 [==============================] - 11s 548ms/step - loss: 0.4351 - acc: 0.8225 - val_loss: 0.5180 - val_acc: 0.7286\n",
            "Epoch 4/20\n",
            "20/20 [==============================] - 7s 355ms/step - loss: 0.3883 - acc: 0.8237 - val_loss: 0.4021 - val_acc: 0.7929\n",
            "Epoch 5/20\n",
            "20/20 [==============================] - 9s 455ms/step - loss: 0.3572 - acc: 0.8237 - val_loss: 0.3913 - val_acc: 0.8143\n",
            "Epoch 6/20\n",
            "20/20 [==============================] - 9s 436ms/step - loss: 0.3046 - acc: 0.8564 - val_loss: 0.5003 - val_acc: 0.7714\n",
            "Epoch 7/20\n",
            "20/20 [==============================] - 8s 403ms/step - loss: 0.3008 - acc: 0.8850 - val_loss: 0.3529 - val_acc: 0.8286\n",
            "Epoch 8/20\n",
            "20/20 [==============================] - 9s 453ms/step - loss: 0.2559 - acc: 0.8816 - val_loss: 0.3520 - val_acc: 0.8357\n",
            "Epoch 9/20\n",
            "20/20 [==============================] - 7s 366ms/step - loss: 0.2219 - acc: 0.8917 - val_loss: 0.4664 - val_acc: 0.8143\n",
            "Epoch 10/20\n",
            "20/20 [==============================] - 8s 405ms/step - loss: 0.2475 - acc: 0.8816 - val_loss: 0.3326 - val_acc: 0.8714\n",
            "Epoch 11/20\n",
            "20/20 [==============================] - 9s 442ms/step - loss: 0.1936 - acc: 0.9194 - val_loss: 0.3124 - val_acc: 0.8929\n",
            "Epoch 12/20\n",
            "20/20 [==============================] - 8s 420ms/step - loss: 0.2370 - acc: 0.9093 - val_loss: 0.2976 - val_acc: 0.8786\n",
            "Epoch 13/20\n",
            "20/20 [==============================] - 9s 453ms/step - loss: 0.1958 - acc: 0.9169 - val_loss: 0.2906 - val_acc: 0.8643\n",
            "Epoch 14/20\n",
            "20/20 [==============================] - 8s 394ms/step - loss: 0.1764 - acc: 0.9320 - val_loss: 0.3591 - val_acc: 0.8643\n",
            "Epoch 15/20\n",
            "20/20 [==============================] - 7s 362ms/step - loss: 0.1825 - acc: 0.9219 - val_loss: 0.3927 - val_acc: 0.8500\n",
            "Epoch 16/20\n",
            "20/20 [==============================] - 9s 414ms/step - loss: 0.1587 - acc: 0.9345 - val_loss: 0.4748 - val_acc: 0.8500\n",
            "Epoch 17/20\n",
            "20/20 [==============================] - 9s 428ms/step - loss: 0.1571 - acc: 0.9244 - val_loss: 0.3314 - val_acc: 0.8571\n",
            "Epoch 18/20\n",
            "20/20 [==============================] - 8s 387ms/step - loss: 0.1060 - acc: 0.9622 - val_loss: 0.3206 - val_acc: 0.8786\n",
            "Epoch 19/20\n",
            "20/20 [==============================] - 9s 451ms/step - loss: 0.1131 - acc: 0.9521 - val_loss: 0.3283 - val_acc: 0.8929\n",
            "Epoch 20/20\n",
            "20/20 [==============================] - 7s 362ms/step - loss: 0.1106 - acc: 0.9622 - val_loss: 0.3947 - val_acc: 0.8786\n"
          ]
        }
      ]
    },
    {
      "cell_type": "code",
      "source": [
        "from sklearn.metrics import f1_score\n",
        "\n",
        "# Generate predictions for the validation set\n",
        "validation_steps = len(validation_generator)\n",
        "predictions = model3.predict_generator(validation_generator, steps=validation_steps)\n",
        "\n",
        "# Convert predictions to binary values (0 or 1)\n",
        "binary_predictions = np.round(predictions).reshape(-1)\n",
        "\n",
        "# Get true labels for the validation set\n",
        "true_labels = validation_generator.classes\n",
        "\n",
        "# Calculate F1 score\n",
        "f1score = f1_score(true_labels, binary_predictions)\n",
        "\n",
        "print(\"F1 Score:\", f1score)"
      ],
      "metadata": {
        "colab": {
          "base_uri": "https://localhost:8080/"
        },
        "id": "nJhrpV9rIG5b",
        "outputId": "c21123fa-06bf-4930-ca22-d41811c0950e"
      },
      "execution_count": 26,
      "outputs": [
        {
          "output_type": "stream",
          "name": "stderr",
          "text": [
            "<ipython-input-26-8e9c42b126ae>:5: UserWarning: `Model.predict_generator` is deprecated and will be removed in a future version. Please use `Model.predict`, which supports generators.\n",
            "  predictions = model3.predict_generator(validation_generator, steps=validation_steps)\n"
          ]
        },
        {
          "output_type": "stream",
          "name": "stdout",
          "text": [
            "F1 Score: 0.6666666666666666\n"
          ]
        }
      ]
    }
  ]
}