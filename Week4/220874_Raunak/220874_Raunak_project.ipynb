{
 "cells": [
  {
   "cell_type": "code",
   "execution_count": null,
   "id": "dedd89fc",
   "metadata": {},
   "outputs": [],
   "source": [
    "import tensorflow as tf\n",
    "import numpy as np\n",
    "from tensorflow import keras\n",
    "import os\n",
    "import cv2\n",
    "from tensorflow.keras.preprocessing.image import ImageDataGenerator\n",
    "from tensorflow.keras.preprocessing import image\n",
    "import matplotlib.pyplot as plt"
   ]
  },
  {
   "cell_type": "code",
   "execution_count": null,
   "id": "ef986347",
   "metadata": {},
   "outputs": [],
   "source": [
    "train = ImageDataGenerator(rescale=1/255)\n",
    "test = ImageDataGenerator(rescale=1/255)\n",
    "\n",
    "train_dataset = train.flow_from_directory( \"C:\\\\Users\\\\rauna\\\\Desktop\\\\git\\\\git demo\\\\Intro-To-ML-GDSC-IITK\\\\Week4\\\\train\" ,\n",
    "                                          target_size=(250,250),batch_size = 32,class_mode = 'binary')\n",
    "                                         \n",
    "test_dataset = test.flow_from_directory( \"C:\\\\Users\\\\rauna\\\\Desktop\\\\git\\\\git demo\\\\Intro-To-ML-GDSC-IITK\\\\Week4\\\\test\",\n",
    "                                          target_size=(250,250),\n",
    "                                          batch_size =32,\n",
    "                                          class_mode = 'binary')\n",
    "# to avoid unicode error use double backslash ."
   ]
  },
  {
   "cell_type": "code",
   "execution_count": null,
   "id": "98b5e0ee",
   "metadata": {},
   "outputs": [],
   "source": [
    "test_dataset.class_indices\n"
   ]
  },
  {
   "cell_type": "code",
   "execution_count": null,
   "id": "9190192b",
   "metadata": {},
   "outputs": [],
   "source": [
    "model = keras.Sequential()\n",
    "\n",
    "# Convolutional layer and maxpool layer 1\n",
    "model.add(keras.layers.Conv2D(32,(3,3),activation='relu',input_shape=(250,250,3)))\n",
    "model.add(keras.layers.MaxPool2D(2,2))\n",
    "\n",
    "# Convolutional layer and maxpool layer 2\n",
    "model.add(keras.layers.Conv2D(64,(3,3),activation='relu'))\n",
    "model.add(keras.layers.MaxPool2D(2,2))\n",
    "\n",
    "# adding one more layer\n",
    "#model.add(keras.layers.Conv2D(64,(3,3),activation='relu'))\n",
    "#model.add(keras.layers.MaxPool2D(2,2))\n",
    "\n",
    "# Convolutional layer and maxpool layer 3\n",
    "model.add(keras.layers.Conv2D(128,(3,3),activation='relu'))\n",
    "model.add(keras.layers.MaxPool2D(2,2))\n",
    "\n",
    "# Convolutional layer and maxpool layer 4\n",
    "model.add(keras.layers.Conv2D(128,(3,3),activation='relu'))\n",
    "model.add(keras.layers.MaxPool2D(2,2))\n",
    "\n",
    "# This layer flattens the resulting image array to 1D array\n",
    "model.add(keras.layers.Flatten())\n",
    "\n",
    "# Hidden layer with 512 neurons and Rectified Linear Unit activation function \n",
    "model.add(keras.layers.Dense(512,activation='relu'))\n",
    "\n",
    "# Output layer with single neuron which gives 0 for Cat or 1 for Dog \n",
    "#Here we use sigmoid activation function which makes our model output to lie between 0 and 1\n",
    "model.add(keras.layers.Dense(1,activation='sigmoid'))"
   ]
  },
  {
   "cell_type": "code",
   "execution_count": null,
   "id": "90bbab75",
   "metadata": {},
   "outputs": [],
   "source": [
    "#steps_per_epoch = train_imagesize/batch_size\n",
    "model.compile(optimizer='adam',loss='binary_crossentropy',metrics=['accuracy'])\n",
    "\n",
    "model.fit_generator(train_dataset,\n",
    "         steps_per_epoch = 17,\n",
    "         epochs = 20,\n",
    "         validation_data = test_dataset\n",
    "       \n",
    "         )\n"
   ]
  },
  {
   "cell_type": "code",
   "execution_count": null,
   "id": "a0498df1",
   "metadata": {},
   "outputs": [],
   "source": [
    "def predictImage(filename):\n",
    "    img1 = image.load_img(filename,target_size=(250,250))\n",
    "    \n",
    "    plt.imshow(img1)\n",
    " \n",
    "    Y = image.img_to_array(img1)\n",
    "    \n",
    "    X = np.expand_dims(Y,axis=0)\n",
    "    val = model.predict(X)\n",
    "    print(val)\n",
    "    if val == 1:\n",
    "        \n",
    "        plt.xlabel(\"DOG\",fontsize=30)\n",
    "        \n",
    "    \n",
    "    elif val == 0:\n",
    "        plt.xlabel(\"CAT\",fontsize=30)"
   ]
  },
  {
   "cell_type": "code",
   "execution_count": null,
   "id": "7c61e1e2",
   "metadata": {},
   "outputs": [],
   "source": [
    "predictImage(r\"C:\\Users\\rauna\\Desktop\\git\\git demo\\Intro-To-ML-GDSC-IITK\\Week4\\test\\cats\\cat_375.jpg\")"
   ]
  },
  {
   "cell_type": "code",
   "execution_count": null,
   "id": "e803de4d",
   "metadata": {},
   "outputs": [],
   "source": [
    "predictImage(r\"C:\\Users\\rauna\\Desktop\\git\\git demo\\Intro-To-ML-GDSC-IITK\\Week4\\test\\cats\\cat_147.jpg\")"
   ]
  },
  {
   "cell_type": "code",
   "execution_count": null,
   "id": "9a52cbb7",
   "metadata": {},
   "outputs": [],
   "source": [
    "predictImage(r\"C:\\Users\\rauna\\Desktop\\git\\git demo\\Intro-To-ML-GDSC-IITK\\Week4\\test\\cats\\cat_468.jpg\")"
   ]
  },
  {
   "cell_type": "code",
   "execution_count": null,
   "id": "c7fc40b1",
   "metadata": {},
   "outputs": [],
   "source": [
    "predictImage(r\"C:\\Users\\rauna\\Desktop\\git\\git demo\\Intro-To-ML-GDSC-IITK\\Week4\\test\\dogs\\dog_59.jpg\")"
   ]
  },
  {
   "cell_type": "code",
   "execution_count": null,
   "id": "def92843",
   "metadata": {},
   "outputs": [],
   "source": [
    "predictImage(r\"C:\\Users\\rauna\\Desktop\\git\\git demo\\Intro-To-ML-GDSC-IITK\\Week4\\test\\dogs\\dog_177.jpg\")"
   ]
  },
  {
   "cell_type": "code",
   "execution_count": null,
   "id": "5ce94ba8",
   "metadata": {},
   "outputs": [],
   "source": [
    "predictImage(r\"C:\\Users\\rauna\\Desktop\\git\\git demo\\Intro-To-ML-GDSC-IITK\\Week4\\test\\cats\\cat_106.jpg\")"
   ]
  },
  {
   "cell_type": "code",
   "execution_count": null,
   "id": "171cee97",
   "metadata": {},
   "outputs": [],
   "source": [
    "predictImage(r\"C:\\Users\\rauna\\Desktop\\git\\git demo\\Intro-To-ML-GDSC-IITK\\Week4\\train\\cats\\cat_391.jpg\")"
   ]
  },
  {
   "cell_type": "code",
   "execution_count": null,
   "id": "3583bd66",
   "metadata": {
    "scrolled": false
   },
   "outputs": [],
   "source": [
    "predictImage(r\"C:\\Users\\rauna\\Desktop\\git\\git demo\\Intro-To-ML-GDSC-IITK\\Week4\\test\\cats\\cat_1.jpg\")"
   ]
  },
  {
   "cell_type": "code",
   "execution_count": null,
   "id": "1fa087c9",
   "metadata": {},
   "outputs": [],
   "source": [
    "predictImage(r\"C:\\Users\\rauna\\Desktop\\git\\git demo\\Intro-To-ML-GDSC-IITK\\Week4\\train\\cats\\cat_27.jpg\")"
   ]
  },
  {
   "cell_type": "code",
   "execution_count": null,
   "id": "d14af67f",
   "metadata": {},
   "outputs": [],
   "source": [
    "predictImage(r\"C:\\Users\\rauna\\Desktop\\git\\git demo\\Intro-To-ML-GDSC-IITK\\Week4\\test\\cats\\cat_119.jpg\")"
   ]
  },
  {
   "cell_type": "code",
   "execution_count": null,
   "id": "1039a502",
   "metadata": {},
   "outputs": [],
   "source": []
  }
 ],
 "metadata": {
  "kernelspec": {
   "display_name": "Python 3 (ipykernel)",
   "language": "python",
   "name": "python3"
  },
  "language_info": {
   "codemirror_mode": {
    "name": "ipython",
    "version": 3
   },
   "file_extension": ".py",
   "mimetype": "text/x-python",
   "name": "python",
   "nbconvert_exporter": "python",
   "pygments_lexer": "ipython3",
   "version": "3.11.0"
  }
 },
 "nbformat": 4,
 "nbformat_minor": 5
}
