{
 "cells": [
  {
   "cell_type": "markdown",
   "id": "de5ddbd2",
   "metadata": {
    "papermill": {
     "duration": 0.006794,
     "end_time": "2023-12-17T09:31:03.277248",
     "exception": false,
     "start_time": "2023-12-17T09:31:03.270454",
     "status": "completed"
    },
    "tags": []
   },
   "source": [
    "**This notebook is an exercise in the [Introduction to Machine Learning](https://www.kaggle.com/learn/intro-to-machine-learning) course.  You can reference the tutorial at [this link](https://www.kaggle.com/dansbecker/model-validation).**\n",
    "\n",
    "---\n"
   ]
  },
  {
   "cell_type": "markdown",
   "id": "d654f218",
   "metadata": {
    "papermill": {
     "duration": 0.005986,
     "end_time": "2023-12-17T09:31:03.289746",
     "exception": false,
     "start_time": "2023-12-17T09:31:03.283760",
     "status": "completed"
    },
    "tags": []
   },
   "source": [
    "## Recap\n",
    "You've built a model. In this exercise you will test how good your model is.\n",
    "\n",
    "Run the cell below to set up your coding environment where the previous exercise left off."
   ]
  },
  {
   "cell_type": "code",
   "execution_count": 1,
   "id": "6f559790",
   "metadata": {
    "execution": {
     "iopub.execute_input": "2023-12-17T09:31:03.304897Z",
     "iopub.status.busy": "2023-12-17T09:31:03.304129Z",
     "iopub.status.idle": "2023-12-17T09:31:05.689193Z",
     "shell.execute_reply": "2023-12-17T09:31:05.687916Z"
    },
    "papermill": {
     "duration": 2.397326,
     "end_time": "2023-12-17T09:31:05.693732",
     "exception": false,
     "start_time": "2023-12-17T09:31:03.296406",
     "status": "completed"
    },
    "tags": []
   },
   "outputs": [
    {
     "name": "stdout",
     "output_type": "stream",
     "text": [
      "First in-sample predictions: [208500. 181500. 223500. 140000. 250000.]\n",
      "Actual target values for those homes: [208500, 181500, 223500, 140000, 250000]\n",
      "Setup Complete\n"
     ]
    }
   ],
   "source": [
    "# Code you have previously used to load data\n",
    "import pandas as pd\n",
    "from sklearn.tree import DecisionTreeRegressor\n",
    "\n",
    "# Path of the file to read\n",
    "iowa_file_path = '../input/home-data-for-ml-course/train.csv'\n",
    "\n",
    "home_data = pd.read_csv(iowa_file_path)\n",
    "y = home_data.SalePrice\n",
    "feature_columns = ['LotArea', 'YearBuilt', '1stFlrSF', '2ndFlrSF', 'FullBath', 'BedroomAbvGr', 'TotRmsAbvGrd']\n",
    "X = home_data[feature_columns]\n",
    "\n",
    "# Specify Model\n",
    "iowa_model = DecisionTreeRegressor()\n",
    "# Fit Model\n",
    "iowa_model.fit(X, y)\n",
    "\n",
    "print(\"First in-sample predictions:\", iowa_model.predict(X.head()))\n",
    "print(\"Actual target values for those homes:\", y.head().tolist())\n",
    "\n",
    "# Set up code checking\n",
    "from learntools.core import binder\n",
    "binder.bind(globals())\n",
    "from learntools.machine_learning.ex4 import *\n",
    "print(\"Setup Complete\")"
   ]
  },
  {
   "cell_type": "markdown",
   "id": "1082b2d3",
   "metadata": {
    "papermill": {
     "duration": 0.006209,
     "end_time": "2023-12-17T09:31:05.706711",
     "exception": false,
     "start_time": "2023-12-17T09:31:05.700502",
     "status": "completed"
    },
    "tags": []
   },
   "source": [
    "# Exercises\n",
    "\n",
    "## Step 1: Split Your Data\n",
    "Use the `train_test_split` function to split up your data.\n",
    "\n",
    "Give it the argument `random_state=1` so the `check` functions know what to expect when verifying your code.\n",
    "\n",
    "Recall, your features are loaded in the DataFrame **X** and your target is loaded in **y**.\n"
   ]
  },
  {
   "cell_type": "code",
   "execution_count": 2,
   "id": "ae4943e3",
   "metadata": {
    "execution": {
     "iopub.execute_input": "2023-12-17T09:31:05.722142Z",
     "iopub.status.busy": "2023-12-17T09:31:05.721690Z",
     "iopub.status.idle": "2023-12-17T09:31:05.737950Z",
     "shell.execute_reply": "2023-12-17T09:31:05.736687Z"
    },
    "papermill": {
     "duration": 0.026559,
     "end_time": "2023-12-17T09:31:05.740305",
     "exception": false,
     "start_time": "2023-12-17T09:31:05.713746",
     "status": "completed"
    },
    "tags": []
   },
   "outputs": [
    {
     "data": {
      "application/javascript": [
       "parent.postMessage({\"jupyterEvent\": \"custom.exercise_interaction\", \"data\": {\"outcomeType\": 1, \"valueTowardsCompletion\": 0.25, \"interactionType\": 1, \"questionType\": 2, \"questionId\": \"1_SplitData\", \"learnToolsVersion\": \"0.3.4\", \"failureMessage\": \"\", \"exceptionClass\": \"\", \"trace\": \"\"}}, \"*\")"
      ],
      "text/plain": [
       "<IPython.core.display.Javascript object>"
      ]
     },
     "metadata": {},
     "output_type": "display_data"
    },
    {
     "data": {
      "text/markdown": [
       "<span style=\"color:#33cc33\">Correct</span>"
      ],
      "text/plain": [
       "Correct"
      ]
     },
     "metadata": {},
     "output_type": "display_data"
    }
   ],
   "source": [
    "# Import the train_test_split function and uncomment\n",
    "from sklearn.model_selection import train_test_split\n",
    "\n",
    "# fill in and uncomment\n",
    "train_X, val_X, train_y, val_y = train_test_split(X, y, random_state = 1)\n",
    "\n",
    "# Check your answer\n",
    "step_1.check()"
   ]
  },
  {
   "cell_type": "code",
   "execution_count": 3,
   "id": "e85da4bf",
   "metadata": {
    "execution": {
     "iopub.execute_input": "2023-12-17T09:31:05.755952Z",
     "iopub.status.busy": "2023-12-17T09:31:05.755530Z",
     "iopub.status.idle": "2023-12-17T09:31:05.759555Z",
     "shell.execute_reply": "2023-12-17T09:31:05.758728Z"
    },
    "papermill": {
     "duration": 0.014748,
     "end_time": "2023-12-17T09:31:05.761898",
     "exception": false,
     "start_time": "2023-12-17T09:31:05.747150",
     "status": "completed"
    },
    "tags": []
   },
   "outputs": [],
   "source": [
    "# The lines below will show you a hint or the solution.\n",
    "# step_1.hint() \n",
    "# step_1.solution()\n"
   ]
  },
  {
   "cell_type": "markdown",
   "id": "6a975ed0",
   "metadata": {
    "papermill": {
     "duration": 0.006536,
     "end_time": "2023-12-17T09:31:05.775424",
     "exception": false,
     "start_time": "2023-12-17T09:31:05.768888",
     "status": "completed"
    },
    "tags": []
   },
   "source": [
    "## Step 2: Specify and Fit the Model\n",
    "\n",
    "Create a `DecisionTreeRegressor` model and fit it to the relevant data.\n",
    "Set `random_state` to 1 again when creating the model."
   ]
  },
  {
   "cell_type": "code",
   "execution_count": 4,
   "id": "e3a9a5a2",
   "metadata": {
    "execution": {
     "iopub.execute_input": "2023-12-17T09:31:05.791314Z",
     "iopub.status.busy": "2023-12-17T09:31:05.790191Z",
     "iopub.status.idle": "2023-12-17T09:31:05.819940Z",
     "shell.execute_reply": "2023-12-17T09:31:05.818789Z"
    },
    "papermill": {
     "duration": 0.040044,
     "end_time": "2023-12-17T09:31:05.822230",
     "exception": false,
     "start_time": "2023-12-17T09:31:05.782186",
     "status": "completed"
    },
    "tags": []
   },
   "outputs": [
    {
     "name": "stdout",
     "output_type": "stream",
     "text": [
      "[186500. 184000. 130000.  92000. 164500. 220000. 335000. 144152. 215000.\n",
      " 262000.]\n",
      "[186500. 184000. 130000.  92000. 164500. 220000. 335000. 144152. 215000.\n",
      " 262000.]\n"
     ]
    },
    {
     "data": {
      "application/javascript": [
       "parent.postMessage({\"jupyterEvent\": \"custom.exercise_interaction\", \"data\": {\"outcomeType\": 1, \"valueTowardsCompletion\": 0.25, \"interactionType\": 1, \"questionType\": 2, \"questionId\": \"2_FitModelWithTrain\", \"learnToolsVersion\": \"0.3.4\", \"failureMessage\": \"\", \"exceptionClass\": \"\", \"trace\": \"\"}}, \"*\")"
      ],
      "text/plain": [
       "<IPython.core.display.Javascript object>"
      ]
     },
     "metadata": {},
     "output_type": "display_data"
    },
    {
     "data": {
      "text/markdown": [
       "<span style=\"color:#33cc33\">Correct</span>"
      ],
      "text/plain": [
       "Correct"
      ]
     },
     "metadata": {},
     "output_type": "display_data"
    }
   ],
   "source": [
    "# You imported DecisionTreeRegressor in your last exercise\n",
    "# and that code has been copied to the setup code above. So, no need to\n",
    "# import it again\n",
    "\n",
    "# Specify the model\n",
    "iowa_model = DecisionTreeRegressor(random_state = 1)\n",
    "\n",
    "# Fit iowa_model with the training data.\n",
    "iowa_model.fit(train_X, train_y)\n",
    "\n",
    "\n",
    "# Check your answer\n",
    "step_2.check()"
   ]
  },
  {
   "cell_type": "code",
   "execution_count": 5,
   "id": "410798d5",
   "metadata": {
    "execution": {
     "iopub.execute_input": "2023-12-17T09:31:05.838563Z",
     "iopub.status.busy": "2023-12-17T09:31:05.838134Z",
     "iopub.status.idle": "2023-12-17T09:31:05.842321Z",
     "shell.execute_reply": "2023-12-17T09:31:05.841489Z"
    },
    "papermill": {
     "duration": 0.014905,
     "end_time": "2023-12-17T09:31:05.844440",
     "exception": false,
     "start_time": "2023-12-17T09:31:05.829535",
     "status": "completed"
    },
    "tags": []
   },
   "outputs": [],
   "source": [
    "# step_2.hint()\n",
    "# step_2.solution()"
   ]
  },
  {
   "cell_type": "markdown",
   "id": "0b0c67d0",
   "metadata": {
    "papermill": {
     "duration": 0.00693,
     "end_time": "2023-12-17T09:31:05.858659",
     "exception": false,
     "start_time": "2023-12-17T09:31:05.851729",
     "status": "completed"
    },
    "tags": []
   },
   "source": [
    "## Step 3: Make Predictions with Validation data\n"
   ]
  },
  {
   "cell_type": "code",
   "execution_count": 6,
   "id": "8859b85e",
   "metadata": {
    "execution": {
     "iopub.execute_input": "2023-12-17T09:31:05.875625Z",
     "iopub.status.busy": "2023-12-17T09:31:05.874663Z",
     "iopub.status.idle": "2023-12-17T09:31:05.887220Z",
     "shell.execute_reply": "2023-12-17T09:31:05.886073Z"
    },
    "papermill": {
     "duration": 0.023251,
     "end_time": "2023-12-17T09:31:05.889530",
     "exception": false,
     "start_time": "2023-12-17T09:31:05.866279",
     "status": "completed"
    },
    "tags": []
   },
   "outputs": [
    {
     "data": {
      "application/javascript": [
       "parent.postMessage({\"jupyterEvent\": \"custom.exercise_interaction\", \"data\": {\"outcomeType\": 1, \"valueTowardsCompletion\": 0.25, \"interactionType\": 1, \"questionType\": 2, \"questionId\": \"3_ValPreds\", \"learnToolsVersion\": \"0.3.4\", \"failureMessage\": \"\", \"exceptionClass\": \"\", \"trace\": \"\"}}, \"*\")"
      ],
      "text/plain": [
       "<IPython.core.display.Javascript object>"
      ]
     },
     "metadata": {},
     "output_type": "display_data"
    },
    {
     "data": {
      "text/markdown": [
       "<span style=\"color:#33cc33\">Correct</span>"
      ],
      "text/plain": [
       "Correct"
      ]
     },
     "metadata": {},
     "output_type": "display_data"
    }
   ],
   "source": [
    "# Predict with all validation observations\n",
    "val_predictions = iowa_model.predict(val_X)\n",
    "\n",
    "# Check your answer\n",
    "step_3.check()"
   ]
  },
  {
   "cell_type": "code",
   "execution_count": 7,
   "id": "9a7e352a",
   "metadata": {
    "execution": {
     "iopub.execute_input": "2023-12-17T09:31:05.906417Z",
     "iopub.status.busy": "2023-12-17T09:31:05.906008Z",
     "iopub.status.idle": "2023-12-17T09:31:05.910896Z",
     "shell.execute_reply": "2023-12-17T09:31:05.909739Z"
    },
    "papermill": {
     "duration": 0.016116,
     "end_time": "2023-12-17T09:31:05.913228",
     "exception": false,
     "start_time": "2023-12-17T09:31:05.897112",
     "status": "completed"
    },
    "tags": []
   },
   "outputs": [],
   "source": [
    "# step_3.hint()\n",
    "# step_3.solution()"
   ]
  },
  {
   "cell_type": "markdown",
   "id": "1ebe87d6",
   "metadata": {
    "papermill": {
     "duration": 0.007373,
     "end_time": "2023-12-17T09:31:05.928886",
     "exception": false,
     "start_time": "2023-12-17T09:31:05.921513",
     "status": "completed"
    },
    "tags": []
   },
   "source": [
    "Inspect your predictions and actual values from validation data."
   ]
  },
  {
   "cell_type": "code",
   "execution_count": 8,
   "id": "eb548128",
   "metadata": {
    "execution": {
     "iopub.execute_input": "2023-12-17T09:31:05.947237Z",
     "iopub.status.busy": "2023-12-17T09:31:05.946268Z",
     "iopub.status.idle": "2023-12-17T09:31:05.962574Z",
     "shell.execute_reply": "2023-12-17T09:31:05.961535Z"
    },
    "papermill": {
     "duration": 0.028317,
     "end_time": "2023-12-17T09:31:05.965239",
     "exception": false,
     "start_time": "2023-12-17T09:31:05.936922",
     "status": "completed"
    },
    "tags": []
   },
   "outputs": [
    {
     "name": "stdout",
     "output_type": "stream",
     "text": [
      "          0\n",
      "0  186500.0\n",
      "1  184000.0\n",
      "2  130000.0\n",
      "3   92000.0\n",
      "4  164500.0\n",
      "258     231500\n",
      "267     179500\n",
      "288     122000\n",
      "649      84500\n",
      "1233    142000\n",
      "Name: SalePrice, dtype: int64\n"
     ]
    }
   ],
   "source": [
    "# print the top few validation predictions\n",
    "print(pd.DataFrame(val_predictions).head())\n",
    "# print the top few actual prices from validation data\n",
    "print(val_y.head())"
   ]
  },
  {
   "cell_type": "markdown",
   "id": "51096dca",
   "metadata": {
    "papermill": {
     "duration": 0.007177,
     "end_time": "2023-12-17T09:31:05.980133",
     "exception": false,
     "start_time": "2023-12-17T09:31:05.972956",
     "status": "completed"
    },
    "tags": []
   },
   "source": [
    "What do you notice that is different from what you saw with in-sample predictions (which are printed after the top code cell in this page).\n",
    "\n",
    "Do you remember why validation predictions differ from in-sample (or training) predictions? This is an important idea from the last lesson.\n",
    "\n",
    "## Step 4: Calculate the Mean Absolute Error in Validation Data\n"
   ]
  },
  {
   "cell_type": "code",
   "execution_count": 9,
   "id": "73f48391",
   "metadata": {
    "execution": {
     "iopub.execute_input": "2023-12-17T09:31:05.999365Z",
     "iopub.status.busy": "2023-12-17T09:31:05.997386Z",
     "iopub.status.idle": "2023-12-17T09:31:06.010675Z",
     "shell.execute_reply": "2023-12-17T09:31:06.009486Z"
    },
    "papermill": {
     "duration": 0.025263,
     "end_time": "2023-12-17T09:31:06.013056",
     "exception": false,
     "start_time": "2023-12-17T09:31:05.987793",
     "status": "completed"
    },
    "tags": []
   },
   "outputs": [
    {
     "name": "stdout",
     "output_type": "stream",
     "text": [
      "29652.931506849316\n"
     ]
    },
    {
     "data": {
      "application/javascript": [
       "parent.postMessage({\"jupyterEvent\": \"custom.exercise_interaction\", \"data\": {\"outcomeType\": 1, \"valueTowardsCompletion\": 0.25, \"interactionType\": 1, \"questionType\": 1, \"questionId\": \"4_MAE\", \"learnToolsVersion\": \"0.3.4\", \"failureMessage\": \"\", \"exceptionClass\": \"\", \"trace\": \"\"}}, \"*\")"
      ],
      "text/plain": [
       "<IPython.core.display.Javascript object>"
      ]
     },
     "metadata": {},
     "output_type": "display_data"
    },
    {
     "data": {
      "text/markdown": [
       "<span style=\"color:#33cc33\">Correct</span>"
      ],
      "text/plain": [
       "Correct"
      ]
     },
     "metadata": {},
     "output_type": "display_data"
    }
   ],
   "source": [
    "from sklearn.metrics import mean_absolute_error\n",
    "val_mae = mean_absolute_error(val_predictions, val_y)\n",
    "\n",
    "# uncomment following line to see the validation_mae\n",
    "print(val_mae)\n",
    "\n",
    "# Check your answer\n",
    "step_4.check()"
   ]
  },
  {
   "cell_type": "code",
   "execution_count": 10,
   "id": "44f00fb1",
   "metadata": {
    "execution": {
     "iopub.execute_input": "2023-12-17T09:31:06.031083Z",
     "iopub.status.busy": "2023-12-17T09:31:06.030633Z",
     "iopub.status.idle": "2023-12-17T09:31:06.035442Z",
     "shell.execute_reply": "2023-12-17T09:31:06.034432Z"
    },
    "papermill": {
     "duration": 0.016546,
     "end_time": "2023-12-17T09:31:06.037832",
     "exception": false,
     "start_time": "2023-12-17T09:31:06.021286",
     "status": "completed"
    },
    "tags": []
   },
   "outputs": [],
   "source": [
    "# step_4.hint()\n",
    "# step_4.solution()"
   ]
  },
  {
   "cell_type": "markdown",
   "id": "ed065c84",
   "metadata": {
    "papermill": {
     "duration": 0.008072,
     "end_time": "2023-12-17T09:31:06.054280",
     "exception": false,
     "start_time": "2023-12-17T09:31:06.046208",
     "status": "completed"
    },
    "tags": []
   },
   "source": [
    "Is that MAE good?  There isn't a general rule for what values are good that applies across applications. But you'll see how to use (and improve) this number in the next step.\n",
    "\n",
    "# Keep Going\n",
    "\n",
    "You are ready for **[Underfitting and Overfitting](https://www.kaggle.com/dansbecker/underfitting-and-overfitting).**\n"
   ]
  },
  {
   "cell_type": "markdown",
   "id": "109fd162",
   "metadata": {
    "papermill": {
     "duration": 0.007982,
     "end_time": "2023-12-17T09:31:06.071078",
     "exception": false,
     "start_time": "2023-12-17T09:31:06.063096",
     "status": "completed"
    },
    "tags": []
   },
   "source": [
    "---\n",
    "\n",
    "\n",
    "\n",
    "\n",
    "*Have questions or comments? Visit the [course discussion forum](https://www.kaggle.com/learn/intro-to-machine-learning/discussion) to chat with other learners.*"
   ]
  }
 ],
 "metadata": {
  "kaggle": {
   "accelerator": "none",
   "dataSources": [
    {
     "databundleVersionId": 111096,
     "sourceId": 10211,
     "sourceType": "competition"
    },
    {
     "datasetId": 11167,
     "sourceId": 15520,
     "sourceType": "datasetVersion"
    },
    {
     "datasetId": 2709,
     "sourceId": 38454,
     "sourceType": "datasetVersion"
    }
   ],
   "isGpuEnabled": false,
   "isInternetEnabled": false,
   "language": "python",
   "sourceType": "notebook"
  },
  "kernelspec": {
   "display_name": "Python 3",
   "language": "python",
   "name": "python3"
  },
  "language_info": {
   "codemirror_mode": {
    "name": "ipython",
    "version": 3
   },
   "file_extension": ".py",
   "mimetype": "text/x-python",
   "name": "python",
   "nbconvert_exporter": "python",
   "pygments_lexer": "ipython3",
   "version": "3.10.12"
  },
  "papermill": {
   "default_parameters": {},
   "duration": 7.009969,
   "end_time": "2023-12-17T09:31:06.699777",
   "environment_variables": {},
   "exception": null,
   "input_path": "__notebook__.ipynb",
   "output_path": "__notebook__.ipynb",
   "parameters": {},
   "start_time": "2023-12-17T09:30:59.689808",
   "version": "2.4.0"
  }
 },
 "nbformat": 4,
 "nbformat_minor": 5
}
