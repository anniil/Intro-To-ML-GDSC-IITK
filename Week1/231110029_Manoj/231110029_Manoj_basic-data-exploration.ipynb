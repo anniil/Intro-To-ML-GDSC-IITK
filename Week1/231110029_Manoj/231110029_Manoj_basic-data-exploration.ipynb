{
 "cells": [
  {
   "cell_type": "markdown",
   "id": "a117edfa",
   "metadata": {
    "papermill": {
     "duration": 0.005,
     "end_time": "2023-12-17T09:33:45.912247",
     "exception": false,
     "start_time": "2023-12-17T09:33:45.907247",
     "status": "completed"
    },
    "tags": []
   },
   "source": [
    "**[Machine Learning Course Home Page](https://www.kaggle.com/learn/machine-learning)**\n",
    "\n",
    "---\n"
   ]
  },
  {
   "cell_type": "markdown",
   "id": "54dd5936",
   "metadata": {
    "papermill": {
     "duration": 0.004115,
     "end_time": "2023-12-17T09:33:45.921048",
     "exception": false,
     "start_time": "2023-12-17T09:33:45.916933",
     "status": "completed"
    },
    "tags": []
   },
   "source": [
    "This exercise will test your ability to read a data file and understand statistics about the data.\n",
    "\n",
    "In later exercises, you will apply techniques to filter the data, build a machine learning model, and iteratively improve your model.\n",
    "\n",
    "The course examples use data from Melbourne. To ensure you can apply these techniques on your own, you will have to apply them to a new dataset (with house prices from Iowa).\n",
    "\n",
    "The exercises use a \"notebook\" coding environment.  In case you are unfamiliar with notebooks, we have a [90-second intro video](https://www.youtube.com/watch?v=4C2qMnaIKL4).\n",
    "\n",
    "# Exercises\n",
    "\n",
    "Run the following cell to set up code-checking, which will verify your work as you go."
   ]
  },
  {
   "cell_type": "code",
   "execution_count": 1,
   "id": "7d889d19",
   "metadata": {
    "execution": {
     "iopub.execute_input": "2023-12-17T09:33:45.932462Z",
     "iopub.status.busy": "2023-12-17T09:33:45.931219Z",
     "iopub.status.idle": "2023-12-17T09:33:46.411399Z",
     "shell.execute_reply": "2023-12-17T09:33:46.410083Z"
    },
    "papermill": {
     "duration": 0.488551,
     "end_time": "2023-12-17T09:33:46.413964",
     "exception": false,
     "start_time": "2023-12-17T09:33:45.925413",
     "status": "completed"
    },
    "tags": []
   },
   "outputs": [
    {
     "name": "stdout",
     "output_type": "stream",
     "text": [
      "Setup Complete\n"
     ]
    }
   ],
   "source": [
    "# Set up code checking\n",
    "from learntools.core import binder\n",
    "binder.bind(globals())\n",
    "from learntools.machine_learning.ex2 import *\n",
    "print(\"Setup Complete\")"
   ]
  },
  {
   "cell_type": "markdown",
   "id": "64ad0117",
   "metadata": {
    "papermill": {
     "duration": 0.004279,
     "end_time": "2023-12-17T09:33:46.422860",
     "exception": false,
     "start_time": "2023-12-17T09:33:46.418581",
     "status": "completed"
    },
    "tags": []
   },
   "source": [
    "## Step 1: Loading Data\n",
    "Read the Iowa data file into a Pandas DataFrame called `home_data`."
   ]
  },
  {
   "cell_type": "code",
   "execution_count": 2,
   "id": "0e447a2f",
   "metadata": {
    "execution": {
     "iopub.execute_input": "2023-12-17T09:33:46.433881Z",
     "iopub.status.busy": "2023-12-17T09:33:46.433332Z",
     "iopub.status.idle": "2023-12-17T09:33:46.500982Z",
     "shell.execute_reply": "2023-12-17T09:33:46.499891Z"
    },
    "papermill": {
     "duration": 0.07667,
     "end_time": "2023-12-17T09:33:46.504002",
     "exception": false,
     "start_time": "2023-12-17T09:33:46.427332",
     "status": "completed"
    },
    "tags": []
   },
   "outputs": [
    {
     "data": {
      "application/javascript": [
       "parent.postMessage({\"jupyterEvent\": \"custom.exercise_interaction\", \"data\": {\"outcomeType\": 1, \"valueTowardsCompletion\": 0.5, \"interactionType\": 1, \"questionType\": 1, \"questionId\": \"1_LoadHomeData\", \"learnToolsVersion\": \"0.3.4\", \"failureMessage\": \"\", \"exceptionClass\": \"\", \"trace\": \"\"}}, \"*\")"
      ],
      "text/plain": [
       "<IPython.core.display.Javascript object>"
      ]
     },
     "metadata": {},
     "output_type": "display_data"
    },
    {
     "data": {
      "text/markdown": [
       "<span style=\"color:#33cc33\">Correct</span>"
      ],
      "text/plain": [
       "Correct"
      ]
     },
     "metadata": {},
     "output_type": "display_data"
    }
   ],
   "source": [
    "import pandas as pd\n",
    "\n",
    "# Path of the file to read\n",
    "iowa_file_path = '../input/home-data-for-ml-course/train.csv'\n",
    "\n",
    "# Fill in the line below to read the file into a variable home_data\n",
    "home_data = pd.read_csv(iowa_file_path)\n",
    "\n",
    "# Call line below with no argument to check that you've loaded the data correctly\n",
    "step_1.check()"
   ]
  },
  {
   "cell_type": "code",
   "execution_count": 3,
   "id": "f67dd141",
   "metadata": {
    "execution": {
     "iopub.execute_input": "2023-12-17T09:33:46.515758Z",
     "iopub.status.busy": "2023-12-17T09:33:46.515313Z",
     "iopub.status.idle": "2023-12-17T09:33:46.519781Z",
     "shell.execute_reply": "2023-12-17T09:33:46.518758Z"
    },
    "papermill": {
     "duration": 0.013257,
     "end_time": "2023-12-17T09:33:46.522187",
     "exception": false,
     "start_time": "2023-12-17T09:33:46.508930",
     "status": "completed"
    },
    "tags": []
   },
   "outputs": [],
   "source": [
    "# Lines below will give you a hint or solution code\n",
    "# step_1.hint()\n",
    "# step_1.solution()"
   ]
  },
  {
   "cell_type": "markdown",
   "id": "d4f0df70",
   "metadata": {
    "papermill": {
     "duration": 0.004874,
     "end_time": "2023-12-17T09:33:46.532394",
     "exception": false,
     "start_time": "2023-12-17T09:33:46.527520",
     "status": "completed"
    },
    "tags": []
   },
   "source": [
    "## Step 2: Review The Data\n",
    "Use the command you learned to view summary statistics of the data. Then fill in variables to answer the following questions"
   ]
  },
  {
   "cell_type": "code",
   "execution_count": 4,
   "id": "b1b68b2b",
   "metadata": {
    "execution": {
     "iopub.execute_input": "2023-12-17T09:33:46.544276Z",
     "iopub.status.busy": "2023-12-17T09:33:46.543858Z",
     "iopub.status.idle": "2023-12-17T09:33:46.725146Z",
     "shell.execute_reply": "2023-12-17T09:33:46.724039Z"
    },
    "papermill": {
     "duration": 0.190444,
     "end_time": "2023-12-17T09:33:46.727841",
     "exception": false,
     "start_time": "2023-12-17T09:33:46.537397",
     "status": "completed"
    },
    "tags": []
   },
   "outputs": [
    {
     "data": {
      "application/javascript": [
       "parent.postMessage({\"jupyterEvent\": \"custom.exercise_interaction\", \"data\": {\"outcomeType\": 1, \"valueTowardsCompletion\": 0.5, \"interactionType\": 1, \"questionType\": 1, \"questionId\": \"2_HomeDescription\", \"learnToolsVersion\": \"0.3.4\", \"failureMessage\": \"\", \"exceptionClass\": \"\", \"trace\": \"\"}}, \"*\")"
      ],
      "text/plain": [
       "<IPython.core.display.Javascript object>"
      ]
     },
     "metadata": {},
     "output_type": "display_data"
    },
    {
     "data": {
      "text/markdown": [
       "<span style=\"color:#33cc33\">Correct</span>"
      ],
      "text/plain": [
       "Correct"
      ]
     },
     "metadata": {},
     "output_type": "display_data"
    }
   ],
   "source": [
    "# What is the average lot size (rounded to nearest integer)?\n",
    "avg_lot_size = round(home_data.describe().loc['mean', 'LotArea'])\n",
    "\n",
    "# As of today, how old is the newest home (current year - the date in which it was built)\n",
    "newest_home_age = 2023 - round(home_data.describe().loc['max', 'YearBuilt'])\n",
    "\n",
    "# Checks your answers\n",
    "step_2.check()"
   ]
  },
  {
   "cell_type": "code",
   "execution_count": 5,
   "id": "a654ec98",
   "metadata": {
    "execution": {
     "iopub.execute_input": "2023-12-17T09:33:46.740447Z",
     "iopub.status.busy": "2023-12-17T09:33:46.740028Z",
     "iopub.status.idle": "2023-12-17T09:33:46.768315Z",
     "shell.execute_reply": "2023-12-17T09:33:46.766990Z"
    },
    "papermill": {
     "duration": 0.038148,
     "end_time": "2023-12-17T09:33:46.771358",
     "exception": false,
     "start_time": "2023-12-17T09:33:46.733210",
     "status": "completed"
    },
    "tags": []
   },
   "outputs": [
    {
     "name": "stdout",
     "output_type": "stream",
     "text": [
      "        Id  MSSubClass MSZoning  LotFrontage  LotArea Street Alley LotShape  \\\n",
      "0        1          60       RL         65.0     8450   Pave   NaN      Reg   \n",
      "1        2          20       RL         80.0     9600   Pave   NaN      Reg   \n",
      "2        3          60       RL         68.0    11250   Pave   NaN      IR1   \n",
      "3        4          70       RL         60.0     9550   Pave   NaN      IR1   \n",
      "4        5          60       RL         84.0    14260   Pave   NaN      IR1   \n",
      "...    ...         ...      ...          ...      ...    ...   ...      ...   \n",
      "1455  1456          60       RL         62.0     7917   Pave   NaN      Reg   \n",
      "1456  1457          20       RL         85.0    13175   Pave   NaN      Reg   \n",
      "1457  1458          70       RL         66.0     9042   Pave   NaN      Reg   \n",
      "1458  1459          20       RL         68.0     9717   Pave   NaN      Reg   \n",
      "1459  1460          20       RL         75.0     9937   Pave   NaN      Reg   \n",
      "\n",
      "     LandContour Utilities  ... PoolArea PoolQC  Fence MiscFeature MiscVal  \\\n",
      "0            Lvl    AllPub  ...        0    NaN    NaN         NaN       0   \n",
      "1            Lvl    AllPub  ...        0    NaN    NaN         NaN       0   \n",
      "2            Lvl    AllPub  ...        0    NaN    NaN         NaN       0   \n",
      "3            Lvl    AllPub  ...        0    NaN    NaN         NaN       0   \n",
      "4            Lvl    AllPub  ...        0    NaN    NaN         NaN       0   \n",
      "...          ...       ...  ...      ...    ...    ...         ...     ...   \n",
      "1455         Lvl    AllPub  ...        0    NaN    NaN         NaN       0   \n",
      "1456         Lvl    AllPub  ...        0    NaN  MnPrv         NaN       0   \n",
      "1457         Lvl    AllPub  ...        0    NaN  GdPrv        Shed    2500   \n",
      "1458         Lvl    AllPub  ...        0    NaN    NaN         NaN       0   \n",
      "1459         Lvl    AllPub  ...        0    NaN    NaN         NaN       0   \n",
      "\n",
      "     MoSold YrSold  SaleType  SaleCondition  SalePrice  \n",
      "0         2   2008        WD         Normal     208500  \n",
      "1         5   2007        WD         Normal     181500  \n",
      "2         9   2008        WD         Normal     223500  \n",
      "3         2   2006        WD        Abnorml     140000  \n",
      "4        12   2008        WD         Normal     250000  \n",
      "...     ...    ...       ...            ...        ...  \n",
      "1455      8   2007        WD         Normal     175000  \n",
      "1456      2   2010        WD         Normal     210000  \n",
      "1457      5   2010        WD         Normal     266500  \n",
      "1458      4   2010        WD         Normal     142125  \n",
      "1459      6   2008        WD         Normal     147500  \n",
      "\n",
      "[1460 rows x 81 columns]\n"
     ]
    }
   ],
   "source": [
    "# Print summary statistics in next line\n",
    "print(home_data)"
   ]
  },
  {
   "cell_type": "code",
   "execution_count": 6,
   "id": "95a19e16",
   "metadata": {
    "execution": {
     "iopub.execute_input": "2023-12-17T09:33:46.784800Z",
     "iopub.status.busy": "2023-12-17T09:33:46.783888Z",
     "iopub.status.idle": "2023-12-17T09:33:46.788855Z",
     "shell.execute_reply": "2023-12-17T09:33:46.787764Z"
    },
    "papermill": {
     "duration": 0.014293,
     "end_time": "2023-12-17T09:33:46.791221",
     "exception": false,
     "start_time": "2023-12-17T09:33:46.776928",
     "status": "completed"
    },
    "tags": []
   },
   "outputs": [],
   "source": [
    "# step_2.hint()\n",
    "# step_2.solution()"
   ]
  },
  {
   "cell_type": "markdown",
   "id": "e369033f",
   "metadata": {
    "papermill": {
     "duration": 0.00513,
     "end_time": "2023-12-17T09:33:46.801892",
     "exception": false,
     "start_time": "2023-12-17T09:33:46.796762",
     "status": "completed"
    },
    "tags": []
   },
   "source": [
    "## Think About Your Data\n",
    "\n",
    "The newest house in your data isn't that new.  A few potential explanations for this:\n",
    "1. They haven't built new houses where this data was collected.\n",
    "1. The data was collected a long time ago. Houses built after the data publication wouldn't show up.\n",
    "\n",
    "If the reason is explanation #1 above, does that affect your trust in the model you build with this data? What about if it is reason #2?\n",
    "\n",
    "How could you dig into the data to see which explanation is more plausible?\n",
    "\n",
    "Check out this **[discussion thread](https://www.kaggle.com/learn-forum/60581)** to see what others think or to add your ideas.\n",
    "\n",
    "# Keep Going\n",
    "\n",
    "You are ready for **[Your First Machine Learning Model](https://www.kaggle.com/dansbecker/your-first-machine-learning-model).**\n"
   ]
  },
  {
   "cell_type": "markdown",
   "id": "7a292f27",
   "metadata": {
    "papermill": {
     "duration": 0.005046,
     "end_time": "2023-12-17T09:33:46.812410",
     "exception": false,
     "start_time": "2023-12-17T09:33:46.807364",
     "status": "completed"
    },
    "tags": []
   },
   "source": [
    "---\n",
    "**[Machine Learning Course Home Page](https://www.kaggle.com/learn/machine-learning)**\n",
    "\n"
   ]
  }
 ],
 "metadata": {
  "kaggle": {
   "accelerator": "none",
   "dataSources": [
    {
     "datasetId": 2709,
     "sourceId": 38454,
     "sourceType": "datasetVersion"
    },
    {
     "datasetId": 108980,
     "sourceId": 260251,
     "sourceType": "datasetVersion"
    }
   ],
   "isGpuEnabled": false,
   "isInternetEnabled": false,
   "language": "python",
   "sourceType": "notebook"
  },
  "kernelspec": {
   "display_name": "Python 3",
   "language": "python",
   "name": "python3"
  },
  "language_info": {
   "codemirror_mode": {
    "name": "ipython",
    "version": 3
   },
   "file_extension": ".py",
   "mimetype": "text/x-python",
   "name": "python",
   "nbconvert_exporter": "python",
   "pygments_lexer": "ipython3",
   "version": "3.10.12"
  },
  "papermill": {
   "default_parameters": {},
   "duration": 5.032104,
   "end_time": "2023-12-17T09:33:47.339443",
   "environment_variables": {},
   "exception": null,
   "input_path": "__notebook__.ipynb",
   "output_path": "__notebook__.ipynb",
   "parameters": {},
   "start_time": "2023-12-17T09:33:42.307339",
   "version": "2.4.0"
  }
 },
 "nbformat": 4,
 "nbformat_minor": 5
}
