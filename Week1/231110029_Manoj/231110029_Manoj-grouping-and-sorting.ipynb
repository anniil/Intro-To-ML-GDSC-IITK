{
 "cells": [
  {
   "cell_type": "markdown",
   "id": "77f97e68",
   "metadata": {
    "papermill": {
     "duration": 0.006398,
     "end_time": "2023-12-17T16:56:44.235858",
     "exception": false,
     "start_time": "2023-12-17T16:56:44.229460",
     "status": "completed"
    },
    "tags": []
   },
   "source": [
    "**This notebook is an exercise in the [Pandas](https://www.kaggle.com/learn/pandas) course.  You can reference the tutorial at [this link](https://www.kaggle.com/residentmario/grouping-and-sorting).**\n",
    "\n",
    "---\n"
   ]
  },
  {
   "cell_type": "markdown",
   "id": "a6ee25ee",
   "metadata": {
    "papermill": {
     "duration": 0.005636,
     "end_time": "2023-12-17T16:56:44.247516",
     "exception": false,
     "start_time": "2023-12-17T16:56:44.241880",
     "status": "completed"
    },
    "tags": []
   },
   "source": [
    "# Introduction\n",
    "\n",
    "In these exercises we'll apply groupwise analysis to our dataset.\n",
    "\n",
    "Run the code cell below to load the data before running the exercises."
   ]
  },
  {
   "cell_type": "code",
   "execution_count": 1,
   "id": "5f895862",
   "metadata": {
    "execution": {
     "iopub.execute_input": "2023-12-17T16:56:44.261919Z",
     "iopub.status.busy": "2023-12-17T16:56:44.261269Z",
     "iopub.status.idle": "2023-12-17T16:56:47.732744Z",
     "shell.execute_reply": "2023-12-17T16:56:47.731544Z"
    },
    "papermill": {
     "duration": 3.481716,
     "end_time": "2023-12-17T16:56:47.735096",
     "exception": false,
     "start_time": "2023-12-17T16:56:44.253380",
     "status": "completed"
    },
    "tags": []
   },
   "outputs": [
    {
     "name": "stdout",
     "output_type": "stream",
     "text": [
      "Setup complete.\n"
     ]
    }
   ],
   "source": [
    "import pandas as pd\n",
    "\n",
    "reviews = pd.read_csv(\"../input/wine-reviews/winemag-data-130k-v2.csv\", index_col=0)\n",
    "#pd.set_option(\"display.max_rows\", 5)\n",
    "\n",
    "from learntools.core import binder; binder.bind(globals())\n",
    "from learntools.pandas.grouping_and_sorting import *\n",
    "print(\"Setup complete.\")"
   ]
  },
  {
   "cell_type": "markdown",
   "id": "14e0a604",
   "metadata": {
    "papermill": {
     "duration": 0.006113,
     "end_time": "2023-12-17T16:56:47.747529",
     "exception": false,
     "start_time": "2023-12-17T16:56:47.741416",
     "status": "completed"
    },
    "tags": []
   },
   "source": [
    "# Exercises"
   ]
  },
  {
   "cell_type": "markdown",
   "id": "50f39c9b",
   "metadata": {
    "papermill": {
     "duration": 0.005623,
     "end_time": "2023-12-17T16:56:47.759179",
     "exception": false,
     "start_time": "2023-12-17T16:56:47.753556",
     "status": "completed"
    },
    "tags": []
   },
   "source": [
    "## 1.\n",
    "Who are the most common wine reviewers in the dataset? Create a `Series` whose index is the `taster_twitter_handle` category from the dataset, and whose values count how many reviews each person wrote."
   ]
  },
  {
   "cell_type": "code",
   "execution_count": 2,
   "id": "cf75adc8",
   "metadata": {
    "execution": {
     "iopub.execute_input": "2023-12-17T16:56:47.773911Z",
     "iopub.status.busy": "2023-12-17T16:56:47.772739Z",
     "iopub.status.idle": "2023-12-17T16:56:47.797220Z",
     "shell.execute_reply": "2023-12-17T16:56:47.796005Z"
    },
    "papermill": {
     "duration": 0.034728,
     "end_time": "2023-12-17T16:56:47.799914",
     "exception": false,
     "start_time": "2023-12-17T16:56:47.765186",
     "status": "completed"
    },
    "tags": []
   },
   "outputs": [
    {
     "data": {
      "application/javascript": [
       "parent.postMessage({\"jupyterEvent\": \"custom.exercise_interaction\", \"data\": {\"outcomeType\": 1, \"valueTowardsCompletion\": 0.16666666666666666, \"interactionType\": 1, \"questionType\": 1, \"questionId\": \"1_ReviewsWritten\", \"learnToolsVersion\": \"0.3.4\", \"failureMessage\": \"\", \"exceptionClass\": \"\", \"trace\": \"\"}}, \"*\")"
      ],
      "text/plain": [
       "<IPython.core.display.Javascript object>"
      ]
     },
     "metadata": {},
     "output_type": "display_data"
    },
    {
     "data": {
      "text/markdown": [
       "<span style=\"color:#33cc33\">Correct:</span> \n",
       "\n",
       "\n",
       "```python\n",
       "reviews_written = reviews.groupby('taster_twitter_handle').size()\n",
       "```\n",
       "or\n",
       "```python\n",
       "reviews_written = reviews.groupby('taster_twitter_handle').taster_twitter_handle.count()\n",
       "```\n"
      ],
      "text/plain": [
       "Correct: \n",
       "\n",
       "\n",
       "```python\n",
       "reviews_written = reviews.groupby('taster_twitter_handle').size()\n",
       "```\n",
       "or\n",
       "```python\n",
       "reviews_written = reviews.groupby('taster_twitter_handle').taster_twitter_handle.count()\n",
       "```"
      ]
     },
     "metadata": {},
     "output_type": "display_data"
    }
   ],
   "source": [
    "# Your code here\n",
    "reviews_written = reviews.groupby('taster_twitter_handle').size()\n",
    "# Check your answer\n",
    "q1.check()"
   ]
  },
  {
   "cell_type": "code",
   "execution_count": 3,
   "id": "38ca71fe",
   "metadata": {
    "execution": {
     "iopub.execute_input": "2023-12-17T16:56:47.814799Z",
     "iopub.status.busy": "2023-12-17T16:56:47.814397Z",
     "iopub.status.idle": "2023-12-17T16:56:47.818875Z",
     "shell.execute_reply": "2023-12-17T16:56:47.817814Z"
    },
    "papermill": {
     "duration": 0.014759,
     "end_time": "2023-12-17T16:56:47.821015",
     "exception": false,
     "start_time": "2023-12-17T16:56:47.806256",
     "status": "completed"
    },
    "tags": []
   },
   "outputs": [],
   "source": [
    "# q1.hint()\n",
    "# q1.solution()"
   ]
  },
  {
   "cell_type": "markdown",
   "id": "817af048",
   "metadata": {
    "papermill": {
     "duration": 0.006087,
     "end_time": "2023-12-17T16:56:47.833345",
     "exception": false,
     "start_time": "2023-12-17T16:56:47.827258",
     "status": "completed"
    },
    "tags": []
   },
   "source": [
    "## 2.\n",
    "What is the best wine I can buy for a given amount of money? Create a `Series` whose index is wine prices and whose values is the maximum number of points a wine costing that much was given in a review. Sort the values by price, ascending (so that `4.0` dollars is at the top and `3300.0` dollars is at the bottom)."
   ]
  },
  {
   "cell_type": "code",
   "execution_count": 4,
   "id": "b2ee046b",
   "metadata": {
    "execution": {
     "iopub.execute_input": "2023-12-17T16:56:47.847508Z",
     "iopub.status.busy": "2023-12-17T16:56:47.847154Z",
     "iopub.status.idle": "2023-12-17T16:56:47.861391Z",
     "shell.execute_reply": "2023-12-17T16:56:47.860214Z"
    },
    "papermill": {
     "duration": 0.024162,
     "end_time": "2023-12-17T16:56:47.863788",
     "exception": false,
     "start_time": "2023-12-17T16:56:47.839626",
     "status": "completed"
    },
    "tags": []
   },
   "outputs": [
    {
     "data": {
      "application/javascript": [
       "parent.postMessage({\"jupyterEvent\": \"custom.exercise_interaction\", \"data\": {\"outcomeType\": 1, \"valueTowardsCompletion\": 0.16666666666666666, \"interactionType\": 1, \"questionType\": 1, \"questionId\": \"2_BestRatingPerPrice\", \"learnToolsVersion\": \"0.3.4\", \"failureMessage\": \"\", \"exceptionClass\": \"\", \"trace\": \"\"}}, \"*\")"
      ],
      "text/plain": [
       "<IPython.core.display.Javascript object>"
      ]
     },
     "metadata": {},
     "output_type": "display_data"
    },
    {
     "data": {
      "text/markdown": [
       "<span style=\"color:#33cc33\">Correct</span>"
      ],
      "text/plain": [
       "Correct"
      ]
     },
     "metadata": {},
     "output_type": "display_data"
    }
   ],
   "source": [
    "best_rating_per_price = reviews.groupby('price')['points'].max().sort_index()\n",
    "# Check your answer\n",
    "q2.check()"
   ]
  },
  {
   "cell_type": "code",
   "execution_count": 5,
   "id": "bd92231c",
   "metadata": {
    "execution": {
     "iopub.execute_input": "2023-12-17T16:56:47.879078Z",
     "iopub.status.busy": "2023-12-17T16:56:47.878683Z",
     "iopub.status.idle": "2023-12-17T16:56:47.883342Z",
     "shell.execute_reply": "2023-12-17T16:56:47.882190Z"
    },
    "papermill": {
     "duration": 0.014848,
     "end_time": "2023-12-17T16:56:47.885561",
     "exception": false,
     "start_time": "2023-12-17T16:56:47.870713",
     "status": "completed"
    },
    "tags": []
   },
   "outputs": [],
   "source": [
    "# q2.hint()\n",
    "# q2.solution()"
   ]
  },
  {
   "cell_type": "markdown",
   "id": "76a25b8e",
   "metadata": {
    "papermill": {
     "duration": 0.006707,
     "end_time": "2023-12-17T16:56:47.898794",
     "exception": false,
     "start_time": "2023-12-17T16:56:47.892087",
     "status": "completed"
    },
    "tags": []
   },
   "source": [
    "## 3.\n",
    "What are the minimum and maximum prices for each `variety` of wine? Create a `DataFrame` whose index is the `variety` category from the dataset and whose values are the `min` and `max` values thereof."
   ]
  },
  {
   "cell_type": "code",
   "execution_count": 6,
   "id": "cd5e5d2b",
   "metadata": {
    "execution": {
     "iopub.execute_input": "2023-12-17T16:56:47.913507Z",
     "iopub.status.busy": "2023-12-17T16:56:47.913138Z",
     "iopub.status.idle": "2023-12-17T16:56:47.939065Z",
     "shell.execute_reply": "2023-12-17T16:56:47.938079Z"
    },
    "papermill": {
     "duration": 0.035718,
     "end_time": "2023-12-17T16:56:47.941086",
     "exception": false,
     "start_time": "2023-12-17T16:56:47.905368",
     "status": "completed"
    },
    "tags": []
   },
   "outputs": [
    {
     "data": {
      "application/javascript": [
       "parent.postMessage({\"jupyterEvent\": \"custom.exercise_interaction\", \"data\": {\"outcomeType\": 1, \"valueTowardsCompletion\": 0.16666666666666666, \"interactionType\": 1, \"questionType\": 1, \"questionId\": \"3_PriceExtremes\", \"learnToolsVersion\": \"0.3.4\", \"failureMessage\": \"\", \"exceptionClass\": \"\", \"trace\": \"\"}}, \"*\")"
      ],
      "text/plain": [
       "<IPython.core.display.Javascript object>"
      ]
     },
     "metadata": {},
     "output_type": "display_data"
    },
    {
     "data": {
      "text/markdown": [
       "<span style=\"color:#33cc33\">Correct</span>"
      ],
      "text/plain": [
       "Correct"
      ]
     },
     "metadata": {},
     "output_type": "display_data"
    }
   ],
   "source": [
    "price_extremes = reviews.groupby('variety').price.agg([min, max])\n",
    "\n",
    "# Check your answer\n",
    "q3.check()"
   ]
  },
  {
   "cell_type": "code",
   "execution_count": 7,
   "id": "c94bc48b",
   "metadata": {
    "execution": {
     "iopub.execute_input": "2023-12-17T16:56:47.956769Z",
     "iopub.status.busy": "2023-12-17T16:56:47.956397Z",
     "iopub.status.idle": "2023-12-17T16:56:47.960912Z",
     "shell.execute_reply": "2023-12-17T16:56:47.959841Z"
    },
    "papermill": {
     "duration": 0.015742,
     "end_time": "2023-12-17T16:56:47.963937",
     "exception": false,
     "start_time": "2023-12-17T16:56:47.948195",
     "status": "completed"
    },
    "tags": []
   },
   "outputs": [],
   "source": [
    "# q3.hint()\n",
    "# q3.solution()"
   ]
  },
  {
   "cell_type": "markdown",
   "id": "79d6d194",
   "metadata": {
    "papermill": {
     "duration": 0.007595,
     "end_time": "2023-12-17T16:56:47.978727",
     "exception": false,
     "start_time": "2023-12-17T16:56:47.971132",
     "status": "completed"
    },
    "tags": []
   },
   "source": [
    "## 4.\n",
    "What are the most expensive wine varieties? Create a variable `sorted_varieties` containing a copy of the dataframe from the previous question where varieties are sorted in descending order based on minimum price, then on maximum price (to break ties)."
   ]
  },
  {
   "cell_type": "code",
   "execution_count": 8,
   "id": "dd506691",
   "metadata": {
    "execution": {
     "iopub.execute_input": "2023-12-17T16:56:47.994457Z",
     "iopub.status.busy": "2023-12-17T16:56:47.994055Z",
     "iopub.status.idle": "2023-12-17T16:56:48.004950Z",
     "shell.execute_reply": "2023-12-17T16:56:48.003730Z"
    },
    "papermill": {
     "duration": 0.022012,
     "end_time": "2023-12-17T16:56:48.007583",
     "exception": false,
     "start_time": "2023-12-17T16:56:47.985571",
     "status": "completed"
    },
    "tags": []
   },
   "outputs": [
    {
     "data": {
      "application/javascript": [
       "parent.postMessage({\"jupyterEvent\": \"custom.exercise_interaction\", \"data\": {\"outcomeType\": 1, \"valueTowardsCompletion\": 0.16666666666666666, \"interactionType\": 1, \"questionType\": 1, \"questionId\": \"4_SortedVarieties\", \"learnToolsVersion\": \"0.3.4\", \"failureMessage\": \"\", \"exceptionClass\": \"\", \"trace\": \"\"}}, \"*\")"
      ],
      "text/plain": [
       "<IPython.core.display.Javascript object>"
      ]
     },
     "metadata": {},
     "output_type": "display_data"
    },
    {
     "data": {
      "text/markdown": [
       "<span style=\"color:#33cc33\">Correct</span>"
      ],
      "text/plain": [
       "Correct"
      ]
     },
     "metadata": {},
     "output_type": "display_data"
    }
   ],
   "source": [
    "sorted_varieties = price_extremes.sort_values(by=['min', 'max'], ascending=False)\n",
    "\n",
    "# Check your answer\n",
    "q4.check()"
   ]
  },
  {
   "cell_type": "code",
   "execution_count": 9,
   "id": "9a2c6ffd",
   "metadata": {
    "execution": {
     "iopub.execute_input": "2023-12-17T16:56:48.024382Z",
     "iopub.status.busy": "2023-12-17T16:56:48.023997Z",
     "iopub.status.idle": "2023-12-17T16:56:48.028127Z",
     "shell.execute_reply": "2023-12-17T16:56:48.027136Z"
    },
    "papermill": {
     "duration": 0.014629,
     "end_time": "2023-12-17T16:56:48.030071",
     "exception": false,
     "start_time": "2023-12-17T16:56:48.015442",
     "status": "completed"
    },
    "tags": []
   },
   "outputs": [],
   "source": [
    "# q4.hint()\n",
    "# q4.solution()"
   ]
  },
  {
   "cell_type": "markdown",
   "id": "574cff2d",
   "metadata": {
    "papermill": {
     "duration": 0.006727,
     "end_time": "2023-12-17T16:56:48.044030",
     "exception": false,
     "start_time": "2023-12-17T16:56:48.037303",
     "status": "completed"
    },
    "tags": []
   },
   "source": [
    "## 5.\n",
    "Create a `Series` whose index is reviewers and whose values is the average review score given out by that reviewer. Hint: you will need the `taster_name` and `points` columns."
   ]
  },
  {
   "cell_type": "code",
   "execution_count": 10,
   "id": "ea35e112",
   "metadata": {
    "execution": {
     "iopub.execute_input": "2023-12-17T16:56:48.060206Z",
     "iopub.status.busy": "2023-12-17T16:56:48.059786Z",
     "iopub.status.idle": "2023-12-17T16:56:48.082089Z",
     "shell.execute_reply": "2023-12-17T16:56:48.081070Z"
    },
    "papermill": {
     "duration": 0.033244,
     "end_time": "2023-12-17T16:56:48.084304",
     "exception": false,
     "start_time": "2023-12-17T16:56:48.051060",
     "status": "completed"
    },
    "tags": []
   },
   "outputs": [
    {
     "data": {
      "application/javascript": [
       "parent.postMessage({\"jupyterEvent\": \"custom.exercise_interaction\", \"data\": {\"outcomeType\": 1, \"valueTowardsCompletion\": 0.16666666666666666, \"interactionType\": 1, \"questionType\": 1, \"questionId\": \"5_ReviewerMeanRatings\", \"learnToolsVersion\": \"0.3.4\", \"failureMessage\": \"\", \"exceptionClass\": \"\", \"trace\": \"\"}}, \"*\")"
      ],
      "text/plain": [
       "<IPython.core.display.Javascript object>"
      ]
     },
     "metadata": {},
     "output_type": "display_data"
    },
    {
     "data": {
      "text/markdown": [
       "<span style=\"color:#33cc33\">Correct</span>"
      ],
      "text/plain": [
       "Correct"
      ]
     },
     "metadata": {},
     "output_type": "display_data"
    }
   ],
   "source": [
    "reviewer_mean_ratings = reviews.groupby('taster_name').points.mean()\n",
    "# Check your answer\n",
    "q5.check()"
   ]
  },
  {
   "cell_type": "code",
   "execution_count": 11,
   "id": "d4cfc228",
   "metadata": {
    "execution": {
     "iopub.execute_input": "2023-12-17T16:56:48.101721Z",
     "iopub.status.busy": "2023-12-17T16:56:48.101087Z",
     "iopub.status.idle": "2023-12-17T16:56:48.104536Z",
     "shell.execute_reply": "2023-12-17T16:56:48.103748Z"
    },
    "papermill": {
     "duration": 0.015051,
     "end_time": "2023-12-17T16:56:48.106663",
     "exception": false,
     "start_time": "2023-12-17T16:56:48.091612",
     "status": "completed"
    },
    "tags": []
   },
   "outputs": [],
   "source": [
    "# q5.hint()\n",
    "# q5.solution()"
   ]
  },
  {
   "cell_type": "markdown",
   "id": "31b6182b",
   "metadata": {
    "papermill": {
     "duration": 0.007135,
     "end_time": "2023-12-17T16:56:48.121105",
     "exception": false,
     "start_time": "2023-12-17T16:56:48.113970",
     "status": "completed"
    },
    "tags": []
   },
   "source": [
    "Are there significant differences in the average scores assigned by the various reviewers? Run the cell below to use the `describe()` method to see a summary of the range of values."
   ]
  },
  {
   "cell_type": "code",
   "execution_count": 12,
   "id": "65b00d19",
   "metadata": {
    "execution": {
     "iopub.execute_input": "2023-12-17T16:56:48.137873Z",
     "iopub.status.busy": "2023-12-17T16:56:48.137226Z",
     "iopub.status.idle": "2023-12-17T16:56:48.148986Z",
     "shell.execute_reply": "2023-12-17T16:56:48.147902Z"
    },
    "papermill": {
     "duration": 0.022742,
     "end_time": "2023-12-17T16:56:48.151420",
     "exception": false,
     "start_time": "2023-12-17T16:56:48.128678",
     "status": "completed"
    },
    "tags": []
   },
   "outputs": [
    {
     "data": {
      "text/plain": [
       "count    19.000000\n",
       "mean     88.233026\n",
       "std       1.243610\n",
       "min      85.855422\n",
       "25%      87.323501\n",
       "50%      88.536235\n",
       "75%      88.975256\n",
       "max      90.562551\n",
       "Name: points, dtype: float64"
      ]
     },
     "execution_count": 12,
     "metadata": {},
     "output_type": "execute_result"
    }
   ],
   "source": [
    "reviewer_mean_ratings.describe()"
   ]
  },
  {
   "cell_type": "markdown",
   "id": "d5e9f9ef",
   "metadata": {
    "papermill": {
     "duration": 0.00706,
     "end_time": "2023-12-17T16:56:48.166016",
     "exception": false,
     "start_time": "2023-12-17T16:56:48.158956",
     "status": "completed"
    },
    "tags": []
   },
   "source": [
    "## 6.\n",
    "What combination of countries and varieties are most common? Create a `Series` whose index is a `MultiIndex`of `{country, variety}` pairs. For example, a pinot noir produced in the US should map to `{\"US\", \"Pinot Noir\"}`. Sort the values in the `Series` in descending order based on wine count."
   ]
  },
  {
   "cell_type": "code",
   "execution_count": 13,
   "id": "7bd8e436",
   "metadata": {
    "execution": {
     "iopub.execute_input": "2023-12-17T16:56:48.183688Z",
     "iopub.status.busy": "2023-12-17T16:56:48.182463Z",
     "iopub.status.idle": "2023-12-17T16:56:48.222922Z",
     "shell.execute_reply": "2023-12-17T16:56:48.221739Z"
    },
    "papermill": {
     "duration": 0.051793,
     "end_time": "2023-12-17T16:56:48.225414",
     "exception": false,
     "start_time": "2023-12-17T16:56:48.173621",
     "status": "completed"
    },
    "tags": []
   },
   "outputs": [
    {
     "data": {
      "application/javascript": [
       "parent.postMessage({\"jupyterEvent\": \"custom.exercise_interaction\", \"data\": {\"outcomeType\": 1, \"valueTowardsCompletion\": 0.16666666666666666, \"interactionType\": 1, \"questionType\": 1, \"questionId\": \"6_GroupbyCountryVariety\", \"learnToolsVersion\": \"0.3.4\", \"failureMessage\": \"\", \"exceptionClass\": \"\", \"trace\": \"\"}}, \"*\")"
      ],
      "text/plain": [
       "<IPython.core.display.Javascript object>"
      ]
     },
     "metadata": {},
     "output_type": "display_data"
    },
    {
     "data": {
      "text/markdown": [
       "<span style=\"color:#33cc33\">Correct</span>"
      ],
      "text/plain": [
       "Correct"
      ]
     },
     "metadata": {},
     "output_type": "display_data"
    }
   ],
   "source": [
    "country_variety_counts = reviews.groupby(['country', 'variety']).size().sort_values(ascending=False)\n",
    "\n",
    "# Check your answer\n",
    "q6.check()"
   ]
  },
  {
   "cell_type": "code",
   "execution_count": 14,
   "id": "b01142ad",
   "metadata": {
    "execution": {
     "iopub.execute_input": "2023-12-17T16:56:48.243288Z",
     "iopub.status.busy": "2023-12-17T16:56:48.242598Z",
     "iopub.status.idle": "2023-12-17T16:56:48.246328Z",
     "shell.execute_reply": "2023-12-17T16:56:48.245530Z"
    },
    "papermill": {
     "duration": 0.015411,
     "end_time": "2023-12-17T16:56:48.248850",
     "exception": false,
     "start_time": "2023-12-17T16:56:48.233439",
     "status": "completed"
    },
    "tags": []
   },
   "outputs": [],
   "source": [
    "# q6.hint()\n",
    "# q6.solution()"
   ]
  },
  {
   "cell_type": "markdown",
   "id": "1ae6de09",
   "metadata": {
    "papermill": {
     "duration": 0.007713,
     "end_time": "2023-12-17T16:56:48.264632",
     "exception": false,
     "start_time": "2023-12-17T16:56:48.256919",
     "status": "completed"
    },
    "tags": []
   },
   "source": []
  },
  {
   "cell_type": "markdown",
   "id": "819dc65e",
   "metadata": {
    "papermill": {
     "duration": 0.007355,
     "end_time": "2023-12-17T16:56:48.279622",
     "exception": false,
     "start_time": "2023-12-17T16:56:48.272267",
     "status": "completed"
    },
    "tags": []
   },
   "source": [
    "# Keep going\n",
    "\n",
    "Move on to the [**data types and missing data**](https://www.kaggle.com/residentmario/data-types-and-missing-values)."
   ]
  },
  {
   "cell_type": "markdown",
   "id": "d879bff3",
   "metadata": {
    "papermill": {
     "duration": 0.007158,
     "end_time": "2023-12-17T16:56:48.294261",
     "exception": false,
     "start_time": "2023-12-17T16:56:48.287103",
     "status": "completed"
    },
    "tags": []
   },
   "source": [
    "---\n",
    "\n",
    "\n",
    "\n",
    "\n",
    "*Have questions or comments? Visit the [course discussion forum](https://www.kaggle.com/learn/pandas/discussion) to chat with other learners.*"
   ]
  }
 ],
 "metadata": {
  "kaggle": {
   "accelerator": "none",
   "dataSources": [
    {
     "datasetId": 655,
     "sourceId": 1252,
     "sourceType": "datasetVersion"
    },
    {
     "datasetId": 2321,
     "sourceId": 3919,
     "sourceType": "datasetVersion"
    },
    {
     "datasetId": 2894,
     "sourceId": 4877,
     "sourceType": "datasetVersion"
    },
    {
     "datasetId": 3491,
     "sourceId": 5624,
     "sourceType": "datasetVersion"
    },
    {
     "datasetId": 1442,
     "sourceId": 8172,
     "sourceType": "datasetVersion"
    },
    {
     "datasetId": 9366,
     "sourceId": 13206,
     "sourceType": "datasetVersion"
    },
    {
     "datasetId": 179555,
     "sourceId": 403916,
     "sourceType": "datasetVersion"
    },
    {
     "datasetId": 4549,
     "sourceId": 466349,
     "sourceType": "datasetVersion"
    },
    {
     "datasetId": 2478,
     "sourceId": 1151655,
     "sourceType": "datasetVersion"
    },
    {
     "datasetId": 10128,
     "sourceId": 5438389,
     "sourceType": "datasetVersion"
    }
   ],
   "isGpuEnabled": false,
   "isInternetEnabled": false,
   "language": "python",
   "sourceType": "notebook"
  },
  "kernelspec": {
   "display_name": "Python 3",
   "language": "python",
   "name": "python3"
  },
  "language_info": {
   "codemirror_mode": {
    "name": "ipython",
    "version": 3
   },
   "file_extension": ".py",
   "mimetype": "text/x-python",
   "name": "python",
   "nbconvert_exporter": "python",
   "pygments_lexer": "ipython3",
   "version": "3.10.12"
  },
  "papermill": {
   "default_parameters": {},
   "duration": 7.674067,
   "end_time": "2023-12-17T16:56:48.822398",
   "environment_variables": {},
   "exception": null,
   "input_path": "__notebook__.ipynb",
   "output_path": "__notebook__.ipynb",
   "parameters": {},
   "start_time": "2023-12-17T16:56:41.148331",
   "version": "2.4.0"
  }
 },
 "nbformat": 4,
 "nbformat_minor": 5
}
