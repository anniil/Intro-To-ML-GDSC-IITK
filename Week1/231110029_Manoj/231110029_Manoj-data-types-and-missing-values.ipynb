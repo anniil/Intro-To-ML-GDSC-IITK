{
 "cells": [
  {
   "cell_type": "markdown",
   "id": "13c641bd",
   "metadata": {
    "papermill": {
     "duration": 0.007354,
     "end_time": "2023-12-17T17:00:11.985785",
     "exception": false,
     "start_time": "2023-12-17T17:00:11.978431",
     "status": "completed"
    },
    "tags": []
   },
   "source": [
    "**This notebook is an exercise in the [Pandas](https://www.kaggle.com/learn/pandas) course.  You can reference the tutorial at [this link](https://www.kaggle.com/residentmario/data-types-and-missing-values).**\n",
    "\n",
    "---\n"
   ]
  },
  {
   "cell_type": "markdown",
   "id": "778c549a",
   "metadata": {
    "papermill": {
     "duration": 0.006022,
     "end_time": "2023-12-17T17:00:11.998631",
     "exception": false,
     "start_time": "2023-12-17T17:00:11.992609",
     "status": "completed"
    },
    "tags": []
   },
   "source": [
    "# Introduction\n",
    "\n",
    "Run the following cell to load your data and some utility functions."
   ]
  },
  {
   "cell_type": "code",
   "execution_count": 1,
   "id": "967a6dfc",
   "metadata": {
    "execution": {
     "iopub.execute_input": "2023-12-17T17:00:12.014115Z",
     "iopub.status.busy": "2023-12-17T17:00:12.013147Z",
     "iopub.status.idle": "2023-12-17T17:00:16.319955Z",
     "shell.execute_reply": "2023-12-17T17:00:16.318317Z"
    },
    "papermill": {
     "duration": 4.318602,
     "end_time": "2023-12-17T17:00:16.323611",
     "exception": false,
     "start_time": "2023-12-17T17:00:12.005009",
     "status": "completed"
    },
    "tags": []
   },
   "outputs": [
    {
     "name": "stdout",
     "output_type": "stream",
     "text": [
      "Setup complete.\n"
     ]
    }
   ],
   "source": [
    "import pandas as pd\n",
    "\n",
    "reviews = pd.read_csv(\"../input/wine-reviews/winemag-data-130k-v2.csv\", index_col=0)\n",
    "\n",
    "from learntools.core import binder; binder.bind(globals())\n",
    "from learntools.pandas.data_types_and_missing_data import *\n",
    "print(\"Setup complete.\")"
   ]
  },
  {
   "cell_type": "markdown",
   "id": "806f8270",
   "metadata": {
    "papermill": {
     "duration": 0.006451,
     "end_time": "2023-12-17T17:00:16.337378",
     "exception": false,
     "start_time": "2023-12-17T17:00:16.330927",
     "status": "completed"
    },
    "tags": []
   },
   "source": [
    "# Exercises"
   ]
  },
  {
   "cell_type": "markdown",
   "id": "dbf4591c",
   "metadata": {
    "papermill": {
     "duration": 0.006342,
     "end_time": "2023-12-17T17:00:16.350471",
     "exception": false,
     "start_time": "2023-12-17T17:00:16.344129",
     "status": "completed"
    },
    "tags": []
   },
   "source": [
    "## 1. \n",
    "What is the data type of the `points` column in the dataset?"
   ]
  },
  {
   "cell_type": "code",
   "execution_count": 2,
   "id": "02a1453a",
   "metadata": {
    "execution": {
     "iopub.execute_input": "2023-12-17T17:00:16.365903Z",
     "iopub.status.busy": "2023-12-17T17:00:16.365395Z",
     "iopub.status.idle": "2023-12-17T17:00:16.378416Z",
     "shell.execute_reply": "2023-12-17T17:00:16.377078Z"
    },
    "papermill": {
     "duration": 0.023994,
     "end_time": "2023-12-17T17:00:16.381057",
     "exception": false,
     "start_time": "2023-12-17T17:00:16.357063",
     "status": "completed"
    },
    "tags": []
   },
   "outputs": [
    {
     "data": {
      "application/javascript": [
       "parent.postMessage({\"jupyterEvent\": \"custom.exercise_interaction\", \"data\": {\"outcomeType\": 1, \"valueTowardsCompletion\": 0.25, \"interactionType\": 1, \"questionType\": 1, \"questionId\": \"1_PointsDtype\", \"learnToolsVersion\": \"0.3.4\", \"failureMessage\": \"\", \"exceptionClass\": \"\", \"trace\": \"\"}}, \"*\")"
      ],
      "text/plain": [
       "<IPython.core.display.Javascript object>"
      ]
     },
     "metadata": {},
     "output_type": "display_data"
    },
    {
     "data": {
      "text/markdown": [
       "<span style=\"color:#33cc33\">Correct</span>"
      ],
      "text/plain": [
       "Correct"
      ]
     },
     "metadata": {},
     "output_type": "display_data"
    }
   ],
   "source": [
    "# Your code here\n",
    "dtype = reviews.points.dtype\n",
    "\n",
    "# Check your answer\n",
    "q1.check()"
   ]
  },
  {
   "cell_type": "code",
   "execution_count": 3,
   "id": "722508af",
   "metadata": {
    "execution": {
     "iopub.execute_input": "2023-12-17T17:00:16.397481Z",
     "iopub.status.busy": "2023-12-17T17:00:16.397007Z",
     "iopub.status.idle": "2023-12-17T17:00:16.402382Z",
     "shell.execute_reply": "2023-12-17T17:00:16.401089Z"
    },
    "papermill": {
     "duration": 0.016945,
     "end_time": "2023-12-17T17:00:16.405096",
     "exception": false,
     "start_time": "2023-12-17T17:00:16.388151",
     "status": "completed"
    },
    "tags": []
   },
   "outputs": [],
   "source": [
    "# q1.hint()\n",
    "# q1.solution()"
   ]
  },
  {
   "cell_type": "markdown",
   "id": "33ca8419",
   "metadata": {
    "papermill": {
     "duration": 0.006776,
     "end_time": "2023-12-17T17:00:16.419107",
     "exception": false,
     "start_time": "2023-12-17T17:00:16.412331",
     "status": "completed"
    },
    "tags": []
   },
   "source": [
    "## 2. \n",
    "Create a Series from entries in the `points` column, but convert the entries to strings. Hint: strings are `str` in native Python."
   ]
  },
  {
   "cell_type": "code",
   "execution_count": 4,
   "id": "b28cc823",
   "metadata": {
    "execution": {
     "iopub.execute_input": "2023-12-17T17:00:16.435959Z",
     "iopub.status.busy": "2023-12-17T17:00:16.435385Z",
     "iopub.status.idle": "2023-12-17T17:00:16.551916Z",
     "shell.execute_reply": "2023-12-17T17:00:16.550735Z"
    },
    "papermill": {
     "duration": 0.128167,
     "end_time": "2023-12-17T17:00:16.554522",
     "exception": false,
     "start_time": "2023-12-17T17:00:16.426355",
     "status": "completed"
    },
    "tags": []
   },
   "outputs": [
    {
     "data": {
      "application/javascript": [
       "parent.postMessage({\"jupyterEvent\": \"custom.exercise_interaction\", \"data\": {\"outcomeType\": 1, \"valueTowardsCompletion\": 0.25, \"interactionType\": 1, \"questionType\": 1, \"questionId\": \"2_StrPoints\", \"learnToolsVersion\": \"0.3.4\", \"failureMessage\": \"\", \"exceptionClass\": \"\", \"trace\": \"\"}}, \"*\")"
      ],
      "text/plain": [
       "<IPython.core.display.Javascript object>"
      ]
     },
     "metadata": {},
     "output_type": "display_data"
    },
    {
     "data": {
      "text/markdown": [
       "<span style=\"color:#33cc33\">Correct</span>"
      ],
      "text/plain": [
       "Correct"
      ]
     },
     "metadata": {},
     "output_type": "display_data"
    }
   ],
   "source": [
    "point_strings = reviews.points.astype(str)\n",
    "\n",
    "# Check your answer\n",
    "q2.check()"
   ]
  },
  {
   "cell_type": "code",
   "execution_count": 5,
   "id": "a9bd5b44",
   "metadata": {
    "execution": {
     "iopub.execute_input": "2023-12-17T17:00:16.572022Z",
     "iopub.status.busy": "2023-12-17T17:00:16.570770Z",
     "iopub.status.idle": "2023-12-17T17:00:16.575421Z",
     "shell.execute_reply": "2023-12-17T17:00:16.574565Z"
    },
    "papermill": {
     "duration": 0.016087,
     "end_time": "2023-12-17T17:00:16.577927",
     "exception": false,
     "start_time": "2023-12-17T17:00:16.561840",
     "status": "completed"
    },
    "tags": []
   },
   "outputs": [],
   "source": [
    "# q2.hint()\n",
    "# q2.solution()"
   ]
  },
  {
   "cell_type": "markdown",
   "id": "ff9a4165",
   "metadata": {
    "papermill": {
     "duration": 0.007099,
     "end_time": "2023-12-17T17:00:16.592912",
     "exception": false,
     "start_time": "2023-12-17T17:00:16.585813",
     "status": "completed"
    },
    "tags": []
   },
   "source": [
    "## 3.\n",
    "Sometimes the price column is null. How many reviews in the dataset are missing a price?"
   ]
  },
  {
   "cell_type": "code",
   "execution_count": 6,
   "id": "5b02ddd0",
   "metadata": {
    "execution": {
     "iopub.execute_input": "2023-12-17T17:00:16.610536Z",
     "iopub.status.busy": "2023-12-17T17:00:16.609335Z",
     "iopub.status.idle": "2023-12-17T17:00:16.619446Z",
     "shell.execute_reply": "2023-12-17T17:00:16.618576Z"
    },
    "papermill": {
     "duration": 0.021852,
     "end_time": "2023-12-17T17:00:16.622127",
     "exception": false,
     "start_time": "2023-12-17T17:00:16.600275",
     "status": "completed"
    },
    "tags": []
   },
   "outputs": [
    {
     "data": {
      "application/javascript": [
       "parent.postMessage({\"jupyterEvent\": \"custom.exercise_interaction\", \"data\": {\"outcomeType\": 1, \"valueTowardsCompletion\": 0.25, \"interactionType\": 1, \"questionType\": 1, \"questionId\": \"3_CountMissingPrices\", \"learnToolsVersion\": \"0.3.4\", \"failureMessage\": \"\", \"exceptionClass\": \"\", \"trace\": \"\"}}, \"*\")"
      ],
      "text/plain": [
       "<IPython.core.display.Javascript object>"
      ]
     },
     "metadata": {},
     "output_type": "display_data"
    },
    {
     "data": {
      "text/markdown": [
       "<span style=\"color:#33cc33\">Correct</span>"
      ],
      "text/plain": [
       "Correct"
      ]
     },
     "metadata": {},
     "output_type": "display_data"
    }
   ],
   "source": [
    "n_missing_prices = reviews.price.isnull().sum()\n",
    "\n",
    "# Check your answer\n",
    "q3.check()"
   ]
  },
  {
   "cell_type": "code",
   "execution_count": 7,
   "id": "cda41d82",
   "metadata": {
    "execution": {
     "iopub.execute_input": "2023-12-17T17:00:16.641141Z",
     "iopub.status.busy": "2023-12-17T17:00:16.640326Z",
     "iopub.status.idle": "2023-12-17T17:00:16.645226Z",
     "shell.execute_reply": "2023-12-17T17:00:16.643944Z"
    },
    "papermill": {
     "duration": 0.017788,
     "end_time": "2023-12-17T17:00:16.648163",
     "exception": false,
     "start_time": "2023-12-17T17:00:16.630375",
     "status": "completed"
    },
    "tags": []
   },
   "outputs": [],
   "source": [
    "# q3.hint()\n",
    "# q3.solution()"
   ]
  },
  {
   "cell_type": "markdown",
   "id": "e484106b",
   "metadata": {
    "papermill": {
     "duration": 0.007341,
     "end_time": "2023-12-17T17:00:16.663518",
     "exception": false,
     "start_time": "2023-12-17T17:00:16.656177",
     "status": "completed"
    },
    "tags": []
   },
   "source": [
    "## 4.\n",
    "What are the most common wine-producing regions? Create a Series counting the number of times each value occurs in the `region_1` field. This field is often missing data, so replace missing values with `Unknown`. Sort in descending order.  Your output should look something like this:\n",
    "\n",
    "```\n",
    "Unknown                    21247\n",
    "Napa Valley                 4480\n",
    "                           ...  \n",
    "Bardolino Superiore            1\n",
    "Primitivo del Tarantino        1\n",
    "Name: region_1, Length: 1230, dtype: int64\n",
    "```"
   ]
  },
  {
   "cell_type": "code",
   "execution_count": 8,
   "id": "8b17d187",
   "metadata": {
    "execution": {
     "iopub.execute_input": "2023-12-17T17:00:16.681383Z",
     "iopub.status.busy": "2023-12-17T17:00:16.680363Z",
     "iopub.status.idle": "2023-12-17T17:00:16.768526Z",
     "shell.execute_reply": "2023-12-17T17:00:16.767164Z"
    },
    "papermill": {
     "duration": 0.100796,
     "end_time": "2023-12-17T17:00:16.771864",
     "exception": false,
     "start_time": "2023-12-17T17:00:16.671068",
     "status": "completed"
    },
    "tags": []
   },
   "outputs": [
    {
     "data": {
      "application/javascript": [
       "parent.postMessage({\"jupyterEvent\": \"custom.exercise_interaction\", \"data\": {\"outcomeType\": 1, \"valueTowardsCompletion\": 0.25, \"interactionType\": 1, \"questionType\": 2, \"questionId\": \"4_ReviewsPerRegion\", \"learnToolsVersion\": \"0.3.4\", \"failureMessage\": \"\", \"exceptionClass\": \"\", \"trace\": \"\"}}, \"*\")"
      ],
      "text/plain": [
       "<IPython.core.display.Javascript object>"
      ]
     },
     "metadata": {},
     "output_type": "display_data"
    },
    {
     "data": {
      "text/markdown": [
       "<span style=\"color:#33cc33\">Correct</span>"
      ],
      "text/plain": [
       "Correct"
      ]
     },
     "metadata": {},
     "output_type": "display_data"
    }
   ],
   "source": [
    "reviews_per_region = reviews.region_1.fillna('Unknown').value_counts().sort_values(ascending=False)\n",
    "\n",
    "# Check your answer\n",
    "q4.check()"
   ]
  },
  {
   "cell_type": "code",
   "execution_count": 9,
   "id": "8036fc71",
   "metadata": {
    "execution": {
     "iopub.execute_input": "2023-12-17T17:00:16.790957Z",
     "iopub.status.busy": "2023-12-17T17:00:16.789834Z",
     "iopub.status.idle": "2023-12-17T17:00:16.794916Z",
     "shell.execute_reply": "2023-12-17T17:00:16.793923Z"
    },
    "papermill": {
     "duration": 0.017415,
     "end_time": "2023-12-17T17:00:16.797328",
     "exception": false,
     "start_time": "2023-12-17T17:00:16.779913",
     "status": "completed"
    },
    "tags": []
   },
   "outputs": [],
   "source": [
    "# q4.hint()\n",
    "# q4.solution()"
   ]
  },
  {
   "cell_type": "markdown",
   "id": "3cb7c5b7",
   "metadata": {
    "papermill": {
     "duration": 0.007778,
     "end_time": "2023-12-17T17:00:16.813607",
     "exception": false,
     "start_time": "2023-12-17T17:00:16.805829",
     "status": "completed"
    },
    "tags": []
   },
   "source": [
    "# Keep going\n",
    "\n",
    "Move on to **[renaming and combining](https://www.kaggle.com/residentmario/renaming-and-combining)**."
   ]
  },
  {
   "cell_type": "markdown",
   "id": "52dd960e",
   "metadata": {
    "papermill": {
     "duration": 0.008023,
     "end_time": "2023-12-17T17:00:16.829620",
     "exception": false,
     "start_time": "2023-12-17T17:00:16.821597",
     "status": "completed"
    },
    "tags": []
   },
   "source": [
    "---\n",
    "\n",
    "\n",
    "\n",
    "\n",
    "*Have questions or comments? Visit the [course discussion forum](https://www.kaggle.com/learn/pandas/discussion) to chat with other learners.*"
   ]
  }
 ],
 "metadata": {
  "kaggle": {
   "accelerator": "none",
   "dataSources": [
    {
     "datasetId": 655,
     "sourceId": 1252,
     "sourceType": "datasetVersion"
    },
    {
     "datasetId": 2321,
     "sourceId": 3919,
     "sourceType": "datasetVersion"
    },
    {
     "datasetId": 2894,
     "sourceId": 4877,
     "sourceType": "datasetVersion"
    },
    {
     "datasetId": 3491,
     "sourceId": 5624,
     "sourceType": "datasetVersion"
    },
    {
     "datasetId": 1442,
     "sourceId": 8172,
     "sourceType": "datasetVersion"
    },
    {
     "datasetId": 9366,
     "sourceId": 13206,
     "sourceType": "datasetVersion"
    },
    {
     "datasetId": 179555,
     "sourceId": 403916,
     "sourceType": "datasetVersion"
    },
    {
     "datasetId": 4549,
     "sourceId": 466349,
     "sourceType": "datasetVersion"
    },
    {
     "datasetId": 2478,
     "sourceId": 1151655,
     "sourceType": "datasetVersion"
    },
    {
     "datasetId": 10128,
     "sourceId": 5438389,
     "sourceType": "datasetVersion"
    }
   ],
   "isGpuEnabled": false,
   "isInternetEnabled": false,
   "language": "python",
   "sourceType": "notebook"
  },
  "kernelspec": {
   "display_name": "Python 3",
   "language": "python",
   "name": "python3"
  },
  "language_info": {
   "codemirror_mode": {
    "name": "ipython",
    "version": 3
   },
   "file_extension": ".py",
   "mimetype": "text/x-python",
   "name": "python",
   "nbconvert_exporter": "python",
   "pygments_lexer": "ipython3",
   "version": "3.10.12"
  },
  "papermill": {
   "default_parameters": {},
   "duration": 9.718104,
   "end_time": "2023-12-17T17:00:17.662879",
   "environment_variables": {},
   "exception": null,
   "input_path": "__notebook__.ipynb",
   "output_path": "__notebook__.ipynb",
   "parameters": {},
   "start_time": "2023-12-17T17:00:07.944775",
   "version": "2.4.0"
  }
 },
 "nbformat": 4,
 "nbformat_minor": 5
}
