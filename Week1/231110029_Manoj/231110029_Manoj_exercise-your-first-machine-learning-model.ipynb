{
 "cells": [
  {
   "cell_type": "markdown",
   "id": "735767cf",
   "metadata": {
    "papermill": {
     "duration": 0.005826,
     "end_time": "2023-12-17T09:32:27.734691",
     "exception": false,
     "start_time": "2023-12-17T09:32:27.728865",
     "status": "completed"
    },
    "tags": []
   },
   "source": [
    "**This notebook is an exercise in the [Introduction to Machine Learning](https://www.kaggle.com/learn/intro-to-machine-learning) course.  You can reference the tutorial at [this link](https://www.kaggle.com/dansbecker/your-first-machine-learning-model).**\n",
    "\n",
    "---\n"
   ]
  },
  {
   "cell_type": "markdown",
   "id": "c2a17d40",
   "metadata": {
    "papermill": {
     "duration": 0.004667,
     "end_time": "2023-12-17T09:32:27.744531",
     "exception": false,
     "start_time": "2023-12-17T09:32:27.739864",
     "status": "completed"
    },
    "tags": []
   },
   "source": [
    "## Recap\n",
    "So far, you have loaded your data and reviewed it with the following code. Run this cell to set up your coding environment where the previous step left off."
   ]
  },
  {
   "cell_type": "code",
   "execution_count": 1,
   "id": "25742b0b",
   "metadata": {
    "execution": {
     "iopub.execute_input": "2023-12-17T09:32:27.756313Z",
     "iopub.status.busy": "2023-12-17T09:32:27.755708Z",
     "iopub.status.idle": "2023-12-17T09:32:29.774500Z",
     "shell.execute_reply": "2023-12-17T09:32:29.772951Z"
    },
    "papermill": {
     "duration": 2.027326,
     "end_time": "2023-12-17T09:32:29.776804",
     "exception": false,
     "start_time": "2023-12-17T09:32:27.749478",
     "status": "completed"
    },
    "tags": []
   },
   "outputs": [
    {
     "name": "stdout",
     "output_type": "stream",
     "text": [
      "Setup Complete\n"
     ]
    }
   ],
   "source": [
    "# Code you have previously used to load data\n",
    "import pandas as pd\n",
    "\n",
    "# Path of the file to read\n",
    "iowa_file_path = '../input/home-data-for-ml-course/train.csv'\n",
    "\n",
    "home_data = pd.read_csv(iowa_file_path)\n",
    "\n",
    "# Set up code checking\n",
    "from learntools.core import binder\n",
    "binder.bind(globals())\n",
    "from learntools.machine_learning.ex3 import *\n",
    "\n",
    "print(\"Setup Complete\")"
   ]
  },
  {
   "cell_type": "markdown",
   "id": "0b1ae8cc",
   "metadata": {
    "papermill": {
     "duration": 0.00483,
     "end_time": "2023-12-17T09:32:29.786676",
     "exception": false,
     "start_time": "2023-12-17T09:32:29.781846",
     "status": "completed"
    },
    "tags": []
   },
   "source": [
    "# Exercises\n",
    "\n",
    "## Step 1: Specify Prediction Target\n",
    "Select the target variable, which corresponds to the sales price. Save this to a new variable called `y`. You'll need to print a list of the columns to find the name of the column you need.\n"
   ]
  },
  {
   "cell_type": "code",
   "execution_count": 2,
   "id": "7cc142c5",
   "metadata": {
    "execution": {
     "iopub.execute_input": "2023-12-17T09:32:29.798071Z",
     "iopub.status.busy": "2023-12-17T09:32:29.797670Z",
     "iopub.status.idle": "2023-12-17T09:32:29.803668Z",
     "shell.execute_reply": "2023-12-17T09:32:29.802602Z"
    },
    "papermill": {
     "duration": 0.01439,
     "end_time": "2023-12-17T09:32:29.805982",
     "exception": false,
     "start_time": "2023-12-17T09:32:29.791592",
     "status": "completed"
    },
    "tags": []
   },
   "outputs": [
    {
     "name": "stdout",
     "output_type": "stream",
     "text": [
      "Index(['Id', 'MSSubClass', 'MSZoning', 'LotFrontage', 'LotArea', 'Street',\n",
      "       'Alley', 'LotShape', 'LandContour', 'Utilities', 'LotConfig',\n",
      "       'LandSlope', 'Neighborhood', 'Condition1', 'Condition2', 'BldgType',\n",
      "       'HouseStyle', 'OverallQual', 'OverallCond', 'YearBuilt', 'YearRemodAdd',\n",
      "       'RoofStyle', 'RoofMatl', 'Exterior1st', 'Exterior2nd', 'MasVnrType',\n",
      "       'MasVnrArea', 'ExterQual', 'ExterCond', 'Foundation', 'BsmtQual',\n",
      "       'BsmtCond', 'BsmtExposure', 'BsmtFinType1', 'BsmtFinSF1',\n",
      "       'BsmtFinType2', 'BsmtFinSF2', 'BsmtUnfSF', 'TotalBsmtSF', 'Heating',\n",
      "       'HeatingQC', 'CentralAir', 'Electrical', '1stFlrSF', '2ndFlrSF',\n",
      "       'LowQualFinSF', 'GrLivArea', 'BsmtFullBath', 'BsmtHalfBath', 'FullBath',\n",
      "       'HalfBath', 'BedroomAbvGr', 'KitchenAbvGr', 'KitchenQual',\n",
      "       'TotRmsAbvGrd', 'Functional', 'Fireplaces', 'FireplaceQu', 'GarageType',\n",
      "       'GarageYrBlt', 'GarageFinish', 'GarageCars', 'GarageArea', 'GarageQual',\n",
      "       'GarageCond', 'PavedDrive', 'WoodDeckSF', 'OpenPorchSF',\n",
      "       'EnclosedPorch', '3SsnPorch', 'ScreenPorch', 'PoolArea', 'PoolQC',\n",
      "       'Fence', 'MiscFeature', 'MiscVal', 'MoSold', 'YrSold', 'SaleType',\n",
      "       'SaleCondition', 'SalePrice'],\n",
      "      dtype='object')\n"
     ]
    }
   ],
   "source": [
    "# print the list of columns in the dataset to find the name of the prediction target\n",
    "print(home_data.columns)"
   ]
  },
  {
   "cell_type": "code",
   "execution_count": 3,
   "id": "3d9ce5ab",
   "metadata": {
    "execution": {
     "iopub.execute_input": "2023-12-17T09:32:29.818073Z",
     "iopub.status.busy": "2023-12-17T09:32:29.817652Z",
     "iopub.status.idle": "2023-12-17T09:32:29.832148Z",
     "shell.execute_reply": "2023-12-17T09:32:29.831401Z"
    },
    "papermill": {
     "duration": 0.023036,
     "end_time": "2023-12-17T09:32:29.834302",
     "exception": false,
     "start_time": "2023-12-17T09:32:29.811266",
     "status": "completed"
    },
    "tags": []
   },
   "outputs": [
    {
     "data": {
      "application/javascript": [
       "parent.postMessage({\"jupyterEvent\": \"custom.exercise_interaction\", \"data\": {\"outcomeType\": 1, \"valueTowardsCompletion\": 0.25, \"interactionType\": 1, \"questionType\": 2, \"questionId\": \"1_SetTarget\", \"learnToolsVersion\": \"0.3.4\", \"failureMessage\": \"\", \"exceptionClass\": \"\", \"trace\": \"\"}}, \"*\")"
      ],
      "text/plain": [
       "<IPython.core.display.Javascript object>"
      ]
     },
     "metadata": {},
     "output_type": "display_data"
    },
    {
     "data": {
      "text/markdown": [
       "<span style=\"color:#33cc33\">Correct</span>"
      ],
      "text/plain": [
       "Correct"
      ]
     },
     "metadata": {},
     "output_type": "display_data"
    }
   ],
   "source": [
    "y = home_data.SalePrice\n",
    "\n",
    "# Check your answer\n",
    "step_1.check()"
   ]
  },
  {
   "cell_type": "code",
   "execution_count": 4,
   "id": "b51d8e5f",
   "metadata": {
    "execution": {
     "iopub.execute_input": "2023-12-17T09:32:29.846711Z",
     "iopub.status.busy": "2023-12-17T09:32:29.846314Z",
     "iopub.status.idle": "2023-12-17T09:32:29.850735Z",
     "shell.execute_reply": "2023-12-17T09:32:29.849712Z"
    },
    "papermill": {
     "duration": 0.013129,
     "end_time": "2023-12-17T09:32:29.852755",
     "exception": false,
     "start_time": "2023-12-17T09:32:29.839626",
     "status": "completed"
    },
    "tags": []
   },
   "outputs": [],
   "source": [
    "# The lines below will show you a hint or the solution.\n",
    "# step_1.hint() \n",
    "# step_1.solution()"
   ]
  },
  {
   "cell_type": "markdown",
   "id": "97efcb9e",
   "metadata": {
    "papermill": {
     "duration": 0.005274,
     "end_time": "2023-12-17T09:32:29.863529",
     "exception": false,
     "start_time": "2023-12-17T09:32:29.858255",
     "status": "completed"
    },
    "tags": []
   },
   "source": [
    "## Step 2: Create X\n",
    "Now you will create a DataFrame called `X` holding the predictive features.\n",
    "\n",
    "Since you want only some columns from the original data, you'll first create a list with the names of the columns you want in `X`.\n",
    "\n",
    "You'll use just the following columns in the list (you can copy and paste the whole list to save some typing, though you'll still need to add quotes):\n",
    "  * LotArea\n",
    "  * YearBuilt\n",
    "  * 1stFlrSF\n",
    "  * 2ndFlrSF\n",
    "  * FullBath\n",
    "  * BedroomAbvGr\n",
    "  * TotRmsAbvGrd\n",
    "\n",
    "After you've created that list of features, use it to create the DataFrame that you'll use to fit the model."
   ]
  },
  {
   "cell_type": "code",
   "execution_count": 5,
   "id": "3fe4b8f1",
   "metadata": {
    "execution": {
     "iopub.execute_input": "2023-12-17T09:32:29.876550Z",
     "iopub.status.busy": "2023-12-17T09:32:29.875608Z",
     "iopub.status.idle": "2023-12-17T09:32:29.890772Z",
     "shell.execute_reply": "2023-12-17T09:32:29.890073Z"
    },
    "papermill": {
     "duration": 0.023762,
     "end_time": "2023-12-17T09:32:29.892707",
     "exception": false,
     "start_time": "2023-12-17T09:32:29.868945",
     "status": "completed"
    },
    "tags": []
   },
   "outputs": [
    {
     "data": {
      "application/javascript": [
       "parent.postMessage({\"jupyterEvent\": \"custom.exercise_interaction\", \"data\": {\"outcomeType\": 1, \"valueTowardsCompletion\": 0.25, \"interactionType\": 1, \"questionType\": 2, \"questionId\": \"2_SelectPredictionData\", \"learnToolsVersion\": \"0.3.4\", \"failureMessage\": \"\", \"exceptionClass\": \"\", \"trace\": \"\"}}, \"*\")"
      ],
      "text/plain": [
       "<IPython.core.display.Javascript object>"
      ]
     },
     "metadata": {},
     "output_type": "display_data"
    },
    {
     "data": {
      "text/markdown": [
       "<span style=\"color:#33cc33\">Correct</span>"
      ],
      "text/plain": [
       "Correct"
      ]
     },
     "metadata": {},
     "output_type": "display_data"
    }
   ],
   "source": [
    "# Create the list of features below\n",
    "feature_names = [\"LotArea\", \"YearBuilt\", \"1stFlrSF\", \"2ndFlrSF\", \"FullBath\", \"BedroomAbvGr\", \"TotRmsAbvGrd\"]\n",
    "\n",
    "# Select data corresponding to features in feature_names\n",
    "X = home_data[feature_names]\n",
    "\n",
    "# Check your answer\n",
    "step_2.check()"
   ]
  },
  {
   "cell_type": "code",
   "execution_count": 6,
   "id": "aca05259",
   "metadata": {
    "execution": {
     "iopub.execute_input": "2023-12-17T09:32:29.906562Z",
     "iopub.status.busy": "2023-12-17T09:32:29.905896Z",
     "iopub.status.idle": "2023-12-17T09:32:29.909339Z",
     "shell.execute_reply": "2023-12-17T09:32:29.908658Z"
    },
    "papermill": {
     "duration": 0.012578,
     "end_time": "2023-12-17T09:32:29.911232",
     "exception": false,
     "start_time": "2023-12-17T09:32:29.898654",
     "status": "completed"
    },
    "tags": []
   },
   "outputs": [],
   "source": [
    "# step_2.hint()\n",
    "# step_2.solution()"
   ]
  },
  {
   "cell_type": "markdown",
   "id": "29b83beb",
   "metadata": {
    "papermill": {
     "duration": 0.005446,
     "end_time": "2023-12-17T09:32:29.922377",
     "exception": false,
     "start_time": "2023-12-17T09:32:29.916931",
     "status": "completed"
    },
    "tags": []
   },
   "source": [
    "## Review Data\n",
    "Before building a model, take a quick look at **X** to verify it looks sensible"
   ]
  },
  {
   "cell_type": "code",
   "execution_count": 7,
   "id": "4410a8de",
   "metadata": {
    "execution": {
     "iopub.execute_input": "2023-12-17T09:32:29.935576Z",
     "iopub.status.busy": "2023-12-17T09:32:29.934876Z",
     "iopub.status.idle": "2023-12-17T09:32:29.947761Z",
     "shell.execute_reply": "2023-12-17T09:32:29.947009Z"
    },
    "papermill": {
     "duration": 0.021902,
     "end_time": "2023-12-17T09:32:29.949945",
     "exception": false,
     "start_time": "2023-12-17T09:32:29.928043",
     "status": "completed"
    },
    "tags": []
   },
   "outputs": [
    {
     "name": "stdout",
     "output_type": "stream",
     "text": [
      "<bound method NDFrame.describe of       LotArea  YearBuilt  1stFlrSF  2ndFlrSF  FullBath  BedroomAbvGr  \\\n",
      "0        8450       2003       856       854         2             3   \n",
      "1        9600       1976      1262         0         2             3   \n",
      "2       11250       2001       920       866         2             3   \n",
      "3        9550       1915       961       756         1             3   \n",
      "4       14260       2000      1145      1053         2             4   \n",
      "...       ...        ...       ...       ...       ...           ...   \n",
      "1455     7917       1999       953       694         2             3   \n",
      "1456    13175       1978      2073         0         2             3   \n",
      "1457     9042       1941      1188      1152         2             4   \n",
      "1458     9717       1950      1078         0         1             2   \n",
      "1459     9937       1965      1256         0         1             3   \n",
      "\n",
      "      TotRmsAbvGrd  \n",
      "0                8  \n",
      "1                6  \n",
      "2                6  \n",
      "3                7  \n",
      "4                9  \n",
      "...            ...  \n",
      "1455             7  \n",
      "1456             7  \n",
      "1457             9  \n",
      "1458             5  \n",
      "1459             6  \n",
      "\n",
      "[1460 rows x 7 columns]>\n",
      "<bound method NDFrame.head of       LotArea  YearBuilt  1stFlrSF  2ndFlrSF  FullBath  BedroomAbvGr  \\\n",
      "0        8450       2003       856       854         2             3   \n",
      "1        9600       1976      1262         0         2             3   \n",
      "2       11250       2001       920       866         2             3   \n",
      "3        9550       1915       961       756         1             3   \n",
      "4       14260       2000      1145      1053         2             4   \n",
      "...       ...        ...       ...       ...       ...           ...   \n",
      "1455     7917       1999       953       694         2             3   \n",
      "1456    13175       1978      2073         0         2             3   \n",
      "1457     9042       1941      1188      1152         2             4   \n",
      "1458     9717       1950      1078         0         1             2   \n",
      "1459     9937       1965      1256         0         1             3   \n",
      "\n",
      "      TotRmsAbvGrd  \n",
      "0                8  \n",
      "1                6  \n",
      "2                6  \n",
      "3                7  \n",
      "4                9  \n",
      "...            ...  \n",
      "1455             7  \n",
      "1456             7  \n",
      "1457             9  \n",
      "1458             5  \n",
      "1459             6  \n",
      "\n",
      "[1460 rows x 7 columns]>\n"
     ]
    }
   ],
   "source": [
    "# Review data\n",
    "# print description or statistics from X\n",
    "print(X.describe)\n",
    "\n",
    "# print the top few lines\n",
    "print(X.head)"
   ]
  },
  {
   "cell_type": "markdown",
   "id": "cab81a60",
   "metadata": {
    "papermill": {
     "duration": 0.00557,
     "end_time": "2023-12-17T09:32:29.961342",
     "exception": false,
     "start_time": "2023-12-17T09:32:29.955772",
     "status": "completed"
    },
    "tags": []
   },
   "source": [
    "## Step 3: Specify and Fit Model\n",
    "Create a `DecisionTreeRegressor` and save it iowa_model. Ensure you've done the relevant import from sklearn to run this command.\n",
    "\n",
    "Then fit the model you just created using the data in `X` and `y` that you saved above."
   ]
  },
  {
   "cell_type": "code",
   "execution_count": 8,
   "id": "c7918594",
   "metadata": {
    "execution": {
     "iopub.execute_input": "2023-12-17T09:32:29.974761Z",
     "iopub.status.busy": "2023-12-17T09:32:29.974357Z",
     "iopub.status.idle": "2023-12-17T09:32:29.994433Z",
     "shell.execute_reply": "2023-12-17T09:32:29.993607Z"
    },
    "papermill": {
     "duration": 0.029261,
     "end_time": "2023-12-17T09:32:29.996252",
     "exception": false,
     "start_time": "2023-12-17T09:32:29.966991",
     "status": "completed"
    },
    "tags": []
   },
   "outputs": [
    {
     "data": {
      "application/javascript": [
       "parent.postMessage({\"jupyterEvent\": \"custom.exercise_interaction\", \"data\": {\"outcomeType\": 1, \"valueTowardsCompletion\": 0.25, \"interactionType\": 1, \"questionType\": 2, \"questionId\": \"3_CreateModel\", \"learnToolsVersion\": \"0.3.4\", \"failureMessage\": \"\", \"exceptionClass\": \"\", \"trace\": \"\"}}, \"*\")"
      ],
      "text/plain": [
       "<IPython.core.display.Javascript object>"
      ]
     },
     "metadata": {},
     "output_type": "display_data"
    },
    {
     "data": {
      "text/markdown": [
       "<span style=\"color:#33cc33\">Correct</span>"
      ],
      "text/plain": [
       "Correct"
      ]
     },
     "metadata": {},
     "output_type": "display_data"
    }
   ],
   "source": [
    "from sklearn.tree import DecisionTreeRegressor\n",
    "#specify the model. \n",
    "#For model reproducibility, set a numeric value for random_state when specifying the model\n",
    "iowa_model = DecisionTreeRegressor(random_state = 1)\n",
    "\n",
    "# Fit the model\n",
    "iowa_model.fit(X,y)\n",
    "\n",
    "# Check your answer\n",
    "step_3.check()"
   ]
  },
  {
   "cell_type": "code",
   "execution_count": 9,
   "id": "da4a281f",
   "metadata": {
    "execution": {
     "iopub.execute_input": "2023-12-17T09:32:30.010289Z",
     "iopub.status.busy": "2023-12-17T09:32:30.009647Z",
     "iopub.status.idle": "2023-12-17T09:32:30.013715Z",
     "shell.execute_reply": "2023-12-17T09:32:30.012788Z"
    },
    "papermill": {
     "duration": 0.013229,
     "end_time": "2023-12-17T09:32:30.015531",
     "exception": false,
     "start_time": "2023-12-17T09:32:30.002302",
     "status": "completed"
    },
    "tags": []
   },
   "outputs": [],
   "source": [
    "# step_3.hint()\n",
    "# step_3.solution()"
   ]
  },
  {
   "cell_type": "markdown",
   "id": "df246ee9",
   "metadata": {
    "papermill": {
     "duration": 0.005805,
     "end_time": "2023-12-17T09:32:30.027447",
     "exception": false,
     "start_time": "2023-12-17T09:32:30.021642",
     "status": "completed"
    },
    "tags": []
   },
   "source": [
    "## Step 4: Make Predictions\n",
    "Make predictions with the model's `predict` command using `X` as the data. Save the results to a variable called `predictions`."
   ]
  },
  {
   "cell_type": "code",
   "execution_count": 10,
   "id": "da3f8c81",
   "metadata": {
    "execution": {
     "iopub.execute_input": "2023-12-17T09:32:30.041673Z",
     "iopub.status.busy": "2023-12-17T09:32:30.040925Z",
     "iopub.status.idle": "2023-12-17T09:32:30.054823Z",
     "shell.execute_reply": "2023-12-17T09:32:30.053725Z"
    },
    "papermill": {
     "duration": 0.023411,
     "end_time": "2023-12-17T09:32:30.056961",
     "exception": false,
     "start_time": "2023-12-17T09:32:30.033550",
     "status": "completed"
    },
    "tags": []
   },
   "outputs": [
    {
     "name": "stdout",
     "output_type": "stream",
     "text": [
      "[208500. 181500. 223500. ... 266500. 142125. 147500.]\n"
     ]
    },
    {
     "data": {
      "application/javascript": [
       "parent.postMessage({\"jupyterEvent\": \"custom.exercise_interaction\", \"data\": {\"outcomeType\": 1, \"valueTowardsCompletion\": 0.25, \"interactionType\": 1, \"questionType\": 2, \"questionId\": \"4_MakePredictions\", \"learnToolsVersion\": \"0.3.4\", \"failureMessage\": \"\", \"exceptionClass\": \"\", \"trace\": \"\"}}, \"*\")"
      ],
      "text/plain": [
       "<IPython.core.display.Javascript object>"
      ]
     },
     "metadata": {},
     "output_type": "display_data"
    },
    {
     "data": {
      "text/markdown": [
       "<span style=\"color:#33cc33\">Correct</span>"
      ],
      "text/plain": [
       "Correct"
      ]
     },
     "metadata": {},
     "output_type": "display_data"
    }
   ],
   "source": [
    "predictions = iowa_model.predict(X)\n",
    "print(predictions)\n",
    "\n",
    "# Check your answer\n",
    "step_4.check()"
   ]
  },
  {
   "cell_type": "code",
   "execution_count": 11,
   "id": "d91b4727",
   "metadata": {
    "execution": {
     "iopub.execute_input": "2023-12-17T09:32:30.071737Z",
     "iopub.status.busy": "2023-12-17T09:32:30.070956Z",
     "iopub.status.idle": "2023-12-17T09:32:30.075672Z",
     "shell.execute_reply": "2023-12-17T09:32:30.074554Z"
    },
    "papermill": {
     "duration": 0.014905,
     "end_time": "2023-12-17T09:32:30.078169",
     "exception": false,
     "start_time": "2023-12-17T09:32:30.063264",
     "status": "completed"
    },
    "tags": []
   },
   "outputs": [],
   "source": [
    "# step_4.hint()\n",
    "# step_4.solution()"
   ]
  },
  {
   "cell_type": "markdown",
   "id": "c5329409",
   "metadata": {
    "papermill": {
     "duration": 0.006226,
     "end_time": "2023-12-17T09:32:30.090824",
     "exception": false,
     "start_time": "2023-12-17T09:32:30.084598",
     "status": "completed"
    },
    "tags": []
   },
   "source": [
    "## Think About Your Results\n",
    "\n",
    "Use the `head` method to compare the top few predictions to the actual home values (in `y`) for those same homes. Anything surprising?\n"
   ]
  },
  {
   "cell_type": "code",
   "execution_count": 12,
   "id": "98ce6508",
   "metadata": {
    "execution": {
     "iopub.execute_input": "2023-12-17T09:32:30.105158Z",
     "iopub.status.busy": "2023-12-17T09:32:30.104762Z",
     "iopub.status.idle": "2023-12-17T09:32:30.109010Z",
     "shell.execute_reply": "2023-12-17T09:32:30.107890Z"
    },
    "papermill": {
     "duration": 0.014086,
     "end_time": "2023-12-17T09:32:30.111198",
     "exception": false,
     "start_time": "2023-12-17T09:32:30.097112",
     "status": "completed"
    },
    "tags": []
   },
   "outputs": [],
   "source": [
    "# You can write code in this cell\n"
   ]
  },
  {
   "cell_type": "markdown",
   "id": "464307e0",
   "metadata": {
    "papermill": {
     "duration": 0.006088,
     "end_time": "2023-12-17T09:32:30.123736",
     "exception": false,
     "start_time": "2023-12-17T09:32:30.117648",
     "status": "completed"
    },
    "tags": []
   },
   "source": [
    "It's natural to ask how accurate the model's predictions will be and how you can improve that. That will be you're next step.\n",
    "\n",
    "# Keep Going\n",
    "\n",
    "You are ready for **[Model Validation](https://www.kaggle.com/dansbecker/model-validation).**\n"
   ]
  },
  {
   "cell_type": "markdown",
   "id": "1ba5b9c7",
   "metadata": {
    "papermill": {
     "duration": 0.006104,
     "end_time": "2023-12-17T09:32:30.136517",
     "exception": false,
     "start_time": "2023-12-17T09:32:30.130413",
     "status": "completed"
    },
    "tags": []
   },
   "source": [
    "---\n",
    "\n",
    "\n",
    "\n",
    "\n",
    "*Have questions or comments? Visit the [course discussion forum](https://www.kaggle.com/learn/intro-to-machine-learning/discussion) to chat with other learners.*"
   ]
  }
 ],
 "metadata": {
  "kaggle": {
   "accelerator": "none",
   "dataSources": [
    {
     "databundleVersionId": 111096,
     "sourceId": 10211,
     "sourceType": "competition"
    },
    {
     "datasetId": 11167,
     "sourceId": 15520,
     "sourceType": "datasetVersion"
    },
    {
     "datasetId": 2709,
     "sourceId": 38454,
     "sourceType": "datasetVersion"
    }
   ],
   "isGpuEnabled": false,
   "isInternetEnabled": false,
   "language": "python",
   "sourceType": "notebook"
  },
  "kernelspec": {
   "display_name": "Python 3",
   "language": "python",
   "name": "python3"
  },
  "language_info": {
   "codemirror_mode": {
    "name": "ipython",
    "version": 3
   },
   "file_extension": ".py",
   "mimetype": "text/x-python",
   "name": "python",
   "nbconvert_exporter": "python",
   "pygments_lexer": "ipython3",
   "version": "3.10.12"
  },
  "papermill": {
   "default_parameters": {},
   "duration": 6.033121,
   "end_time": "2023-12-17T09:32:30.765183",
   "environment_variables": {},
   "exception": null,
   "input_path": "__notebook__.ipynb",
   "output_path": "__notebook__.ipynb",
   "parameters": {},
   "start_time": "2023-12-17T09:32:24.732062",
   "version": "2.4.0"
  }
 },
 "nbformat": 4,
 "nbformat_minor": 5
}
