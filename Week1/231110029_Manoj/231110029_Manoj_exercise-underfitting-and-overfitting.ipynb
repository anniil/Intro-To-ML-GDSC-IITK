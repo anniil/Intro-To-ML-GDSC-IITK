{
 "cells": [
  {
   "cell_type": "markdown",
   "id": "08c7025b",
   "metadata": {
    "papermill": {
     "duration": 0.005009,
     "end_time": "2023-12-17T09:26:55.716667",
     "exception": false,
     "start_time": "2023-12-17T09:26:55.711658",
     "status": "completed"
    },
    "tags": []
   },
   "source": [
    "**This notebook is an exercise in the [Introduction to Machine Learning](https://www.kaggle.com/learn/intro-to-machine-learning) course.  You can reference the tutorial at [this link](https://www.kaggle.com/dansbecker/underfitting-and-overfitting).**\n",
    "\n",
    "---\n"
   ]
  },
  {
   "cell_type": "markdown",
   "id": "adbeef08",
   "metadata": {
    "papermill": {
     "duration": 0.00431,
     "end_time": "2023-12-17T09:26:55.725882",
     "exception": false,
     "start_time": "2023-12-17T09:26:55.721572",
     "status": "completed"
    },
    "tags": []
   },
   "source": [
    "## Recap\n",
    "You've built your first model, and now it's time to optimize the size of the tree to make better predictions. Run this cell to set up your coding environment where the previous step left off."
   ]
  },
  {
   "cell_type": "code",
   "execution_count": 1,
   "id": "225afd66",
   "metadata": {
    "execution": {
     "iopub.execute_input": "2023-12-17T09:26:55.736786Z",
     "iopub.status.busy": "2023-12-17T09:26:55.736367Z",
     "iopub.status.idle": "2023-12-17T09:26:58.082004Z",
     "shell.execute_reply": "2023-12-17T09:26:58.080819Z"
    },
    "papermill": {
     "duration": 2.35423,
     "end_time": "2023-12-17T09:26:58.084693",
     "exception": false,
     "start_time": "2023-12-17T09:26:55.730463",
     "status": "completed"
    },
    "tags": []
   },
   "outputs": [
    {
     "name": "stdout",
     "output_type": "stream",
     "text": [
      "Validation MAE: 29,653\n",
      "\n",
      "Setup complete\n"
     ]
    }
   ],
   "source": [
    "# Code you have previously used to load data\n",
    "import pandas as pd\n",
    "from sklearn.metrics import mean_absolute_error\n",
    "from sklearn.model_selection import train_test_split\n",
    "from sklearn.tree import DecisionTreeRegressor\n",
    "\n",
    "\n",
    "# Path of the file to read\n",
    "iowa_file_path = '../input/home-data-for-ml-course/train.csv'\n",
    "\n",
    "home_data = pd.read_csv(iowa_file_path)\n",
    "# Create target object and call it y\n",
    "y = home_data.SalePrice\n",
    "# Create X\n",
    "features = ['LotArea', 'YearBuilt', '1stFlrSF', '2ndFlrSF', 'FullBath', 'BedroomAbvGr', 'TotRmsAbvGrd']\n",
    "X = home_data[features]\n",
    "\n",
    "# Split into validation and training data\n",
    "train_X, val_X, train_y, val_y = train_test_split(X, y, random_state=1)\n",
    "\n",
    "# Specify Model\n",
    "iowa_model = DecisionTreeRegressor(random_state=1)\n",
    "# Fit Model\n",
    "iowa_model.fit(train_X, train_y)\n",
    "\n",
    "# Make validation predictions and calculate mean absolute error\n",
    "val_predictions = iowa_model.predict(val_X)\n",
    "val_mae = mean_absolute_error(val_predictions, val_y)\n",
    "print(\"Validation MAE: {:,.0f}\".format(val_mae))\n",
    "\n",
    "# Set up code checking\n",
    "from learntools.core import binder\n",
    "binder.bind(globals())\n",
    "from learntools.machine_learning.ex5 import *\n",
    "print(\"\\nSetup complete\")"
   ]
  },
  {
   "cell_type": "markdown",
   "id": "08ad9294",
   "metadata": {
    "papermill": {
     "duration": 0.004785,
     "end_time": "2023-12-17T09:26:58.094889",
     "exception": false,
     "start_time": "2023-12-17T09:26:58.090104",
     "status": "completed"
    },
    "tags": []
   },
   "source": [
    "# Exercises\n",
    "You could write the function `get_mae` yourself. For now, we'll supply it. This is the same function you read about in the previous lesson. Just run the cell below."
   ]
  },
  {
   "cell_type": "code",
   "execution_count": 2,
   "id": "c7c74f42",
   "metadata": {
    "execution": {
     "iopub.execute_input": "2023-12-17T09:26:58.106778Z",
     "iopub.status.busy": "2023-12-17T09:26:58.106351Z",
     "iopub.status.idle": "2023-12-17T09:26:58.113041Z",
     "shell.execute_reply": "2023-12-17T09:26:58.111734Z"
    },
    "papermill": {
     "duration": 0.01563,
     "end_time": "2023-12-17T09:26:58.115435",
     "exception": false,
     "start_time": "2023-12-17T09:26:58.099805",
     "status": "completed"
    },
    "tags": []
   },
   "outputs": [],
   "source": [
    "def get_mae(max_leaf_nodes, train_X, val_X, train_y, val_y):\n",
    "    model = DecisionTreeRegressor(max_leaf_nodes=max_leaf_nodes, random_state=0)\n",
    "    model.fit(train_X, train_y)\n",
    "    preds_val = model.predict(val_X)\n",
    "    mae = mean_absolute_error(val_y, preds_val)\n",
    "    return(mae)"
   ]
  },
  {
   "cell_type": "markdown",
   "id": "b834776e",
   "metadata": {
    "papermill": {
     "duration": 0.004565,
     "end_time": "2023-12-17T09:26:58.124892",
     "exception": false,
     "start_time": "2023-12-17T09:26:58.120327",
     "status": "completed"
    },
    "tags": []
   },
   "source": [
    "## Step 1: Compare Different Tree Sizes\n",
    "Write a loop that tries the following values for *max_leaf_nodes* from a set of possible values.\n",
    "\n",
    "Call the *get_mae* function on each value of max_leaf_nodes. Store the output in some way that allows you to select the value of `max_leaf_nodes` that gives the most accurate model on your data."
   ]
  },
  {
   "cell_type": "code",
   "execution_count": 3,
   "id": "f5eda3af",
   "metadata": {
    "execution": {
     "iopub.execute_input": "2023-12-17T09:26:58.136372Z",
     "iopub.status.busy": "2023-12-17T09:26:58.135967Z",
     "iopub.status.idle": "2023-12-17T09:26:58.189358Z",
     "shell.execute_reply": "2023-12-17T09:26:58.188575Z"
    },
    "papermill": {
     "duration": 0.061811,
     "end_time": "2023-12-17T09:26:58.191637",
     "exception": false,
     "start_time": "2023-12-17T09:26:58.129826",
     "status": "completed"
    },
    "tags": []
   },
   "outputs": [
    {
     "data": {
      "application/javascript": [
       "parent.postMessage({\"jupyterEvent\": \"custom.exercise_interaction\", \"data\": {\"outcomeType\": 1, \"valueTowardsCompletion\": 0.5, \"interactionType\": 1, \"questionType\": 1, \"questionId\": \"1_BestTreeSize\", \"learnToolsVersion\": \"0.3.4\", \"failureMessage\": \"\", \"exceptionClass\": \"\", \"trace\": \"\"}}, \"*\")"
      ],
      "text/plain": [
       "<IPython.core.display.Javascript object>"
      ]
     },
     "metadata": {},
     "output_type": "display_data"
    },
    {
     "data": {
      "text/markdown": [
       "<span style=\"color:#33cc33\">Correct</span>"
      ],
      "text/plain": [
       "Correct"
      ]
     },
     "metadata": {},
     "output_type": "display_data"
    }
   ],
   "source": [
    "candidate_max_leaf_nodes = [5, 25, 50, 100, 250, 500]\n",
    "# Write loop to find the ideal tree size from candidate_max_leaf_nodes\n",
    "k = []\n",
    "for i in candidate_max_leaf_nodes:\n",
    "    k.append(get_mae(i, train_X, val_X, train_y, val_y))\n",
    "\n",
    "# Store the best value of max_leaf_nodes (it will be either 5, 25, 50, 100, 250 or 500)\n",
    "best_tree_size = candidate_max_leaf_nodes[k.index(min(k))]\n",
    "\n",
    "# Check your answer\n",
    "step_1.check()"
   ]
  },
  {
   "cell_type": "code",
   "execution_count": 4,
   "id": "87f43e59",
   "metadata": {
    "execution": {
     "iopub.execute_input": "2023-12-17T09:26:58.204494Z",
     "iopub.status.busy": "2023-12-17T09:26:58.203420Z",
     "iopub.status.idle": "2023-12-17T09:26:58.207874Z",
     "shell.execute_reply": "2023-12-17T09:26:58.206876Z"
    },
    "papermill": {
     "duration": 0.013451,
     "end_time": "2023-12-17T09:26:58.210261",
     "exception": false,
     "start_time": "2023-12-17T09:26:58.196810",
     "status": "completed"
    },
    "tags": []
   },
   "outputs": [],
   "source": [
    "# The lines below will show you a hint or the solution.\n",
    "# step_1.hint() \n",
    "# step_1.solution()"
   ]
  },
  {
   "cell_type": "markdown",
   "id": "c6119ade",
   "metadata": {
    "papermill": {
     "duration": 0.005022,
     "end_time": "2023-12-17T09:26:58.220462",
     "exception": false,
     "start_time": "2023-12-17T09:26:58.215440",
     "status": "completed"
    },
    "tags": []
   },
   "source": [
    "## Step 2: Fit Model Using All Data\n",
    "You know the best tree size. If you were going to deploy this model in practice, you would make it even more accurate by using all of the data and keeping that tree size.  That is, you don't need to hold out the validation data now that you've made all your modeling decisions."
   ]
  },
  {
   "cell_type": "code",
   "execution_count": 5,
   "id": "b51479af",
   "metadata": {
    "execution": {
     "iopub.execute_input": "2023-12-17T09:26:58.232701Z",
     "iopub.status.busy": "2023-12-17T09:26:58.232298Z",
     "iopub.status.idle": "2023-12-17T09:26:58.252536Z",
     "shell.execute_reply": "2023-12-17T09:26:58.251288Z"
    },
    "papermill": {
     "duration": 0.029227,
     "end_time": "2023-12-17T09:26:58.254871",
     "exception": false,
     "start_time": "2023-12-17T09:26:58.225644",
     "status": "completed"
    },
    "tags": []
   },
   "outputs": [
    {
     "data": {
      "application/javascript": [
       "parent.postMessage({\"jupyterEvent\": \"custom.exercise_interaction\", \"data\": {\"outcomeType\": 1, \"valueTowardsCompletion\": 0.5, \"interactionType\": 1, \"questionType\": 2, \"questionId\": \"2_FitModelWithAllData\", \"learnToolsVersion\": \"0.3.4\", \"failureMessage\": \"\", \"exceptionClass\": \"\", \"trace\": \"\"}}, \"*\")"
      ],
      "text/plain": [
       "<IPython.core.display.Javascript object>"
      ]
     },
     "metadata": {},
     "output_type": "display_data"
    },
    {
     "data": {
      "text/markdown": [
       "<span style=\"color:#33cc33\">Correct</span>"
      ],
      "text/plain": [
       "Correct"
      ]
     },
     "metadata": {},
     "output_type": "display_data"
    }
   ],
   "source": [
    "# Fill in argument to make optimal size and uncomment\n",
    "final_model = DecisionTreeRegressor(max_leaf_nodes = best_tree_size, random_state = 1)\n",
    "\n",
    "# fit the final model and uncomment the next two lines\n",
    "final_model.fit(X, y)\n",
    "\n",
    "# Check your answer\n",
    "step_2.check()"
   ]
  },
  {
   "cell_type": "code",
   "execution_count": 6,
   "id": "bd75cf12",
   "metadata": {
    "execution": {
     "iopub.execute_input": "2023-12-17T09:26:58.267977Z",
     "iopub.status.busy": "2023-12-17T09:26:58.267534Z",
     "iopub.status.idle": "2023-12-17T09:26:58.272379Z",
     "shell.execute_reply": "2023-12-17T09:26:58.271201Z"
    },
    "papermill": {
     "duration": 0.01428,
     "end_time": "2023-12-17T09:26:58.274881",
     "exception": false,
     "start_time": "2023-12-17T09:26:58.260601",
     "status": "completed"
    },
    "tags": []
   },
   "outputs": [],
   "source": [
    "# step_2.hint()\n",
    "# step_2.solution()"
   ]
  },
  {
   "cell_type": "markdown",
   "id": "5e21167e",
   "metadata": {
    "papermill": {
     "duration": 0.005291,
     "end_time": "2023-12-17T09:26:58.286003",
     "exception": false,
     "start_time": "2023-12-17T09:26:58.280712",
     "status": "completed"
    },
    "tags": []
   },
   "source": [
    "You've tuned this model and improved your results. But we are still using Decision Tree models, which are not very sophisticated by modern machine learning standards. In the next step you will learn to use Random Forests to improve your models even more.\n",
    "\n",
    "# Keep Going\n",
    "\n",
    "You are ready for **[Random Forests](https://www.kaggle.com/dansbecker/random-forests).**\n"
   ]
  },
  {
   "cell_type": "markdown",
   "id": "1b3af22f",
   "metadata": {
    "papermill": {
     "duration": 0.005372,
     "end_time": "2023-12-17T09:26:58.297247",
     "exception": false,
     "start_time": "2023-12-17T09:26:58.291875",
     "status": "completed"
    },
    "tags": []
   },
   "source": [
    "---\n",
    "\n",
    "\n",
    "\n",
    "\n",
    "*Have questions or comments? Visit the [course discussion forum](https://www.kaggle.com/learn/intro-to-machine-learning/discussion) to chat with other learners.*"
   ]
  }
 ],
 "metadata": {
  "kaggle": {
   "accelerator": "none",
   "dataSources": [
    {
     "databundleVersionId": 111096,
     "sourceId": 10211,
     "sourceType": "competition"
    },
    {
     "datasetId": 11167,
     "sourceId": 15520,
     "sourceType": "datasetVersion"
    },
    {
     "datasetId": 2709,
     "sourceId": 38454,
     "sourceType": "datasetVersion"
    }
   ],
   "isGpuEnabled": false,
   "isInternetEnabled": false,
   "language": "python",
   "sourceType": "notebook"
  },
  "kernelspec": {
   "display_name": "Python 3",
   "language": "python",
   "name": "python3"
  },
  "language_info": {
   "codemirror_mode": {
    "name": "ipython",
    "version": 3
   },
   "file_extension": ".py",
   "mimetype": "text/x-python",
   "name": "python",
   "nbconvert_exporter": "python",
   "pygments_lexer": "ipython3",
   "version": "3.10.12"
  },
  "papermill": {
   "default_parameters": {},
   "duration": 6.857902,
   "end_time": "2023-12-17T09:26:59.025187",
   "environment_variables": {},
   "exception": null,
   "input_path": "__notebook__.ipynb",
   "output_path": "__notebook__.ipynb",
   "parameters": {},
   "start_time": "2023-12-17T09:26:52.167285",
   "version": "2.4.0"
  }
 },
 "nbformat": 4,
 "nbformat_minor": 5
}
