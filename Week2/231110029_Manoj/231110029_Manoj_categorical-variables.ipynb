{
 "cells": [
  {
   "cell_type": "markdown",
   "id": "af517938",
   "metadata": {
    "papermill": {
     "duration": 0.014182,
     "end_time": "2023-12-24T15:58:38.448358",
     "exception": false,
     "start_time": "2023-12-24T15:58:38.434176",
     "status": "completed"
    },
    "tags": []
   },
   "source": [
    "**This notebook is an exercise in the [Intermediate Machine Learning](https://www.kaggle.com/learn/intermediate-machine-learning) course.  You can reference the tutorial at [this link](https://www.kaggle.com/alexisbcook/categorical-variables).**\n",
    "\n",
    "---\n"
   ]
  },
  {
   "cell_type": "markdown",
   "id": "babe1feb",
   "metadata": {
    "papermill": {
     "duration": 0.012182,
     "end_time": "2023-12-24T15:58:38.474113",
     "exception": false,
     "start_time": "2023-12-24T15:58:38.461931",
     "status": "completed"
    },
    "tags": []
   },
   "source": [
    "By encoding **categorical variables**, you'll obtain your best results thus far!\n",
    "\n",
    "# Setup\n",
    "\n",
    "The questions below will give you feedback on your work. Run the following cell to set up the feedback system."
   ]
  },
  {
   "cell_type": "code",
   "execution_count": 1,
   "id": "7dae0c4f",
   "metadata": {
    "execution": {
     "iopub.execute_input": "2023-12-24T15:58:38.500896Z",
     "iopub.status.busy": "2023-12-24T15:58:38.500400Z",
     "iopub.status.idle": "2023-12-24T15:58:38.958708Z",
     "shell.execute_reply": "2023-12-24T15:58:38.957417Z"
    },
    "papermill": {
     "duration": 0.474691,
     "end_time": "2023-12-24T15:58:38.961289",
     "exception": false,
     "start_time": "2023-12-24T15:58:38.486598",
     "status": "completed"
    },
    "tags": []
   },
   "outputs": [
    {
     "name": "stdout",
     "output_type": "stream",
     "text": [
      "Setup Complete\n"
     ]
    }
   ],
   "source": [
    "# Set up code checking\n",
    "import os\n",
    "if not os.path.exists(\"../input/train.csv\"):\n",
    "    os.symlink(\"../input/home-data-for-ml-course/train.csv\", \"../input/train.csv\")  \n",
    "    os.symlink(\"../input/home-data-for-ml-course/test.csv\", \"../input/test.csv\") \n",
    "from learntools.core import binder\n",
    "binder.bind(globals())\n",
    "from learntools.ml_intermediate.ex3 import *\n",
    "print(\"Setup Complete\")"
   ]
  },
  {
   "cell_type": "markdown",
   "id": "edbc50dd",
   "metadata": {
    "papermill": {
     "duration": 0.012408,
     "end_time": "2023-12-24T15:58:38.986332",
     "exception": false,
     "start_time": "2023-12-24T15:58:38.973924",
     "status": "completed"
    },
    "tags": []
   },
   "source": [
    "In this exercise, you will work with data from the [Housing Prices Competition for Kaggle Learn Users](https://www.kaggle.com/c/home-data-for-ml-course). \n",
    "\n",
    "![Ames Housing dataset image](https://storage.googleapis.com/kaggle-media/learn/images/lTJVG4e.png)\n",
    "\n",
    "Run the next code cell without changes to load the training and validation sets in `X_train`, `X_valid`, `y_train`, and `y_valid`.  The test set is loaded in `X_test`."
   ]
  },
  {
   "cell_type": "code",
   "execution_count": 2,
   "id": "a2c78fa5",
   "metadata": {
    "execution": {
     "iopub.execute_input": "2023-12-24T15:58:39.014084Z",
     "iopub.status.busy": "2023-12-24T15:58:39.013525Z",
     "iopub.status.idle": "2023-12-24T15:58:40.405448Z",
     "shell.execute_reply": "2023-12-24T15:58:40.404333Z"
    },
    "papermill": {
     "duration": 1.408798,
     "end_time": "2023-12-24T15:58:40.408050",
     "exception": false,
     "start_time": "2023-12-24T15:58:38.999252",
     "status": "completed"
    },
    "tags": []
   },
   "outputs": [],
   "source": [
    "import pandas as pd\n",
    "from sklearn.model_selection import train_test_split\n",
    "\n",
    "# Read the data\n",
    "X = pd.read_csv('../input/train.csv', index_col='Id') \n",
    "X_test = pd.read_csv('../input/test.csv', index_col='Id')\n",
    "\n",
    "# Remove rows with missing target, separate target from predictors\n",
    "X.dropna(axis=0, subset=['SalePrice'], inplace=True)\n",
    "y = X.SalePrice\n",
    "X.drop(['SalePrice'], axis=1, inplace=True)\n",
    "\n",
    "# To keep things simple, we'll drop columns with missing values\n",
    "cols_with_missing = [col for col in X.columns if X[col].isnull().any()] \n",
    "X.drop(cols_with_missing, axis=1, inplace=True)\n",
    "X_test.drop(cols_with_missing, axis=1, inplace=True)\n",
    "\n",
    "# Break off validation set from training data\n",
    "X_train, X_valid, y_train, y_valid = train_test_split(X, y,\n",
    "                                                      train_size=0.8, test_size=0.2,\n",
    "                                                      random_state=0)"
   ]
  },
  {
   "cell_type": "markdown",
   "id": "9047ad32",
   "metadata": {
    "papermill": {
     "duration": 0.0122,
     "end_time": "2023-12-24T15:58:40.432916",
     "exception": false,
     "start_time": "2023-12-24T15:58:40.420716",
     "status": "completed"
    },
    "tags": []
   },
   "source": [
    "Use the next code cell to print the first five rows of the data."
   ]
  },
  {
   "cell_type": "code",
   "execution_count": 3,
   "id": "3e7b435c",
   "metadata": {
    "execution": {
     "iopub.execute_input": "2023-12-24T15:58:40.459881Z",
     "iopub.status.busy": "2023-12-24T15:58:40.459428Z",
     "iopub.status.idle": "2023-12-24T15:58:40.487010Z",
     "shell.execute_reply": "2023-12-24T15:58:40.485876Z"
    },
    "papermill": {
     "duration": 0.044133,
     "end_time": "2023-12-24T15:58:40.489311",
     "exception": false,
     "start_time": "2023-12-24T15:58:40.445178",
     "status": "completed"
    },
    "tags": []
   },
   "outputs": [
    {
     "data": {
      "text/html": [
       "<div>\n",
       "<style scoped>\n",
       "    .dataframe tbody tr th:only-of-type {\n",
       "        vertical-align: middle;\n",
       "    }\n",
       "\n",
       "    .dataframe tbody tr th {\n",
       "        vertical-align: top;\n",
       "    }\n",
       "\n",
       "    .dataframe thead th {\n",
       "        text-align: right;\n",
       "    }\n",
       "</style>\n",
       "<table border=\"1\" class=\"dataframe\">\n",
       "  <thead>\n",
       "    <tr style=\"text-align: right;\">\n",
       "      <th></th>\n",
       "      <th>MSSubClass</th>\n",
       "      <th>MSZoning</th>\n",
       "      <th>LotArea</th>\n",
       "      <th>Street</th>\n",
       "      <th>LotShape</th>\n",
       "      <th>LandContour</th>\n",
       "      <th>Utilities</th>\n",
       "      <th>LotConfig</th>\n",
       "      <th>LandSlope</th>\n",
       "      <th>Neighborhood</th>\n",
       "      <th>...</th>\n",
       "      <th>OpenPorchSF</th>\n",
       "      <th>EnclosedPorch</th>\n",
       "      <th>3SsnPorch</th>\n",
       "      <th>ScreenPorch</th>\n",
       "      <th>PoolArea</th>\n",
       "      <th>MiscVal</th>\n",
       "      <th>MoSold</th>\n",
       "      <th>YrSold</th>\n",
       "      <th>SaleType</th>\n",
       "      <th>SaleCondition</th>\n",
       "    </tr>\n",
       "    <tr>\n",
       "      <th>Id</th>\n",
       "      <th></th>\n",
       "      <th></th>\n",
       "      <th></th>\n",
       "      <th></th>\n",
       "      <th></th>\n",
       "      <th></th>\n",
       "      <th></th>\n",
       "      <th></th>\n",
       "      <th></th>\n",
       "      <th></th>\n",
       "      <th></th>\n",
       "      <th></th>\n",
       "      <th></th>\n",
       "      <th></th>\n",
       "      <th></th>\n",
       "      <th></th>\n",
       "      <th></th>\n",
       "      <th></th>\n",
       "      <th></th>\n",
       "      <th></th>\n",
       "      <th></th>\n",
       "    </tr>\n",
       "  </thead>\n",
       "  <tbody>\n",
       "    <tr>\n",
       "      <th>619</th>\n",
       "      <td>20</td>\n",
       "      <td>RL</td>\n",
       "      <td>11694</td>\n",
       "      <td>Pave</td>\n",
       "      <td>Reg</td>\n",
       "      <td>Lvl</td>\n",
       "      <td>AllPub</td>\n",
       "      <td>Inside</td>\n",
       "      <td>Gtl</td>\n",
       "      <td>NridgHt</td>\n",
       "      <td>...</td>\n",
       "      <td>108</td>\n",
       "      <td>0</td>\n",
       "      <td>0</td>\n",
       "      <td>260</td>\n",
       "      <td>0</td>\n",
       "      <td>0</td>\n",
       "      <td>7</td>\n",
       "      <td>2007</td>\n",
       "      <td>New</td>\n",
       "      <td>Partial</td>\n",
       "    </tr>\n",
       "    <tr>\n",
       "      <th>871</th>\n",
       "      <td>20</td>\n",
       "      <td>RL</td>\n",
       "      <td>6600</td>\n",
       "      <td>Pave</td>\n",
       "      <td>Reg</td>\n",
       "      <td>Lvl</td>\n",
       "      <td>AllPub</td>\n",
       "      <td>Inside</td>\n",
       "      <td>Gtl</td>\n",
       "      <td>NAmes</td>\n",
       "      <td>...</td>\n",
       "      <td>0</td>\n",
       "      <td>0</td>\n",
       "      <td>0</td>\n",
       "      <td>0</td>\n",
       "      <td>0</td>\n",
       "      <td>0</td>\n",
       "      <td>8</td>\n",
       "      <td>2009</td>\n",
       "      <td>WD</td>\n",
       "      <td>Normal</td>\n",
       "    </tr>\n",
       "    <tr>\n",
       "      <th>93</th>\n",
       "      <td>30</td>\n",
       "      <td>RL</td>\n",
       "      <td>13360</td>\n",
       "      <td>Pave</td>\n",
       "      <td>IR1</td>\n",
       "      <td>HLS</td>\n",
       "      <td>AllPub</td>\n",
       "      <td>Inside</td>\n",
       "      <td>Gtl</td>\n",
       "      <td>Crawfor</td>\n",
       "      <td>...</td>\n",
       "      <td>0</td>\n",
       "      <td>44</td>\n",
       "      <td>0</td>\n",
       "      <td>0</td>\n",
       "      <td>0</td>\n",
       "      <td>0</td>\n",
       "      <td>8</td>\n",
       "      <td>2009</td>\n",
       "      <td>WD</td>\n",
       "      <td>Normal</td>\n",
       "    </tr>\n",
       "    <tr>\n",
       "      <th>818</th>\n",
       "      <td>20</td>\n",
       "      <td>RL</td>\n",
       "      <td>13265</td>\n",
       "      <td>Pave</td>\n",
       "      <td>IR1</td>\n",
       "      <td>Lvl</td>\n",
       "      <td>AllPub</td>\n",
       "      <td>CulDSac</td>\n",
       "      <td>Gtl</td>\n",
       "      <td>Mitchel</td>\n",
       "      <td>...</td>\n",
       "      <td>59</td>\n",
       "      <td>0</td>\n",
       "      <td>0</td>\n",
       "      <td>0</td>\n",
       "      <td>0</td>\n",
       "      <td>0</td>\n",
       "      <td>7</td>\n",
       "      <td>2008</td>\n",
       "      <td>WD</td>\n",
       "      <td>Normal</td>\n",
       "    </tr>\n",
       "    <tr>\n",
       "      <th>303</th>\n",
       "      <td>20</td>\n",
       "      <td>RL</td>\n",
       "      <td>13704</td>\n",
       "      <td>Pave</td>\n",
       "      <td>IR1</td>\n",
       "      <td>Lvl</td>\n",
       "      <td>AllPub</td>\n",
       "      <td>Corner</td>\n",
       "      <td>Gtl</td>\n",
       "      <td>CollgCr</td>\n",
       "      <td>...</td>\n",
       "      <td>81</td>\n",
       "      <td>0</td>\n",
       "      <td>0</td>\n",
       "      <td>0</td>\n",
       "      <td>0</td>\n",
       "      <td>0</td>\n",
       "      <td>1</td>\n",
       "      <td>2006</td>\n",
       "      <td>WD</td>\n",
       "      <td>Normal</td>\n",
       "    </tr>\n",
       "  </tbody>\n",
       "</table>\n",
       "<p>5 rows × 60 columns</p>\n",
       "</div>"
      ],
      "text/plain": [
       "     MSSubClass MSZoning  LotArea Street LotShape LandContour Utilities  \\\n",
       "Id                                                                        \n",
       "619          20       RL    11694   Pave      Reg         Lvl    AllPub   \n",
       "871          20       RL     6600   Pave      Reg         Lvl    AllPub   \n",
       "93           30       RL    13360   Pave      IR1         HLS    AllPub   \n",
       "818          20       RL    13265   Pave      IR1         Lvl    AllPub   \n",
       "303          20       RL    13704   Pave      IR1         Lvl    AllPub   \n",
       "\n",
       "    LotConfig LandSlope Neighborhood  ... OpenPorchSF EnclosedPorch 3SsnPorch  \\\n",
       "Id                                    ...                                       \n",
       "619    Inside       Gtl      NridgHt  ...         108             0         0   \n",
       "871    Inside       Gtl        NAmes  ...           0             0         0   \n",
       "93     Inside       Gtl      Crawfor  ...           0            44         0   \n",
       "818   CulDSac       Gtl      Mitchel  ...          59             0         0   \n",
       "303    Corner       Gtl      CollgCr  ...          81             0         0   \n",
       "\n",
       "    ScreenPorch  PoolArea  MiscVal  MoSold  YrSold SaleType SaleCondition  \n",
       "Id                                                                         \n",
       "619         260         0        0       7    2007      New       Partial  \n",
       "871           0         0        0       8    2009       WD        Normal  \n",
       "93            0         0        0       8    2009       WD        Normal  \n",
       "818           0         0        0       7    2008       WD        Normal  \n",
       "303           0         0        0       1    2006       WD        Normal  \n",
       "\n",
       "[5 rows x 60 columns]"
      ]
     },
     "execution_count": 3,
     "metadata": {},
     "output_type": "execute_result"
    }
   ],
   "source": [
    "X_train.head()"
   ]
  },
  {
   "cell_type": "markdown",
   "id": "c893fef5",
   "metadata": {
    "papermill": {
     "duration": 0.012529,
     "end_time": "2023-12-24T15:58:40.514435",
     "exception": false,
     "start_time": "2023-12-24T15:58:40.501906",
     "status": "completed"
    },
    "tags": []
   },
   "source": [
    "Notice that the dataset contains both numerical and categorical variables.  You'll need to encode the categorical data before training a model.\n",
    "\n",
    "To compare different models, you'll use the same `score_dataset()` function from the tutorial.  This function reports the [mean absolute error](https://en.wikipedia.org/wiki/Mean_absolute_error) (MAE) from a random forest model."
   ]
  },
  {
   "cell_type": "code",
   "execution_count": 4,
   "id": "96c920cb",
   "metadata": {
    "execution": {
     "iopub.execute_input": "2023-12-24T15:58:40.541832Z",
     "iopub.status.busy": "2023-12-24T15:58:40.541410Z",
     "iopub.status.idle": "2023-12-24T15:58:40.866313Z",
     "shell.execute_reply": "2023-12-24T15:58:40.865436Z"
    },
    "papermill": {
     "duration": 0.342003,
     "end_time": "2023-12-24T15:58:40.868931",
     "exception": false,
     "start_time": "2023-12-24T15:58:40.526928",
     "status": "completed"
    },
    "tags": []
   },
   "outputs": [],
   "source": [
    "from sklearn.ensemble import RandomForestRegressor\n",
    "from sklearn.metrics import mean_absolute_error\n",
    "\n",
    "# function for comparing different approaches\n",
    "def score_dataset(X_train, X_valid, y_train, y_valid):\n",
    "    model = RandomForestRegressor(n_estimators=100, random_state=0)\n",
    "    model.fit(X_train, y_train)\n",
    "    preds = model.predict(X_valid)\n",
    "    return mean_absolute_error(y_valid, preds)"
   ]
  },
  {
   "cell_type": "markdown",
   "id": "f808e166",
   "metadata": {
    "papermill": {
     "duration": 0.012809,
     "end_time": "2023-12-24T15:58:40.894754",
     "exception": false,
     "start_time": "2023-12-24T15:58:40.881945",
     "status": "completed"
    },
    "tags": []
   },
   "source": [
    "# Step 1: Drop columns with categorical data\n",
    "\n",
    "You'll get started with the most straightforward approach.  Use the code cell below to preprocess the data in `X_train` and `X_valid` to remove columns with categorical data.  Set the preprocessed DataFrames to `drop_X_train` and `drop_X_valid`, respectively.  "
   ]
  },
  {
   "cell_type": "code",
   "execution_count": 5,
   "id": "e48c75e9",
   "metadata": {
    "execution": {
     "iopub.execute_input": "2023-12-24T15:58:40.922631Z",
     "iopub.status.busy": "2023-12-24T15:58:40.921981Z",
     "iopub.status.idle": "2023-12-24T15:58:40.940473Z",
     "shell.execute_reply": "2023-12-24T15:58:40.939201Z"
    },
    "papermill": {
     "duration": 0.03506,
     "end_time": "2023-12-24T15:58:40.942622",
     "exception": false,
     "start_time": "2023-12-24T15:58:40.907562",
     "status": "completed"
    },
    "tags": []
   },
   "outputs": [
    {
     "data": {
      "application/javascript": [
       "parent.postMessage({\"jupyterEvent\": \"custom.exercise_interaction\", \"data\": {\"outcomeType\": 1, \"valueTowardsCompletion\": 0.5, \"interactionType\": 1, \"questionType\": 2, \"questionId\": \"1_Drop\", \"learnToolsVersion\": \"0.3.4\", \"failureMessage\": \"\", \"exceptionClass\": \"\", \"trace\": \"\"}}, \"*\")"
      ],
      "text/plain": [
       "<IPython.core.display.Javascript object>"
      ]
     },
     "metadata": {},
     "output_type": "display_data"
    },
    {
     "data": {
      "text/markdown": [
       "<span style=\"color:#33cc33\">Correct</span>"
      ],
      "text/plain": [
       "Correct"
      ]
     },
     "metadata": {},
     "output_type": "display_data"
    }
   ],
   "source": [
    "# Fill in the lines below: drop columns in training and validation data\n",
    "drop_X_train = pd.DataFrame(X_train[[col for col in X_train.columns if X_train[col].dtype != 'object']])\n",
    "drop_X_valid = pd.DataFrame(X_valid[[col for col in X_valid.columns if X_valid[col].dtype != 'object']])\n",
    "\n",
    "# Check your answers\n",
    "step_1.check()"
   ]
  },
  {
   "cell_type": "code",
   "execution_count": 6,
   "id": "019d2e66",
   "metadata": {
    "execution": {
     "iopub.execute_input": "2023-12-24T15:58:40.971408Z",
     "iopub.status.busy": "2023-12-24T15:58:40.970302Z",
     "iopub.status.idle": "2023-12-24T15:58:40.974528Z",
     "shell.execute_reply": "2023-12-24T15:58:40.973777Z"
    },
    "papermill": {
     "duration": 0.020696,
     "end_time": "2023-12-24T15:58:40.976521",
     "exception": false,
     "start_time": "2023-12-24T15:58:40.955825",
     "status": "completed"
    },
    "tags": []
   },
   "outputs": [],
   "source": [
    "# Lines below will give you a hint or solution code\n",
    "# step_1.hint()\n",
    "# step_1.solution()"
   ]
  },
  {
   "cell_type": "markdown",
   "id": "1b67407b",
   "metadata": {
    "papermill": {
     "duration": 0.012813,
     "end_time": "2023-12-24T15:58:41.002270",
     "exception": false,
     "start_time": "2023-12-24T15:58:40.989457",
     "status": "completed"
    },
    "tags": []
   },
   "source": [
    "Run the next code cell to get the MAE for this approach."
   ]
  },
  {
   "cell_type": "code",
   "execution_count": 7,
   "id": "d73d27d3",
   "metadata": {
    "execution": {
     "iopub.execute_input": "2023-12-24T15:58:41.030514Z",
     "iopub.status.busy": "2023-12-24T15:58:41.029462Z",
     "iopub.status.idle": "2023-12-24T15:58:42.313729Z",
     "shell.execute_reply": "2023-12-24T15:58:42.312614Z"
    },
    "papermill": {
     "duration": 1.300998,
     "end_time": "2023-12-24T15:58:42.316203",
     "exception": false,
     "start_time": "2023-12-24T15:58:41.015205",
     "status": "completed"
    },
    "tags": []
   },
   "outputs": [
    {
     "name": "stdout",
     "output_type": "stream",
     "text": [
      "MAE from Approach 1 (Drop categorical variables):\n",
      "17837.82570776256\n"
     ]
    }
   ],
   "source": [
    "print(\"MAE from Approach 1 (Drop categorical variables):\")\n",
    "print(score_dataset(drop_X_train, drop_X_valid, y_train, y_valid))"
   ]
  },
  {
   "cell_type": "markdown",
   "id": "219267a1",
   "metadata": {
    "papermill": {
     "duration": 0.013633,
     "end_time": "2023-12-24T15:58:42.343294",
     "exception": false,
     "start_time": "2023-12-24T15:58:42.329661",
     "status": "completed"
    },
    "tags": []
   },
   "source": [
    "Before jumping into ordinal encoding, we'll investigate the dataset.  Specifically, we'll look at the `'Condition2'` column.  The code cell below prints the unique entries in both the training and validation sets."
   ]
  },
  {
   "cell_type": "code",
   "execution_count": 8,
   "id": "4ef1533a",
   "metadata": {
    "execution": {
     "iopub.execute_input": "2023-12-24T15:58:42.372377Z",
     "iopub.status.busy": "2023-12-24T15:58:42.371881Z",
     "iopub.status.idle": "2023-12-24T15:58:42.381676Z",
     "shell.execute_reply": "2023-12-24T15:58:42.380380Z"
    },
    "papermill": {
     "duration": 0.027366,
     "end_time": "2023-12-24T15:58:42.384041",
     "exception": false,
     "start_time": "2023-12-24T15:58:42.356675",
     "status": "completed"
    },
    "tags": []
   },
   "outputs": [
    {
     "name": "stdout",
     "output_type": "stream",
     "text": [
      "Unique values in 'Condition2' column in training data: ['Norm' 'PosA' 'Feedr' 'PosN' 'Artery' 'RRAe']\n",
      "\n",
      "Unique values in 'Condition2' column in validation data: ['Norm' 'RRAn' 'RRNn' 'Artery' 'Feedr' 'PosN']\n"
     ]
    }
   ],
   "source": [
    "print(\"Unique values in 'Condition2' column in training data:\", X_train['Condition2'].unique())\n",
    "print(\"\\nUnique values in 'Condition2' column in validation data:\", X_valid['Condition2'].unique())"
   ]
  },
  {
   "cell_type": "markdown",
   "id": "a99da80c",
   "metadata": {
    "papermill": {
     "duration": 0.013113,
     "end_time": "2023-12-24T15:58:42.410463",
     "exception": false,
     "start_time": "2023-12-24T15:58:42.397350",
     "status": "completed"
    },
    "tags": []
   },
   "source": [
    "# Step 2: Ordinal encoding\n",
    "\n",
    "### Part A\n",
    "\n",
    "If you now write code to: \n",
    "- fit an ordinal encoder to the training data, and then \n",
    "- use it to transform both the training and validation data, \n",
    "\n",
    "you'll get an error.  Can you see why this is the case?  (_You'll need  to use the above output to answer this question._)"
   ]
  },
  {
   "cell_type": "code",
   "execution_count": 9,
   "id": "a8801c6c",
   "metadata": {
    "execution": {
     "iopub.execute_input": "2023-12-24T15:58:42.439319Z",
     "iopub.status.busy": "2023-12-24T15:58:42.438927Z",
     "iopub.status.idle": "2023-12-24T15:58:42.447493Z",
     "shell.execute_reply": "2023-12-24T15:58:42.446348Z"
    },
    "papermill": {
     "duration": 0.025996,
     "end_time": "2023-12-24T15:58:42.449644",
     "exception": false,
     "start_time": "2023-12-24T15:58:42.423648",
     "status": "completed"
    },
    "tags": []
   },
   "outputs": [
    {
     "data": {
      "application/javascript": [
       "parent.postMessage({\"jupyterEvent\": \"custom.exercise_interaction\", \"data\": {\"outcomeType\": 1, \"valueTowardsCompletion\": 0.5, \"interactionType\": 1, \"questionType\": 4, \"questionId\": \"2.1_LabelA\", \"learnToolsVersion\": \"0.3.4\", \"failureMessage\": \"\", \"exceptionClass\": \"\", \"trace\": \"\"}}, \"*\")"
      ],
      "text/plain": [
       "<IPython.core.display.Javascript object>"
      ]
     },
     "metadata": {},
     "output_type": "display_data"
    },
    {
     "data": {
      "text/markdown": [
       "<span style=\"color:#33cc33\">Correct:</span> \n",
       "\n",
       "Fitting an ordinal encoder to a column in the training data creates a corresponding integer-valued label for each unique value **that appears in the training data**. In the case that the validation data contains values that don't also appear in the training data, the encoder will throw an error, because these values won't have an integer assigned to them.  Notice that the `'Condition2'` column in the validation data contains the values `'RRAn'` and `'RRNn'`, but these don't appear in the training data -- thus, if we try to use an ordinal encoder with scikit-learn, the code will throw an error."
      ],
      "text/plain": [
       "Correct: \n",
       "\n",
       "Fitting an ordinal encoder to a column in the training data creates a corresponding integer-valued label for each unique value **that appears in the training data**. In the case that the validation data contains values that don't also appear in the training data, the encoder will throw an error, because these values won't have an integer assigned to them.  Notice that the `'Condition2'` column in the validation data contains the values `'RRAn'` and `'RRNn'`, but these don't appear in the training data -- thus, if we try to use an ordinal encoder with scikit-learn, the code will throw an error."
      ]
     },
     "metadata": {},
     "output_type": "display_data"
    }
   ],
   "source": [
    "# Check your answer (Run this code cell to receive credit!)\n",
    "step_2.a.check()"
   ]
  },
  {
   "cell_type": "code",
   "execution_count": 10,
   "id": "42bd087f",
   "metadata": {
    "execution": {
     "iopub.execute_input": "2023-12-24T15:58:42.540780Z",
     "iopub.status.busy": "2023-12-24T15:58:42.539470Z",
     "iopub.status.idle": "2023-12-24T15:58:42.549006Z",
     "shell.execute_reply": "2023-12-24T15:58:42.547960Z"
    },
    "papermill": {
     "duration": 0.08732,
     "end_time": "2023-12-24T15:58:42.551239",
     "exception": false,
     "start_time": "2023-12-24T15:58:42.463919",
     "status": "completed"
    },
    "tags": []
   },
   "outputs": [
    {
     "data": {
      "application/javascript": [
       "parent.postMessage({\"jupyterEvent\": \"custom.exercise_interaction\", \"data\": {\"interactionType\": 2, \"questionType\": 4, \"questionId\": \"2.1_LabelA\", \"learnToolsVersion\": \"0.3.4\", \"valueTowardsCompletion\": 0.0, \"failureMessage\": \"\", \"exceptionClass\": \"\", \"trace\": \"\", \"outcomeType\": 4}}, \"*\")"
      ],
      "text/plain": [
       "<IPython.core.display.Javascript object>"
      ]
     },
     "metadata": {},
     "output_type": "display_data"
    },
    {
     "data": {
      "text/markdown": [
       "<span style=\"color:#3366cc\">Hint:</span> Are there any values that appear in the validation data but not in the training data?"
      ],
      "text/plain": [
       "Hint: Are there any values that appear in the validation data but not in the training data?"
      ]
     },
     "metadata": {},
     "output_type": "display_data"
    }
   ],
   "source": [
    "step_2.a.hint()"
   ]
  },
  {
   "cell_type": "markdown",
   "id": "9f6385c0",
   "metadata": {
    "papermill": {
     "duration": 0.013858,
     "end_time": "2023-12-24T15:58:42.579249",
     "exception": false,
     "start_time": "2023-12-24T15:58:42.565391",
     "status": "completed"
    },
    "tags": []
   },
   "source": [
    "This is a common problem that you'll encounter with real-world data, and there are many approaches to fixing this issue.  For instance, you can write a custom ordinal encoder to deal with new categories.  The simplest approach, however, is to drop the problematic categorical columns.  \n",
    "\n",
    "Run the code cell below to save the problematic columns to a Python list `bad_label_cols`.  Likewise, columns that can be safely ordinal encoded are stored in `good_label_cols`."
   ]
  },
  {
   "cell_type": "code",
   "execution_count": 11,
   "id": "92996c5f",
   "metadata": {
    "execution": {
     "iopub.execute_input": "2023-12-24T15:58:42.610208Z",
     "iopub.status.busy": "2023-12-24T15:58:42.609437Z",
     "iopub.status.idle": "2023-12-24T15:58:42.623665Z",
     "shell.execute_reply": "2023-12-24T15:58:42.622459Z"
    },
    "papermill": {
     "duration": 0.032493,
     "end_time": "2023-12-24T15:58:42.626116",
     "exception": false,
     "start_time": "2023-12-24T15:58:42.593623",
     "status": "completed"
    },
    "tags": []
   },
   "outputs": [
    {
     "name": "stdout",
     "output_type": "stream",
     "text": [
      "Categorical columns that will be ordinal encoded: ['MSZoning', 'Street', 'LotShape', 'LandContour', 'Utilities', 'LotConfig', 'LandSlope', 'Neighborhood', 'Condition1', 'BldgType', 'HouseStyle', 'RoofStyle', 'Exterior1st', 'Exterior2nd', 'ExterQual', 'ExterCond', 'Foundation', 'Heating', 'HeatingQC', 'CentralAir', 'KitchenQual', 'PavedDrive', 'SaleType', 'SaleCondition']\n",
      "\n",
      "Categorical columns that will be dropped from the dataset: ['RoofMatl', 'Functional', 'Condition2']\n"
     ]
    }
   ],
   "source": [
    "# Categorical columns in the training data\n",
    "object_cols = [col for col in X_train.columns if X_train[col].dtype == \"object\"]\n",
    "# object_cols = X_train.select_dtypes(include = ['object'])\n",
    "\n",
    "# Columns that can be safely ordinal encoded\n",
    "good_label_cols = [col for col in object_cols if \n",
    "                   set(X_valid[col]).issubset(set(X_train[col]))]\n",
    "        \n",
    "# Problematic columns that will be dropped from the dataset\n",
    "bad_label_cols = list(set(object_cols)-set(good_label_cols))\n",
    "        \n",
    "print('Categorical columns that will be ordinal encoded:', good_label_cols)\n",
    "print('\\nCategorical columns that will be dropped from the dataset:', bad_label_cols)"
   ]
  },
  {
   "cell_type": "markdown",
   "id": "27fec21f",
   "metadata": {
    "papermill": {
     "duration": 0.014137,
     "end_time": "2023-12-24T15:58:42.654812",
     "exception": false,
     "start_time": "2023-12-24T15:58:42.640675",
     "status": "completed"
    },
    "tags": []
   },
   "source": [
    "### Part B\n",
    "\n",
    "Use the next code cell to ordinal encode the data in `X_train` and `X_valid`.  Set the preprocessed DataFrames to `label_X_train` and `label_X_valid`, respectively.  \n",
    "- We have provided code below to drop the categorical columns in `bad_label_cols` from the dataset. \n",
    "- You should ordinal encode the categorical columns in `good_label_cols`.  "
   ]
  },
  {
   "cell_type": "code",
   "execution_count": 12,
   "id": "997d2ab1",
   "metadata": {
    "execution": {
     "iopub.execute_input": "2023-12-24T15:58:42.685467Z",
     "iopub.status.busy": "2023-12-24T15:58:42.685087Z",
     "iopub.status.idle": "2023-12-24T15:58:42.731324Z",
     "shell.execute_reply": "2023-12-24T15:58:42.730563Z"
    },
    "papermill": {
     "duration": 0.064656,
     "end_time": "2023-12-24T15:58:42.733819",
     "exception": false,
     "start_time": "2023-12-24T15:58:42.669163",
     "status": "completed"
    },
    "tags": []
   },
   "outputs": [
    {
     "data": {
      "application/javascript": [
       "parent.postMessage({\"jupyterEvent\": \"custom.exercise_interaction\", \"data\": {\"outcomeType\": 1, \"valueTowardsCompletion\": 0.5, \"interactionType\": 1, \"questionType\": 2, \"questionId\": \"2.2_LabelB\", \"learnToolsVersion\": \"0.3.4\", \"failureMessage\": \"\", \"exceptionClass\": \"\", \"trace\": \"\"}}, \"*\")"
      ],
      "text/plain": [
       "<IPython.core.display.Javascript object>"
      ]
     },
     "metadata": {},
     "output_type": "display_data"
    },
    {
     "data": {
      "text/markdown": [
       "<span style=\"color:#33cc33\">Correct</span>"
      ],
      "text/plain": [
       "Correct"
      ]
     },
     "metadata": {},
     "output_type": "display_data"
    }
   ],
   "source": [
    "from sklearn.preprocessing import OrdinalEncoder\n",
    "\n",
    "# Drop categorical columns that will not be encoded\n",
    "label_X_train = X_train.drop(bad_label_cols, axis=1)\n",
    "label_X_valid = X_valid.drop(bad_label_cols, axis=1)\n",
    "# print(len(label_X_train.columns), len(X_train.columns))\n",
    "# print(len(label_X_train[good_label_cols]))\n",
    "# print(label_X_train)\n",
    "\n",
    "# Apply ordinal encoder \n",
    "ordinal_encoder = OrdinalEncoder()\n",
    "label_X_train[good_label_cols] = ordinal_encoder.fit_transform(X_train[good_label_cols])\n",
    "label_X_valid[good_label_cols] = ordinal_encoder.transform(X_valid[good_label_cols])\n",
    "# Your code \n",
    "# print(label_X_train)\n",
    "\n",
    "    \n",
    "# Check your answer\n",
    "step_2.b.check()"
   ]
  },
  {
   "cell_type": "code",
   "execution_count": 13,
   "id": "aa38ee01",
   "metadata": {
    "execution": {
     "iopub.execute_input": "2023-12-24T15:58:42.764855Z",
     "iopub.status.busy": "2023-12-24T15:58:42.764260Z",
     "iopub.status.idle": "2023-12-24T15:58:42.768314Z",
     "shell.execute_reply": "2023-12-24T15:58:42.767366Z"
    },
    "papermill": {
     "duration": 0.021932,
     "end_time": "2023-12-24T15:58:42.770404",
     "exception": false,
     "start_time": "2023-12-24T15:58:42.748472",
     "status": "completed"
    },
    "tags": []
   },
   "outputs": [],
   "source": [
    "# Lines below will give you a hint or solution code\n",
    "# step_2.b.hint()\n",
    "# step_2.b.solution()"
   ]
  },
  {
   "cell_type": "markdown",
   "id": "02e4a70f",
   "metadata": {
    "papermill": {
     "duration": 0.014465,
     "end_time": "2023-12-24T15:58:42.800177",
     "exception": false,
     "start_time": "2023-12-24T15:58:42.785712",
     "status": "completed"
    },
    "tags": []
   },
   "source": [
    "Run the next code cell to get the MAE for this approach."
   ]
  },
  {
   "cell_type": "code",
   "execution_count": 14,
   "id": "04473219",
   "metadata": {
    "execution": {
     "iopub.execute_input": "2023-12-24T15:58:42.831314Z",
     "iopub.status.busy": "2023-12-24T15:58:42.830913Z",
     "iopub.status.idle": "2023-12-24T15:58:44.493097Z",
     "shell.execute_reply": "2023-12-24T15:58:44.491959Z"
    },
    "papermill": {
     "duration": 1.680808,
     "end_time": "2023-12-24T15:58:44.495852",
     "exception": false,
     "start_time": "2023-12-24T15:58:42.815044",
     "status": "completed"
    },
    "tags": []
   },
   "outputs": [
    {
     "name": "stdout",
     "output_type": "stream",
     "text": [
      "MAE from Approach 2 (Ordinal Encoding):\n",
      "17098.01649543379\n"
     ]
    }
   ],
   "source": [
    "print(\"MAE from Approach 2 (Ordinal Encoding):\") \n",
    "print(score_dataset(label_X_train, label_X_valid, y_train, y_valid))"
   ]
  },
  {
   "cell_type": "markdown",
   "id": "e371fe9b",
   "metadata": {
    "papermill": {
     "duration": 0.015074,
     "end_time": "2023-12-24T15:58:44.526917",
     "exception": false,
     "start_time": "2023-12-24T15:58:44.511843",
     "status": "completed"
    },
    "tags": []
   },
   "source": [
    "So far, you've tried two different approaches to dealing with categorical variables.  And, you've seen that encoding categorical data yields better results than removing columns from the dataset.\n",
    "\n",
    "Soon, you'll try one-hot encoding.  Before then, there's one additional topic we need to cover.  Begin by running the next code cell without changes.  "
   ]
  },
  {
   "cell_type": "code",
   "execution_count": 15,
   "id": "e0c0aecf",
   "metadata": {
    "execution": {
     "iopub.execute_input": "2023-12-24T15:58:44.559296Z",
     "iopub.status.busy": "2023-12-24T15:58:44.558893Z",
     "iopub.status.idle": "2023-12-24T15:58:44.573949Z",
     "shell.execute_reply": "2023-12-24T15:58:44.573147Z"
    },
    "papermill": {
     "duration": 0.034159,
     "end_time": "2023-12-24T15:58:44.576120",
     "exception": false,
     "start_time": "2023-12-24T15:58:44.541961",
     "status": "completed"
    },
    "tags": []
   },
   "outputs": [
    {
     "data": {
      "text/plain": [
       "[('Street', 2),\n",
       " ('Utilities', 2),\n",
       " ('CentralAir', 2),\n",
       " ('LandSlope', 3),\n",
       " ('PavedDrive', 3),\n",
       " ('LotShape', 4),\n",
       " ('LandContour', 4),\n",
       " ('ExterQual', 4),\n",
       " ('KitchenQual', 4),\n",
       " ('MSZoning', 5),\n",
       " ('LotConfig', 5),\n",
       " ('BldgType', 5),\n",
       " ('ExterCond', 5),\n",
       " ('HeatingQC', 5),\n",
       " ('Condition2', 6),\n",
       " ('RoofStyle', 6),\n",
       " ('Foundation', 6),\n",
       " ('Heating', 6),\n",
       " ('Functional', 6),\n",
       " ('SaleCondition', 6),\n",
       " ('RoofMatl', 7),\n",
       " ('HouseStyle', 8),\n",
       " ('Condition1', 9),\n",
       " ('SaleType', 9),\n",
       " ('Exterior1st', 15),\n",
       " ('Exterior2nd', 16),\n",
       " ('Neighborhood', 25)]"
      ]
     },
     "execution_count": 15,
     "metadata": {},
     "output_type": "execute_result"
    }
   ],
   "source": [
    "# Get number of unique entries in each column with categorical data\n",
    "object_nunique = list(map(lambda col: X_train[col].nunique(), object_cols))\n",
    "d = dict(zip(object_cols, object_nunique))\n",
    "\n",
    "# Print number of unique entries by column, in ascending order\n",
    "sorted(d.items(), key=lambda x: x[1])"
   ]
  },
  {
   "cell_type": "markdown",
   "id": "b0e6c9b9",
   "metadata": {
    "papermill": {
     "duration": 0.014995,
     "end_time": "2023-12-24T15:58:44.606246",
     "exception": false,
     "start_time": "2023-12-24T15:58:44.591251",
     "status": "completed"
    },
    "tags": []
   },
   "source": [
    "# Step 3: Investigating cardinality\n",
    "\n",
    "### Part A\n",
    "\n",
    "The output above shows, for each column with categorical data, the number of unique values in the column.  For instance, the `'Street'` column in the training data has two unique values: `'Grvl'` and `'Pave'`, corresponding to a gravel road and a paved road, respectively.\n",
    "\n",
    "We refer to the number of unique entries of a categorical variable as the **cardinality** of that categorical variable.  For instance, the `'Street'` variable has cardinality 2.\n",
    "\n",
    "Use the output above to answer the questions below."
   ]
  },
  {
   "cell_type": "code",
   "execution_count": 16,
   "id": "5a95ff65",
   "metadata": {
    "execution": {
     "iopub.execute_input": "2023-12-24T15:58:44.638609Z",
     "iopub.status.busy": "2023-12-24T15:58:44.638219Z",
     "iopub.status.idle": "2023-12-24T15:58:44.647903Z",
     "shell.execute_reply": "2023-12-24T15:58:44.647124Z"
    },
    "papermill": {
     "duration": 0.028556,
     "end_time": "2023-12-24T15:58:44.650049",
     "exception": false,
     "start_time": "2023-12-24T15:58:44.621493",
     "status": "completed"
    },
    "tags": []
   },
   "outputs": [
    {
     "data": {
      "application/javascript": [
       "parent.postMessage({\"jupyterEvent\": \"custom.exercise_interaction\", \"data\": {\"outcomeType\": 1, \"valueTowardsCompletion\": 0.5, \"interactionType\": 1, \"questionType\": 1, \"questionId\": \"3.1_CardinalityA\", \"learnToolsVersion\": \"0.3.4\", \"failureMessage\": \"\", \"exceptionClass\": \"\", \"trace\": \"\"}}, \"*\")"
      ],
      "text/plain": [
       "<IPython.core.display.Javascript object>"
      ]
     },
     "metadata": {},
     "output_type": "display_data"
    },
    {
     "data": {
      "text/markdown": [
       "<span style=\"color:#33cc33\">Correct</span>"
      ],
      "text/plain": [
       "Correct"
      ]
     },
     "metadata": {},
     "output_type": "display_data"
    }
   ],
   "source": [
    "# Fill in the line below: How many categorical variables in the training data\n",
    "# have cardinality greater than 10?\n",
    "high_cardinality_numcols = len([x for x in d.items() if x[1] > 10])\n",
    "\n",
    "# Fill in the line below: How many columns are needed to one-hot encode the \n",
    "# 'Neighborhood' variable in the training data?\n",
    "# print(len(d.items()), high_cardinality_numcols)\n",
    "num_cols_neighborhood = len(d.items()) - high_cardinality_numcols + 1\n",
    "\n",
    "# Check your answers\n",
    "step_3.a.check()"
   ]
  },
  {
   "cell_type": "code",
   "execution_count": 17,
   "id": "0068622d",
   "metadata": {
    "execution": {
     "iopub.execute_input": "2023-12-24T15:58:44.682831Z",
     "iopub.status.busy": "2023-12-24T15:58:44.682390Z",
     "iopub.status.idle": "2023-12-24T15:58:44.687248Z",
     "shell.execute_reply": "2023-12-24T15:58:44.686108Z"
    },
    "papermill": {
     "duration": 0.023905,
     "end_time": "2023-12-24T15:58:44.689450",
     "exception": false,
     "start_time": "2023-12-24T15:58:44.665545",
     "status": "completed"
    },
    "tags": []
   },
   "outputs": [],
   "source": [
    "# Lines below will give you a hint or solution code\n",
    "# step_3.a.hint()\n",
    "# step_3.a.solution()"
   ]
  },
  {
   "cell_type": "markdown",
   "id": "ba85b01c",
   "metadata": {
    "papermill": {
     "duration": 0.015565,
     "end_time": "2023-12-24T15:58:44.720731",
     "exception": false,
     "start_time": "2023-12-24T15:58:44.705166",
     "status": "completed"
    },
    "tags": []
   },
   "source": [
    "### Part B\n",
    "\n",
    "For large datasets with many rows, one-hot encoding can greatly expand the size of the dataset.  For this reason, we typically will only one-hot encode columns with relatively low cardinality.  Then, high cardinality columns can either be dropped from the dataset, or we can use ordinal encoding.\n",
    "\n",
    "As an example, consider a dataset with 10,000 rows, and containing one categorical column with 100 unique entries.  \n",
    "- If this column is replaced with the corresponding one-hot encoding, how many entries are added to the dataset?  \n",
    "- If we instead replace the column with the ordinal encoding, how many entries are added?  \n",
    "\n",
    "Use your answers to fill in the lines below."
   ]
  },
  {
   "cell_type": "code",
   "execution_count": 18,
   "id": "4ec6c03d",
   "metadata": {
    "execution": {
     "iopub.execute_input": "2023-12-24T15:58:44.753760Z",
     "iopub.status.busy": "2023-12-24T15:58:44.753345Z",
     "iopub.status.idle": "2023-12-24T15:58:44.763186Z",
     "shell.execute_reply": "2023-12-24T15:58:44.761928Z"
    },
    "papermill": {
     "duration": 0.02908,
     "end_time": "2023-12-24T15:58:44.765435",
     "exception": false,
     "start_time": "2023-12-24T15:58:44.736355",
     "status": "completed"
    },
    "tags": []
   },
   "outputs": [
    {
     "data": {
      "application/javascript": [
       "parent.postMessage({\"jupyterEvent\": \"custom.exercise_interaction\", \"data\": {\"outcomeType\": 1, \"valueTowardsCompletion\": 0.5, \"interactionType\": 1, \"questionType\": 1, \"questionId\": \"3.2_CardinalityB\", \"learnToolsVersion\": \"0.3.4\", \"failureMessage\": \"\", \"exceptionClass\": \"\", \"trace\": \"\"}}, \"*\")"
      ],
      "text/plain": [
       "<IPython.core.display.Javascript object>"
      ]
     },
     "metadata": {},
     "output_type": "display_data"
    },
    {
     "data": {
      "text/markdown": [
       "<span style=\"color:#33cc33\">Correct</span>"
      ],
      "text/plain": [
       "Correct"
      ]
     },
     "metadata": {},
     "output_type": "display_data"
    }
   ],
   "source": [
    "# Fill in the line below: How many entries are added to the dataset by \n",
    "# replacing the column with a one-hot encoding?\n",
    "OH_entries_added = 10000*99\n",
    "\n",
    "# Fill in the line below: How many entries are added to the dataset by\n",
    "# replacing the column with an ordinal encoding?\n",
    "label_entries_added = 0\n",
    "\n",
    "# Check your answers\n",
    "step_3.b.check()"
   ]
  },
  {
   "cell_type": "code",
   "execution_count": 19,
   "id": "e25c6d4d",
   "metadata": {
    "execution": {
     "iopub.execute_input": "2023-12-24T15:58:44.798793Z",
     "iopub.status.busy": "2023-12-24T15:58:44.798326Z",
     "iopub.status.idle": "2023-12-24T15:58:44.803283Z",
     "shell.execute_reply": "2023-12-24T15:58:44.802029Z"
    },
    "papermill": {
     "duration": 0.024828,
     "end_time": "2023-12-24T15:58:44.806153",
     "exception": false,
     "start_time": "2023-12-24T15:58:44.781325",
     "status": "completed"
    },
    "tags": []
   },
   "outputs": [],
   "source": [
    "# Lines below will give you a hint or solution code\n",
    "# step_3.b.hint()\n",
    "# step_3.b.solution()"
   ]
  },
  {
   "cell_type": "markdown",
   "id": "972bcaa9",
   "metadata": {
    "papermill": {
     "duration": 0.015847,
     "end_time": "2023-12-24T15:58:44.838347",
     "exception": false,
     "start_time": "2023-12-24T15:58:44.822500",
     "status": "completed"
    },
    "tags": []
   },
   "source": [
    "Next, you'll experiment with one-hot encoding.  But, instead of encoding all of the categorical variables in the dataset, you'll only create a one-hot encoding for columns with cardinality less than 10.\n",
    "\n",
    "Run the code cell below without changes to set `low_cardinality_cols` to a Python list containing the columns that will be one-hot encoded.  Likewise, `high_cardinality_cols` contains a list of categorical columns that will be dropped from the dataset."
   ]
  },
  {
   "cell_type": "code",
   "execution_count": 20,
   "id": "271ff577",
   "metadata": {
    "execution": {
     "iopub.execute_input": "2023-12-24T15:58:44.873065Z",
     "iopub.status.busy": "2023-12-24T15:58:44.872334Z",
     "iopub.status.idle": "2023-12-24T15:58:44.885332Z",
     "shell.execute_reply": "2023-12-24T15:58:44.883948Z"
    },
    "papermill": {
     "duration": 0.032623,
     "end_time": "2023-12-24T15:58:44.887630",
     "exception": false,
     "start_time": "2023-12-24T15:58:44.855007",
     "status": "completed"
    },
    "tags": []
   },
   "outputs": [
    {
     "name": "stdout",
     "output_type": "stream",
     "text": [
      "Categorical columns that will be one-hot encoded: ['MSZoning', 'Street', 'LotShape', 'LandContour', 'Utilities', 'LotConfig', 'LandSlope', 'Condition1', 'Condition2', 'BldgType', 'HouseStyle', 'RoofStyle', 'RoofMatl', 'ExterQual', 'ExterCond', 'Foundation', 'Heating', 'HeatingQC', 'CentralAir', 'KitchenQual', 'Functional', 'PavedDrive', 'SaleType', 'SaleCondition']\n",
      "\n",
      "Categorical columns that will be dropped from the dataset: ['Neighborhood', 'Exterior2nd', 'Exterior1st']\n"
     ]
    }
   ],
   "source": [
    "# Columns that will be one-hot encoded\n",
    "low_cardinality_cols = [col for col in object_cols if X_train[col].nunique() < 10]\n",
    "# print(len(low_cardinality_cols))\n",
    "\n",
    "# Columns that will be dropped from the dataset\n",
    "high_cardinality_cols = list(set(object_cols)-set(low_cardinality_cols))\n",
    "\n",
    "print('Categorical columns that will be one-hot encoded:', low_cardinality_cols)\n",
    "print('\\nCategorical columns that will be dropped from the dataset:', high_cardinality_cols)"
   ]
  },
  {
   "cell_type": "markdown",
   "id": "a2a7eacb",
   "metadata": {
    "papermill": {
     "duration": 0.015996,
     "end_time": "2023-12-24T15:58:44.920562",
     "exception": false,
     "start_time": "2023-12-24T15:58:44.904566",
     "status": "completed"
    },
    "tags": []
   },
   "source": [
    "# Step 4: One-hot encoding\n",
    "\n",
    "Use the next code cell to one-hot encode the data in `X_train` and `X_valid`.  Set the preprocessed DataFrames to `OH_X_train` and `OH_X_valid`, respectively.  \n",
    "- The full list of categorical columns in the dataset can be found in the Python list `object_cols`.\n",
    "- You should only one-hot encode the categorical columns in `low_cardinality_cols`.  All other categorical columns should be dropped from the dataset. "
   ]
  },
  {
   "cell_type": "code",
   "execution_count": 21,
   "id": "41f9dcc4",
   "metadata": {
    "execution": {
     "iopub.execute_input": "2023-12-24T15:58:44.955624Z",
     "iopub.status.busy": "2023-12-24T15:58:44.954561Z",
     "iopub.status.idle": "2023-12-24T15:58:45.009317Z",
     "shell.execute_reply": "2023-12-24T15:58:45.008215Z"
    },
    "papermill": {
     "duration": 0.074793,
     "end_time": "2023-12-24T15:58:45.011706",
     "exception": false,
     "start_time": "2023-12-24T15:58:44.936913",
     "status": "completed"
    },
    "tags": []
   },
   "outputs": [
    {
     "name": "stderr",
     "output_type": "stream",
     "text": [
      "/opt/conda/lib/python3.10/site-packages/sklearn/preprocessing/_encoders.py:868: FutureWarning: `sparse` was renamed to `sparse_output` in version 1.2 and will be removed in 1.4. `sparse_output` is ignored unless you leave `sparse` to its default value.\n",
      "  warnings.warn(\n"
     ]
    },
    {
     "data": {
      "application/javascript": [
       "parent.postMessage({\"jupyterEvent\": \"custom.exercise_interaction\", \"data\": {\"outcomeType\": 1, \"valueTowardsCompletion\": 0.5, \"interactionType\": 1, \"questionType\": 2, \"questionId\": \"4_OneHot\", \"learnToolsVersion\": \"0.3.4\", \"failureMessage\": \"\", \"exceptionClass\": \"\", \"trace\": \"\"}}, \"*\")"
      ],
      "text/plain": [
       "<IPython.core.display.Javascript object>"
      ]
     },
     "metadata": {},
     "output_type": "display_data"
    },
    {
     "data": {
      "text/markdown": [
       "<span style=\"color:#33cc33\">Correct</span>"
      ],
      "text/plain": [
       "Correct"
      ]
     },
     "metadata": {},
     "output_type": "display_data"
    }
   ],
   "source": [
    "from sklearn.preprocessing import OneHotEncoder\n",
    "\n",
    "# Use as many lines of code as you need!\n",
    "OH_encoder = OneHotEncoder(handle_unknown='ignore', sparse=False)\n",
    "OH_cols_train = pd.DataFrame(OH_encoder.fit_transform(X_train[low_cardinality_cols]))\n",
    "OH_cols_valid = pd.DataFrame(OH_encoder.transform(X_valid[low_cardinality_cols]))\n",
    "# One-hot encoding removed index; put it back\n",
    "OH_cols_train.index = X_train.index\n",
    "OH_cols_valid.index = X_valid.index\n",
    "\n",
    "# Remove categorical columns (will replace with one-hot encoding)\n",
    "num_X_train = X_train.drop(object_cols, axis=1)\n",
    "num_X_valid = X_valid.drop(object_cols, axis=1)\n",
    "\n",
    "# Add one-hot encoded columns to numerical features\n",
    "OH_X_train = pd.concat([num_X_train, OH_cols_train], axis=1)\n",
    "OH_X_valid = pd.concat([num_X_valid, OH_cols_valid], axis=1)\n",
    "\n",
    "# Ensure all columns have string type\n",
    "OH_X_train.columns = OH_X_train.columns.astype(str)\n",
    "OH_X_valid.columns = OH_X_valid.columns.astype(str)\n",
    "\n",
    "# Check your answer\n",
    "step_4.check()"
   ]
  },
  {
   "cell_type": "code",
   "execution_count": 22,
   "id": "3b03c260",
   "metadata": {
    "execution": {
     "iopub.execute_input": "2023-12-24T15:58:45.046284Z",
     "iopub.status.busy": "2023-12-24T15:58:45.045873Z",
     "iopub.status.idle": "2023-12-24T15:58:45.050439Z",
     "shell.execute_reply": "2023-12-24T15:58:45.049258Z"
    },
    "papermill": {
     "duration": 0.025199,
     "end_time": "2023-12-24T15:58:45.053029",
     "exception": false,
     "start_time": "2023-12-24T15:58:45.027830",
     "status": "completed"
    },
    "tags": []
   },
   "outputs": [],
   "source": [
    "# Lines below will give you a hint or solution code\n",
    "# step_4.hint()\n",
    "# step_4.solution()"
   ]
  },
  {
   "cell_type": "markdown",
   "id": "c1eeb11b",
   "metadata": {
    "papermill": {
     "duration": 0.016678,
     "end_time": "2023-12-24T15:58:45.086457",
     "exception": false,
     "start_time": "2023-12-24T15:58:45.069779",
     "status": "completed"
    },
    "tags": []
   },
   "source": [
    "Run the next code cell to get the MAE for this approach."
   ]
  },
  {
   "cell_type": "code",
   "execution_count": 23,
   "id": "4b353bf1",
   "metadata": {
    "execution": {
     "iopub.execute_input": "2023-12-24T15:58:45.121338Z",
     "iopub.status.busy": "2023-12-24T15:58:45.120471Z",
     "iopub.status.idle": "2023-12-24T15:58:47.159326Z",
     "shell.execute_reply": "2023-12-24T15:58:47.157883Z"
    },
    "papermill": {
     "duration": 2.058952,
     "end_time": "2023-12-24T15:58:47.161761",
     "exception": false,
     "start_time": "2023-12-24T15:58:45.102809",
     "status": "completed"
    },
    "tags": []
   },
   "outputs": [
    {
     "name": "stdout",
     "output_type": "stream",
     "text": [
      "MAE from Approach 3 (One-Hot Encoding):\n",
      "17525.345719178084\n"
     ]
    }
   ],
   "source": [
    "print(\"MAE from Approach 3 (One-Hot Encoding):\") \n",
    "print(score_dataset(OH_X_train, OH_X_valid, y_train, y_valid))"
   ]
  },
  {
   "cell_type": "markdown",
   "id": "80fbbbe0",
   "metadata": {
    "papermill": {
     "duration": 0.016658,
     "end_time": "2023-12-24T15:58:47.195607",
     "exception": false,
     "start_time": "2023-12-24T15:58:47.178949",
     "status": "completed"
    },
    "tags": []
   },
   "source": [
    "# Generate test predictions and submit your results\n",
    "\n",
    "After you complete Step 4, if you'd like to use what you've learned to submit your results to the leaderboard, you'll need to preprocess the test data before generating predictions.\n",
    "\n",
    "**This step is completely optional, and you do not need to submit results to the leaderboard to successfully complete the exercise.**\n",
    "\n",
    "Check out the previous exercise if you need help with remembering how to [join the competition](https://www.kaggle.com/c/home-data-for-ml-course) or save your results to CSV.  Once you have generated a file with your results, follow the instructions below:\n",
    "1. Begin by clicking on the **Save Version** button in the top right corner of the window.  This will generate a pop-up window.  \n",
    "2. Ensure that the **Save and Run All** option is selected, and then click on the **Save** button.\n",
    "3. This generates a window in the bottom left corner of the notebook.  After it has finished running, click on the number to the right of the **Save Version** button.  This pulls up a list of versions on the right of the screen.  Click on the ellipsis **(...)** to the right of the most recent version, and select **Open in Viewer**.  This brings you into view mode of the same page. You will need to scroll down to get back to these instructions.\n",
    "4. Click on the **Data** tab near the top of the screen.  Then, click on the file you would like to submit, and click on the **Submit** button to submit your results to the leaderboard.\n",
    "\n",
    "You have now successfully submitted to the competition!\n",
    "\n",
    "If you want to keep working to improve your performance, select the **Edit** button in the top right of the screen. Then you can change your code and repeat the process. There's a lot of room to improve, and you will climb up the leaderboard as you work.\n"
   ]
  },
  {
   "cell_type": "code",
   "execution_count": 24,
   "id": "45c001aa",
   "metadata": {
    "execution": {
     "iopub.execute_input": "2023-12-24T15:58:47.231443Z",
     "iopub.status.busy": "2023-12-24T15:58:47.230997Z",
     "iopub.status.idle": "2023-12-24T15:58:47.238655Z",
     "shell.execute_reply": "2023-12-24T15:58:47.237482Z"
    },
    "papermill": {
     "duration": 0.02883,
     "end_time": "2023-12-24T15:58:47.241141",
     "exception": false,
     "start_time": "2023-12-24T15:58:47.212311",
     "status": "completed"
    },
    "tags": []
   },
   "outputs": [
    {
     "data": {
      "text/plain": [
       "'\\nprint(X_test.isnull().any())\\nlabel_X_test = X_test.drop(bad_label_cols, axis = 1)\\nlabel_X_test[good_label_cols] = ordinal_encoder.transform(X_test[good_label_cols])\\nmodel = RandomForestRegressor(n_estimators=100, random_state=0)\\nmodel.fit(label_X_train, y_train)\\npreds = model.predict(X_test)\\n\\nprint(preds)'"
      ]
     },
     "execution_count": 24,
     "metadata": {},
     "output_type": "execute_result"
    }
   ],
   "source": [
    "# (Optional) Your code here\n",
    "\"\"\"\n",
    "print(X_test.isnull().any())\n",
    "label_X_test = X_test.drop(bad_label_cols, axis = 1)\n",
    "label_X_test[good_label_cols] = ordinal_encoder.transform(X_test[good_label_cols])\n",
    "model = RandomForestRegressor(n_estimators=100, random_state=0)\n",
    "model.fit(label_X_train, y_train)\n",
    "preds = model.predict(X_test)\n",
    "\n",
    "print(preds)\"\"\"\n",
    "\n",
    "# Now i didn't get a time to create better model due to some other works but i will update in a little while\n"
   ]
  },
  {
   "cell_type": "markdown",
   "id": "0a27c08a",
   "metadata": {
    "papermill": {
     "duration": 0.016725,
     "end_time": "2023-12-24T15:58:47.274726",
     "exception": false,
     "start_time": "2023-12-24T15:58:47.258001",
     "status": "completed"
    },
    "tags": []
   },
   "source": [
    "# Keep going\n",
    "\n",
    "With missing value handling and categorical encoding, your modeling process is getting complex. This complexity gets worse when you want to save your model to use in the future. The key to managing this complexity is something called **pipelines**. \n",
    "\n",
    "**[Learn to use pipelines](https://www.kaggle.com/alexisbcook/pipelines)** to preprocess datasets with categorical variables, missing values and any other messiness your data throws at you."
   ]
  },
  {
   "cell_type": "markdown",
   "id": "bc2aa3cb",
   "metadata": {
    "papermill": {
     "duration": 0.016507,
     "end_time": "2023-12-24T15:58:47.308059",
     "exception": false,
     "start_time": "2023-12-24T15:58:47.291552",
     "status": "completed"
    },
    "tags": []
   },
   "source": [
    "---\n",
    "\n",
    "\n",
    "\n",
    "\n",
    "*Have questions or comments? Visit the [course discussion forum](https://www.kaggle.com/learn/intermediate-machine-learning/discussion) to chat with other learners.*"
   ]
  }
 ],
 "metadata": {
  "kaggle": {
   "accelerator": "none",
   "dataSources": [
    {
     "databundleVersionId": 111096,
     "sourceId": 10211,
     "sourceType": "competition"
    }
   ],
   "isGpuEnabled": false,
   "isInternetEnabled": false,
   "language": "python",
   "sourceType": "notebook"
  },
  "kernelspec": {
   "display_name": "Python 3",
   "language": "python",
   "name": "python3"
  },
  "language_info": {
   "codemirror_mode": {
    "name": "ipython",
    "version": 3
   },
   "file_extension": ".py",
   "mimetype": "text/x-python",
   "name": "python",
   "nbconvert_exporter": "python",
   "pygments_lexer": "ipython3",
   "version": "3.10.12"
  },
  "papermill": {
   "default_parameters": {},
   "duration": 12.901462,
   "end_time": "2023-12-24T15:58:47.945893",
   "environment_variables": {},
   "exception": null,
   "input_path": "__notebook__.ipynb",
   "output_path": "__notebook__.ipynb",
   "parameters": {},
   "start_time": "2023-12-24T15:58:35.044431",
   "version": "2.4.0"
  }
 },
 "nbformat": 4,
 "nbformat_minor": 5
}
