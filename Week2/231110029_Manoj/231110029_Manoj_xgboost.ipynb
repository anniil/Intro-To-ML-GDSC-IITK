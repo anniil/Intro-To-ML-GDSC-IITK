{
 "cells": [
  {
   "cell_type": "markdown",
   "id": "0a0e07ec",
   "metadata": {
    "papermill": {
     "duration": 0.009038,
     "end_time": "2023-12-24T16:17:35.046707",
     "exception": false,
     "start_time": "2023-12-24T16:17:35.037669",
     "status": "completed"
    },
    "tags": []
   },
   "source": [
    "**This notebook is an exercise in the [Intermediate Machine Learning](https://www.kaggle.com/learn/intermediate-machine-learning) course.  You can reference the tutorial at [this link](https://www.kaggle.com/alexisbcook/xgboost).**\n",
    "\n",
    "---\n"
   ]
  },
  {
   "cell_type": "markdown",
   "id": "484664d0",
   "metadata": {
    "papermill": {
     "duration": 0.00806,
     "end_time": "2023-12-24T16:17:35.063410",
     "exception": false,
     "start_time": "2023-12-24T16:17:35.055350",
     "status": "completed"
    },
    "tags": []
   },
   "source": [
    "In this exercise, you will use your new knowledge to train a model with **gradient boosting**.\n",
    "\n",
    "# Setup\n",
    "\n",
    "The questions below will give you feedback on your work. Run the following cell to set up the feedback system."
   ]
  },
  {
   "cell_type": "code",
   "execution_count": 1,
   "id": "005d38fd",
   "metadata": {
    "execution": {
     "iopub.execute_input": "2023-12-24T16:17:35.083448Z",
     "iopub.status.busy": "2023-12-24T16:17:35.082934Z",
     "iopub.status.idle": "2023-12-24T16:17:38.687773Z",
     "shell.execute_reply": "2023-12-24T16:17:38.686759Z"
    },
    "papermill": {
     "duration": 3.618484,
     "end_time": "2023-12-24T16:17:38.690509",
     "exception": false,
     "start_time": "2023-12-24T16:17:35.072025",
     "status": "completed"
    },
    "tags": []
   },
   "outputs": [
    {
     "name": "stdout",
     "output_type": "stream",
     "text": [
      "Setup Complete\n"
     ]
    }
   ],
   "source": [
    "# Set up code checking\n",
    "import os\n",
    "if not os.path.exists(\"../input/train.csv\"):\n",
    "    os.symlink(\"../input/home-data-for-ml-course/train.csv\", \"../input/train.csv\")  \n",
    "    os.symlink(\"../input/home-data-for-ml-course/test.csv\", \"../input/test.csv\") \n",
    "from learntools.core import binder\n",
    "binder.bind(globals())\n",
    "from learntools.ml_intermediate.ex6 import *\n",
    "print(\"Setup Complete\")"
   ]
  },
  {
   "cell_type": "markdown",
   "id": "510b463f",
   "metadata": {
    "papermill": {
     "duration": 0.007985,
     "end_time": "2023-12-24T16:17:38.707090",
     "exception": false,
     "start_time": "2023-12-24T16:17:38.699105",
     "status": "completed"
    },
    "tags": []
   },
   "source": [
    "You will work with the [Housing Prices Competition for Kaggle Learn Users](https://www.kaggle.com/c/home-data-for-ml-course) dataset from the previous exercise. \n",
    "\n",
    "![Ames Housing dataset image](https://storage.googleapis.com/kaggle-media/learn/images/lTJVG4e.png)\n",
    "\n",
    "Run the next code cell without changes to load the training and validation sets in `X_train`, `X_valid`, `y_train`, and `y_valid`.  The test set is loaded in `X_test`."
   ]
  },
  {
   "cell_type": "code",
   "execution_count": 2,
   "id": "7e52dc6f",
   "metadata": {
    "execution": {
     "iopub.execute_input": "2023-12-24T16:17:38.725360Z",
     "iopub.status.busy": "2023-12-24T16:17:38.723944Z",
     "iopub.status.idle": "2023-12-24T16:17:38.966108Z",
     "shell.execute_reply": "2023-12-24T16:17:38.964776Z"
    },
    "papermill": {
     "duration": 0.254669,
     "end_time": "2023-12-24T16:17:38.969561",
     "exception": false,
     "start_time": "2023-12-24T16:17:38.714892",
     "status": "completed"
    },
    "tags": []
   },
   "outputs": [],
   "source": [
    "import pandas as pd\n",
    "from sklearn.model_selection import train_test_split\n",
    "\n",
    "# Read the data\n",
    "X = pd.read_csv('../input/train.csv', index_col='Id')\n",
    "X_test_full = pd.read_csv('../input/test.csv', index_col='Id')\n",
    "\n",
    "# Remove rows with missing target, separate target from predictors\n",
    "X.dropna(axis=0, subset=['SalePrice'], inplace=True)\n",
    "y = X.SalePrice              \n",
    "X.drop(['SalePrice'], axis=1, inplace=True)\n",
    "\n",
    "# Break off validation set from training data\n",
    "X_train_full, X_valid_full, y_train, y_valid = train_test_split(X, y, train_size=0.8, test_size=0.2,\n",
    "                                                                random_state=0)\n",
    "\n",
    "# \"Cardinality\" means the number of unique values in a column\n",
    "# Select categorical columns with relatively low cardinality (convenient but arbitrary)\n",
    "low_cardinality_cols = [cname for cname in X_train_full.columns if X_train_full[cname].nunique() < 10 and \n",
    "                        X_train_full[cname].dtype == \"object\"]\n",
    "\n",
    "# Select numeric columns\n",
    "numeric_cols = [cname for cname in X_train_full.columns if X_train_full[cname].dtype in ['int64', 'float64']]\n",
    "\n",
    "# Keep selected columns only\n",
    "my_cols = low_cardinality_cols + numeric_cols\n",
    "X_train = X_train_full[my_cols].copy()\n",
    "X_valid = X_valid_full[my_cols].copy()\n",
    "X_test = X_test_full[my_cols].copy()\n",
    "\n",
    "# One-hot encode the data (to shorten the code, we use pandas)\n",
    "X_train = pd.get_dummies(X_train)\n",
    "X_valid = pd.get_dummies(X_valid)\n",
    "X_test = pd.get_dummies(X_test)\n",
    "X_train, X_valid = X_train.align(X_valid, join='left', axis=1)\n",
    "X_train, X_test = X_train.align(X_test, join='left', axis=1)"
   ]
  },
  {
   "cell_type": "markdown",
   "id": "64d4288c",
   "metadata": {
    "papermill": {
     "duration": 0.009179,
     "end_time": "2023-12-24T16:17:38.987322",
     "exception": false,
     "start_time": "2023-12-24T16:17:38.978143",
     "status": "completed"
    },
    "tags": []
   },
   "source": [
    "# Step 1: Build model\n",
    "\n",
    "### Part A\n",
    "\n",
    "In this step, you'll build and train your first model with gradient boosting.\n",
    "\n",
    "- Begin by setting `my_model_1` to an XGBoost model.  Use the [XGBRegressor](https://xgboost.readthedocs.io/en/latest/python/python_api.html#xgboost.XGBRegressor) class, and set the random seed to 0 (`random_state=0`).  **Leave all other parameters as default.**\n",
    "- Then, fit the model to the training data in `X_train` and `y_train`."
   ]
  },
  {
   "cell_type": "code",
   "execution_count": 3,
   "id": "bfa21f8d",
   "metadata": {
    "execution": {
     "iopub.execute_input": "2023-12-24T16:17:39.010699Z",
     "iopub.status.busy": "2023-12-24T16:17:39.009930Z",
     "iopub.status.idle": "2023-12-24T16:17:41.123215Z",
     "shell.execute_reply": "2023-12-24T16:17:41.122085Z"
    },
    "papermill": {
     "duration": 2.129081,
     "end_time": "2023-12-24T16:17:41.126277",
     "exception": false,
     "start_time": "2023-12-24T16:17:38.997196",
     "status": "completed"
    },
    "tags": []
   },
   "outputs": [
    {
     "data": {
      "application/javascript": [
       "parent.postMessage({\"jupyterEvent\": \"custom.exercise_interaction\", \"data\": {\"outcomeType\": 1, \"valueTowardsCompletion\": 0.5, \"interactionType\": 1, \"questionType\": 2, \"questionId\": \"1.1_Model1A\", \"learnToolsVersion\": \"0.3.4\", \"failureMessage\": \"\", \"exceptionClass\": \"\", \"trace\": \"\"}}, \"*\")"
      ],
      "text/plain": [
       "<IPython.core.display.Javascript object>"
      ]
     },
     "metadata": {},
     "output_type": "display_data"
    },
    {
     "data": {
      "text/markdown": [
       "<span style=\"color:#33cc33\">Correct</span>"
      ],
      "text/plain": [
       "Correct"
      ]
     },
     "metadata": {},
     "output_type": "display_data"
    }
   ],
   "source": [
    "from xgboost import XGBRegressor\n",
    "\n",
    "# Define the model\n",
    "my_model_1 = XGBRegressor(random_state=0)# Your code here\n",
    "\n",
    "# Fit the model\n",
    "my_model_1.fit(X_train, y_train) # Your code here\n",
    "\n",
    "# Check your answer\n",
    "step_1.a.check()"
   ]
  },
  {
   "cell_type": "code",
   "execution_count": 4,
   "id": "0dbf49ff",
   "metadata": {
    "execution": {
     "iopub.execute_input": "2023-12-24T16:17:41.147445Z",
     "iopub.status.busy": "2023-12-24T16:17:41.146410Z",
     "iopub.status.idle": "2023-12-24T16:17:41.154815Z",
     "shell.execute_reply": "2023-12-24T16:17:41.153196Z"
    },
    "papermill": {
     "duration": 0.022279,
     "end_time": "2023-12-24T16:17:41.158175",
     "exception": false,
     "start_time": "2023-12-24T16:17:41.135896",
     "status": "completed"
    },
    "tags": []
   },
   "outputs": [],
   "source": [
    "# Lines below will give you a hint or solution code\n",
    "# step_1.a.hint()\n",
    "# step_1.a.solution()"
   ]
  },
  {
   "cell_type": "markdown",
   "id": "707ed65d",
   "metadata": {
    "papermill": {
     "duration": 0.007904,
     "end_time": "2023-12-24T16:17:41.175312",
     "exception": false,
     "start_time": "2023-12-24T16:17:41.167408",
     "status": "completed"
    },
    "tags": []
   },
   "source": [
    "### Part B\n",
    "\n",
    "Set `predictions_1` to the model's predictions for the validation data.  Recall that the validation features are stored in `X_valid`."
   ]
  },
  {
   "cell_type": "code",
   "execution_count": 5,
   "id": "0ae228f9",
   "metadata": {
    "execution": {
     "iopub.execute_input": "2023-12-24T16:17:41.194219Z",
     "iopub.status.busy": "2023-12-24T16:17:41.193789Z",
     "iopub.status.idle": "2023-12-24T16:17:41.275609Z",
     "shell.execute_reply": "2023-12-24T16:17:41.274238Z"
    },
    "papermill": {
     "duration": 0.094664,
     "end_time": "2023-12-24T16:17:41.278607",
     "exception": false,
     "start_time": "2023-12-24T16:17:41.183943",
     "status": "completed"
    },
    "tags": []
   },
   "outputs": [
    {
     "data": {
      "application/javascript": [
       "parent.postMessage({\"jupyterEvent\": \"custom.exercise_interaction\", \"data\": {\"outcomeType\": 1, \"valueTowardsCompletion\": 0.5, \"interactionType\": 1, \"questionType\": 2, \"questionId\": \"1.2_Model1B\", \"learnToolsVersion\": \"0.3.4\", \"failureMessage\": \"\", \"exceptionClass\": \"\", \"trace\": \"\"}}, \"*\")"
      ],
      "text/plain": [
       "<IPython.core.display.Javascript object>"
      ]
     },
     "metadata": {},
     "output_type": "display_data"
    },
    {
     "data": {
      "text/markdown": [
       "<span style=\"color:#33cc33\">Correct</span>"
      ],
      "text/plain": [
       "Correct"
      ]
     },
     "metadata": {},
     "output_type": "display_data"
    }
   ],
   "source": [
    "from sklearn.metrics import mean_absolute_error\n",
    "\n",
    "# Get predictions\n",
    "predictions_1 = my_model_1.predict(X_valid)  # Your code here\n",
    "\n",
    "# Check your answer\n",
    "step_1.b.check()"
   ]
  },
  {
   "cell_type": "code",
   "execution_count": 6,
   "id": "431436de",
   "metadata": {
    "execution": {
     "iopub.execute_input": "2023-12-24T16:17:41.297341Z",
     "iopub.status.busy": "2023-12-24T16:17:41.296885Z",
     "iopub.status.idle": "2023-12-24T16:17:41.302560Z",
     "shell.execute_reply": "2023-12-24T16:17:41.301145Z"
    },
    "papermill": {
     "duration": 0.018703,
     "end_time": "2023-12-24T16:17:41.305748",
     "exception": false,
     "start_time": "2023-12-24T16:17:41.287045",
     "status": "completed"
    },
    "tags": []
   },
   "outputs": [],
   "source": [
    "# Lines below will give you a hint or solution code\n",
    "# step_1.b.hint()\n",
    "# step_1.b.solution()"
   ]
  },
  {
   "cell_type": "markdown",
   "id": "21964553",
   "metadata": {
    "papermill": {
     "duration": 0.008633,
     "end_time": "2023-12-24T16:17:41.323958",
     "exception": false,
     "start_time": "2023-12-24T16:17:41.315325",
     "status": "completed"
    },
    "tags": []
   },
   "source": [
    "### Part C\n",
    "\n",
    "Finally, use the `mean_absolute_error()` function to calculate the mean absolute error (MAE) corresponding to the predictions for the validation set.  Recall that the labels for the validation data are stored in `y_valid`."
   ]
  },
  {
   "cell_type": "code",
   "execution_count": 7,
   "id": "4e6eb62b",
   "metadata": {
    "execution": {
     "iopub.execute_input": "2023-12-24T16:17:41.346863Z",
     "iopub.status.busy": "2023-12-24T16:17:41.346139Z",
     "iopub.status.idle": "2023-12-24T16:17:41.357171Z",
     "shell.execute_reply": "2023-12-24T16:17:41.356255Z"
    },
    "papermill": {
     "duration": 0.027219,
     "end_time": "2023-12-24T16:17:41.360060",
     "exception": false,
     "start_time": "2023-12-24T16:17:41.332841",
     "status": "completed"
    },
    "tags": []
   },
   "outputs": [
    {
     "data": {
      "application/javascript": [
       "parent.postMessage({\"jupyterEvent\": \"custom.exercise_interaction\", \"data\": {\"outcomeType\": 1, \"valueTowardsCompletion\": 0.5, \"interactionType\": 1, \"questionType\": 2, \"questionId\": \"1.3_Model1C\", \"learnToolsVersion\": \"0.3.4\", \"failureMessage\": \"\", \"exceptionClass\": \"\", \"trace\": \"\"}}, \"*\")"
      ],
      "text/plain": [
       "<IPython.core.display.Javascript object>"
      ]
     },
     "metadata": {},
     "output_type": "display_data"
    },
    {
     "data": {
      "text/markdown": [
       "<span style=\"color:#33cc33\">Correct</span>"
      ],
      "text/plain": [
       "Correct"
      ]
     },
     "metadata": {},
     "output_type": "display_data"
    }
   ],
   "source": [
    "# Calculate MAE\n",
    "mae_1 = mean_absolute_error(predictions_1, y_valid)  # Your code here\n",
    "\n",
    "# Uncomment to print MAE\n",
    "# print(\"Mean Absolute Error:\" , mae_1)\n",
    "\n",
    "# Check your answer\n",
    "step_1.c.check()"
   ]
  },
  {
   "cell_type": "code",
   "execution_count": 8,
   "id": "862f178d",
   "metadata": {
    "execution": {
     "iopub.execute_input": "2023-12-24T16:17:41.381110Z",
     "iopub.status.busy": "2023-12-24T16:17:41.380599Z",
     "iopub.status.idle": "2023-12-24T16:17:41.385695Z",
     "shell.execute_reply": "2023-12-24T16:17:41.384541Z"
    },
    "papermill": {
     "duration": 0.019043,
     "end_time": "2023-12-24T16:17:41.388284",
     "exception": false,
     "start_time": "2023-12-24T16:17:41.369241",
     "status": "completed"
    },
    "tags": []
   },
   "outputs": [],
   "source": [
    "# Lines below will give you a hint or solution code\n",
    "# step_1.c.hint()\n",
    "# step_1.c.solution()"
   ]
  },
  {
   "cell_type": "markdown",
   "id": "080d3569",
   "metadata": {
    "papermill": {
     "duration": 0.008819,
     "end_time": "2023-12-24T16:17:41.405677",
     "exception": false,
     "start_time": "2023-12-24T16:17:41.396858",
     "status": "completed"
    },
    "tags": []
   },
   "source": [
    "# Step 2: Improve the model\n",
    "\n",
    "Now that you've trained a default model as baseline, it's time to tinker with the parameters, to see if you can get better performance!\n",
    "- Begin by setting `my_model_2` to an XGBoost model, using the [XGBRegressor](https://xgboost.readthedocs.io/en/latest/python/python_api.html#xgboost.XGBRegressor) class.  Use what you learned in the previous tutorial to figure out how to change the default parameters (like `n_estimators` and `learning_rate`) to get better results.\n",
    "- Then, fit the model to the training data in `X_train` and `y_train`.\n",
    "- Set `predictions_2` to the model's predictions for the validation data.  Recall that the validation features are stored in `X_valid`.\n",
    "- Finally, use the `mean_absolute_error()` function to calculate the mean absolute error (MAE) corresponding to the predictions on the validation set.  Recall that the labels for the validation data are stored in `y_valid`.\n",
    "\n",
    "In order for this step to be marked correct, your model in `my_model_2` must attain lower MAE than the model in `my_model_1`. "
   ]
  },
  {
   "cell_type": "code",
   "execution_count": 9,
   "id": "aa2c01ae",
   "metadata": {
    "execution": {
     "iopub.execute_input": "2023-12-24T16:17:41.426998Z",
     "iopub.status.busy": "2023-12-24T16:17:41.426484Z",
     "iopub.status.idle": "2023-12-24T16:17:46.434993Z",
     "shell.execute_reply": "2023-12-24T16:17:46.433527Z"
    },
    "papermill": {
     "duration": 5.022916,
     "end_time": "2023-12-24T16:17:46.438125",
     "exception": false,
     "start_time": "2023-12-24T16:17:41.415209",
     "status": "completed"
    },
    "tags": []
   },
   "outputs": [
    {
     "data": {
      "application/javascript": [
       "parent.postMessage({\"jupyterEvent\": \"custom.exercise_interaction\", \"data\": {\"outcomeType\": 1, \"valueTowardsCompletion\": 0.5, \"interactionType\": 1, \"questionType\": 2, \"questionId\": \"2_Model2\", \"learnToolsVersion\": \"0.3.4\", \"failureMessage\": \"\", \"exceptionClass\": \"\", \"trace\": \"\"}}, \"*\")"
      ],
      "text/plain": [
       "<IPython.core.display.Javascript object>"
      ]
     },
     "metadata": {},
     "output_type": "display_data"
    },
    {
     "data": {
      "text/markdown": [
       "<span style=\"color:#33cc33\">Correct</span>"
      ],
      "text/plain": [
       "Correct"
      ]
     },
     "metadata": {},
     "output_type": "display_data"
    }
   ],
   "source": [
    "# Define the model\n",
    "my_model_2 = XGBRegressor(n_estimators=1000, learning_rate=0.05) # Your code here\n",
    "\n",
    "# Fit the model\n",
    "my_model_2.fit(X_train, y_train) # Your code here\n",
    "\n",
    "# Get predictions\n",
    "predictions_2 = my_model_2.predict(X_valid) # Your code here\n",
    "\n",
    "# Calculate MAE\n",
    "mae_2 = mean_absolute_error(predictions_2, y_valid) # Your code here\n",
    "\n",
    "# Uncomment to print MAE\n",
    "# print(\"Mean Absolute Error:\" , mae_2)\n",
    "\n",
    "# Check your answer\n",
    "step_2.check()"
   ]
  },
  {
   "cell_type": "code",
   "execution_count": 10,
   "id": "8cc54670",
   "metadata": {
    "execution": {
     "iopub.execute_input": "2023-12-24T16:17:46.458879Z",
     "iopub.status.busy": "2023-12-24T16:17:46.458412Z",
     "iopub.status.idle": "2023-12-24T16:17:46.463887Z",
     "shell.execute_reply": "2023-12-24T16:17:46.462563Z"
    },
    "papermill": {
     "duration": 0.018968,
     "end_time": "2023-12-24T16:17:46.466668",
     "exception": false,
     "start_time": "2023-12-24T16:17:46.447700",
     "status": "completed"
    },
    "tags": []
   },
   "outputs": [],
   "source": [
    "# Lines below will give you a hint or solution code\n",
    "# step_2.hint()\n",
    "# step_2.solution()"
   ]
  },
  {
   "cell_type": "markdown",
   "id": "78e690d9",
   "metadata": {
    "papermill": {
     "duration": 0.008789,
     "end_time": "2023-12-24T16:17:46.484931",
     "exception": false,
     "start_time": "2023-12-24T16:17:46.476142",
     "status": "completed"
    },
    "tags": []
   },
   "source": [
    "# Step 3: Break the model\n",
    "\n",
    "In this step, you will create a model that performs worse than the original model in Step 1.  This will help you to develop your intuition for how to set parameters.  You might even find that you accidentally get better performance, which is ultimately a nice problem to have and a valuable learning experience!\n",
    "- Begin by setting `my_model_3` to an XGBoost model, using the [XGBRegressor](https://xgboost.readthedocs.io/en/latest/python/python_api.html#xgboost.XGBRegressor) class.  Use what you learned in the previous tutorial to figure out how to change the default parameters (like `n_estimators` and `learning_rate`) to design a model to get high MAE.\n",
    "- Then, fit the model to the training data in `X_train` and `y_train`.\n",
    "- Set `predictions_3` to the model's predictions for the validation data.  Recall that the validation features are stored in `X_valid`.\n",
    "- Finally, use the `mean_absolute_error()` function to calculate the mean absolute error (MAE) corresponding to the predictions on the validation set.  Recall that the labels for the validation data are stored in `y_valid`.\n",
    "\n",
    "In order for this step to be marked correct, your model in `my_model_3` must attain higher MAE than the model in `my_model_1`. "
   ]
  },
  {
   "cell_type": "code",
   "execution_count": 11,
   "id": "b55fad99",
   "metadata": {
    "execution": {
     "iopub.execute_input": "2023-12-24T16:17:46.504946Z",
     "iopub.status.busy": "2023-12-24T16:17:46.504413Z",
     "iopub.status.idle": "2023-12-24T16:17:46.686908Z",
     "shell.execute_reply": "2023-12-24T16:17:46.685679Z"
    },
    "papermill": {
     "duration": 0.195852,
     "end_time": "2023-12-24T16:17:46.689759",
     "exception": false,
     "start_time": "2023-12-24T16:17:46.493907",
     "status": "completed"
    },
    "tags": []
   },
   "outputs": [
    {
     "data": {
      "application/javascript": [
       "parent.postMessage({\"jupyterEvent\": \"custom.exercise_interaction\", \"data\": {\"outcomeType\": 1, \"valueTowardsCompletion\": 0.5, \"interactionType\": 1, \"questionType\": 2, \"questionId\": \"3_Model3\", \"learnToolsVersion\": \"0.3.4\", \"failureMessage\": \"\", \"exceptionClass\": \"\", \"trace\": \"\"}}, \"*\")"
      ],
      "text/plain": [
       "<IPython.core.display.Javascript object>"
      ]
     },
     "metadata": {},
     "output_type": "display_data"
    },
    {
     "data": {
      "text/markdown": [
       "<span style=\"color:#33cc33\">Correct</span>"
      ],
      "text/plain": [
       "Correct"
      ]
     },
     "metadata": {},
     "output_type": "display_data"
    }
   ],
   "source": [
    "# Define the model\n",
    "my_model_3 = XGBRegressor(n_estimators=1)\n",
    "\n",
    "# Fit the model\n",
    "my_model_3.fit(X_train, y_train) # Your code here\n",
    "\n",
    "# Get predictions\n",
    "predictions_3 = my_model_3.predict(X_valid)\n",
    "\n",
    "# Calculate MAE\n",
    "mae_3 = mean_absolute_error(predictions_3, y_valid)\n",
    "\n",
    "# Uncomment to print MAE\n",
    "# print(\"Mean Absolute Error:\" , mae_3)\n",
    "\n",
    "# Check your answer\n",
    "step_3.check()"
   ]
  },
  {
   "cell_type": "code",
   "execution_count": 12,
   "id": "e135db86",
   "metadata": {
    "execution": {
     "iopub.execute_input": "2023-12-24T16:17:46.711643Z",
     "iopub.status.busy": "2023-12-24T16:17:46.711137Z",
     "iopub.status.idle": "2023-12-24T16:17:46.717583Z",
     "shell.execute_reply": "2023-12-24T16:17:46.716107Z"
    },
    "papermill": {
     "duration": 0.020912,
     "end_time": "2023-12-24T16:17:46.720724",
     "exception": false,
     "start_time": "2023-12-24T16:17:46.699812",
     "status": "completed"
    },
    "tags": []
   },
   "outputs": [],
   "source": [
    "# Lines below will give you a hint or solution code\n",
    "# step_3.hint()\n",
    "# step_3.solution()"
   ]
  },
  {
   "cell_type": "markdown",
   "id": "3bd2b4d9",
   "metadata": {
    "papermill": {
     "duration": 0.009105,
     "end_time": "2023-12-24T16:17:46.739845",
     "exception": false,
     "start_time": "2023-12-24T16:17:46.730740",
     "status": "completed"
    },
    "tags": []
   },
   "source": [
    "# Keep going\n",
    "\n",
    "Continue to learn about **[data leakage](https://www.kaggle.com/alexisbcook/data-leakage)**.  This is an important issue for a data scientist to understand, and it has the potential to ruin your models in subtle and dangerous ways!"
   ]
  },
  {
   "cell_type": "markdown",
   "id": "ea739c67",
   "metadata": {
    "papermill": {
     "duration": 0.009358,
     "end_time": "2023-12-24T16:17:46.758560",
     "exception": false,
     "start_time": "2023-12-24T16:17:46.749202",
     "status": "completed"
    },
    "tags": []
   },
   "source": [
    "---\n",
    "\n",
    "\n",
    "\n",
    "\n",
    "*Have questions or comments? Visit the [course discussion forum](https://www.kaggle.com/learn/intermediate-machine-learning/discussion) to chat with other learners.*"
   ]
  }
 ],
 "metadata": {
  "kaggle": {
   "accelerator": "none",
   "dataSources": [
    {
     "databundleVersionId": 111096,
     "sourceId": 10211,
     "sourceType": "competition"
    }
   ],
   "isGpuEnabled": false,
   "isInternetEnabled": false,
   "language": "python",
   "sourceType": "notebook"
  },
  "kernelspec": {
   "display_name": "Python 3",
   "language": "python",
   "name": "python3"
  },
  "language_info": {
   "codemirror_mode": {
    "name": "ipython",
    "version": 3
   },
   "file_extension": ".py",
   "mimetype": "text/x-python",
   "name": "python",
   "nbconvert_exporter": "python",
   "pygments_lexer": "ipython3",
   "version": "3.10.12"
  },
  "papermill": {
   "default_parameters": {},
   "duration": 16.644076,
   "end_time": "2023-12-24T16:17:47.695105",
   "environment_variables": {},
   "exception": null,
   "input_path": "__notebook__.ipynb",
   "output_path": "__notebook__.ipynb",
   "parameters": {},
   "start_time": "2023-12-24T16:17:31.051029",
   "version": "2.4.0"
  }
 },
 "nbformat": 4,
 "nbformat_minor": 5
}
