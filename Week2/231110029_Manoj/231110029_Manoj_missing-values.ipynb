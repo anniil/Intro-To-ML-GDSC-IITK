{
 "cells": [
  {
   "cell_type": "markdown",
   "id": "68ba0988",
   "metadata": {
    "papermill": {
     "duration": 0.012695,
     "end_time": "2023-12-24T15:54:34.456679",
     "exception": false,
     "start_time": "2023-12-24T15:54:34.443984",
     "status": "completed"
    },
    "tags": []
   },
   "source": [
    "**This notebook is an exercise in the [Intermediate Machine Learning](https://www.kaggle.com/learn/intermediate-machine-learning) course.  You can reference the tutorial at [this link](https://www.kaggle.com/alexisbcook/missing-values).**\n",
    "\n",
    "---\n"
   ]
  },
  {
   "cell_type": "markdown",
   "id": "1a0df3d0",
   "metadata": {
    "papermill": {
     "duration": 0.011832,
     "end_time": "2023-12-24T15:54:34.480740",
     "exception": false,
     "start_time": "2023-12-24T15:54:34.468908",
     "status": "completed"
    },
    "tags": []
   },
   "source": [
    "Now it's your turn to test your new knowledge of **missing values** handling. You'll probably find it makes a big difference.\n",
    "\n",
    "# Setup\n",
    "\n",
    "The questions will give you feedback on your work. Run the following cell to set up the feedback system."
   ]
  },
  {
   "cell_type": "code",
   "execution_count": 1,
   "id": "aa040166",
   "metadata": {
    "execution": {
     "iopub.execute_input": "2023-12-24T15:54:34.507105Z",
     "iopub.status.busy": "2023-12-24T15:54:34.506652Z",
     "iopub.status.idle": "2023-12-24T15:54:35.420073Z",
     "shell.execute_reply": "2023-12-24T15:54:35.418434Z"
    },
    "papermill": {
     "duration": 0.929818,
     "end_time": "2023-12-24T15:54:35.422639",
     "exception": false,
     "start_time": "2023-12-24T15:54:34.492821",
     "status": "completed"
    },
    "tags": []
   },
   "outputs": [
    {
     "name": "stdout",
     "output_type": "stream",
     "text": [
      "Setup Complete\n"
     ]
    }
   ],
   "source": [
    "# Set up code checking\n",
    "import os\n",
    "if not os.path.exists(\"../input/train.csv\"):\n",
    "    os.symlink(\"../input/home-data-for-ml-course/train.csv\", \"../input/train.csv\")  \n",
    "    os.symlink(\"../input/home-data-for-ml-course/test.csv\", \"../input/test.csv\") \n",
    "from learntools.core import binder\n",
    "binder.bind(globals())\n",
    "from learntools.ml_intermediate.ex2 import *\n",
    "print(\"Setup Complete\")"
   ]
  },
  {
   "cell_type": "markdown",
   "id": "0ad8af5f",
   "metadata": {
    "papermill": {
     "duration": 0.011498,
     "end_time": "2023-12-24T15:54:35.446277",
     "exception": false,
     "start_time": "2023-12-24T15:54:35.434779",
     "status": "completed"
    },
    "tags": []
   },
   "source": [
    "In this exercise, you will work with data from the [Housing Prices Competition for Kaggle Learn Users](https://www.kaggle.com/c/home-data-for-ml-course). \n",
    "\n",
    "![Ames Housing dataset image](https://storage.googleapis.com/kaggle-media/learn/images/lTJVG4e.png)\n",
    "\n",
    "Run the next code cell without changes to load the training and validation sets in `X_train`, `X_valid`, `y_train`, and `y_valid`.  The test set is loaded in `X_test`."
   ]
  },
  {
   "cell_type": "code",
   "execution_count": 2,
   "id": "8c667acd",
   "metadata": {
    "execution": {
     "iopub.execute_input": "2023-12-24T15:54:35.471869Z",
     "iopub.status.busy": "2023-12-24T15:54:35.471321Z",
     "iopub.status.idle": "2023-12-24T15:54:36.904306Z",
     "shell.execute_reply": "2023-12-24T15:54:36.903119Z"
    },
    "papermill": {
     "duration": 1.448851,
     "end_time": "2023-12-24T15:54:36.907031",
     "exception": false,
     "start_time": "2023-12-24T15:54:35.458180",
     "status": "completed"
    },
    "tags": []
   },
   "outputs": [],
   "source": [
    "import pandas as pd\n",
    "from sklearn.model_selection import train_test_split\n",
    "\n",
    "# Read the data\n",
    "X_full = pd.read_csv('../input/train.csv', index_col='Id')\n",
    "X_test_full = pd.read_csv('../input/test.csv', index_col='Id')\n",
    "\n",
    "# Remove rows with missing target, separate target from predictors\n",
    "X_full.dropna(axis=0, subset=['SalePrice'], inplace=True)\n",
    "y = X_full.SalePrice\n",
    "X_full.drop(['SalePrice'], axis=1, inplace=True)\n",
    "\n",
    "# To keep things simple, we'll use only numerical predictors\n",
    "X = X_full.select_dtypes(exclude=['object'])\n",
    "X_test = X_test_full.select_dtypes(exclude=['object'])\n",
    "\n",
    "# Break off validation set from training data\n",
    "X_train, X_valid, y_train, y_valid = train_test_split(X, y, train_size=0.8, test_size=0.2,\n",
    "                                                      random_state=0)"
   ]
  },
  {
   "cell_type": "markdown",
   "id": "989610fb",
   "metadata": {
    "papermill": {
     "duration": 0.012113,
     "end_time": "2023-12-24T15:54:36.931535",
     "exception": false,
     "start_time": "2023-12-24T15:54:36.919422",
     "status": "completed"
    },
    "tags": []
   },
   "source": [
    "Use the next code cell to print the first five rows of the data."
   ]
  },
  {
   "cell_type": "code",
   "execution_count": 3,
   "id": "9dfce48c",
   "metadata": {
    "execution": {
     "iopub.execute_input": "2023-12-24T15:54:36.958105Z",
     "iopub.status.busy": "2023-12-24T15:54:36.957429Z",
     "iopub.status.idle": "2023-12-24T15:54:36.985652Z",
     "shell.execute_reply": "2023-12-24T15:54:36.984661Z"
    },
    "papermill": {
     "duration": 0.044069,
     "end_time": "2023-12-24T15:54:36.987893",
     "exception": false,
     "start_time": "2023-12-24T15:54:36.943824",
     "status": "completed"
    },
    "tags": []
   },
   "outputs": [
    {
     "data": {
      "text/html": [
       "<div>\n",
       "<style scoped>\n",
       "    .dataframe tbody tr th:only-of-type {\n",
       "        vertical-align: middle;\n",
       "    }\n",
       "\n",
       "    .dataframe tbody tr th {\n",
       "        vertical-align: top;\n",
       "    }\n",
       "\n",
       "    .dataframe thead th {\n",
       "        text-align: right;\n",
       "    }\n",
       "</style>\n",
       "<table border=\"1\" class=\"dataframe\">\n",
       "  <thead>\n",
       "    <tr style=\"text-align: right;\">\n",
       "      <th></th>\n",
       "      <th>MSSubClass</th>\n",
       "      <th>LotFrontage</th>\n",
       "      <th>LotArea</th>\n",
       "      <th>OverallQual</th>\n",
       "      <th>OverallCond</th>\n",
       "      <th>YearBuilt</th>\n",
       "      <th>YearRemodAdd</th>\n",
       "      <th>MasVnrArea</th>\n",
       "      <th>BsmtFinSF1</th>\n",
       "      <th>BsmtFinSF2</th>\n",
       "      <th>...</th>\n",
       "      <th>GarageArea</th>\n",
       "      <th>WoodDeckSF</th>\n",
       "      <th>OpenPorchSF</th>\n",
       "      <th>EnclosedPorch</th>\n",
       "      <th>3SsnPorch</th>\n",
       "      <th>ScreenPorch</th>\n",
       "      <th>PoolArea</th>\n",
       "      <th>MiscVal</th>\n",
       "      <th>MoSold</th>\n",
       "      <th>YrSold</th>\n",
       "    </tr>\n",
       "    <tr>\n",
       "      <th>Id</th>\n",
       "      <th></th>\n",
       "      <th></th>\n",
       "      <th></th>\n",
       "      <th></th>\n",
       "      <th></th>\n",
       "      <th></th>\n",
       "      <th></th>\n",
       "      <th></th>\n",
       "      <th></th>\n",
       "      <th></th>\n",
       "      <th></th>\n",
       "      <th></th>\n",
       "      <th></th>\n",
       "      <th></th>\n",
       "      <th></th>\n",
       "      <th></th>\n",
       "      <th></th>\n",
       "      <th></th>\n",
       "      <th></th>\n",
       "      <th></th>\n",
       "      <th></th>\n",
       "    </tr>\n",
       "  </thead>\n",
       "  <tbody>\n",
       "    <tr>\n",
       "      <th>619</th>\n",
       "      <td>20</td>\n",
       "      <td>90.0</td>\n",
       "      <td>11694</td>\n",
       "      <td>9</td>\n",
       "      <td>5</td>\n",
       "      <td>2007</td>\n",
       "      <td>2007</td>\n",
       "      <td>452.0</td>\n",
       "      <td>48</td>\n",
       "      <td>0</td>\n",
       "      <td>...</td>\n",
       "      <td>774</td>\n",
       "      <td>0</td>\n",
       "      <td>108</td>\n",
       "      <td>0</td>\n",
       "      <td>0</td>\n",
       "      <td>260</td>\n",
       "      <td>0</td>\n",
       "      <td>0</td>\n",
       "      <td>7</td>\n",
       "      <td>2007</td>\n",
       "    </tr>\n",
       "    <tr>\n",
       "      <th>871</th>\n",
       "      <td>20</td>\n",
       "      <td>60.0</td>\n",
       "      <td>6600</td>\n",
       "      <td>5</td>\n",
       "      <td>5</td>\n",
       "      <td>1962</td>\n",
       "      <td>1962</td>\n",
       "      <td>0.0</td>\n",
       "      <td>0</td>\n",
       "      <td>0</td>\n",
       "      <td>...</td>\n",
       "      <td>308</td>\n",
       "      <td>0</td>\n",
       "      <td>0</td>\n",
       "      <td>0</td>\n",
       "      <td>0</td>\n",
       "      <td>0</td>\n",
       "      <td>0</td>\n",
       "      <td>0</td>\n",
       "      <td>8</td>\n",
       "      <td>2009</td>\n",
       "    </tr>\n",
       "    <tr>\n",
       "      <th>93</th>\n",
       "      <td>30</td>\n",
       "      <td>80.0</td>\n",
       "      <td>13360</td>\n",
       "      <td>5</td>\n",
       "      <td>7</td>\n",
       "      <td>1921</td>\n",
       "      <td>2006</td>\n",
       "      <td>0.0</td>\n",
       "      <td>713</td>\n",
       "      <td>0</td>\n",
       "      <td>...</td>\n",
       "      <td>432</td>\n",
       "      <td>0</td>\n",
       "      <td>0</td>\n",
       "      <td>44</td>\n",
       "      <td>0</td>\n",
       "      <td>0</td>\n",
       "      <td>0</td>\n",
       "      <td>0</td>\n",
       "      <td>8</td>\n",
       "      <td>2009</td>\n",
       "    </tr>\n",
       "    <tr>\n",
       "      <th>818</th>\n",
       "      <td>20</td>\n",
       "      <td>NaN</td>\n",
       "      <td>13265</td>\n",
       "      <td>8</td>\n",
       "      <td>5</td>\n",
       "      <td>2002</td>\n",
       "      <td>2002</td>\n",
       "      <td>148.0</td>\n",
       "      <td>1218</td>\n",
       "      <td>0</td>\n",
       "      <td>...</td>\n",
       "      <td>857</td>\n",
       "      <td>150</td>\n",
       "      <td>59</td>\n",
       "      <td>0</td>\n",
       "      <td>0</td>\n",
       "      <td>0</td>\n",
       "      <td>0</td>\n",
       "      <td>0</td>\n",
       "      <td>7</td>\n",
       "      <td>2008</td>\n",
       "    </tr>\n",
       "    <tr>\n",
       "      <th>303</th>\n",
       "      <td>20</td>\n",
       "      <td>118.0</td>\n",
       "      <td>13704</td>\n",
       "      <td>7</td>\n",
       "      <td>5</td>\n",
       "      <td>2001</td>\n",
       "      <td>2002</td>\n",
       "      <td>150.0</td>\n",
       "      <td>0</td>\n",
       "      <td>0</td>\n",
       "      <td>...</td>\n",
       "      <td>843</td>\n",
       "      <td>468</td>\n",
       "      <td>81</td>\n",
       "      <td>0</td>\n",
       "      <td>0</td>\n",
       "      <td>0</td>\n",
       "      <td>0</td>\n",
       "      <td>0</td>\n",
       "      <td>1</td>\n",
       "      <td>2006</td>\n",
       "    </tr>\n",
       "  </tbody>\n",
       "</table>\n",
       "<p>5 rows × 36 columns</p>\n",
       "</div>"
      ],
      "text/plain": [
       "     MSSubClass  LotFrontage  LotArea  OverallQual  OverallCond  YearBuilt  \\\n",
       "Id                                                                           \n",
       "619          20         90.0    11694            9            5       2007   \n",
       "871          20         60.0     6600            5            5       1962   \n",
       "93           30         80.0    13360            5            7       1921   \n",
       "818          20          NaN    13265            8            5       2002   \n",
       "303          20        118.0    13704            7            5       2001   \n",
       "\n",
       "     YearRemodAdd  MasVnrArea  BsmtFinSF1  BsmtFinSF2  ...  GarageArea  \\\n",
       "Id                                                     ...               \n",
       "619          2007       452.0          48           0  ...         774   \n",
       "871          1962         0.0           0           0  ...         308   \n",
       "93           2006         0.0         713           0  ...         432   \n",
       "818          2002       148.0        1218           0  ...         857   \n",
       "303          2002       150.0           0           0  ...         843   \n",
       "\n",
       "     WoodDeckSF  OpenPorchSF  EnclosedPorch  3SsnPorch  ScreenPorch  PoolArea  \\\n",
       "Id                                                                              \n",
       "619           0          108              0          0          260         0   \n",
       "871           0            0              0          0            0         0   \n",
       "93            0            0             44          0            0         0   \n",
       "818         150           59              0          0            0         0   \n",
       "303         468           81              0          0            0         0   \n",
       "\n",
       "     MiscVal  MoSold  YrSold  \n",
       "Id                            \n",
       "619        0       7    2007  \n",
       "871        0       8    2009  \n",
       "93         0       8    2009  \n",
       "818        0       7    2008  \n",
       "303        0       1    2006  \n",
       "\n",
       "[5 rows x 36 columns]"
      ]
     },
     "execution_count": 3,
     "metadata": {},
     "output_type": "execute_result"
    }
   ],
   "source": [
    "X_train.head()"
   ]
  },
  {
   "cell_type": "markdown",
   "id": "6d9d4c2d",
   "metadata": {
    "papermill": {
     "duration": 0.012216,
     "end_time": "2023-12-24T15:54:37.012977",
     "exception": false,
     "start_time": "2023-12-24T15:54:37.000761",
     "status": "completed"
    },
    "tags": []
   },
   "source": [
    "You can already see a few missing values in the first several rows.  In the next step, you'll obtain a more comprehensive understanding of the missing values in the dataset.\n",
    "\n",
    "# Step 1: Preliminary investigation\n",
    "\n",
    "Run the code cell below without changes."
   ]
  },
  {
   "cell_type": "code",
   "execution_count": 4,
   "id": "642f2a30",
   "metadata": {
    "execution": {
     "iopub.execute_input": "2023-12-24T15:54:37.040685Z",
     "iopub.status.busy": "2023-12-24T15:54:37.040066Z",
     "iopub.status.idle": "2023-12-24T15:54:37.047434Z",
     "shell.execute_reply": "2023-12-24T15:54:37.046386Z"
    },
    "papermill": {
     "duration": 0.024155,
     "end_time": "2023-12-24T15:54:37.049625",
     "exception": false,
     "start_time": "2023-12-24T15:54:37.025470",
     "status": "completed"
    },
    "tags": []
   },
   "outputs": [
    {
     "name": "stdout",
     "output_type": "stream",
     "text": [
      "(1168, 36)\n",
      "LotFrontage    212\n",
      "MasVnrArea       6\n",
      "GarageYrBlt     58\n",
      "dtype: int64\n"
     ]
    }
   ],
   "source": [
    "# Shape of training data (num_rows, num_columns)\n",
    "print(X_train.shape)\n",
    "\n",
    "# Number of missing values in each column of training data\n",
    "missing_val_count_by_column = (X_train.isnull().sum())\n",
    "print(missing_val_count_by_column[missing_val_count_by_column > 0])"
   ]
  },
  {
   "cell_type": "markdown",
   "id": "2b8721de",
   "metadata": {
    "papermill": {
     "duration": 0.012331,
     "end_time": "2023-12-24T15:54:37.074651",
     "exception": false,
     "start_time": "2023-12-24T15:54:37.062320",
     "status": "completed"
    },
    "tags": []
   },
   "source": [
    "### Part A\n",
    "\n",
    "Use the above output to answer the questions below."
   ]
  },
  {
   "cell_type": "code",
   "execution_count": 5,
   "id": "fed57382",
   "metadata": {
    "execution": {
     "iopub.execute_input": "2023-12-24T15:54:37.102005Z",
     "iopub.status.busy": "2023-12-24T15:54:37.101351Z",
     "iopub.status.idle": "2023-12-24T15:54:37.112149Z",
     "shell.execute_reply": "2023-12-24T15:54:37.110805Z"
    },
    "papermill": {
     "duration": 0.027336,
     "end_time": "2023-12-24T15:54:37.114728",
     "exception": false,
     "start_time": "2023-12-24T15:54:37.087392",
     "status": "completed"
    },
    "tags": []
   },
   "outputs": [
    {
     "data": {
      "application/javascript": [
       "parent.postMessage({\"jupyterEvent\": \"custom.exercise_interaction\", \"data\": {\"outcomeType\": 1, \"valueTowardsCompletion\": 1.0, \"interactionType\": 1, \"questionType\": 1, \"questionId\": \"1.1_InvestigateEquality\", \"learnToolsVersion\": \"0.3.4\", \"failureMessage\": \"\", \"exceptionClass\": \"\", \"trace\": \"\"}}, \"*\")"
      ],
      "text/plain": [
       "<IPython.core.display.Javascript object>"
      ]
     },
     "metadata": {},
     "output_type": "display_data"
    },
    {
     "data": {
      "text/markdown": [
       "<span style=\"color:#33cc33\">Correct</span>"
      ],
      "text/plain": [
       "Correct"
      ]
     },
     "metadata": {},
     "output_type": "display_data"
    }
   ],
   "source": [
    "# Fill in the line below: How many rows are in the training data?\n",
    "num_rows = X_train.shape[0]\n",
    "\n",
    "# Fill in the line below: How many columns in the training data\n",
    "# have missing values?\n",
    "num_cols_with_missing = 3\n",
    "\n",
    "# Fill in the line below: How many missing entries are contained in \n",
    "# all of the training data?\n",
    "tot_missing = missing_val_count_by_column[missing_val_count_by_column > 0].sum()\n",
    "\n",
    "# Check your answers\n",
    "step_1.a.check()"
   ]
  },
  {
   "cell_type": "code",
   "execution_count": 6,
   "id": "ff0c0417",
   "metadata": {
    "execution": {
     "iopub.execute_input": "2023-12-24T15:54:37.142926Z",
     "iopub.status.busy": "2023-12-24T15:54:37.141710Z",
     "iopub.status.idle": "2023-12-24T15:54:37.146654Z",
     "shell.execute_reply": "2023-12-24T15:54:37.145906Z"
    },
    "papermill": {
     "duration": 0.021259,
     "end_time": "2023-12-24T15:54:37.148952",
     "exception": false,
     "start_time": "2023-12-24T15:54:37.127693",
     "status": "completed"
    },
    "tags": []
   },
   "outputs": [],
   "source": [
    "# Lines below will give you a hint or solution code\n",
    "#step_1.a.hint()\n",
    "#step_1.a.solution()"
   ]
  },
  {
   "cell_type": "markdown",
   "id": "d9ba8294",
   "metadata": {
    "papermill": {
     "duration": 0.012372,
     "end_time": "2023-12-24T15:54:37.174049",
     "exception": false,
     "start_time": "2023-12-24T15:54:37.161677",
     "status": "completed"
    },
    "tags": []
   },
   "source": [
    "### Part B\n",
    "Considering your answers above, what do you think is likely the best approach to dealing with the missing values?"
   ]
  },
  {
   "cell_type": "code",
   "execution_count": 7,
   "id": "d74c0d7e",
   "metadata": {
    "execution": {
     "iopub.execute_input": "2023-12-24T15:54:37.202672Z",
     "iopub.status.busy": "2023-12-24T15:54:37.201153Z",
     "iopub.status.idle": "2023-12-24T15:54:37.211260Z",
     "shell.execute_reply": "2023-12-24T15:54:37.210434Z"
    },
    "papermill": {
     "duration": 0.02651,
     "end_time": "2023-12-24T15:54:37.213397",
     "exception": false,
     "start_time": "2023-12-24T15:54:37.186887",
     "status": "completed"
    },
    "tags": []
   },
   "outputs": [
    {
     "data": {
      "application/javascript": [
       "parent.postMessage({\"jupyterEvent\": \"custom.exercise_interaction\", \"data\": {\"outcomeType\": 1, \"valueTowardsCompletion\": 1.0, \"interactionType\": 1, \"questionType\": 4, \"questionId\": \"1.2_InvestigateThought\", \"learnToolsVersion\": \"0.3.4\", \"failureMessage\": \"\", \"exceptionClass\": \"\", \"trace\": \"\"}}, \"*\")"
      ],
      "text/plain": [
       "<IPython.core.display.Javascript object>"
      ]
     },
     "metadata": {},
     "output_type": "display_data"
    },
    {
     "data": {
      "text/markdown": [
       "<span style=\"color:#33cc33\">Correct:</span> \n",
       "\n",
       "Since there are relatively few missing entries in the data (the column with the greatest percentage of missing values is missing less than 20% of its entries), we can expect that dropping columns is unlikely to yield good results.  This is because we'd be throwing away a lot of valuable data, and so imputation will likely perform better."
      ],
      "text/plain": [
       "Correct: \n",
       "\n",
       "Since there are relatively few missing entries in the data (the column with the greatest percentage of missing values is missing less than 20% of its entries), we can expect that dropping columns is unlikely to yield good results.  This is because we'd be throwing away a lot of valuable data, and so imputation will likely perform better."
      ]
     },
     "metadata": {},
     "output_type": "display_data"
    }
   ],
   "source": [
    "# Check your answer (Run this code cell to receive credit!)\n",
    "step_1.b.check()"
   ]
  },
  {
   "cell_type": "code",
   "execution_count": 8,
   "id": "b16d9e17",
   "metadata": {
    "execution": {
     "iopub.execute_input": "2023-12-24T15:54:37.242356Z",
     "iopub.status.busy": "2023-12-24T15:54:37.241708Z",
     "iopub.status.idle": "2023-12-24T15:54:37.245488Z",
     "shell.execute_reply": "2023-12-24T15:54:37.244733Z"
    },
    "papermill": {
     "duration": 0.021012,
     "end_time": "2023-12-24T15:54:37.247600",
     "exception": false,
     "start_time": "2023-12-24T15:54:37.226588",
     "status": "completed"
    },
    "tags": []
   },
   "outputs": [],
   "source": [
    "#step_1.b.hint()"
   ]
  },
  {
   "cell_type": "markdown",
   "id": "b0577629",
   "metadata": {
    "papermill": {
     "duration": 0.013324,
     "end_time": "2023-12-24T15:54:37.274727",
     "exception": false,
     "start_time": "2023-12-24T15:54:37.261403",
     "status": "completed"
    },
    "tags": []
   },
   "source": [
    "To compare different approaches to dealing with missing values, you'll use the same `score_dataset()` function from the tutorial.  This function reports the [mean absolute error](https://en.wikipedia.org/wiki/Mean_absolute_error) (MAE) from a random forest model."
   ]
  },
  {
   "cell_type": "code",
   "execution_count": 9,
   "id": "3f1f28b9",
   "metadata": {
    "execution": {
     "iopub.execute_input": "2023-12-24T15:54:37.303444Z",
     "iopub.status.busy": "2023-12-24T15:54:37.302798Z",
     "iopub.status.idle": "2023-12-24T15:54:37.661359Z",
     "shell.execute_reply": "2023-12-24T15:54:37.660275Z"
    },
    "papermill": {
     "duration": 0.376026,
     "end_time": "2023-12-24T15:54:37.664231",
     "exception": false,
     "start_time": "2023-12-24T15:54:37.288205",
     "status": "completed"
    },
    "tags": []
   },
   "outputs": [],
   "source": [
    "from sklearn.ensemble import RandomForestRegressor\n",
    "from sklearn.metrics import mean_absolute_error\n",
    "\n",
    "# Function for comparing different approaches\n",
    "def score_dataset(X_train, X_valid, y_train, y_valid):\n",
    "    model = RandomForestRegressor(n_estimators=100, random_state=0)\n",
    "    model.fit(X_train, y_train)\n",
    "    preds = model.predict(X_valid)\n",
    "    return mean_absolute_error(y_valid, preds)"
   ]
  },
  {
   "cell_type": "markdown",
   "id": "9aeb6907",
   "metadata": {
    "papermill": {
     "duration": 0.012759,
     "end_time": "2023-12-24T15:54:37.690229",
     "exception": false,
     "start_time": "2023-12-24T15:54:37.677470",
     "status": "completed"
    },
    "tags": []
   },
   "source": [
    "# Step 2: Drop columns with missing values\n",
    "\n",
    "In this step, you'll preprocess the data in `X_train` and `X_valid` to remove columns with missing values.  Set the preprocessed DataFrames to `reduced_X_train` and `reduced_X_valid`, respectively.  "
   ]
  },
  {
   "cell_type": "code",
   "execution_count": 10,
   "id": "712b7efb",
   "metadata": {
    "execution": {
     "iopub.execute_input": "2023-12-24T15:54:37.718920Z",
     "iopub.status.busy": "2023-12-24T15:54:37.718486Z",
     "iopub.status.idle": "2023-12-24T15:54:37.744535Z",
     "shell.execute_reply": "2023-12-24T15:54:37.743421Z"
    },
    "papermill": {
     "duration": 0.042958,
     "end_time": "2023-12-24T15:54:37.746903",
     "exception": false,
     "start_time": "2023-12-24T15:54:37.703945",
     "status": "completed"
    },
    "tags": []
   },
   "outputs": [
    {
     "data": {
      "application/javascript": [
       "parent.postMessage({\"jupyterEvent\": \"custom.exercise_interaction\", \"data\": {\"outcomeType\": 1, \"valueTowardsCompletion\": 1.0, \"interactionType\": 1, \"questionType\": 2, \"questionId\": \"2_DropMissing\", \"learnToolsVersion\": \"0.3.4\", \"failureMessage\": \"\", \"exceptionClass\": \"\", \"trace\": \"\"}}, \"*\")"
      ],
      "text/plain": [
       "<IPython.core.display.Javascript object>"
      ]
     },
     "metadata": {},
     "output_type": "display_data"
    },
    {
     "data": {
      "text/markdown": [
       "<span style=\"color:#33cc33\">Correct</span>"
      ],
      "text/plain": [
       "Correct"
      ]
     },
     "metadata": {},
     "output_type": "display_data"
    }
   ],
   "source": [
    "# Fill in the line below: get names of columns with missing values\n",
    "column_names = X_train.columns[X_train.isnull().any() == 1] # Your code here\n",
    "# print(column_names)\n",
    "# print(X_train.isnull().any())\n",
    "# print(X_train['LotFrontage'].isnull().any() == 1)\n",
    "\n",
    "# Fill in the lines below: drop columns in training and validation data\n",
    "reduced_X_train = X_train.drop(column_names, axis = 1)\n",
    "reduced_X_valid = X_valid.drop(column_names, axis = 1)\n",
    "\n",
    "# Check your answers\n",
    "step_2.check()"
   ]
  },
  {
   "cell_type": "code",
   "execution_count": 11,
   "id": "8835348e",
   "metadata": {
    "execution": {
     "iopub.execute_input": "2023-12-24T15:54:37.779004Z",
     "iopub.status.busy": "2023-12-24T15:54:37.778097Z",
     "iopub.status.idle": "2023-12-24T15:54:37.783356Z",
     "shell.execute_reply": "2023-12-24T15:54:37.782253Z"
    },
    "papermill": {
     "duration": 0.024273,
     "end_time": "2023-12-24T15:54:37.785730",
     "exception": false,
     "start_time": "2023-12-24T15:54:37.761457",
     "status": "completed"
    },
    "tags": []
   },
   "outputs": [],
   "source": [
    "# Lines below will give you a hint or solution code\n",
    "# step_2.hint()\n",
    "# step_2.solution()"
   ]
  },
  {
   "cell_type": "markdown",
   "id": "224c546e",
   "metadata": {
    "papermill": {
     "duration": 0.013228,
     "end_time": "2023-12-24T15:54:37.813764",
     "exception": false,
     "start_time": "2023-12-24T15:54:37.800536",
     "status": "completed"
    },
    "tags": []
   },
   "source": [
    "Run the next code cell without changes to obtain the MAE for this approach."
   ]
  },
  {
   "cell_type": "code",
   "execution_count": 12,
   "id": "0f5d0938",
   "metadata": {
    "execution": {
     "iopub.execute_input": "2023-12-24T15:54:37.842958Z",
     "iopub.status.busy": "2023-12-24T15:54:37.842486Z",
     "iopub.status.idle": "2023-12-24T15:54:39.160181Z",
     "shell.execute_reply": "2023-12-24T15:54:39.159087Z"
    },
    "papermill": {
     "duration": 1.335329,
     "end_time": "2023-12-24T15:54:39.162715",
     "exception": false,
     "start_time": "2023-12-24T15:54:37.827386",
     "status": "completed"
    },
    "tags": []
   },
   "outputs": [
    {
     "name": "stdout",
     "output_type": "stream",
     "text": [
      "MAE (Drop columns with missing values):\n",
      "17837.82570776256\n"
     ]
    }
   ],
   "source": [
    "print(\"MAE (Drop columns with missing values):\")\n",
    "print(score_dataset(reduced_X_train, reduced_X_valid, y_train, y_valid))"
   ]
  },
  {
   "cell_type": "markdown",
   "id": "ea7bfc15",
   "metadata": {
    "papermill": {
     "duration": 0.014384,
     "end_time": "2023-12-24T15:54:39.191093",
     "exception": false,
     "start_time": "2023-12-24T15:54:39.176709",
     "status": "completed"
    },
    "tags": []
   },
   "source": [
    "# Step 3: Imputation\n",
    "\n",
    "### Part A\n",
    "\n",
    "Use the next code cell to impute missing values with the mean value along each column.  Set the preprocessed DataFrames to `imputed_X_train` and `imputed_X_valid`.  Make sure that the column names match those in `X_train` and `X_valid`."
   ]
  },
  {
   "cell_type": "code",
   "execution_count": 13,
   "id": "47899c3f",
   "metadata": {
    "execution": {
     "iopub.execute_input": "2023-12-24T15:54:39.282220Z",
     "iopub.status.busy": "2023-12-24T15:54:39.281763Z",
     "iopub.status.idle": "2023-12-24T15:54:39.318877Z",
     "shell.execute_reply": "2023-12-24T15:54:39.317789Z"
    },
    "papermill": {
     "duration": 0.054642,
     "end_time": "2023-12-24T15:54:39.321151",
     "exception": false,
     "start_time": "2023-12-24T15:54:39.266509",
     "status": "completed"
    },
    "tags": []
   },
   "outputs": [
    {
     "data": {
      "application/javascript": [
       "parent.postMessage({\"jupyterEvent\": \"custom.exercise_interaction\", \"data\": {\"outcomeType\": 1, \"valueTowardsCompletion\": 1.0, \"interactionType\": 1, \"questionType\": 2, \"questionId\": \"3.1_ImputeCode\", \"learnToolsVersion\": \"0.3.4\", \"failureMessage\": \"\", \"exceptionClass\": \"\", \"trace\": \"\"}}, \"*\")"
      ],
      "text/plain": [
       "<IPython.core.display.Javascript object>"
      ]
     },
     "metadata": {},
     "output_type": "display_data"
    },
    {
     "data": {
      "text/markdown": [
       "<span style=\"color:#33cc33\">Correct</span>"
      ],
      "text/plain": [
       "Correct"
      ]
     },
     "metadata": {},
     "output_type": "display_data"
    }
   ],
   "source": [
    "from sklearn.impute import SimpleImputer\n",
    "\n",
    "# Fill in the lines below: imputation\n",
    "impute = SimpleImputer() # Your code here\n",
    "imputed_X_train = pd.DataFrame(impute.fit_transform(X_train))\n",
    "imputed_X_valid = pd.DataFrame(impute.transform(X_valid))\n",
    "\n",
    "# Fill in the lines below: imputation removed column names; put them back\n",
    "imputed_X_train.columns = X_train.columns\n",
    "imputed_X_valid.columns = X_valid.columns\n",
    "\n",
    "# Check your answers\n",
    "step_3.a.check()"
   ]
  },
  {
   "cell_type": "code",
   "execution_count": 14,
   "id": "589abb56",
   "metadata": {
    "execution": {
     "iopub.execute_input": "2023-12-24T15:54:39.351652Z",
     "iopub.status.busy": "2023-12-24T15:54:39.350595Z",
     "iopub.status.idle": "2023-12-24T15:54:39.355265Z",
     "shell.execute_reply": "2023-12-24T15:54:39.354196Z"
    },
    "papermill": {
     "duration": 0.022299,
     "end_time": "2023-12-24T15:54:39.357569",
     "exception": false,
     "start_time": "2023-12-24T15:54:39.335270",
     "status": "completed"
    },
    "tags": []
   },
   "outputs": [],
   "source": [
    "# Lines below will give you a hint or solution code\n",
    "# step_3.a.hint()\n",
    "# step_3.a.solution()"
   ]
  },
  {
   "cell_type": "markdown",
   "id": "79ab2899",
   "metadata": {
    "papermill": {
     "duration": 0.013813,
     "end_time": "2023-12-24T15:54:39.385413",
     "exception": false,
     "start_time": "2023-12-24T15:54:39.371600",
     "status": "completed"
    },
    "tags": []
   },
   "source": [
    "Run the next code cell without changes to obtain the MAE for this approach."
   ]
  },
  {
   "cell_type": "code",
   "execution_count": 15,
   "id": "2120e742",
   "metadata": {
    "execution": {
     "iopub.execute_input": "2023-12-24T15:54:39.416036Z",
     "iopub.status.busy": "2023-12-24T15:54:39.415597Z",
     "iopub.status.idle": "2023-12-24T15:54:40.859886Z",
     "shell.execute_reply": "2023-12-24T15:54:40.858575Z"
    },
    "papermill": {
     "duration": 1.462616,
     "end_time": "2023-12-24T15:54:40.862650",
     "exception": false,
     "start_time": "2023-12-24T15:54:39.400034",
     "status": "completed"
    },
    "tags": []
   },
   "outputs": [
    {
     "name": "stdout",
     "output_type": "stream",
     "text": [
      "MAE (Imputation):\n",
      "18062.894611872147\n"
     ]
    }
   ],
   "source": [
    "print(\"MAE (Imputation):\")\n",
    "print(score_dataset(imputed_X_train, imputed_X_valid, y_train, y_valid))"
   ]
  },
  {
   "cell_type": "markdown",
   "id": "0b0cdcb6",
   "metadata": {
    "papermill": {
     "duration": 0.01419,
     "end_time": "2023-12-24T15:54:40.891353",
     "exception": false,
     "start_time": "2023-12-24T15:54:40.877163",
     "status": "completed"
    },
    "tags": []
   },
   "source": [
    "### Part B\n",
    "\n",
    "Compare the MAE from each approach.  Does anything surprise you about the results?  Why do you think one approach performed better than the other?"
   ]
  },
  {
   "cell_type": "code",
   "execution_count": 16,
   "id": "bc5fe025",
   "metadata": {
    "execution": {
     "iopub.execute_input": "2023-12-24T15:54:40.921999Z",
     "iopub.status.busy": "2023-12-24T15:54:40.921532Z",
     "iopub.status.idle": "2023-12-24T15:54:40.930767Z",
     "shell.execute_reply": "2023-12-24T15:54:40.929747Z"
    },
    "papermill": {
     "duration": 0.027502,
     "end_time": "2023-12-24T15:54:40.933222",
     "exception": false,
     "start_time": "2023-12-24T15:54:40.905720",
     "status": "completed"
    },
    "tags": []
   },
   "outputs": [
    {
     "data": {
      "application/javascript": [
       "parent.postMessage({\"jupyterEvent\": \"custom.exercise_interaction\", \"data\": {\"outcomeType\": 1, \"valueTowardsCompletion\": 1.0, \"interactionType\": 1, \"questionType\": 4, \"questionId\": \"3.2_ImputeThought\", \"learnToolsVersion\": \"0.3.4\", \"failureMessage\": \"\", \"exceptionClass\": \"\", \"trace\": \"\"}}, \"*\")"
      ],
      "text/plain": [
       "<IPython.core.display.Javascript object>"
      ]
     },
     "metadata": {},
     "output_type": "display_data"
    },
    {
     "data": {
      "text/markdown": [
       "<span style=\"color:#33cc33\">Correct:</span> \n",
       "\n",
       "Given that thre are so few missing values in the dataset, we'd expect imputation to perform better than dropping columns entirely.  However, we see that dropping columns performs slightly better!  While this can probably partially be attributed to noise in the dataset, another potential explanation is that the imputation method is not a great match to this dataset.  That is, maybe instead of filling in the mean value, it makes more sense to set every missing value to a value of 0, to fill in the most frequently encountered value, or to use some other method.  For instance, consider the `GarageYrBlt` column (which indicates the year that the garage was built).  It's likely that in some cases, a missing value could indicate a house that does not have a garage.  Does it make more sense to fill in the median value along each column in this case?  Or could we get better results by filling in the minimum value along each column?  It's not quite clear what's best in this case, but perhaps we can rule out some options immediately - for instance, setting missing values in this column to 0 is likely to yield horrible results!"
      ],
      "text/plain": [
       "Correct: \n",
       "\n",
       "Given that thre are so few missing values in the dataset, we'd expect imputation to perform better than dropping columns entirely.  However, we see that dropping columns performs slightly better!  While this can probably partially be attributed to noise in the dataset, another potential explanation is that the imputation method is not a great match to this dataset.  That is, maybe instead of filling in the mean value, it makes more sense to set every missing value to a value of 0, to fill in the most frequently encountered value, or to use some other method.  For instance, consider the `GarageYrBlt` column (which indicates the year that the garage was built).  It's likely that in some cases, a missing value could indicate a house that does not have a garage.  Does it make more sense to fill in the median value along each column in this case?  Or could we get better results by filling in the minimum value along each column?  It's not quite clear what's best in this case, but perhaps we can rule out some options immediately - for instance, setting missing values in this column to 0 is likely to yield horrible results!"
      ]
     },
     "metadata": {},
     "output_type": "display_data"
    }
   ],
   "source": [
    "# Check your answer (Run this code cell to receive credit!)\n",
    "step_3.b.check()"
   ]
  },
  {
   "cell_type": "code",
   "execution_count": 17,
   "id": "cd696d0f",
   "metadata": {
    "execution": {
     "iopub.execute_input": "2023-12-24T15:54:40.964383Z",
     "iopub.status.busy": "2023-12-24T15:54:40.963967Z",
     "iopub.status.idle": "2023-12-24T15:54:40.972487Z",
     "shell.execute_reply": "2023-12-24T15:54:40.971403Z"
    },
    "papermill": {
     "duration": 0.026907,
     "end_time": "2023-12-24T15:54:40.974890",
     "exception": false,
     "start_time": "2023-12-24T15:54:40.947983",
     "status": "completed"
    },
    "tags": []
   },
   "outputs": [
    {
     "data": {
      "application/javascript": [
       "parent.postMessage({\"jupyterEvent\": \"custom.exercise_interaction\", \"data\": {\"interactionType\": 2, \"questionType\": 4, \"questionId\": \"3.2_ImputeThought\", \"learnToolsVersion\": \"0.3.4\", \"valueTowardsCompletion\": 0.0, \"failureMessage\": \"\", \"exceptionClass\": \"\", \"trace\": \"\", \"outcomeType\": 4}}, \"*\")"
      ],
      "text/plain": [
       "<IPython.core.display.Javascript object>"
      ]
     },
     "metadata": {},
     "output_type": "display_data"
    },
    {
     "data": {
      "text/markdown": [
       "<span style=\"color:#3366cc\">Hint:</span> Did removing missing values yield a larger or smaller MAE than imputation? Does this agree with the coding example from the tutorial?"
      ],
      "text/plain": [
       "Hint: Did removing missing values yield a larger or smaller MAE than imputation? Does this agree with the coding example from the tutorial?"
      ]
     },
     "metadata": {},
     "output_type": "display_data"
    }
   ],
   "source": [
    "step_3.b.hint()"
   ]
  },
  {
   "cell_type": "markdown",
   "id": "0e0c0967",
   "metadata": {
    "papermill": {
     "duration": 0.014951,
     "end_time": "2023-12-24T15:54:41.005073",
     "exception": false,
     "start_time": "2023-12-24T15:54:40.990122",
     "status": "completed"
    },
    "tags": []
   },
   "source": [
    "# Step 4: Generate test predictions\n",
    "\n",
    "In this final step, you'll use any approach of your choosing to deal with missing values.  Once you've preprocessed the training and validation features, you'll train and evaluate a random forest model.  Then, you'll preprocess the test data before generating predictions that can be submitted to the competition!\n",
    "\n",
    "### Part A\n",
    "\n",
    "Use the next code cell to preprocess the training and validation data.  Set the preprocessed DataFrames to `final_X_train` and `final_X_valid`.  **You can use any approach of your choosing here!**  in order for this step to be marked as correct, you need only ensure:\n",
    "- the preprocessed DataFrames have the same number of columns,\n",
    "- the preprocessed DataFrames have no missing values, \n",
    "- `final_X_train` and `y_train` have the same number of rows, and\n",
    "- `final_X_valid` and `y_valid` have the same number of rows."
   ]
  },
  {
   "cell_type": "code",
   "execution_count": 18,
   "id": "6b3bf81e",
   "metadata": {
    "execution": {
     "iopub.execute_input": "2023-12-24T15:54:41.037073Z",
     "iopub.status.busy": "2023-12-24T15:54:41.036613Z",
     "iopub.status.idle": "2023-12-24T15:54:41.058251Z",
     "shell.execute_reply": "2023-12-24T15:54:41.057137Z"
    },
    "papermill": {
     "duration": 0.040537,
     "end_time": "2023-12-24T15:54:41.060609",
     "exception": false,
     "start_time": "2023-12-24T15:54:41.020072",
     "status": "completed"
    },
    "tags": []
   },
   "outputs": [
    {
     "data": {
      "application/javascript": [
       "parent.postMessage({\"jupyterEvent\": \"custom.exercise_interaction\", \"data\": {\"outcomeType\": 1, \"valueTowardsCompletion\": 1.0, \"interactionType\": 1, \"questionType\": 2, \"questionId\": \"4.1_PredsCodeA\", \"learnToolsVersion\": \"0.3.4\", \"failureMessage\": \"\", \"exceptionClass\": \"\", \"trace\": \"\"}}, \"*\")"
      ],
      "text/plain": [
       "<IPython.core.display.Javascript object>"
      ]
     },
     "metadata": {},
     "output_type": "display_data"
    },
    {
     "data": {
      "text/markdown": [
       "<span style=\"color:#33cc33\">Correct</span>"
      ],
      "text/plain": [
       "Correct"
      ]
     },
     "metadata": {},
     "output_type": "display_data"
    }
   ],
   "source": [
    "# Preprocessed training and validation features\n",
    "final_X_train = reduced_X_train\n",
    "final_X_valid = reduced_X_valid\n",
    "\n",
    "# Check your answers\n",
    "step_4.a.check()"
   ]
  },
  {
   "cell_type": "code",
   "execution_count": 19,
   "id": "b973350a",
   "metadata": {
    "execution": {
     "iopub.execute_input": "2023-12-24T15:54:41.094059Z",
     "iopub.status.busy": "2023-12-24T15:54:41.093634Z",
     "iopub.status.idle": "2023-12-24T15:54:41.098376Z",
     "shell.execute_reply": "2023-12-24T15:54:41.097405Z"
    },
    "papermill": {
     "duration": 0.023848,
     "end_time": "2023-12-24T15:54:41.100510",
     "exception": false,
     "start_time": "2023-12-24T15:54:41.076662",
     "status": "completed"
    },
    "tags": []
   },
   "outputs": [],
   "source": [
    "# Lines below will give you a hint or solution code\n",
    "#step_4.a.hint()\n",
    "#step_4.a.solution()"
   ]
  },
  {
   "cell_type": "markdown",
   "id": "13f6a4d0",
   "metadata": {
    "papermill": {
     "duration": 0.015122,
     "end_time": "2023-12-24T15:54:41.131211",
     "exception": false,
     "start_time": "2023-12-24T15:54:41.116089",
     "status": "completed"
    },
    "tags": []
   },
   "source": [
    "Run the next code cell to train and evaluate a random forest model.  (*Note that we don't use the `score_dataset()` function above, because we will soon use the trained model to generate test predictions!*)"
   ]
  },
  {
   "cell_type": "code",
   "execution_count": 20,
   "id": "43ff4cf1",
   "metadata": {
    "execution": {
     "iopub.execute_input": "2023-12-24T15:54:41.164788Z",
     "iopub.status.busy": "2023-12-24T15:54:41.164358Z",
     "iopub.status.idle": "2023-12-24T15:54:42.472995Z",
     "shell.execute_reply": "2023-12-24T15:54:42.471652Z"
    },
    "papermill": {
     "duration": 1.329394,
     "end_time": "2023-12-24T15:54:42.476491",
     "exception": false,
     "start_time": "2023-12-24T15:54:41.147097",
     "status": "completed"
    },
    "tags": []
   },
   "outputs": [
    {
     "name": "stdout",
     "output_type": "stream",
     "text": [
      "MAE (Your approach):\n",
      "17837.82570776256\n"
     ]
    }
   ],
   "source": [
    "# Define and fit model\n",
    "model = RandomForestRegressor(n_estimators=100, random_state=0)\n",
    "model.fit(final_X_train, y_train)\n",
    "\n",
    "# Get validation predictions and MAE\n",
    "preds_valid = model.predict(final_X_valid)\n",
    "print(\"MAE (Your approach):\")\n",
    "print(mean_absolute_error(y_valid, preds_valid))"
   ]
  },
  {
   "cell_type": "markdown",
   "id": "caefdf56",
   "metadata": {
    "papermill": {
     "duration": 0.015609,
     "end_time": "2023-12-24T15:54:42.508896",
     "exception": false,
     "start_time": "2023-12-24T15:54:42.493287",
     "status": "completed"
    },
    "tags": []
   },
   "source": [
    "### Part B\n",
    "\n",
    "Use the next code cell to preprocess your test data.  Make sure that you use a method that agrees with how you preprocessed the training and validation data, and set the preprocessed test features to `final_X_test`.\n",
    "\n",
    "Then, use the preprocessed test features and the trained model to generate test predictions in `preds_test`.\n",
    "\n",
    "In order for this step to be marked correct, you need only ensure:\n",
    "- the preprocessed test DataFrame has no missing values, and\n",
    "- `final_X_test` has the same number of rows as `X_test`."
   ]
  },
  {
   "cell_type": "code",
   "execution_count": 21,
   "id": "0505fd11",
   "metadata": {
    "execution": {
     "iopub.execute_input": "2023-12-24T15:54:42.542478Z",
     "iopub.status.busy": "2023-12-24T15:54:42.542085Z",
     "iopub.status.idle": "2023-12-24T15:54:42.594477Z",
     "shell.execute_reply": "2023-12-24T15:54:42.593341Z"
    },
    "papermill": {
     "duration": 0.072051,
     "end_time": "2023-12-24T15:54:42.597205",
     "exception": false,
     "start_time": "2023-12-24T15:54:42.525154",
     "status": "completed"
    },
    "tags": []
   },
   "outputs": [
    {
     "data": {
      "application/javascript": [
       "parent.postMessage({\"jupyterEvent\": \"custom.exercise_interaction\", \"data\": {\"outcomeType\": 1, \"valueTowardsCompletion\": 1.0, \"interactionType\": 1, \"questionType\": 2, \"questionId\": \"4.2_PredsCodeB\", \"learnToolsVersion\": \"0.3.4\", \"failureMessage\": \"\", \"exceptionClass\": \"\", \"trace\": \"\"}}, \"*\")"
      ],
      "text/plain": [
       "<IPython.core.display.Javascript object>"
      ]
     },
     "metadata": {},
     "output_type": "display_data"
    },
    {
     "data": {
      "text/markdown": [
       "<span style=\"color:#33cc33\">Correct</span>"
      ],
      "text/plain": [
       "Correct"
      ]
     },
     "metadata": {},
     "output_type": "display_data"
    }
   ],
   "source": [
    "# Fill in the line below: preprocess test data\n",
    "# print(len(X_test.columns))\n",
    "\n",
    "final_X_test = pd.DataFrame(impute.transform(X_test))\n",
    "final_X_test.columns = X_test.columns\n",
    "\n",
    "# print(final_X_test.columns)\n",
    "\n",
    "final_X_test = final_X_test[reduced_X_train.columns]\n",
    "\n",
    "# Fill in the line below: get test predictions\n",
    "preds_test = model.predict(final_X_test)\n",
    "# print(preds_test)\n",
    "\n",
    "# Check your answers\n",
    "step_4.b.check()"
   ]
  },
  {
   "cell_type": "code",
   "execution_count": 22,
   "id": "02dc8cc8",
   "metadata": {
    "execution": {
     "iopub.execute_input": "2023-12-24T15:54:42.631824Z",
     "iopub.status.busy": "2023-12-24T15:54:42.630800Z",
     "iopub.status.idle": "2023-12-24T15:54:42.636054Z",
     "shell.execute_reply": "2023-12-24T15:54:42.634890Z"
    },
    "papermill": {
     "duration": 0.025094,
     "end_time": "2023-12-24T15:54:42.638330",
     "exception": false,
     "start_time": "2023-12-24T15:54:42.613236",
     "status": "completed"
    },
    "tags": []
   },
   "outputs": [],
   "source": [
    "# Lines below will give you a hint or solution code\n",
    "# step_4.b.hint()\n",
    "# step_4.b.solution()"
   ]
  },
  {
   "cell_type": "markdown",
   "id": "56ef0f98",
   "metadata": {
    "papermill": {
     "duration": 0.01626,
     "end_time": "2023-12-24T15:54:42.670721",
     "exception": false,
     "start_time": "2023-12-24T15:54:42.654461",
     "status": "completed"
    },
    "tags": []
   },
   "source": [
    "Run the next code cell without changes to save your results to a CSV file that can be submitted directly to the competition."
   ]
  },
  {
   "cell_type": "code",
   "execution_count": 23,
   "id": "c551dc83",
   "metadata": {
    "execution": {
     "iopub.execute_input": "2023-12-24T15:54:42.704849Z",
     "iopub.status.busy": "2023-12-24T15:54:42.704441Z",
     "iopub.status.idle": "2023-12-24T15:54:42.718966Z",
     "shell.execute_reply": "2023-12-24T15:54:42.717692Z"
    },
    "papermill": {
     "duration": 0.035032,
     "end_time": "2023-12-24T15:54:42.721910",
     "exception": false,
     "start_time": "2023-12-24T15:54:42.686878",
     "status": "completed"
    },
    "tags": []
   },
   "outputs": [],
   "source": [
    "# Save test predictions to file\n",
    "output = pd.DataFrame({'Id': X_test.index,\n",
    "                       'SalePrice': preds_test})\n",
    "output.to_csv('submission.csv', index=False)"
   ]
  },
  {
   "cell_type": "markdown",
   "id": "8d01f502",
   "metadata": {
    "papermill": {
     "duration": 0.015575,
     "end_time": "2023-12-24T15:54:42.753612",
     "exception": false,
     "start_time": "2023-12-24T15:54:42.738037",
     "status": "completed"
    },
    "tags": []
   },
   "source": [
    "# Submit your results\n",
    "\n",
    "Once you have successfully completed Step 4, you're ready to submit your results to the leaderboard!  (_You also learned how to do this in the previous exercise.  If you need a reminder of how to do this, please use the instructions below._)  \n",
    "\n",
    "First, you'll need to join the competition if you haven't already.  So open a new window by clicking on [this link](https://www.kaggle.com/c/home-data-for-ml-course).  Then click on the **Join Competition** button.\n",
    "\n",
    "![join competition image](https://storage.googleapis.com/kaggle-media/learn/images/wLmFtH3.png)\n",
    "\n",
    "Next, follow the instructions below:\n",
    "1. Begin by clicking on the **Save Version** button in the top right corner of the window.  This will generate a pop-up window.  \n",
    "2. Ensure that the **Save and Run All** option is selected, and then click on the **Save** button.\n",
    "3. This generates a window in the bottom left corner of the notebook.  After it has finished running, click on the number to the right of the **Save Version** button.  This pulls up a list of versions on the right of the screen.  Click on the ellipsis **(...)** to the right of the most recent version, and select **Open in Viewer**.  This brings you into view mode of the same page. You will need to scroll down to get back to these instructions.\n",
    "4. Click on the **Data** tab near the top of the screen.  Then, click on the file you would like to submit, and click on the **Submit** button to submit your results to the leaderboard.\n",
    "\n",
    "You have now successfully submitted to the competition!\n",
    "\n",
    "If you want to keep working to improve your performance, select the **Edit** button in the top right of the screen. Then you can change your code and repeat the process. There's a lot of room to improve, and you will climb up the leaderboard as you work.\n",
    "\n",
    "\n",
    "# Keep going\n",
    "\n",
    "Move on to learn what **[categorical variables](https://www.kaggle.com/alexisbcook/categorical-variables)** are, along with how to incorporate them into your machine learning models.  Categorical variables are very common in real-world data, but you'll get an error if you try to plug them into your models without processing them first!"
   ]
  },
  {
   "cell_type": "markdown",
   "id": "ec39ae66",
   "metadata": {
    "papermill": {
     "duration": 0.015657,
     "end_time": "2023-12-24T15:54:42.785615",
     "exception": false,
     "start_time": "2023-12-24T15:54:42.769958",
     "status": "completed"
    },
    "tags": []
   },
   "source": [
    "---\n",
    "\n",
    "\n",
    "\n",
    "\n",
    "*Have questions or comments? Visit the [course discussion forum](https://www.kaggle.com/learn/intermediate-machine-learning/discussion) to chat with other learners.*"
   ]
  }
 ],
 "metadata": {
  "kaggle": {
   "accelerator": "none",
   "dataSources": [
    {
     "databundleVersionId": 111096,
     "sourceId": 10211,
     "sourceType": "competition"
    }
   ],
   "isGpuEnabled": false,
   "isInternetEnabled": false,
   "language": "python",
   "sourceType": "notebook"
  },
  "kernelspec": {
   "display_name": "Python 3",
   "language": "python",
   "name": "python3"
  },
  "language_info": {
   "codemirror_mode": {
    "name": "ipython",
    "version": 3
   },
   "file_extension": ".py",
   "mimetype": "text/x-python",
   "name": "python",
   "nbconvert_exporter": "python",
   "pygments_lexer": "ipython3",
   "version": "3.10.12"
  },
  "papermill": {
   "default_parameters": {},
   "duration": 13.5994,
   "end_time": "2023-12-24T15:54:43.422165",
   "environment_variables": {},
   "exception": null,
   "input_path": "__notebook__.ipynb",
   "output_path": "__notebook__.ipynb",
   "parameters": {},
   "start_time": "2023-12-24T15:54:29.822765",
   "version": "2.4.0"
  }
 },
 "nbformat": 4,
 "nbformat_minor": 5
}
