{
 "cells": [
  {
   "cell_type": "markdown",
   "id": "c88e658e",
   "metadata": {
    "papermill": {
     "duration": 0.006531,
     "end_time": "2023-12-31T11:37:38.498399",
     "exception": false,
     "start_time": "2023-12-31T11:37:38.491868",
     "status": "completed"
    },
    "tags": []
   },
   "source": [
    "**This notebook is an exercise in the [Feature Engineering](https://www.kaggle.com/learn/feature-engineering) course.  You can reference the tutorial at [this link](https://www.kaggle.com/ryanholbrook/creating-features).**\n",
    "\n",
    "---\n"
   ]
  },
  {
   "cell_type": "markdown",
   "id": "afcf3588",
   "metadata": {
    "papermill": {
     "duration": 0.005129,
     "end_time": "2023-12-31T11:37:38.509650",
     "exception": false,
     "start_time": "2023-12-31T11:37:38.504521",
     "status": "completed"
    },
    "tags": []
   },
   "source": [
    "# Introduction #\n",
    "\n",
    "In this exercise you'll start developing the features you identified in Exercise 2 as having the most potential. As you work through this exercise, you might take a moment to look at the data documentation again and consider whether the features we're creating make sense from a real-world perspective, and whether there are any useful combinations that stand out to you.\n",
    "\n",
    "Run this cell to set everything up!"
   ]
  },
  {
   "cell_type": "code",
   "execution_count": 1,
   "id": "7b5f814a",
   "metadata": {
    "execution": {
     "iopub.execute_input": "2023-12-31T11:37:38.522673Z",
     "iopub.status.busy": "2023-12-31T11:37:38.522204Z",
     "iopub.status.idle": "2023-12-31T11:37:40.638848Z",
     "shell.execute_reply": "2023-12-31T11:37:40.637773Z"
    },
    "papermill": {
     "duration": 2.126548,
     "end_time": "2023-12-31T11:37:40.641732",
     "exception": false,
     "start_time": "2023-12-31T11:37:38.515184",
     "status": "completed"
    },
    "tags": []
   },
   "outputs": [],
   "source": [
    "# Setup feedback system\n",
    "from learntools.core import binder\n",
    "binder.bind(globals())\n",
    "from learntools.feature_engineering_new.ex3 import *\n",
    "\n",
    "import numpy as np\n",
    "import pandas as pd\n",
    "from sklearn.model_selection import cross_val_score\n",
    "from xgboost import XGBRegressor\n",
    "\n",
    "\n",
    "def score_dataset(X, y, model=XGBRegressor()):\n",
    "    # Label encoding for categoricals\n",
    "    for colname in X.select_dtypes([\"category\", \"object\"]):\n",
    "        X[colname], _ = X[colname].factorize()\n",
    "    # Metric for Housing competition is RMSLE (Root Mean Squared Log Error)\n",
    "    score = cross_val_score(\n",
    "        model, X, y, cv=5, scoring=\"neg_mean_squared_log_error\",\n",
    "    )\n",
    "    score = -1 * score.mean()\n",
    "    score = np.sqrt(score)\n",
    "    return score\n",
    "\n",
    "\n",
    "# Prepare data\n",
    "df = pd.read_csv(\"../input/fe-course-data/ames.csv\")\n",
    "X = df.copy()\n",
    "y = X.pop(\"SalePrice\")"
   ]
  },
  {
   "cell_type": "markdown",
   "id": "0b851179",
   "metadata": {
    "papermill": {
     "duration": 0.005419,
     "end_time": "2023-12-31T11:37:40.652764",
     "exception": false,
     "start_time": "2023-12-31T11:37:40.647345",
     "status": "completed"
    },
    "tags": []
   },
   "source": [
    "-------------------------------------------------------------------------------\n",
    "\n",
    "Let's start with a few mathematical combinations. We'll focus on features describing areas -- having the same units (square-feet) makes it easy to combine them in sensible ways. Since we're using XGBoost (a tree-based model), we'll focus on ratios and sums.\n",
    "\n",
    "# 1) Create Mathematical Transforms\n",
    "\n",
    "Create the following features:\n",
    "\n",
    "- `LivLotRatio`: the ratio of `GrLivArea` to `LotArea`\n",
    "- `Spaciousness`: the sum of `FirstFlrSF` and `SecondFlrSF` divided by `TotRmsAbvGrd`\n",
    "- `TotalOutsideSF`: the sum of `WoodDeckSF`, `OpenPorchSF`, `EnclosedPorch`, `Threeseasonporch`, and `ScreenPorch`"
   ]
  },
  {
   "cell_type": "code",
   "execution_count": 2,
   "id": "3375d700",
   "metadata": {
    "execution": {
     "iopub.execute_input": "2023-12-31T11:37:40.665539Z",
     "iopub.status.busy": "2023-12-31T11:37:40.665130Z",
     "iopub.status.idle": "2023-12-31T11:37:40.686050Z",
     "shell.execute_reply": "2023-12-31T11:37:40.685171Z"
    },
    "lines_to_next_cell": 0,
    "papermill": {
     "duration": 0.029903,
     "end_time": "2023-12-31T11:37:40.688309",
     "exception": false,
     "start_time": "2023-12-31T11:37:40.658406",
     "status": "completed"
    },
    "tags": []
   },
   "outputs": [
    {
     "data": {
      "application/javascript": [
       "parent.postMessage({\"jupyterEvent\": \"custom.exercise_interaction\", \"data\": {\"outcomeType\": 1, \"valueTowardsCompletion\": 0.2, \"interactionType\": 1, \"questionType\": 2, \"questionId\": \"1_Q1\", \"learnToolsVersion\": \"0.3.4\", \"failureMessage\": \"\", \"exceptionClass\": \"\", \"trace\": \"\"}}, \"*\")"
      ],
      "text/plain": [
       "<IPython.core.display.Javascript object>"
      ]
     },
     "metadata": {},
     "output_type": "display_data"
    },
    {
     "data": {
      "text/markdown": [
       "<span style=\"color:#33cc33\">Correct</span>"
      ],
      "text/plain": [
       "Correct"
      ]
     },
     "metadata": {},
     "output_type": "display_data"
    }
   ],
   "source": [
    "# YOUR CODE HERE\n",
    "X_1 = pd.DataFrame()  # dataframe to hold new features\n",
    "\n",
    "X_1[\"LivLotRatio\"] = df.GrLivArea / df.LotArea\n",
    "X_1[\"Spaciousness\"] = (df.FirstFlrSF + df.SecondFlrSF) / df.TotRmsAbvGrd\n",
    "X_1[\"TotalOutsideSF\"] = df.WoodDeckSF + df.OpenPorchSF + df.EnclosedPorch + df.Threeseasonporch + df.ScreenPorch\n",
    "\n",
    "\n",
    "# Check your answer\n",
    "q_1.check()"
   ]
  },
  {
   "cell_type": "code",
   "execution_count": 3,
   "id": "f9d2fc61",
   "metadata": {
    "execution": {
     "iopub.execute_input": "2023-12-31T11:37:40.701618Z",
     "iopub.status.busy": "2023-12-31T11:37:40.701191Z",
     "iopub.status.idle": "2023-12-31T11:37:40.705774Z",
     "shell.execute_reply": "2023-12-31T11:37:40.704626Z"
    },
    "lines_to_next_cell": 0,
    "papermill": {
     "duration": 0.013808,
     "end_time": "2023-12-31T11:37:40.708004",
     "exception": false,
     "start_time": "2023-12-31T11:37:40.694196",
     "status": "completed"
    },
    "tags": []
   },
   "outputs": [],
   "source": [
    "# Lines below will give you a hint or solution code\n",
    "# q_1.hint()\n",
    "# q_1.solution()"
   ]
  },
  {
   "cell_type": "markdown",
   "id": "cf1e4c9f",
   "metadata": {
    "papermill": {
     "duration": 0.005763,
     "end_time": "2023-12-31T11:37:40.719516",
     "exception": false,
     "start_time": "2023-12-31T11:37:40.713753",
     "status": "completed"
    },
    "tags": []
   },
   "source": [
    "-------------------------------------------------------------------------------\n",
    "\n",
    "If you've discovered an interaction effect between a numeric feature and a categorical feature, you might want to model it explicitly using a one-hot encoding, like so:\n",
    "\n",
    "```\n",
    "# One-hot encode Categorical feature, adding a column prefix \"Cat\"\n",
    "X_new = pd.get_dummies(df.Categorical, prefix=\"Cat\")\n",
    "\n",
    "# Multiply row-by-row\n",
    "X_new = X_new.mul(df.Continuous, axis=0)\n",
    "\n",
    "# Join the new features to the feature set\n",
    "X = X.join(X_new)\n",
    "```\n",
    "\n",
    "# 2) Interaction with a Categorical\n",
    "\n",
    "We discovered an interaction between `BldgType` and `GrLivArea` in Exercise 2. Now create their interaction features."
   ]
  },
  {
   "cell_type": "code",
   "execution_count": 4,
   "id": "e8087b62",
   "metadata": {
    "execution": {
     "iopub.execute_input": "2023-12-31T11:37:40.733076Z",
     "iopub.status.busy": "2023-12-31T11:37:40.732655Z",
     "iopub.status.idle": "2023-12-31T11:37:40.751836Z",
     "shell.execute_reply": "2023-12-31T11:37:40.750615Z"
    },
    "lines_to_next_cell": 0,
    "papermill": {
     "duration": 0.028892,
     "end_time": "2023-12-31T11:37:40.754386",
     "exception": false,
     "start_time": "2023-12-31T11:37:40.725494",
     "status": "completed"
    },
    "tags": []
   },
   "outputs": [
    {
     "data": {
      "application/javascript": [
       "parent.postMessage({\"jupyterEvent\": \"custom.exercise_interaction\", \"data\": {\"outcomeType\": 1, \"valueTowardsCompletion\": 0.2, \"interactionType\": 1, \"questionType\": 2, \"questionId\": \"2_Q2\", \"learnToolsVersion\": \"0.3.4\", \"failureMessage\": \"\", \"exceptionClass\": \"\", \"trace\": \"\"}}, \"*\")"
      ],
      "text/plain": [
       "<IPython.core.display.Javascript object>"
      ]
     },
     "metadata": {},
     "output_type": "display_data"
    },
    {
     "data": {
      "text/markdown": [
       "<span style=\"color:#33cc33\">Correct</span>"
      ],
      "text/plain": [
       "Correct"
      ]
     },
     "metadata": {},
     "output_type": "display_data"
    }
   ],
   "source": [
    "# YOUR CODE HERE\n",
    "# One-hot encode BldgType. Use `prefix=\"Bldg\"` in `get_dummies`\n",
    "X_2 = pd.get_dummies(df.BldgType, prefix=\"Bldg\")\n",
    "# Multiply\n",
    "X_2 = X_2.mul(df.GrLivArea, axis=0)\n",
    "\n",
    "\n",
    "# Check your answer\n",
    "q_2.check()"
   ]
  },
  {
   "cell_type": "code",
   "execution_count": 5,
   "id": "a0cf8d48",
   "metadata": {
    "execution": {
     "iopub.execute_input": "2023-12-31T11:37:40.768396Z",
     "iopub.status.busy": "2023-12-31T11:37:40.768005Z",
     "iopub.status.idle": "2023-12-31T11:37:40.772953Z",
     "shell.execute_reply": "2023-12-31T11:37:40.771643Z"
    },
    "lines_to_next_cell": 0,
    "papermill": {
     "duration": 0.014467,
     "end_time": "2023-12-31T11:37:40.775094",
     "exception": false,
     "start_time": "2023-12-31T11:37:40.760627",
     "status": "completed"
    },
    "tags": []
   },
   "outputs": [],
   "source": [
    "# Lines below will give you a hint or solution code\n",
    "# q_2.hint()\n",
    "# q_2.solution()"
   ]
  },
  {
   "cell_type": "markdown",
   "id": "ee522b9f",
   "metadata": {
    "lines_to_next_cell": 0,
    "papermill": {
     "duration": 0.005749,
     "end_time": "2023-12-31T11:37:40.786969",
     "exception": false,
     "start_time": "2023-12-31T11:37:40.781220",
     "status": "completed"
    },
    "tags": []
   },
   "source": [
    "# 3) Count Feature\n",
    "\n",
    "Let's try creating a feature that describes how many kinds of outdoor areas a dwelling has. Create a feature `PorchTypes` that counts how many of the following are greater than 0.0:\n",
    "\n",
    "```\n",
    "WoodDeckSF\n",
    "OpenPorchSF\n",
    "EnclosedPorch\n",
    "Threeseasonporch\n",
    "ScreenPorch\n",
    "```"
   ]
  },
  {
   "cell_type": "code",
   "execution_count": 6,
   "id": "0b3fa15d",
   "metadata": {
    "execution": {
     "iopub.execute_input": "2023-12-31T11:37:40.801249Z",
     "iopub.status.busy": "2023-12-31T11:37:40.800437Z",
     "iopub.status.idle": "2023-12-31T11:37:40.818544Z",
     "shell.execute_reply": "2023-12-31T11:37:40.817446Z"
    },
    "lines_to_next_cell": 0,
    "papermill": {
     "duration": 0.027852,
     "end_time": "2023-12-31T11:37:40.820771",
     "exception": false,
     "start_time": "2023-12-31T11:37:40.792919",
     "status": "completed"
    },
    "tags": []
   },
   "outputs": [
    {
     "data": {
      "application/javascript": [
       "parent.postMessage({\"jupyterEvent\": \"custom.exercise_interaction\", \"data\": {\"outcomeType\": 1, \"valueTowardsCompletion\": 0.2, \"interactionType\": 1, \"questionType\": 2, \"questionId\": \"3_Q3\", \"learnToolsVersion\": \"0.3.4\", \"failureMessage\": \"\", \"exceptionClass\": \"\", \"trace\": \"\"}}, \"*\")"
      ],
      "text/plain": [
       "<IPython.core.display.Javascript object>"
      ]
     },
     "metadata": {},
     "output_type": "display_data"
    },
    {
     "data": {
      "text/markdown": [
       "<span style=\"color:#33cc33\">Correct</span>"
      ],
      "text/plain": [
       "Correct"
      ]
     },
     "metadata": {},
     "output_type": "display_data"
    }
   ],
   "source": [
    "X_3 = pd.DataFrame()\n",
    "\n",
    "# YOUR CODE HERE\n",
    "X_3[\"PorchTypes\"] = df[[\"WoodDeckSF\", \"OpenPorchSF\",\"EnclosedPorch\", \"Threeseasonporch\", \"ScreenPorch\",]].gt(0.0).sum(axis=1)\n",
    "\n",
    "\n",
    "# Check your answer\n",
    "q_3.check()"
   ]
  },
  {
   "cell_type": "code",
   "execution_count": 7,
   "id": "a5fd3b08",
   "metadata": {
    "execution": {
     "iopub.execute_input": "2023-12-31T11:37:40.835964Z",
     "iopub.status.busy": "2023-12-31T11:37:40.834812Z",
     "iopub.status.idle": "2023-12-31T11:37:40.840002Z",
     "shell.execute_reply": "2023-12-31T11:37:40.838800Z"
    },
    "lines_to_next_cell": 0,
    "papermill": {
     "duration": 0.015448,
     "end_time": "2023-12-31T11:37:40.842464",
     "exception": false,
     "start_time": "2023-12-31T11:37:40.827016",
     "status": "completed"
    },
    "tags": []
   },
   "outputs": [],
   "source": [
    "# Lines below will give you a hint or solution code\n",
    "# q_3.hint()\n",
    "# q_3.solution()"
   ]
  },
  {
   "cell_type": "markdown",
   "id": "b7240a46",
   "metadata": {
    "papermill": {
     "duration": 0.006156,
     "end_time": "2023-12-31T11:37:40.854846",
     "exception": false,
     "start_time": "2023-12-31T11:37:40.848690",
     "status": "completed"
    },
    "tags": []
   },
   "source": [
    "# 4) Break Down a Categorical Feature\n",
    "\n",
    "`MSSubClass` describes the type of a dwelling:"
   ]
  },
  {
   "cell_type": "code",
   "execution_count": 8,
   "id": "9c438109",
   "metadata": {
    "execution": {
     "iopub.execute_input": "2023-12-31T11:37:40.868918Z",
     "iopub.status.busy": "2023-12-31T11:37:40.868507Z",
     "iopub.status.idle": "2023-12-31T11:37:40.877534Z",
     "shell.execute_reply": "2023-12-31T11:37:40.876659Z"
    },
    "papermill": {
     "duration": 0.018613,
     "end_time": "2023-12-31T11:37:40.879755",
     "exception": false,
     "start_time": "2023-12-31T11:37:40.861142",
     "status": "completed"
    },
    "tags": []
   },
   "outputs": [
    {
     "data": {
      "text/plain": [
       "array(['One_Story_1946_and_Newer_All_Styles', 'Two_Story_1946_and_Newer',\n",
       "       'One_Story_PUD_1946_and_Newer',\n",
       "       'One_and_Half_Story_Finished_All_Ages', 'Split_Foyer',\n",
       "       'Two_Story_PUD_1946_and_Newer', 'Split_or_Multilevel',\n",
       "       'One_Story_1945_and_Older', 'Duplex_All_Styles_and_Ages',\n",
       "       'Two_Family_conversion_All_Styles_and_Ages',\n",
       "       'One_and_Half_Story_Unfinished_All_Ages',\n",
       "       'Two_Story_1945_and_Older', 'Two_and_Half_Story_All_Ages',\n",
       "       'One_Story_with_Finished_Attic_All_Ages',\n",
       "       'PUD_Multilevel_Split_Level_Foyer',\n",
       "       'One_and_Half_Story_PUD_All_Ages'], dtype=object)"
      ]
     },
     "execution_count": 8,
     "metadata": {},
     "output_type": "execute_result"
    }
   ],
   "source": [
    "df.MSSubClass.unique()"
   ]
  },
  {
   "cell_type": "markdown",
   "id": "1abb2d38",
   "metadata": {
    "papermill": {
     "duration": 0.00606,
     "end_time": "2023-12-31T11:37:40.892296",
     "exception": false,
     "start_time": "2023-12-31T11:37:40.886236",
     "status": "completed"
    },
    "tags": []
   },
   "source": [
    "You can see that there is a more general categorization described (roughly) by the first word of each category. Create a feature containing only these first words by splitting `MSSubClass` at the first underscore `_`. (Hint: In the `split` method use an argument `n=1`.)"
   ]
  },
  {
   "cell_type": "code",
   "execution_count": 9,
   "id": "a050597e",
   "metadata": {
    "execution": {
     "iopub.execute_input": "2023-12-31T11:37:40.906634Z",
     "iopub.status.busy": "2023-12-31T11:37:40.906225Z",
     "iopub.status.idle": "2023-12-31T11:37:40.929608Z",
     "shell.execute_reply": "2023-12-31T11:37:40.928389Z"
    },
    "lines_to_next_cell": 0,
    "papermill": {
     "duration": 0.033451,
     "end_time": "2023-12-31T11:37:40.932044",
     "exception": false,
     "start_time": "2023-12-31T11:37:40.898593",
     "status": "completed"
    },
    "tags": []
   },
   "outputs": [
    {
     "data": {
      "application/javascript": [
       "parent.postMessage({\"jupyterEvent\": \"custom.exercise_interaction\", \"data\": {\"outcomeType\": 1, \"valueTowardsCompletion\": 0.2, \"interactionType\": 1, \"questionType\": 2, \"questionId\": \"4_Q4\", \"learnToolsVersion\": \"0.3.4\", \"failureMessage\": \"\", \"exceptionClass\": \"\", \"trace\": \"\"}}, \"*\")"
      ],
      "text/plain": [
       "<IPython.core.display.Javascript object>"
      ]
     },
     "metadata": {},
     "output_type": "display_data"
    },
    {
     "data": {
      "text/markdown": [
       "<span style=\"color:#33cc33\">Correct</span>"
      ],
      "text/plain": [
       "Correct"
      ]
     },
     "metadata": {},
     "output_type": "display_data"
    }
   ],
   "source": [
    "X_4 = pd.DataFrame()\n",
    "\n",
    "# YOUR CODE HERE\n",
    "X_4[\"MSClass\"] = df.MSSubClass.str.split(\"_\", n=1, expand=True)[0]\n",
    "\n",
    "# Check your answer\n",
    "q_4.check()"
   ]
  },
  {
   "cell_type": "code",
   "execution_count": 10,
   "id": "c0a5812f",
   "metadata": {
    "execution": {
     "iopub.execute_input": "2023-12-31T11:37:40.946965Z",
     "iopub.status.busy": "2023-12-31T11:37:40.946539Z",
     "iopub.status.idle": "2023-12-31T11:37:40.951280Z",
     "shell.execute_reply": "2023-12-31T11:37:40.949970Z"
    },
    "lines_to_next_cell": 0,
    "papermill": {
     "duration": 0.014956,
     "end_time": "2023-12-31T11:37:40.953614",
     "exception": false,
     "start_time": "2023-12-31T11:37:40.938658",
     "status": "completed"
    },
    "tags": []
   },
   "outputs": [],
   "source": [
    "# Lines below will give you a hint or solution code\n",
    "# q_4.hint()\n",
    "# q_4.solution()"
   ]
  },
  {
   "cell_type": "markdown",
   "id": "e2858aa7",
   "metadata": {
    "papermill": {
     "duration": 0.006222,
     "end_time": "2023-12-31T11:37:40.966473",
     "exception": false,
     "start_time": "2023-12-31T11:37:40.960251",
     "status": "completed"
    },
    "tags": []
   },
   "source": [
    "# 5) Use a Grouped Transform\n",
    "\n",
    "The value of a home often depends on how it compares to typical homes in its neighborhood. Create a feature `MedNhbdArea` that describes the *median* of `GrLivArea` grouped on `Neighborhood`."
   ]
  },
  {
   "cell_type": "code",
   "execution_count": 11,
   "id": "00422d34",
   "metadata": {
    "execution": {
     "iopub.execute_input": "2023-12-31T11:37:40.982054Z",
     "iopub.status.busy": "2023-12-31T11:37:40.981663Z",
     "iopub.status.idle": "2023-12-31T11:37:40.999244Z",
     "shell.execute_reply": "2023-12-31T11:37:40.998409Z"
    },
    "lines_to_next_cell": 0,
    "papermill": {
     "duration": 0.028136,
     "end_time": "2023-12-31T11:37:41.001289",
     "exception": false,
     "start_time": "2023-12-31T11:37:40.973153",
     "status": "completed"
    },
    "tags": []
   },
   "outputs": [
    {
     "data": {
      "application/javascript": [
       "parent.postMessage({\"jupyterEvent\": \"custom.exercise_interaction\", \"data\": {\"outcomeType\": 1, \"valueTowardsCompletion\": 0.2, \"interactionType\": 1, \"questionType\": 2, \"questionId\": \"5_Q5\", \"learnToolsVersion\": \"0.3.4\", \"failureMessage\": \"\", \"exceptionClass\": \"\", \"trace\": \"\"}}, \"*\")"
      ],
      "text/plain": [
       "<IPython.core.display.Javascript object>"
      ]
     },
     "metadata": {},
     "output_type": "display_data"
    },
    {
     "data": {
      "text/markdown": [
       "<span style=\"color:#33cc33\">Correct</span>"
      ],
      "text/plain": [
       "Correct"
      ]
     },
     "metadata": {},
     "output_type": "display_data"
    }
   ],
   "source": [
    "X_5 = pd.DataFrame()\n",
    "\n",
    "# YOUR CODE HERE\n",
    "X_5[\"MedNhbdArea\"] = df.groupby(\"Neighborhood\")[\"GrLivArea\"].transform(\"median\")\n",
    "\n",
    "# Check your answer\n",
    "q_5.check()"
   ]
  },
  {
   "cell_type": "code",
   "execution_count": 12,
   "id": "964b4de6",
   "metadata": {
    "execution": {
     "iopub.execute_input": "2023-12-31T11:37:41.017180Z",
     "iopub.status.busy": "2023-12-31T11:37:41.016491Z",
     "iopub.status.idle": "2023-12-31T11:37:41.021087Z",
     "shell.execute_reply": "2023-12-31T11:37:41.019981Z"
    },
    "lines_to_next_cell": 0,
    "papermill": {
     "duration": 0.015202,
     "end_time": "2023-12-31T11:37:41.023301",
     "exception": false,
     "start_time": "2023-12-31T11:37:41.008099",
     "status": "completed"
    },
    "tags": []
   },
   "outputs": [],
   "source": [
    "# Lines below will give you a hint or solution code\n",
    "# q_5.hint()\n",
    "# q_5.solution()"
   ]
  },
  {
   "cell_type": "markdown",
   "id": "8440ef1b",
   "metadata": {
    "papermill": {
     "duration": 0.006654,
     "end_time": "2023-12-31T11:37:41.037227",
     "exception": false,
     "start_time": "2023-12-31T11:37:41.030573",
     "status": "completed"
    },
    "tags": []
   },
   "source": [
    "Now you've made your first new feature set! If you like, you can run the cell below to score the model with all of your new features added:"
   ]
  },
  {
   "cell_type": "code",
   "execution_count": 13,
   "id": "c04b5695",
   "metadata": {
    "execution": {
     "iopub.execute_input": "2023-12-31T11:37:41.052557Z",
     "iopub.status.busy": "2023-12-31T11:37:41.052136Z",
     "iopub.status.idle": "2023-12-31T11:37:43.694272Z",
     "shell.execute_reply": "2023-12-31T11:37:43.692990Z"
    },
    "papermill": {
     "duration": 2.652545,
     "end_time": "2023-12-31T11:37:43.696581",
     "exception": false,
     "start_time": "2023-12-31T11:37:41.044036",
     "status": "completed"
    },
    "tags": []
   },
   "outputs": [
    {
     "data": {
      "text/plain": [
       "0.13954039591355258"
      ]
     },
     "execution_count": 13,
     "metadata": {},
     "output_type": "execute_result"
    }
   ],
   "source": [
    "X_new = X.join([X_1, X_2, X_3, X_4, X_5])\n",
    "score_dataset(X_new, y)"
   ]
  },
  {
   "cell_type": "markdown",
   "id": "cf0f384d",
   "metadata": {
    "papermill": {
     "duration": 0.007664,
     "end_time": "2023-12-31T11:37:43.712393",
     "exception": false,
     "start_time": "2023-12-31T11:37:43.704729",
     "status": "completed"
    },
    "tags": []
   },
   "source": [
    "# Keep Going #\n",
    "\n",
    "[**Untangle spatial relationships**](https://www.kaggle.com/ryanholbrook/clustering-with-k-means) by adding cluster labels to your dataset."
   ]
  },
  {
   "cell_type": "markdown",
   "id": "0a1f4190",
   "metadata": {
    "papermill": {
     "duration": 0.00666,
     "end_time": "2023-12-31T11:37:43.725989",
     "exception": false,
     "start_time": "2023-12-31T11:37:43.719329",
     "status": "completed"
    },
    "tags": []
   },
   "source": [
    "---\n",
    "\n",
    "\n",
    "\n",
    "\n",
    "*Have questions or comments? Visit the [course discussion forum](https://www.kaggle.com/learn/feature-engineering/discussion) to chat with other learners.*"
   ]
  }
 ],
 "metadata": {
  "jupytext": {
   "cell_metadata_filter": "-all",
   "formats": "ipynb"
  },
  "kaggle": {
   "accelerator": "none",
   "dataSources": [
    {
     "datasetId": 933090,
     "sourceId": 1828856,
     "sourceType": "datasetVersion"
    }
   ],
   "isGpuEnabled": false,
   "isInternetEnabled": false,
   "language": "python",
   "sourceType": "notebook"
  },
  "kernelspec": {
   "display_name": "Python 3",
   "language": "python",
   "name": "python3"
  },
  "language_info": {
   "codemirror_mode": {
    "name": "ipython",
    "version": 3
   },
   "file_extension": ".py",
   "mimetype": "text/x-python",
   "name": "python",
   "nbconvert_exporter": "python",
   "pygments_lexer": "ipython3",
   "version": "3.10.12"
  },
  "papermill": {
   "default_parameters": {},
   "duration": 8.992812,
   "end_time": "2023-12-31T11:37:44.354425",
   "environment_variables": {},
   "exception": null,
   "input_path": "__notebook__.ipynb",
   "output_path": "__notebook__.ipynb",
   "parameters": {},
   "start_time": "2023-12-31T11:37:35.361613",
   "version": "2.4.0"
  }
 },
 "nbformat": 4,
 "nbformat_minor": 5
}
